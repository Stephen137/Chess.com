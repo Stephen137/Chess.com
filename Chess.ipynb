{
 "cells": [
  {
   "cell_type": "markdown",
   "id": "e10f76c3-1c15-4d1e-ba4d-6587d2dfaab9",
   "metadata": {},
   "source": [
    "## Analysis of my chess games on Chess.com"
   ]
  },
  {
   "cell_type": "markdown",
   "id": "5a42555d-0877-40e4-a0db-f3c7588326b0",
   "metadata": {},
   "source": [
    "### Installations and imports"
   ]
  },
  {
   "cell_type": "code",
   "execution_count": 3,
   "id": "9606c291-6216-426d-95a8-7123667f20eb",
   "metadata": {},
   "outputs": [
    {
     "name": "stdout",
     "output_type": "stream",
     "text": [
      "Collecting plotly\n",
      "  Downloading plotly-6.0.1-py3-none-any.whl (14.8 MB)\n",
      "Requirement already satisfied: packaging in c:\\users\\user\\anaconda3\\lib\\site-packages (from plotly) (21.0)\n",
      "Collecting narwhals>=1.15.1\n",
      "  Downloading narwhals-1.38.2-py3-none-any.whl (338 kB)\n",
      "Requirement already satisfied: pyparsing>=2.0.2 in c:\\users\\user\\anaconda3\\lib\\site-packages (from packaging->plotly) (3.0.4)\n",
      "Installing collected packages: narwhals, plotly\n",
      "Successfully installed narwhals-1.38.2 plotly-6.0.1\n"
     ]
    }
   ],
   "source": [
    "#!pip install chess\n",
    "!pip install plotly\n",
    "import chess \n",
    "import chess.pgn \n",
    "\n",
    "import pandas as pd\n",
    "\n",
    "import time\n",
    "from datetime import datetime\n",
    "from pytz import timezone\n",
    "\n",
    "import os\n",
    "import requests\n",
    "import re\n",
    "\n",
    "import plotly.express as px\n",
    "import plotly.graph_objects as go\n",
    "from plotly.subplots import make_subplots"
   ]
  },
  {
   "cell_type": "markdown",
   "id": "5d2d2de8-1f57-4fb6-9129-6e84ed8d922d",
   "metadata": {},
   "source": [
    "### Using the API"
   ]
  },
  {
   "cell_type": "code",
   "execution_count": 4,
   "id": "64a85deb-7725-4f1a-b897-6d8070d23abc",
   "metadata": {},
   "outputs": [],
   "source": [
    "def download_pgn_file(username, year, month, output_dir, user_agent_email):\n",
    "    url = f\"https://api.chess.com/pub/player/{username}/games/{year}/{month}/pgn\"\n",
    "    headers = {'User-Agent': user_agent_email}\n",
    "    \n",
    "    try:\n",
    "        response = requests.get(url, headers=headers)\n",
    "        response.raise_for_status()  # Check for HTTP request errors\n",
    "        pgn_data = response.text\n",
    "        if pgn_data:\n",
    "            filename = f\"{username}_{year}_{month:02d}.pgn\"\n",
    "            with open(os.path.join(output_dir, filename), 'w') as file:\n",
    "                file.write(pgn_data)\n",
    "            print(f\"Saved PGN data for {year}-{month:02d} to {filename}\")\n",
    "        else:\n",
    "            print(f\"No PGN data available for {year}-{month:02d}\")\n",
    "    except requests.HTTPError as http_err:\n",
    "        if response.status_code == 403:\n",
    "            print(f\"Access forbidden for {url}. Verify the URL and username.\")\n",
    "        else:\n",
    "            print(f\"HTTP error occurred: {http_err}\")\n",
    "    except requests.RequestException as e:\n",
    "        print(f\"Error fetching PGN data: {e}\")"
   ]
  },
  {
   "cell_type": "code",
   "execution_count": 5,
   "id": "e9f8fc49-3ed8-45fa-95f0-1f75c8c9fcee",
   "metadata": {},
   "outputs": [],
   "source": [
    "# Example usage\n",
    "username = 'SJB_137'  # Replace with your Chess.com username\n",
    "output_dir = './chess_games'\n",
    "user_agent_email = os.getenv(\"CHESS_COM_EMAIL\") # export your email as an environment variable\n",
    "\n",
    "# Ensure the output directory exists\n",
    "if not os.path.exists(output_dir):\n",
    "    os.makedirs(output_dir)"
   ]
  },
  {
   "cell_type": "code",
   "execution_count": 6,
   "id": "c970cbea-f85e-496c-857c-6e8642976841",
   "metadata": {},
   "outputs": [
    {
     "name": "stdout",
     "output_type": "stream",
     "text": [
      "Saved PGN data for 2025-05 to SJB_137_2025_05.pgn\n",
      "Saved PGN data for 2025-04 to SJB_137_2025_04.pgn\n",
      "Saved PGN data for 2025-03 to SJB_137_2025_03.pgn\n",
      "Saved PGN data for 2025-02 to SJB_137_2025_02.pgn\n",
      "Saved PGN data for 2025-01 to SJB_137_2025_01.pgn\n",
      "Saved PGN data for 2024-12 to SJB_137_2024_12.pgn\n",
      "Saved PGN data for 2024-11 to SJB_137_2024_11.pgn\n",
      "Saved PGN data for 2024-10 to SJB_137_2024_10.pgn\n",
      "Saved PGN data for 2024-09 to SJB_137_2024_09.pgn\n",
      "Saved PGN data for 2024-08 to SJB_137_2024_08.pgn\n",
      "Saved PGN data for 2024-07 to SJB_137_2024_07.pgn\n",
      "Saved PGN data for 2024-06 to SJB_137_2024_06.pgn\n"
     ]
    }
   ],
   "source": [
    "# Fetch and save PGN for the last 12 months\n",
    "current_year = datetime.now().year\n",
    "current_month = datetime.now().month\n",
    "\n",
    "for i in range(12):\n",
    "    year = current_year - 1 if current_month - i <= 0 else current_year\n",
    "    month = (current_month - i - 1) % 12 + 1\n",
    "    download_pgn_file(username, year, month, output_dir, user_agent_email)\n",
    "    time.sleep(1)  # To avoid rate limiting"
   ]
  },
  {
   "cell_type": "code",
   "execution_count": 7,
   "id": "55e97f09-4748-4ec9-af68-f90b77d74d30",
   "metadata": {},
   "outputs": [],
   "source": [
    "def read_pgn_files(directory_path):\n",
    "    games = []\n",
    "    # Loop through all files in the directory\n",
    "    for filename in os.listdir(directory_path):\n",
    "        if filename.endswith(\".pgn\"):\n",
    "            file_path = os.path.join(directory_path, filename)\n",
    "            with open(file_path) as pgn_file:\n",
    "                while True:\n",
    "                    game = chess.pgn.read_game(pgn_file)\n",
    "                    if game is None:\n",
    "                        break\n",
    "                    games.append(game)\n",
    "    return games"
   ]
  },
  {
   "cell_type": "code",
   "execution_count": 9,
   "id": "716e2e72-84d3-46e0-97fc-31e079b450c7",
   "metadata": {},
   "outputs": [],
   "source": [
    "def extract_game_data(games):\n",
    "    games_data = []\n",
    "    for game in games:\n",
    "        game_data = {\n",
    "            \"Date\": game.headers[\"Date\"],\n",
    "            \"White\": game.headers[\"White\"],\n",
    "            \"Black\": game.headers[\"Black\"],\n",
    "            \"Result\": game.headers[\"Result\"],\n",
    "            \"ECO\": game.headers[\"ECO\"],\n",
    "            \"ECOUrl\": game.headers.get(\"ECOUrl\", \"\"),\n",
    "            \"WhiteElo\": game.headers.get(\"WhiteElo\", \"\"),\n",
    "            \"BlackElo\": game.headers.get(\"BlackElo\", \"\"),\n",
    "            \"EndTime\": game.headers.get(\"EndTime\", \"\"),            \n",
    "            \"Moves\": game.board().variation_san(game.mainline_moves())\n",
    "        }\n",
    "        games_data.append(game_data)\n",
    "    return games_data"
   ]
  },
  {
   "cell_type": "code",
   "execution_count": 10,
   "id": "3cfc61a6-11f1-411d-9dd0-613d2dd8780a",
   "metadata": {},
   "outputs": [],
   "source": [
    "def main(directory_path):\n",
    "    games = read_pgn_files(directory_path)\n",
    "    games_data = extract_game_data(games)\n",
    "    df = pd.DataFrame(games_data)\n",
    "    df.to_csv(\"chess_games_data.csv\", index=False)   "
   ]
  },
  {
   "cell_type": "code",
   "execution_count": 11,
   "id": "0a207adf-9015-418d-9375-d396d50fbd91",
   "metadata": {},
   "outputs": [],
   "source": [
    "# Specify the directory containing the PGN files\n",
    "directory_path = \"chess_games/\"\n",
    "main(directory_path)"
   ]
  },
  {
   "cell_type": "code",
   "execution_count": 12,
   "id": "7be891a4-8707-4ff9-9fbe-53f7385a2b92",
   "metadata": {},
   "outputs": [],
   "source": [
    "df = pd.read_csv(\"chess_games_data.csv\")"
   ]
  },
  {
   "cell_type": "code",
   "execution_count": 13,
   "id": "e89fa8e6-f7b9-4838-8dc9-29368874d1c5",
   "metadata": {},
   "outputs": [],
   "source": [
    "# Define the function to apply\n",
    "def update_result(row):\n",
    "    if row['Result'] == '1-0':\n",
    "        return 'Win' if row['White'] == 'SJB_137' else 'Loss'\n",
    "    elif row['Result'] == '0-1':\n",
    "        return 'Win' if row['White'] != 'SJB_137' else 'Loss'\n",
    "    elif row['Result'] == '1/2-1/2':\n",
    "        return 'Draw'\n",
    "    else:\n",
    "        return row['Result']"
   ]
  },
  {
   "cell_type": "code",
   "execution_count": 14,
   "id": "766a8b95-2126-4bf4-9afe-ac561fbafbb2",
   "metadata": {},
   "outputs": [],
   "source": [
    "# Apply the function to the DataFrame\n",
    "df['Result'] = df.apply(update_result, axis=1)"
   ]
  },
  {
   "cell_type": "markdown",
   "id": "9404c2eb-cb33-495e-976e-bd8be306eb14",
   "metadata": {},
   "source": [
    "### Tidy up date and time format"
   ]
  },
  {
   "cell_type": "code",
   "execution_count": 15,
   "id": "7171fdc3-fe04-43ef-82e1-b8ce85cd5dcf",
   "metadata": {},
   "outputs": [],
   "source": [
    "def convert_pacific_to_warsaw(time_str):\n",
    "    # Define time zones\n",
    "    pacific = timezone('US/Pacific')\n",
    "    warsaw = timezone('Europe/Warsaw')\n",
    "    \n",
    "    # Remove the timezone part and determine if it's PDT or PST\n",
    "    if 'PDT' in time_str:\n",
    "        time_str = time_str.replace(' PDT', '')\n",
    "    elif 'PST' in time_str:\n",
    "        time_str = time_str.replace(' PST', '')\n",
    "\n",
    "    # Parse the time string\n",
    "    time_obj = datetime.strptime(time_str, '%H:%M:%S')\n",
    "    \n",
    "    # Localize to the Pacific time zone (handling DST automatically)\n",
    "    time_pacific = pacific.localize(time_obj)\n",
    "    \n",
    "    # Convert to Warsaw time\n",
    "    time_warsaw = time_pacific.astimezone(warsaw)\n",
    "    \n",
    "    return time_warsaw"
   ]
  },
  {
   "cell_type": "code",
   "execution_count": 16,
   "id": "3a8305cc-7461-48d6-814c-f56dc1879e83",
   "metadata": {},
   "outputs": [],
   "source": [
    "# Apply the conversion function to the DataFrame\n",
    "df['time_warsaw'] = df['EndTime'].apply(convert_pacific_to_warsaw)\n",
    "\n",
    "# Convert the new column to datetime\n",
    "df['time_warsaw'] = pd.to_datetime(df['time_warsaw'])"
   ]
  },
  {
   "cell_type": "code",
   "execution_count": 17,
   "id": "d77bc08e-7f41-4f4d-aaf9-6b94d5f6f7e2",
   "metadata": {},
   "outputs": [],
   "source": [
    "# Convert the `date` column to datetime\n",
    "df['Date'] = pd.to_datetime(df['Date'], format='%Y.%m.%d')"
   ]
  },
  {
   "cell_type": "code",
   "execution_count": 18,
   "id": "794256cb-5333-422c-b13f-dbe8eddadd86",
   "metadata": {},
   "outputs": [],
   "source": [
    "# Combine the `date` and `time_warsaw` columns\n",
    "def combine_date_time(date, time_warsaw):\n",
    "    # Extract time components\n",
    "    time_only = time_warsaw.timetz()\n",
    "    # Combine date and time\n",
    "    combined_datetime = datetime.combine(date, datetime.min.time()).replace(\n",
    "        hour=time_only.hour, minute=time_only.minute, second=time_only.second, microsecond=time_only.microsecond)\n",
    "    # Convert to the correct timezone\n",
    "    combined_datetime = timezone('Europe/Warsaw').localize(combined_datetime)\n",
    "    return combined_datetime"
   ]
  },
  {
   "cell_type": "code",
   "execution_count": 19,
   "id": "4007e968-7cb2-4db9-8d8f-8a4eab3ff9fd",
   "metadata": {},
   "outputs": [],
   "source": [
    "df['datetime_warsaw'] = df.apply(lambda row: combine_date_time(row['Date'], row['time_warsaw']), axis=1)"
   ]
  },
  {
   "cell_type": "markdown",
   "id": "af8f7571-c226-42d5-bfa4-0244312a9fba",
   "metadata": {},
   "source": [
    "### Days of the Week"
   ]
  },
  {
   "cell_type": "code",
   "execution_count": 20,
   "id": "38372ac9-2112-4e4d-bd29-1ccafb2534ce",
   "metadata": {},
   "outputs": [],
   "source": [
    "# Extract the day\n",
    "df.loc[:,'day_of_the_week'] = df['datetime_warsaw'].dt.day_name()"
   ]
  },
  {
   "cell_type": "markdown",
   "id": "3684ecd1-e939-4be4-b6b6-f873ddfbec7a",
   "metadata": {},
   "source": [
    "### Morning, noon and night"
   ]
  },
  {
   "cell_type": "code",
   "execution_count": 21,
   "id": "e188744d-f2b0-4075-9299-a0cc07893fa0",
   "metadata": {},
   "outputs": [],
   "source": [
    "# Extract the hour and create the 'time_of_day' column\n",
    "def get_time_of_day(hour):\n",
    "    if 6 <= hour < 12:\n",
    "        return 'morning'\n",
    "    elif 12 <= hour < 18:\n",
    "        return 'afternoon'\n",
    "    elif 18 <= hour < 24:\n",
    "        return 'evening'\n",
    "    else:\n",
    "        return 'graveyard'\n",
    "\n",
    "df.loc[:, 'hour'] = df['datetime_warsaw'].dt.hour\n",
    "df.loc[:, 'time_of_day'] = df['hour'].apply(get_time_of_day)"
   ]
  },
  {
   "cell_type": "markdown",
   "id": "42a2998b-7023-4a2a-8aa3-268e323eefd4",
   "metadata": {},
   "source": [
    "### Specify my rating and opponent rating"
   ]
  },
  {
   "cell_type": "code",
   "execution_count": 22,
   "id": "a0b08c24-1a11-422d-b18a-4ae45f44ad3b",
   "metadata": {},
   "outputs": [],
   "source": [
    "# Create new columns 'My_Elo' and 'Opponent_Elo' using apply function\n",
    "df['My_Elo'] = df.apply(lambda row: row['WhiteElo'] if row['White'] == 'SJB_137' else row['BlackElo'], axis=1)\n",
    "df['Opponent_Elo'] = df.apply(lambda row: row['BlackElo'] if row['White'] == 'SJB_137' else row['WhiteElo'], axis=1)"
   ]
  },
  {
   "cell_type": "code",
   "execution_count": 23,
   "id": "40fb5b93-bc22-4db5-859e-fb392a71df1c",
   "metadata": {},
   "outputs": [],
   "source": [
    "# Convert 'My_Elo' and 'Opponent_Elo' columns to integer\n",
    "df['My_Elo'] = df['My_Elo'].astype(int)\n",
    "df['Opponent_Elo'] = df['Opponent_Elo'].astype(int)"
   ]
  },
  {
   "cell_type": "markdown",
   "id": "2ee0ae7d-1bb1-47f0-a78e-14718aadc180",
   "metadata": {},
   "source": [
    "### Calculate the number of moves per game"
   ]
  },
  {
   "cell_type": "code",
   "execution_count": 24,
   "id": "c3f278ef-3c1e-4dc1-9e61-0a1b66e54c7a",
   "metadata": {},
   "outputs": [],
   "source": [
    "# Function to count the total number of moves in a single row\n",
    "def count_all_moves(moves):\n",
    "    # Split the string by spaces\n",
    "    parts = moves.split()\n",
    "    # Filter out move numbers (e.g., '1.', '2.', '3.')\n",
    "    move_count = len([part for part in parts if not part[:-1].isdigit()])\n",
    "    # Each move consists of two parts, if there's an odd number of parts, it means the last move is incomplete\n",
    "    complete_moves = move_count // 2\n",
    "    if move_count % 2 != 0:\n",
    "        complete_moves += 1\n",
    "    return complete_moves"
   ]
  },
  {
   "cell_type": "code",
   "execution_count": 25,
   "id": "49cb36ea-478f-476d-b9e8-db31113cd9a1",
   "metadata": {},
   "outputs": [],
   "source": [
    "# Apply the function to the 'Moves' column and create a new column 'TotalMoves'\n",
    "df['number_moves'] = df['Moves'].apply(count_all_moves)"
   ]
  },
  {
   "cell_type": "markdown",
   "id": "47bef885-58b9-4647-8910-bc1ddfec09ca",
   "metadata": {},
   "source": [
    "### Separate the moves"
   ]
  },
  {
   "cell_type": "code",
   "execution_count": 27,
   "id": "a8b36971-9df0-45b1-82d5-991cddb51382",
   "metadata": {},
   "outputs": [],
   "source": [
    "# Function to extract moves\n",
    "def extract_moves(row):\n",
    "    moves = row['Moves'].split()\n",
    "    my_moves = []\n",
    "    opponent_moves = []\n",
    "    for i in range(1, len(moves), 3):  # Iterate over moves, skipping the move numbers\n",
    "        if row['White'] == 'SJB_137':\n",
    "            my_moves.append(moves[i])\n",
    "            if i + 1 < len(moves):\n",
    "                opponent_moves.append(moves[i + 1])\n",
    "            else:\n",
    "                opponent_moves.append('')\n",
    "        else:\n",
    "            if i + 1 < len(moves):\n",
    "                my_moves.append(moves[i + 1])\n",
    "                opponent_moves.append(moves[i])\n",
    "            else:\n",
    "                my_moves.append('')\n",
    "                opponent_moves.append(moves[i])\n",
    "    return my_moves, opponent_moves"
   ]
  },
  {
   "cell_type": "code",
   "execution_count": 28,
   "id": "8e0d0b7e-d361-4fdf-9091-8e48277235a5",
   "metadata": {},
   "outputs": [],
   "source": [
    "# Apply the function to create the list of moves\n",
    "df[['my_moves', 'opponent_moves']] = df.apply(lambda row: pd.Series(extract_moves(row)), axis=1)\n",
    "\n",
    "# Determine the maximum number of moves\n",
    "max_moves = max(df['my_moves'].map(len).max(), df['opponent_moves'].map(len).max())\n",
    "\n",
    "# Create a new DataFrame with move columns\n",
    "my_move_columns = pd.DataFrame(df['my_moves'].to_list(), index=df.index, columns=[f'my_move_{i+1}' for i in range(max_moves)])\n",
    "opponent_move_columns = pd.DataFrame(df['opponent_moves'].to_list(), index=df.index, columns=[f'opponent_move_{i+1}' for i in range(max_moves)])\n",
    "\n",
    "# Concatenate the new move columns with the original DataFrame\n",
    "df = pd.concat([df, my_move_columns, opponent_move_columns], axis=1)\n",
    "\n",
    "# Drop the temporary 'My_moves' and 'My_opponent_moves' columns\n",
    "df.drop(columns=['my_moves', 'opponent_moves'], inplace=True)"
   ]
  },
  {
   "cell_type": "code",
   "execution_count": 29,
   "id": "b5ff9adc-a8d6-46b2-96e1-56c59c9ef7da",
   "metadata": {},
   "outputs": [],
   "source": [
    "df.drop(['WhiteElo', 'BlackElo'], axis=1, inplace=True)"
   ]
  },
  {
   "cell_type": "code",
   "execution_count": 30,
   "id": "2eb33325-d520-4736-b910-ead7ed027c1d",
   "metadata": {},
   "outputs": [],
   "source": [
    "def extract_opening_name(url):\n",
    "    # Define the regex pattern to match the required part of the string\n",
    "    pattern = r\"openings/([^0-9]+)-\\d\"\n",
    "    match = re.search(pattern, url)\n",
    "    if match:\n",
    "        # Get the matched part and replace hyphens with spaces\n",
    "        opening_name = match.group(1).replace('-', ' ')\n",
    "        return opening_name\n",
    "    else:\n",
    "        return None"
   ]
  },
  {
   "cell_type": "code",
   "execution_count": 31,
   "id": "8a5820e3-af52-4edd-a9ee-f6709ead8f19",
   "metadata": {},
   "outputs": [],
   "source": [
    "# Apply the function to the 'ECOUrl' column\n",
    "df['VariationName'] = df['ECOUrl'].apply(extract_opening_name)"
   ]
  },
  {
   "cell_type": "code",
   "execution_count": 32,
   "id": "c1cafcbf-9aac-4a69-a39b-07f5c260ea36",
   "metadata": {},
   "outputs": [],
   "source": [
    "# Optionally, save to CSV\n",
    "df.to_csv(\"chess_games_data.csv\", index=False)"
   ]
  },
  {
   "cell_type": "markdown",
   "id": "9097584c-56c0-49ed-8a2b-c4fd1a0b0bcf",
   "metadata": {},
   "source": [
    "### Plot my progress on Chess.com using Plotly"
   ]
  },
  {
   "cell_type": "code",
   "execution_count": 33,
   "id": "8ef089be-4a1c-4d0e-ab9c-4d8c93d0ee7b",
   "metadata": {},
   "outputs": [
    {
     "data": {
      "application/vnd.plotly.v1+json": {
       "config": {
        "plotlyServerURL": "https://plot.ly"
       },
       "data": [
        {
         "mode": "lines+markers",
         "name": "My Elo",
         "type": "scatter",
         "x": [
          "2023-08-28T05:54:58.000000000",
          "2023-08-29T19:34:50.000000000",
          "2023-08-29T20:54:49.000000000",
          "2023-08-30T04:02:17.000000000",
          "2023-08-30T04:18:32.000000000",
          "2023-08-30T06:27:47.000000000",
          "2023-08-30T15:10:18.000000000",
          "2023-08-30T15:23:22.000000000",
          "2023-08-31T02:50:27.000000000",
          "2023-08-31T05:19:53.000000000",
          "2023-08-31T05:30:04.000000000",
          "2023-08-31T18:03:49.000000000",
          "2023-08-31T22:38:09.000000000",
          "2023-09-01T04:10:04.000000000",
          "2023-09-01T04:16:19.000000000",
          "2023-09-01T04:26:07.000000000",
          "2023-09-01T05:02:47.000000000",
          "2023-09-01T05:18:55.000000000",
          "2023-09-01T19:48:57.000000000",
          "2023-09-02T02:12:32.000000000",
          "2023-09-02T02:45:34.000000000",
          "2023-09-02T03:09:21.000000000",
          "2023-09-02T03:42:02.000000000",
          "2023-09-02T04:02:19.000000000",
          "2023-09-02T20:45:24.000000000",
          "2023-09-03T03:52:28.000000000",
          "2023-09-03T04:36:11.000000000",
          "2023-09-03T06:36:12.000000000",
          "2023-09-04T03:27:38.000000000",
          "2023-09-04T04:51:38.000000000",
          "2023-09-04T20:47:06.000000000",
          "2023-09-05T03:52:36.000000000",
          "2023-09-05T07:10:25.000000000",
          "2023-09-06T03:42:36.000000000",
          "2023-09-06T06:01:13.000000000",
          "2023-09-06T06:15:58.000000000",
          "2023-09-07T02:59:01.000000000",
          "2023-09-07T03:40:28.000000000",
          "2023-09-07T03:48:07.000000000",
          "2023-09-07T04:02:47.000000000",
          "2023-09-07T14:54:44.000000000",
          "2023-09-08T03:14:19.000000000",
          "2023-09-08T03:20:49.000000000",
          "2023-09-10T02:02:24.000000000",
          "2023-09-10T02:15:05.000000000",
          "2023-09-11T03:26:46.000000000",
          "2023-09-11T07:40:59.000000000",
          "2023-09-11T07:44:38.000000000",
          "2023-09-13T03:34:05.000000000",
          "2023-09-13T03:34:51.000000000",
          "2023-09-13T03:43:30.000000000",
          "2023-09-13T05:26:18.000000000",
          "2023-09-13T05:27:09.000000000",
          "2023-09-13T05:39:21.000000000",
          "2023-09-13T06:07:52.000000000",
          "2023-09-13T17:00:09.000000000",
          "2023-09-13T17:07:49.000000000",
          "2023-09-14T01:38:24.000000000",
          "2023-09-14T03:47:33.000000000",
          "2023-09-14T03:59:20.000000000",
          "2023-09-14T04:11:06.000000000",
          "2023-09-14T07:01:48.000000000",
          "2023-09-14T07:15:43.000000000",
          "2023-09-14T23:25:59.000000000",
          "2023-09-15T07:13:19.000000000",
          "2023-09-15T16:09:52.000000000",
          "2023-09-16T04:20:32.000000000",
          "2023-09-16T04:43:20.000000000",
          "2023-09-16T05:14:07.000000000",
          "2023-09-16T06:38:17.000000000",
          "2023-09-16T16:09:00.000000000",
          "2023-09-16T16:46:06.000000000",
          "2023-09-17T01:10:10.000000000",
          "2023-09-17T01:11:29.000000000",
          "2023-09-17T01:24:01.000000000",
          "2023-09-17T01:35:08.000000000",
          "2023-09-17T01:43:52.000000000",
          "2023-09-17T01:47:44.000000000",
          "2023-09-17T04:24:15.000000000",
          "2023-09-17T04:29:17.000000000",
          "2023-09-17T04:39:29.000000000",
          "2023-09-17T04:50:45.000000000",
          "2023-09-17T05:15:58.000000000",
          "2023-09-17T19:35:54.000000000",
          "2023-09-17T19:50:43.000000000",
          "2023-09-17T19:56:08.000000000",
          "2023-09-18T03:47:17.000000000",
          "2023-09-18T03:53:02.000000000",
          "2023-09-18T16:10:09.000000000",
          "2023-09-18T16:18:46.000000000",
          "2023-09-18T16:31:45.000000000",
          "2023-09-19T03:31:12.000000000",
          "2023-09-19T03:43:45.000000000",
          "2023-09-19T06:54:24.000000000",
          "2023-09-19T16:51:10.000000000",
          "2023-09-20T03:30:22.000000000",
          "2023-09-20T03:47:45.000000000",
          "2023-09-20T16:43:23.000000000",
          "2023-09-20T18:36:26.000000000",
          "2023-09-20T19:17:20.000000000",
          "2023-09-20T20:26:58.000000000",
          "2023-09-21T05:17:23.000000000",
          "2023-09-21T05:23:08.000000000",
          "2023-09-21T05:33:43.000000000",
          "2023-09-21T05:36:27.000000000",
          "2023-09-21T06:01:36.000000000",
          "2023-09-21T20:52:09.000000000",
          "2023-09-22T02:42:51.000000000",
          "2023-09-22T03:55:14.000000000",
          "2023-09-22T19:45:01.000000000",
          "2023-09-22T19:52:32.000000000",
          "2023-09-22T20:02:28.000000000",
          "2023-09-22T20:09:24.000000000",
          "2023-09-23T04:10:32.000000000",
          "2023-09-23T06:51:08.000000000",
          "2023-09-24T05:11:51.000000000",
          "2023-09-24T05:29:57.000000000",
          "2023-09-24T06:20:20.000000000",
          "2023-09-24T06:37:00.000000000",
          "2023-09-26T03:13:21.000000000",
          "2023-09-26T03:30:48.000000000",
          "2023-09-26T05:06:25.000000000",
          "2023-09-26T05:08:00.000000000",
          "2023-09-27T00:26:23.000000000",
          "2023-09-27T16:01:43.000000000",
          "2023-09-28T07:12:23.000000000",
          "2023-09-29T07:39:28.000000000",
          "2023-09-30T02:43:13.000000000",
          "2023-09-30T04:17:01.000000000",
          "2023-09-30T04:21:11.000000000",
          "2023-09-30T04:34:36.000000000",
          "2023-09-30T04:43:25.000000000",
          "2023-09-30T05:02:08.000000000",
          "2023-09-30T05:07:32.000000000",
          "2023-09-30T05:33:58.000000000",
          "2023-09-30T05:45:43.000000000",
          "2023-09-30T05:51:24.000000000",
          "2023-09-30T06:02:47.000000000",
          "2023-10-01T00:14:35.000000000",
          "2023-10-01T00:33:15.000000000",
          "2023-10-01T04:09:56.000000000",
          "2023-10-01T04:20:16.000000000",
          "2023-10-02T05:51:07.000000000",
          "2023-10-02T06:12:41.000000000",
          "2023-10-04T01:53:36.000000000",
          "2023-10-04T19:30:43.000000000",
          "2023-10-05T20:45:43.000000000",
          "2023-10-05T20:52:55.000000000",
          "2023-10-05T21:09:58.000000000",
          "2023-10-06T07:47:16.000000000",
          "2023-10-07T05:18:04.000000000",
          "2023-10-08T07:22:03.000000000",
          "2023-10-09T20:55:31.000000000",
          "2023-10-09T20:58:48.000000000",
          "2023-10-09T21:16:16.000000000",
          "2023-10-09T21:22:08.000000000",
          "2023-10-09T21:25:32.000000000",
          "2023-10-10T15:44:03.000000000",
          "2023-10-10T16:55:50.000000000",
          "2023-10-10T19:31:04.000000000",
          "2023-10-11T20:24:11.000000000",
          "2023-10-11T20:38:06.000000000",
          "2023-10-12T04:50:48.000000000",
          "2023-10-12T05:01:42.000000000",
          "2023-10-13T02:48:08.000000000",
          "2023-10-13T03:58:07.000000000",
          "2023-10-13T04:11:05.000000000",
          "2023-10-13T05:05:47.000000000",
          "2023-10-13T05:09:36.000000000",
          "2023-10-13T05:24:25.000000000",
          "2023-10-15T01:13:08.000000000",
          "2023-10-15T03:49:22.000000000",
          "2023-10-16T03:17:42.000000000",
          "2023-10-16T22:32:58.000000000",
          "2023-10-17T22:03:42.000000000",
          "2023-10-18T20:20:06.000000000",
          "2023-10-18T20:27:44.000000000",
          "2023-10-19T05:45:02.000000000",
          "2023-10-19T05:47:16.000000000",
          "2023-10-19T05:59:33.000000000",
          "2023-10-19T17:41:23.000000000",
          "2023-10-21T05:29:02.000000000",
          "2023-10-22T04:26:59.000000000",
          "2023-10-23T19:07:54.000000000",
          "2023-10-23T23:00:11.000000000",
          "2023-10-24T03:41:21.000000000",
          "2023-10-24T21:54:33.000000000",
          "2023-10-24T22:11:06.000000000",
          "2023-10-24T22:19:24.000000000",
          "2023-10-24T22:58:19.000000000",
          "2023-10-24T23:01:59.000000000",
          "2023-10-29T07:17:37.000000000",
          "2023-10-29T07:25:16.000000000",
          "2023-10-29T07:36:37.000000000",
          "2023-10-30T07:06:51.000000000",
          "2023-10-30T07:16:55.000000000",
          "2023-10-30T07:24:52.000000000",
          "2023-10-30T07:44:26.000000000",
          "2023-10-30T22:47:52.000000000",
          "2023-10-30T23:05:37.000000000",
          "2023-10-31T02:25:38.000000000",
          "2023-10-31T02:38:31.000000000",
          "2023-10-31T05:02:26.000000000",
          "2023-10-31T05:21:26.000000000",
          "2023-10-31T18:05:26.000000000",
          "2023-10-31T18:11:04.000000000",
          "2023-10-31T21:27:50.000000000",
          "2023-10-31T22:50:51.000000000",
          "2023-10-31T23:03:16.000000000",
          "2023-11-02T02:57:31.000000000",
          "2023-11-02T03:55:17.000000000",
          "2023-11-02T04:14:27.000000000",
          "2023-11-02T18:58:36.000000000",
          "2023-11-02T19:12:51.000000000",
          "2023-11-02T19:23:28.000000000",
          "2023-11-02T19:30:55.000000000",
          "2023-11-02T19:52:41.000000000",
          "2023-11-02T21:10:52.000000000",
          "2023-11-02T21:18:22.000000000",
          "2023-11-02T21:19:19.000000000",
          "2023-11-02T21:54:35.000000000",
          "2023-11-02T21:57:42.000000000",
          "2023-11-02T22:09:34.000000000",
          "2023-11-03T00:07:19.000000000",
          "2023-11-03T04:53:37.000000000",
          "2023-11-03T05:10:38.000000000",
          "2023-11-03T05:58:13.000000000",
          "2023-11-03T07:55:20.000000000",
          "2023-11-03T08:13:57.000000000",
          "2023-11-03T19:52:09.000000000",
          "2023-11-03T20:11:10.000000000",
          "2023-11-03T20:25:38.000000000",
          "2023-11-03T20:34:52.000000000",
          "2023-11-04T03:27:32.000000000",
          "2023-11-04T07:44:20.000000000",
          "2023-11-04T08:02:43.000000000",
          "2023-11-05T08:08:46.000000000",
          "2023-11-05T08:14:43.000000000",
          "2023-11-05T08:23:01.000000000",
          "2023-11-05T08:36:22.000000000",
          "2023-11-05T20:09:33.000000000",
          "2023-11-05T20:29:07.000000000",
          "2023-11-05T23:38:56.000000000",
          "2023-11-05T23:53:40.000000000",
          "2023-11-06T04:13:50.000000000",
          "2023-11-06T04:26:52.000000000",
          "2023-11-06T04:34:35.000000000",
          "2023-11-06T04:50:09.000000000",
          "2023-11-06T05:02:49.000000000",
          "2023-11-06T08:14:08.000000000",
          "2023-11-06T08:15:02.000000000",
          "2023-11-06T18:35:42.000000000",
          "2023-11-06T20:48:24.000000000",
          "2023-11-06T20:59:20.000000000",
          "2023-11-06T21:12:19.000000000",
          "2023-11-07T03:53:43.000000000",
          "2023-11-07T04:07:35.000000000",
          "2023-11-07T04:14:41.000000000",
          "2023-11-07T04:32:16.000000000",
          "2023-11-07T04:45:56.000000000",
          "2023-11-07T20:12:42.000000000",
          "2023-11-07T20:24:09.000000000",
          "2023-11-07T21:05:53.000000000",
          "2023-11-07T21:16:21.000000000",
          "2023-11-07T21:33:43.000000000",
          "2023-11-07T21:52:05.000000000",
          "2023-11-07T21:58:30.000000000",
          "2023-11-08T05:10:30.000000000",
          "2023-11-08T05:23:13.000000000",
          "2023-11-08T05:32:40.000000000",
          "2023-11-08T05:49:40.000000000",
          "2023-11-08T20:04:39.000000000",
          "2023-11-08T20:13:33.000000000",
          "2023-11-08T20:24:23.000000000",
          "2023-11-09T06:20:01.000000000",
          "2023-11-09T19:29:06.000000000",
          "2023-11-09T19:56:38.000000000",
          "2023-11-09T21:25:32.000000000",
          "2023-11-09T21:42:11.000000000",
          "2023-11-10T02:45:08.000000000",
          "2023-11-12T03:18:02.000000000",
          "2023-11-12T03:19:46.000000000",
          "2023-11-12T03:23:53.000000000",
          "2023-11-12T03:29:23.000000000",
          "2023-11-12T03:36:13.000000000",
          "2023-11-12T03:48:46.000000000",
          "2023-11-12T03:54:39.000000000",
          "2023-11-12T04:03:13.000000000",
          "2023-11-12T04:19:16.000000000",
          "2023-11-12T06:51:22.000000000",
          "2023-11-12T07:04:51.000000000",
          "2023-11-12T07:16:13.000000000",
          "2023-11-12T07:36:15.000000000",
          "2023-11-12T20:14:40.000000000",
          "2023-11-12T20:28:34.000000000",
          "2023-11-12T20:32:34.000000000",
          "2023-11-12T20:36:44.000000000",
          "2023-11-12T20:49:23.000000000",
          "2023-11-13T02:40:20.000000000",
          "2023-11-13T02:43:41.000000000",
          "2023-11-13T02:55:39.000000000",
          "2023-11-13T04:02:13.000000000",
          "2023-11-13T04:15:46.000000000",
          "2023-11-13T04:45:34.000000000",
          "2023-11-13T05:04:21.000000000",
          "2023-11-13T05:21:22.000000000",
          "2023-11-13T05:58:37.000000000",
          "2023-11-13T06:15:45.000000000",
          "2023-11-13T19:11:04.000000000",
          "2023-11-13T19:26:43.000000000",
          "2023-11-13T19:32:05.000000000",
          "2023-11-13T19:43:21.000000000",
          "2023-11-13T22:56:02.000000000",
          "2023-11-13T23:08:34.000000000",
          "2023-11-13T23:18:41.000000000",
          "2023-11-14T03:03:30.000000000",
          "2023-11-14T03:06:07.000000000",
          "2023-11-14T06:11:55.000000000",
          "2023-11-14T06:15:26.000000000",
          "2023-11-14T06:25:48.000000000",
          "2023-11-14T06:27:16.000000000",
          "2023-11-14T06:38:46.000000000",
          "2023-11-14T06:53:40.000000000",
          "2023-11-14T07:09:59.000000000",
          "2023-11-14T07:23:52.000000000",
          "2023-11-14T17:18:01.000000000",
          "2023-11-14T17:20:21.000000000",
          "2023-11-14T17:54:50.000000000",
          "2023-11-14T18:56:15.000000000",
          "2023-11-14T19:51:05.000000000",
          "2023-11-14T19:54:28.000000000",
          "2023-11-14T21:27:15.000000000",
          "2023-11-14T22:16:48.000000000",
          "2023-11-14T22:27:47.000000000",
          "2023-11-15T06:47:46.000000000",
          "2023-11-15T07:01:12.000000000",
          "2023-11-15T07:09:51.000000000",
          "2023-11-15T07:15:24.000000000",
          "2023-11-15T17:06:11.000000000",
          "2023-11-15T20:32:30.000000000",
          "2023-11-15T20:34:30.000000000",
          "2023-11-15T20:43:31.000000000",
          "2023-11-15T21:58:23.000000000",
          "2023-11-15T23:26:59.000000000",
          "2023-11-15T23:36:32.000000000",
          "2023-11-16T03:52:56.000000000",
          "2023-11-16T04:01:46.000000000",
          "2023-11-16T20:17:10.000000000",
          "2023-11-16T21:51:19.000000000",
          "2023-11-18T07:29:10.000000000",
          "2023-11-18T07:37:57.000000000",
          "2023-11-18T07:50:10.000000000",
          "2023-11-18T07:57:58.000000000",
          "2023-11-19T02:54:45.000000000",
          "2023-11-19T08:25:46.000000000",
          "2023-11-19T08:34:14.000000000",
          "2023-11-20T19:40:07.000000000",
          "2023-11-20T19:56:59.000000000",
          "2023-11-21T01:59:19.000000000",
          "2023-11-21T02:12:13.000000000",
          "2023-11-21T02:19:27.000000000",
          "2023-11-21T04:55:57.000000000",
          "2023-11-21T05:08:04.000000000",
          "2023-11-21T05:22:51.000000000",
          "2023-11-21T07:23:57.000000000",
          "2023-11-21T07:44:27.000000000",
          "2023-11-21T08:03:10.000000000",
          "2023-11-21T17:13:29.000000000",
          "2023-11-21T17:30:43.000000000",
          "2023-11-21T18:48:39.000000000",
          "2023-11-21T20:56:29.000000000",
          "2023-11-21T21:10:10.000000000",
          "2023-11-21T22:13:53.000000000",
          "2023-11-22T03:51:01.000000000",
          "2023-11-22T06:13:03.000000000",
          "2023-11-22T17:09:47.000000000",
          "2023-11-22T17:19:44.000000000",
          "2023-11-22T19:34:30.000000000",
          "2023-11-22T20:27:15.000000000",
          "2023-11-22T21:24:55.000000000",
          "2023-11-22T23:21:16.000000000",
          "2023-11-23T02:59:15.000000000",
          "2023-11-23T04:28:17.000000000",
          "2023-11-23T04:31:11.000000000",
          "2023-11-23T04:37:49.000000000",
          "2023-11-23T04:50:03.000000000",
          "2023-11-23T07:10:37.000000000",
          "2023-11-23T07:22:29.000000000",
          "2023-11-23T07:34:10.000000000",
          "2023-11-23T07:42:25.000000000",
          "2023-11-23T07:46:53.000000000",
          "2023-11-23T07:57:02.000000000",
          "2023-11-23T18:40:49.000000000",
          "2023-11-23T19:02:32.000000000",
          "2023-11-23T19:11:01.000000000",
          "2023-11-23T19:16:41.000000000",
          "2023-11-23T19:32:08.000000000",
          "2023-11-24T02:09:03.000000000",
          "2023-11-24T02:17:24.000000000",
          "2023-11-24T02:26:57.000000000",
          "2023-11-24T02:42:00.000000000",
          "2023-11-24T03:02:46.000000000",
          "2023-11-24T03:32:54.000000000",
          "2023-11-24T04:27:24.000000000",
          "2023-11-24T04:41:19.000000000",
          "2023-11-24T04:53:21.000000000",
          "2023-11-24T05:11:46.000000000",
          "2023-11-24T05:35:46.000000000",
          "2023-11-24T07:11:34.000000000",
          "2023-11-24T07:20:45.000000000",
          "2023-11-24T07:31:16.000000000",
          "2023-11-24T18:35:21.000000000",
          "2023-11-24T19:28:40.000000000",
          "2023-11-24T22:23:48.000000000",
          "2023-11-25T02:23:53.000000000",
          "2023-11-25T03:56:49.000000000",
          "2023-11-25T04:11:53.000000000",
          "2023-11-25T04:23:35.000000000",
          "2023-11-25T07:29:51.000000000",
          "2023-11-25T07:56:01.000000000",
          "2023-11-25T08:13:54.000000000",
          "2023-11-25T21:43:07.000000000",
          "2023-11-26T00:38:45.000000000",
          "2023-11-26T01:12:33.000000000",
          "2023-11-26T01:21:32.000000000",
          "2023-11-27T04:06:58.000000000",
          "2023-11-27T04:26:25.000000000",
          "2023-11-27T04:37:02.000000000",
          "2023-11-27T04:42:11.000000000",
          "2023-11-27T04:48:29.000000000",
          "2023-11-27T05:18:54.000000000",
          "2023-11-27T05:26:19.000000000",
          "2023-11-27T07:04:52.000000000",
          "2023-11-27T07:15:17.000000000",
          "2023-11-27T20:21:25.000000000",
          "2023-11-27T20:37:46.000000000",
          "2023-11-27T21:30:43.000000000",
          "2023-11-27T21:38:38.000000000",
          "2023-11-27T21:44:52.000000000",
          "2023-11-27T22:00:06.000000000",
          "2023-11-27T22:17:01.000000000",
          "2023-11-27T22:21:38.000000000",
          "2023-11-27T23:12:30.000000000",
          "2023-11-27T23:26:34.000000000",
          "2023-11-27T23:34:20.000000000",
          "2023-11-28T00:03:47.000000000",
          "2023-11-28T00:10:57.000000000",
          "2023-11-28T05:09:53.000000000",
          "2023-11-28T05:13:26.000000000",
          "2023-11-28T05:28:15.000000000",
          "2023-11-28T06:59:14.000000000",
          "2023-11-28T07:07:22.000000000",
          "2023-11-28T17:28:02.000000000",
          "2023-11-28T17:49:05.000000000",
          "2023-11-28T20:48:49.000000000",
          "2023-11-28T20:54:40.000000000",
          "2023-11-28T21:01:01.000000000",
          "2023-11-28T21:08:22.000000000",
          "2023-11-28T21:11:11.000000000",
          "2023-11-28T21:18:15.000000000",
          "2023-11-28T21:26:14.000000000",
          "2023-11-28T22:22:36.000000000",
          "2023-11-28T22:29:58.000000000",
          "2023-11-28T23:19:22.000000000",
          "2023-11-28T23:35:31.000000000",
          "2023-11-28T23:37:40.000000000",
          "2023-11-28T23:43:54.000000000",
          "2023-11-28T23:53:46.000000000",
          "2023-11-29T01:42:59.000000000",
          "2023-11-29T02:11:22.000000000",
          "2023-11-29T04:49:22.000000000",
          "2023-11-29T04:49:57.000000000",
          "2023-11-29T04:53:48.000000000",
          "2023-11-29T05:07:10.000000000",
          "2023-11-29T18:34:13.000000000",
          "2023-11-29T18:46:29.000000000",
          "2023-11-29T18:53:00.000000000",
          "2023-11-29T18:58:46.000000000",
          "2023-11-29T19:04:37.000000000",
          "2023-11-29T19:19:28.000000000",
          "2023-11-30T02:47:13.000000000",
          "2023-11-30T06:02:15.000000000",
          "2023-11-30T06:03:52.000000000",
          "2023-11-30T06:57:24.000000000",
          "2023-11-30T07:06:16.000000000",
          "2023-11-30T07:14:55.000000000",
          "2023-11-30T18:20:43.000000000",
          "2023-11-30T20:06:34.000000000",
          "2023-11-30T20:42:44.000000000",
          "2023-11-30T22:03:08.000000000",
          "2023-11-30T23:45:22.000000000",
          "2023-12-01T03:38:51.000000000",
          "2023-12-01T07:11:25.000000000",
          "2023-12-01T07:24:01.000000000",
          "2023-12-01T23:24:47.000000000",
          "2023-12-01T23:25:31.000000000",
          "2023-12-01T23:27:17.000000000",
          "2023-12-01T23:29:15.000000000",
          "2023-12-01T23:43:46.000000000",
          "2023-12-02T00:00:39.000000000",
          "2023-12-02T02:41:28.000000000",
          "2023-12-02T06:09:08.000000000",
          "2023-12-02T23:32:32.000000000",
          "2023-12-02T23:41:50.000000000",
          "2023-12-03T04:26:30.000000000",
          "2023-12-03T04:41:40.000000000",
          "2023-12-03T04:56:14.000000000",
          "2023-12-03T07:13:56.000000000",
          "2023-12-03T07:26:08.000000000",
          "2023-12-04T05:36:25.000000000",
          "2023-12-04T05:55:17.000000000",
          "2023-12-04T06:26:53.000000000",
          "2023-12-04T17:49:03.000000000",
          "2023-12-04T19:34:24.000000000",
          "2023-12-04T19:41:40.000000000",
          "2023-12-04T19:47:22.000000000",
          "2023-12-04T20:47:54.000000000",
          "2023-12-04T20:55:42.000000000",
          "2023-12-04T21:00:46.000000000",
          "2023-12-04T21:07:18.000000000",
          "2023-12-05T01:07:42.000000000",
          "2023-12-05T01:17:32.000000000",
          "2023-12-05T01:28:19.000000000",
          "2023-12-05T03:42:10.000000000",
          "2023-12-05T04:01:45.000000000",
          "2023-12-05T06:36:43.000000000",
          "2023-12-05T18:32:54.000000000",
          "2023-12-05T20:22:59.000000000",
          "2023-12-05T20:27:04.000000000",
          "2023-12-05T20:33:13.000000000",
          "2023-12-05T20:36:37.000000000",
          "2023-12-06T00:19:20.000000000",
          "2023-12-06T00:27:46.000000000",
          "2023-12-06T04:13:40.000000000",
          "2023-12-06T04:30:14.000000000",
          "2023-12-06T05:40:38.000000000",
          "2023-12-06T19:57:22.000000000",
          "2023-12-06T20:01:33.000000000",
          "2023-12-06T20:16:03.000000000",
          "2023-12-06T23:27:25.000000000",
          "2023-12-06T23:34:17.000000000",
          "2023-12-07T04:38:00.000000000",
          "2023-12-07T04:45:41.000000000",
          "2023-12-07T04:51:53.000000000",
          "2023-12-07T05:05:39.000000000",
          "2023-12-07T06:32:53.000000000",
          "2023-12-07T06:33:28.000000000",
          "2023-12-07T19:40:22.000000000",
          "2023-12-08T01:07:36.000000000",
          "2023-12-08T05:10:02.000000000",
          "2023-12-08T05:25:27.000000000",
          "2023-12-08T19:46:15.000000000",
          "2023-12-08T21:45:33.000000000",
          "2023-12-08T22:43:21.000000000",
          "2023-12-08T22:49:25.000000000",
          "2023-12-08T23:00:38.000000000",
          "2023-12-08T23:36:48.000000000",
          "2023-12-08T23:57:51.000000000",
          "2023-12-09T04:20:36.000000000",
          "2023-12-10T06:26:29.000000000",
          "2023-12-11T07:15:01.000000000",
          "2023-12-11T07:31:22.000000000",
          "2023-12-11T07:39:09.000000000",
          "2023-12-11T07:48:35.000000000",
          "2023-12-12T04:17:02.000000000",
          "2023-12-12T04:18:25.000000000",
          "2023-12-12T04:43:31.000000000",
          "2023-12-12T04:49:03.000000000",
          "2023-12-12T05:08:57.000000000",
          "2023-12-12T05:21:44.000000000",
          "2023-12-12T05:33:42.000000000",
          "2023-12-13T01:50:31.000000000",
          "2023-12-13T04:13:40.000000000",
          "2023-12-13T04:28:40.000000000",
          "2023-12-13T04:32:31.000000000",
          "2023-12-13T17:15:03.000000000",
          "2023-12-14T04:03:47.000000000",
          "2023-12-14T04:08:30.000000000",
          "2023-12-14T04:25:33.000000000",
          "2023-12-14T04:44:20.000000000",
          "2023-12-14T04:49:53.000000000",
          "2023-12-14T04:59:11.000000000",
          "2023-12-14T17:49:06.000000000",
          "2023-12-14T18:07:39.000000000",
          "2023-12-14T18:17:10.000000000",
          "2023-12-14T18:27:38.000000000",
          "2023-12-14T18:33:36.000000000",
          "2023-12-14T18:52:28.000000000",
          "2023-12-15T00:31:45.000000000",
          "2023-12-15T06:49:30.000000000",
          "2023-12-15T06:59:00.000000000",
          "2023-12-15T07:03:36.000000000",
          "2023-12-16T07:19:03.000000000",
          "2023-12-16T07:36:18.000000000",
          "2023-12-17T04:35:28.000000000",
          "2023-12-17T04:52:03.000000000",
          "2023-12-17T05:02:05.000000000",
          "2023-12-18T07:55:43.000000000",
          "2023-12-19T02:52:16.000000000",
          "2023-12-20T00:25:55.000000000",
          "2023-12-20T07:37:52.000000000",
          "2023-12-20T07:48:59.000000000",
          "2023-12-20T08:05:34.000000000",
          "2023-12-20T19:09:19.000000000",
          "2023-12-20T23:45:01.000000000",
          "2023-12-21T04:45:02.000000000",
          "2023-12-21T04:53:42.000000000",
          "2023-12-21T05:01:26.000000000",
          "2023-12-21T05:05:42.000000000",
          "2023-12-21T06:41:40.000000000",
          "2023-12-21T07:09:39.000000000",
          "2023-12-21T07:23:14.000000000",
          "2023-12-21T15:59:48.000000000",
          "2023-12-21T16:00:54.000000000",
          "2023-12-21T16:17:16.000000000",
          "2023-12-22T06:52:43.000000000",
          "2023-12-23T18:48:41.000000000",
          "2023-12-23T19:39:55.000000000",
          "2023-12-24T22:04:37.000000000",
          "2023-12-24T22:15:49.000000000",
          "2023-12-25T03:31:04.000000000",
          "2023-12-25T03:39:50.000000000",
          "2023-12-25T17:38:55.000000000",
          "2023-12-25T18:51:51.000000000",
          "2023-12-25T21:43:39.000000000",
          "2023-12-25T21:56:45.000000000",
          "2023-12-26T18:34:43.000000000",
          "2023-12-27T00:28:19.000000000",
          "2023-12-27T01:31:04.000000000",
          "2023-12-27T01:35:08.000000000",
          "2023-12-27T02:19:33.000000000",
          "2023-12-27T02:35:38.000000000",
          "2023-12-27T04:53:16.000000000",
          "2023-12-27T19:59:05.000000000",
          "2023-12-28T05:02:06.000000000",
          "2023-12-28T05:15:24.000000000",
          "2023-12-28T05:29:55.000000000",
          "2023-12-29T03:06:23.000000000",
          "2023-12-29T03:16:08.000000000",
          "2023-12-29T03:28:00.000000000",
          "2023-12-29T23:36:43.000000000",
          "2023-12-31T03:17:05.000000000",
          "2023-12-31T03:21:30.000000000",
          "2024-01-01T06:37:01.000000000",
          "2024-01-01T06:44:48.000000000",
          "2024-01-01T06:56:44.000000000",
          "2024-01-03T00:29:23.000000000",
          "2024-01-03T00:34:44.000000000",
          "2024-01-04T00:04:19.000000000",
          "2024-01-04T00:06:16.000000000",
          "2024-01-04T00:14:46.000000000",
          "2024-01-04T07:01:39.000000000",
          "2024-01-04T20:21:51.000000000",
          "2024-01-04T20:29:51.000000000",
          "2024-01-04T23:57:31.000000000",
          "2024-01-05T08:01:33.000000000",
          "2024-01-05T08:06:56.000000000",
          "2024-01-06T08:45:23.000000000",
          "2024-01-07T00:44:07.000000000",
          "2024-01-07T00:50:20.000000000",
          "2024-01-07T00:53:32.000000000",
          "2024-01-07T03:43:45.000000000",
          "2024-01-07T03:52:58.000000000",
          "2024-01-07T04:08:08.000000000",
          "2024-01-07T06:12:02.000000000",
          "2024-01-07T06:21:22.000000000",
          "2024-01-07T06:28:16.000000000",
          "2024-01-07T06:43:01.000000000",
          "2024-01-07T06:50:21.000000000",
          "2024-01-07T07:33:18.000000000",
          "2024-01-07T07:45:12.000000000",
          "2024-01-07T23:33:43.000000000",
          "2024-01-08T06:44:11.000000000",
          "2024-01-08T06:52:22.000000000",
          "2024-01-08T07:07:25.000000000",
          "2024-01-08T07:14:02.000000000",
          "2024-01-08T20:35:21.000000000",
          "2024-01-08T20:45:48.000000000",
          "2024-01-09T05:48:14.000000000",
          "2024-01-09T06:03:37.000000000",
          "2024-01-09T07:22:13.000000000",
          "2024-01-09T07:27:59.000000000",
          "2024-01-09T17:15:45.000000000",
          "2024-01-09T21:41:55.000000000",
          "2024-01-10T07:02:36.000000000",
          "2024-01-10T07:19:18.000000000",
          "2024-01-10T19:40:54.000000000",
          "2024-01-10T19:47:18.000000000",
          "2024-01-11T00:10:03.000000000",
          "2024-01-11T00:24:26.000000000",
          "2024-01-11T00:29:59.000000000",
          "2024-01-11T06:42:45.000000000",
          "2024-01-11T21:25:24.000000000",
          "2024-01-12T06:51:19.000000000",
          "2024-01-12T07:29:09.000000000",
          "2024-01-12T18:06:31.000000000",
          "2024-01-12T18:07:58.000000000",
          "2024-01-12T18:11:56.000000000",
          "2024-01-12T18:27:32.000000000",
          "2024-01-13T03:30:46.000000000",
          "2024-01-13T05:51:45.000000000",
          "2024-01-13T06:01:52.000000000",
          "2024-01-13T06:16:38.000000000",
          "2024-01-13T06:27:42.000000000",
          "2024-01-13T06:43:47.000000000",
          "2024-01-13T06:54:08.000000000",
          "2024-01-13T07:00:29.000000000",
          "2024-01-14T00:12:34.000000000",
          "2024-01-14T00:28:59.000000000",
          "2024-01-14T00:30:33.000000000",
          "2024-01-14T00:50:33.000000000",
          "2024-01-14T04:06:46.000000000",
          "2024-01-14T04:11:56.000000000",
          "2024-01-14T04:23:48.000000000",
          "2024-01-14T04:45:00.000000000",
          "2024-01-14T06:56:39.000000000",
          "2024-01-14T07:09:21.000000000",
          "2024-01-14T23:31:21.000000000",
          "2024-01-14T23:52:18.000000000",
          "2024-01-15T00:05:58.000000000",
          "2024-01-15T00:18:25.000000000",
          "2024-01-15T04:35:38.000000000",
          "2024-01-15T04:45:48.000000000",
          "2024-01-15T17:10:01.000000000",
          "2024-01-15T17:27:25.000000000",
          "2024-01-16T00:50:28.000000000",
          "2024-01-16T01:04:18.000000000",
          "2024-01-16T06:47:22.000000000",
          "2024-01-16T07:07:47.000000000",
          "2024-01-16T07:32:24.000000000",
          "2024-01-16T19:32:20.000000000",
          "2024-01-17T00:14:09.000000000",
          "2024-01-17T00:15:21.000000000",
          "2024-01-17T00:28:42.000000000",
          "2024-01-17T05:02:59.000000000",
          "2024-01-17T05:07:44.000000000",
          "2024-01-17T05:28:28.000000000",
          "2024-01-17T05:33:28.000000000",
          "2024-01-17T22:25:33.000000000",
          "2024-01-17T22:36:05.000000000",
          "2024-01-17T22:37:49.000000000",
          "2024-01-18T05:04:31.000000000",
          "2024-01-18T05:07:40.000000000",
          "2024-01-18T05:19:13.000000000",
          "2024-01-18T05:27:45.000000000",
          "2024-01-18T05:38:48.000000000",
          "2024-01-18T05:54:27.000000000",
          "2024-01-18T23:05:53.000000000",
          "2024-01-18T23:25:07.000000000",
          "2024-01-19T00:48:38.000000000",
          "2024-01-19T03:59:43.000000000",
          "2024-01-19T04:11:57.000000000",
          "2024-01-19T04:33:24.000000000",
          "2024-01-19T04:48:53.000000000",
          "2024-01-19T19:16:28.000000000",
          "2024-01-20T04:53:19.000000000",
          "2024-01-20T05:02:01.000000000",
          "2024-01-20T05:10:06.000000000",
          "2024-01-20T05:18:28.000000000",
          "2024-01-20T05:19:51.000000000",
          "2024-01-20T05:20:51.000000000",
          "2024-01-20T05:42:40.000000000",
          "2024-01-20T05:58:57.000000000",
          "2024-01-20T08:26:08.000000000",
          "2024-01-20T08:36:41.000000000",
          "2024-01-21T02:56:32.000000000",
          "2024-01-21T04:52:49.000000000",
          "2024-01-21T05:07:22.000000000",
          "2024-01-22T21:33:52.000000000",
          "2024-01-22T21:49:02.000000000",
          "2024-01-23T00:21:01.000000000",
          "2024-01-23T00:32:53.000000000",
          "2024-01-23T04:22:46.000000000",
          "2024-01-23T04:30:05.000000000",
          "2024-01-23T04:39:18.000000000",
          "2024-01-23T04:48:04.000000000",
          "2024-01-23T08:15:38.000000000",
          "2024-01-23T08:26:51.000000000",
          "2024-01-23T08:39:35.000000000",
          "2024-01-23T23:57:52.000000000",
          "2024-01-24T02:40:07.000000000",
          "2024-01-24T21:21:11.000000000",
          "2024-01-24T21:23:32.000000000",
          "2024-01-24T21:32:40.000000000",
          "2024-01-26T04:49:42.000000000",
          "2024-01-26T05:09:47.000000000",
          "2024-01-27T06:55:32.000000000",
          "2024-01-27T06:59:22.000000000",
          "2024-01-27T07:01:21.000000000",
          "2024-01-27T07:12:23.000000000",
          "2024-01-27T07:15:30.000000000",
          "2024-01-27T07:27:02.000000000",
          "2024-01-27T22:18:28.000000000",
          "2024-01-27T22:41:41.000000000",
          "2024-01-28T20:16:19.000000000",
          "2024-01-29T04:57:45.000000000",
          "2024-01-29T05:05:28.000000000",
          "2024-01-29T05:15:24.000000000",
          "2024-01-31T07:53:00.000000000",
          "2024-01-31T07:55:18.000000000",
          "2024-01-31T08:01:47.000000000",
          "2024-01-31T08:08:06.000000000",
          "2024-01-31T08:19:40.000000000",
          "2024-01-31T20:33:44.000000000",
          "2024-01-31T20:40:35.000000000",
          "2024-01-31T20:47:21.000000000",
          "2024-01-31T21:03:58.000000000",
          "2024-02-01T07:51:24.000000000",
          "2024-02-01T21:15:29.000000000",
          "2024-02-02T00:15:33.000000000",
          "2024-02-02T00:28:48.000000000",
          "2024-02-02T00:34:24.000000000",
          "2024-02-02T02:40:28.000000000",
          "2024-02-02T02:52:02.000000000",
          "2024-02-02T03:03:57.000000000",
          "2024-02-03T06:49:48.000000000",
          "2024-02-04T06:18:37.000000000",
          "2024-02-04T06:22:16.000000000",
          "2024-02-04T06:40:41.000000000",
          "2024-02-05T00:52:41.000000000",
          "2024-02-05T07:15:07.000000000",
          "2024-02-05T07:37:12.000000000",
          "2024-02-05T20:06:38.000000000",
          "2024-02-05T20:22:10.000000000",
          "2024-02-06T06:22:46.000000000",
          "2024-02-06T06:34:02.000000000",
          "2024-02-06T19:17:40.000000000",
          "2024-02-06T21:28:53.000000000",
          "2024-02-06T21:31:39.000000000",
          "2024-02-06T21:44:13.000000000",
          "2024-02-06T21:52:09.000000000",
          "2024-02-07T04:00:24.000000000",
          "2024-02-07T20:18:11.000000000",
          "2024-02-07T20:38:02.000000000",
          "2024-02-08T03:14:52.000000000",
          "2024-02-08T03:24:43.000000000",
          "2024-02-08T05:46:23.000000000",
          "2024-02-08T06:01:19.000000000",
          "2024-02-08T06:05:10.000000000",
          "2024-02-08T06:12:12.000000000",
          "2024-02-08T20:39:52.000000000",
          "2024-02-08T21:03:11.000000000",
          "2024-02-08T21:05:34.000000000",
          "2024-02-08T21:10:24.000000000",
          "2024-02-09T00:03:09.000000000",
          "2024-02-09T00:15:02.000000000",
          "2024-02-09T09:06:11.000000000",
          "2024-02-09T09:09:24.000000000",
          "2024-02-09T21:36:29.000000000",
          "2024-02-09T23:55:42.000000000",
          "2024-02-10T07:03:34.000000000",
          "2024-02-10T07:16:08.000000000",
          "2024-02-10T22:28:41.000000000",
          "2024-02-11T02:44:09.000000000",
          "2024-02-11T03:01:47.000000000",
          "2024-02-11T03:18:51.000000000",
          "2024-02-11T06:15:11.000000000",
          "2024-02-11T06:26:30.000000000",
          "2024-02-12T05:55:34.000000000",
          "2024-02-12T20:21:08.000000000",
          "2024-02-12T20:22:38.000000000",
          "2024-02-12T20:23:56.000000000",
          "2024-02-13T05:38:36.000000000",
          "2024-02-13T05:44:17.000000000",
          "2024-02-13T05:51:47.000000000",
          "2024-02-13T19:54:45.000000000",
          "2024-02-13T23:28:27.000000000",
          "2024-02-13T23:38:45.000000000",
          "2024-02-14T04:48:03.000000000",
          "2024-02-14T04:54:26.000000000",
          "2024-02-14T05:15:15.000000000",
          "2024-02-14T05:51:47.000000000",
          "2024-02-17T01:30:47.000000000",
          "2024-02-17T01:49:08.000000000",
          "2024-02-17T02:42:28.000000000",
          "2024-02-17T02:50:32.000000000",
          "2024-02-17T02:56:28.000000000",
          "2024-02-17T21:49:57.000000000",
          "2024-02-17T22:01:42.000000000",
          "2024-02-18T06:58:13.000000000",
          "2024-02-18T07:16:32.000000000",
          "2024-02-19T04:36:30.000000000",
          "2024-02-19T04:45:41.000000000",
          "2024-02-19T04:50:08.000000000",
          "2024-02-21T07:37:11.000000000",
          "2024-02-21T07:55:10.000000000",
          "2024-02-21T07:57:39.000000000",
          "2024-02-21T08:09:36.000000000",
          "2024-02-22T04:46:37.000000000",
          "2024-02-22T05:02:48.000000000",
          "2024-02-22T07:17:05.000000000",
          "2024-02-22T07:34:07.000000000",
          "2024-02-23T06:20:05.000000000",
          "2024-02-23T06:31:20.000000000",
          "2024-02-23T06:34:22.000000000",
          "2024-02-23T06:39:07.000000000",
          "2024-02-23T06:47:28.000000000",
          "2024-02-23T06:48:57.000000000",
          "2024-02-23T06:54:16.000000000",
          "2024-02-23T06:55:01.000000000",
          "2024-02-23T17:57:07.000000000",
          "2024-02-24T08:09:13.000000000",
          "2024-02-24T08:18:46.000000000",
          "2024-02-25T04:51:52.000000000",
          "2024-02-25T06:12:15.000000000",
          "2024-02-25T06:26:52.000000000",
          "2024-02-25T06:36:06.000000000",
          "2024-02-25T06:43:08.000000000",
          "2024-02-25T06:45:31.000000000",
          "2024-02-25T06:57:08.000000000",
          "2024-02-25T07:00:28.000000000",
          "2024-02-25T07:10:07.000000000",
          "2024-02-26T06:37:31.000000000",
          "2024-02-27T17:21:55.000000000",
          "2024-02-28T06:16:41.000000000",
          "2024-03-01T02:23:55.000000000",
          "2024-03-01T03:18:17.000000000",
          "2024-03-01T03:22:47.000000000",
          "2024-03-01T03:30:11.000000000",
          "2024-03-02T06:57:04.000000000",
          "2024-03-02T07:11:23.000000000",
          "2024-03-02T07:20:08.000000000",
          "2024-03-03T06:44:02.000000000",
          "2024-03-03T06:51:10.000000000",
          "2024-03-03T07:11:47.000000000",
          "2024-03-04T00:26:36.000000000",
          "2024-03-04T04:40:47.000000000",
          "2024-03-04T22:24:53.000000000",
          "2024-03-04T22:59:15.000000000",
          "2024-03-05T00:52:02.000000000",
          "2024-03-05T04:22:37.000000000",
          "2024-03-05T04:33:26.000000000",
          "2024-03-05T04:46:43.000000000",
          "2024-03-05T17:54:00.000000000",
          "2024-03-05T22:07:24.000000000",
          "2024-03-06T00:15:05.000000000",
          "2024-03-06T04:03:18.000000000",
          "2024-03-06T06:45:37.000000000",
          "2024-03-06T19:10:23.000000000",
          "2024-03-06T19:41:13.000000000",
          "2024-03-06T20:48:59.000000000",
          "2024-03-06T20:55:54.000000000",
          "2024-03-07T02:10:57.000000000",
          "2024-03-07T22:40:37.000000000",
          "2024-03-07T22:45:03.000000000",
          "2024-03-08T04:44:38.000000000",
          "2024-03-08T04:59:48.000000000",
          "2024-03-08T07:13:51.000000000",
          "2024-03-08T07:28:40.000000000",
          "2024-03-08T07:44:14.000000000",
          "2024-03-08T07:47:44.000000000",
          "2024-03-08T21:06:30.000000000",
          "2024-03-08T21:20:36.000000000",
          "2024-03-09T05:54:35.000000000",
          "2024-03-09T20:05:44.000000000",
          "2024-03-10T07:37:29.000000000",
          "2024-03-11T00:40:58.000000000",
          "2024-03-11T03:47:34.000000000",
          "2024-03-11T07:03:00.000000000",
          "2024-03-11T07:11:55.000000000",
          "2024-03-11T19:41:18.000000000",
          "2024-03-11T20:36:05.000000000",
          "2024-03-11T22:38:09.000000000",
          "2024-03-12T00:28:48.000000000",
          "2024-03-12T23:13:08.000000000",
          "2024-03-12T23:20:51.000000000",
          "2024-03-13T01:39:52.000000000",
          "2024-03-13T01:43:47.000000000",
          "2024-03-13T04:09:47.000000000",
          "2024-03-13T04:20:53.000000000",
          "2024-03-13T19:59:23.000000000",
          "2024-03-14T07:06:33.000000000",
          "2024-03-14T19:46:42.000000000",
          "2024-03-14T19:47:49.000000000",
          "2024-03-14T19:59:50.000000000",
          "2024-03-14T20:06:31.000000000",
          "2024-03-14T22:09:11.000000000",
          "2024-03-14T22:12:13.000000000",
          "2024-03-14T22:23:45.000000000",
          "2024-03-14T22:30:11.000000000",
          "2024-03-14T22:49:06.000000000",
          "2024-03-15T21:31:51.000000000",
          "2024-03-15T21:45:11.000000000",
          "2024-03-15T22:44:40.000000000",
          "2024-03-17T00:57:54.000000000",
          "2024-03-17T03:54:53.000000000",
          "2024-03-18T01:15:31.000000000",
          "2024-03-18T01:19:30.000000000",
          "2024-03-18T01:27:15.000000000",
          "2024-03-18T18:22:45.000000000",
          "2024-03-18T19:22:18.000000000",
          "2024-03-18T19:23:30.000000000",
          "2024-03-18T20:39:55.000000000",
          "2024-03-18T20:44:25.000000000",
          "2024-03-18T20:48:57.000000000",
          "2024-03-18T22:05:42.000000000",
          "2024-03-18T22:16:25.000000000",
          "2024-03-18T22:36:14.000000000",
          "2024-03-19T00:05:21.000000000",
          "2024-03-19T04:23:03.000000000",
          "2024-03-19T04:33:39.000000000",
          "2024-03-19T04:42:18.000000000",
          "2024-03-19T04:50:06.000000000",
          "2024-03-19T04:58:35.000000000",
          "2024-03-19T05:12:35.000000000",
          "2024-03-19T05:18:13.000000000",
          "2024-03-19T05:18:46.000000000",
          "2024-03-19T05:22:22.000000000",
          "2024-03-19T05:37:03.000000000",
          "2024-03-19T05:38:29.000000000",
          "2024-03-19T05:41:23.000000000",
          "2024-03-19T05:45:43.000000000",
          "2024-03-19T06:06:49.000000000",
          "2024-03-19T06:10:33.000000000",
          "2024-03-19T06:21:07.000000000",
          "2024-03-19T06:26:09.000000000",
          "2024-03-19T06:35:36.000000000",
          "2024-03-19T19:19:52.000000000",
          "2024-03-19T19:29:52.000000000",
          "2024-03-19T20:41:22.000000000",
          "2024-03-19T21:29:29.000000000",
          "2024-03-19T21:36:09.000000000",
          "2024-03-19T21:47:46.000000000",
          "2024-03-19T23:50:59.000000000",
          "2024-03-20T03:19:19.000000000",
          "2024-03-20T05:37:12.000000000",
          "2024-03-20T05:57:49.000000000",
          "2024-03-20T17:20:05.000000000",
          "2024-03-20T17:33:42.000000000",
          "2024-03-20T17:47:46.000000000",
          "2024-03-20T18:11:55.000000000",
          "2024-03-20T18:17:51.000000000",
          "2024-03-20T19:06:54.000000000",
          "2024-03-20T20:43:37.000000000",
          "2024-03-20T21:20:07.000000000",
          "2024-03-20T21:29:54.000000000",
          "2024-03-20T21:36:03.000000000",
          "2024-03-20T21:47:12.000000000",
          "2024-03-20T22:00:19.000000000",
          "2024-03-20T22:58:14.000000000",
          "2024-03-20T23:08:23.000000000",
          "2024-03-20T23:13:55.000000000",
          "2024-03-21T00:41:35.000000000",
          "2024-03-21T04:27:33.000000000",
          "2024-03-21T04:31:24.000000000",
          "2024-03-21T04:47:50.000000000",
          "2024-03-21T06:48:33.000000000",
          "2024-03-21T06:57:53.000000000",
          "2024-03-21T07:39:27.000000000",
          "2024-03-21T20:13:15.000000000",
          "2024-03-21T20:31:32.000000000",
          "2024-03-21T23:01:34.000000000",
          "2024-03-21T23:08:58.000000000",
          "2024-03-21T23:31:50.000000000",
          "2024-03-21T23:50:12.000000000",
          "2024-03-22T20:20:30.000000000",
          "2024-03-22T20:21:14.000000000",
          "2024-03-22T20:30:06.000000000",
          "2024-03-24T04:07:47.000000000",
          "2024-03-24T04:10:11.000000000",
          "2024-03-25T04:06:28.000000000",
          "2024-03-25T04:19:12.000000000",
          "2024-03-25T04:26:26.000000000",
          "2024-03-25T04:42:41.000000000",
          "2024-03-25T04:48:40.000000000",
          "2024-03-25T17:15:20.000000000",
          "2024-03-25T22:49:14.000000000",
          "2024-03-25T22:57:34.000000000",
          "2024-03-26T04:53:20.000000000",
          "2024-03-26T07:01:54.000000000",
          "2024-03-26T07:25:11.000000000",
          "2024-03-26T07:53:52.000000000",
          "2024-03-26T17:49:57.000000000",
          "2024-03-26T17:58:12.000000000",
          "2024-03-26T18:30:37.000000000",
          "2024-03-26T20:06:44.000000000",
          "2024-03-26T20:27:05.000000000",
          "2024-03-26T20:31:38.000000000",
          "2024-03-26T21:24:22.000000000",
          "2024-03-26T22:36:32.000000000",
          "2024-03-26T22:42:29.000000000",
          "2024-03-27T04:20:26.000000000",
          "2024-03-27T04:22:37.000000000",
          "2024-03-27T04:31:44.000000000",
          "2024-03-27T04:45:45.000000000",
          "2024-03-27T05:00:28.000000000",
          "2024-03-27T05:17:45.000000000",
          "2024-03-27T05:31:42.000000000",
          "2024-03-27T06:59:22.000000000",
          "2024-03-27T07:10:29.000000000",
          "2024-03-27T07:17:08.000000000",
          "2024-03-27T07:26:51.000000000",
          "2024-03-27T16:39:27.000000000",
          "2024-03-27T16:47:09.000000000",
          "2024-03-27T17:32:28.000000000",
          "2024-03-27T17:36:45.000000000",
          "2024-03-27T17:44:45.000000000",
          "2024-03-27T23:41:37.000000000",
          "2024-03-28T04:17:18.000000000",
          "2024-03-28T04:33:32.000000000",
          "2024-03-28T04:39:58.000000000",
          "2024-03-28T04:47:16.000000000",
          "2024-03-28T04:48:23.000000000",
          "2024-03-28T04:54:12.000000000",
          "2024-03-28T05:02:54.000000000",
          "2024-03-28T05:21:40.000000000",
          "2024-03-28T05:51:59.000000000",
          "2024-03-28T17:35:37.000000000",
          "2024-03-28T22:31:08.000000000",
          "2024-03-28T22:34:12.000000000",
          "2024-03-28T22:50:58.000000000",
          "2024-03-28T22:58:34.000000000",
          "2024-03-28T23:16:39.000000000",
          "2024-03-29T01:07:24.000000000",
          "2024-03-29T01:27:48.000000000",
          "2024-03-29T07:19:50.000000000",
          "2024-03-29T07:26:55.000000000",
          "2024-03-29T17:39:52.000000000",
          "2024-03-29T22:44:37.000000000",
          "2024-03-29T22:46:23.000000000",
          "2024-03-29T22:52:25.000000000",
          "2024-03-29T23:06:54.000000000",
          "2024-03-30T03:33:12.000000000",
          "2024-03-30T04:58:21.000000000",
          "2024-03-30T05:21:13.000000000",
          "2024-03-31T04:01:32.000000000",
          "2024-03-31T04:15:15.000000000",
          "2024-03-31T05:15:29.000000000",
          "2024-04-01T03:32:18.000000000",
          "2024-04-01T03:47:51.000000000",
          "2024-04-02T20:46:11.000000000",
          "2024-04-02T20:50:32.000000000",
          "2024-04-03T03:25:37.000000000",
          "2024-04-03T15:47:45.000000000",
          "2024-04-04T03:31:46.000000000",
          "2024-04-04T03:43:08.000000000",
          "2024-04-04T04:00:00.000000000",
          "2024-04-04T05:19:22.000000000",
          "2024-04-04T05:35:57.000000000",
          "2024-04-04T22:11:49.000000000",
          "2024-04-04T22:21:45.000000000",
          "2024-04-05T04:02:48.000000000",
          "2024-04-05T04:11:16.000000000",
          "2024-04-05T04:31:12.000000000",
          "2024-04-05T04:40:48.000000000",
          "2024-04-05T05:16:37.000000000",
          "2024-04-05T05:32:37.000000000",
          "2024-04-05T05:43:13.000000000",
          "2024-04-05T19:31:06.000000000",
          "2024-04-05T19:43:39.000000000",
          "2024-04-05T20:46:38.000000000",
          "2024-04-05T23:36:29.000000000",
          "2024-04-05T23:44:19.000000000",
          "2024-04-05T23:49:59.000000000",
          "2024-04-05T23:56:26.000000000",
          "2024-04-06T22:25:36.000000000",
          "2024-04-06T23:10:09.000000000",
          "2024-04-07T00:53:12.000000000",
          "2024-04-07T02:16:02.000000000",
          "2024-04-07T06:04:27.000000000",
          "2024-04-07T06:08:32.000000000",
          "2024-04-07T06:25:04.000000000",
          "2024-04-08T02:00:57.000000000",
          "2024-04-08T03:36:09.000000000",
          "2024-04-08T03:55:48.000000000",
          "2024-04-08T17:13:26.000000000",
          "2024-04-08T17:26:59.000000000",
          "2024-04-08T17:35:46.000000000",
          "2024-04-08T20:51:35.000000000",
          "2024-04-08T21:12:46.000000000",
          "2024-04-08T23:17:27.000000000",
          "2024-04-08T23:24:58.000000000",
          "2024-04-08T23:27:33.000000000",
          "2024-04-08T23:40:53.000000000",
          "2024-04-09T03:37:41.000000000",
          "2024-04-09T03:47:37.000000000",
          "2024-04-09T17:10:04.000000000",
          "2024-04-09T17:27:07.000000000",
          "2024-04-09T18:11:51.000000000",
          "2024-04-09T19:45:30.000000000",
          "2024-04-10T17:25:04.000000000",
          "2024-04-10T23:38:55.000000000",
          "2024-04-11T04:06:25.000000000",
          "2024-04-11T04:13:18.000000000",
          "2024-04-11T04:41:37.000000000",
          "2024-04-11T04:49:25.000000000",
          "2024-04-11T17:28:52.000000000",
          "2024-04-11T19:58:30.000000000",
          "2024-04-11T20:01:52.000000000",
          "2024-04-11T21:58:46.000000000",
          "2024-04-12T02:47:19.000000000",
          "2024-04-12T07:28:57.000000000",
          "2024-04-12T17:18:10.000000000",
          "2024-04-12T17:19:35.000000000",
          "2024-04-12T18:21:59.000000000",
          "2024-04-12T19:47:07.000000000",
          "2024-04-12T21:10:09.000000000",
          "2024-04-12T21:22:51.000000000",
          "2024-04-12T21:25:35.000000000",
          "2024-04-13T00:43:53.000000000",
          "2024-04-13T05:53:57.000000000",
          "2024-04-14T04:06:12.000000000",
          "2024-04-14T04:20:26.000000000",
          "2024-04-15T04:07:28.000000000",
          "2024-04-15T19:22:14.000000000",
          "2024-04-15T19:29:44.000000000",
          "2024-04-15T19:43:39.000000000",
          "2024-04-16T04:25:03.000000000",
          "2024-04-16T21:01:53.000000000",
          "2024-04-17T03:52:12.000000000",
          "2024-04-17T04:02:04.000000000",
          "2024-04-17T05:18:00.000000000",
          "2024-04-17T19:24:17.000000000",
          "2024-04-17T19:42:58.000000000",
          "2024-04-18T03:25:36.000000000",
          "2024-04-18T03:40:01.000000000",
          "2024-04-18T03:44:32.000000000",
          "2024-04-18T16:08:35.000000000",
          "2024-04-18T16:15:37.000000000",
          "2024-04-18T17:31:48.000000000",
          "2024-04-18T17:43:13.000000000",
          "2024-04-18T19:00:34.000000000",
          "2024-04-18T19:01:21.000000000",
          "2024-04-18T19:18:52.000000000",
          "2024-04-19T17:08:11.000000000",
          "2024-04-19T17:18:15.000000000",
          "2024-04-19T22:41:04.000000000",
          "2024-04-19T23:34:41.000000000",
          "2024-04-20T04:51:32.000000000",
          "2024-04-20T05:08:34.000000000",
          "2024-04-21T04:27:28.000000000",
          "2024-04-21T04:40:38.000000000",
          "2024-04-22T03:29:51.000000000",
          "2024-04-22T03:33:46.000000000",
          "2024-04-22T03:50:37.000000000",
          "2024-04-22T04:28:05.000000000",
          "2024-04-22T04:41:17.000000000",
          "2024-04-22T19:23:24.000000000",
          "2024-04-22T19:34:22.000000000",
          "2024-04-22T19:45:42.000000000",
          "2024-04-23T03:56:01.000000000",
          "2024-04-23T04:29:32.000000000",
          "2024-04-24T17:40:19.000000000",
          "2024-04-24T17:46:40.000000000",
          "2024-04-24T20:28:47.000000000",
          "2024-04-24T20:34:35.000000000",
          "2024-04-24T22:26:44.000000000",
          "2024-04-24T23:09:21.000000000",
          "2024-04-24T23:15:39.000000000",
          "2024-04-25T17:27:35.000000000",
          "2024-04-25T21:08:13.000000000",
          "2024-04-26T21:41:38.000000000",
          "2024-04-29T04:14:53.000000000",
          "2024-04-29T04:33:44.000000000",
          "2024-04-29T16:02:00.000000000",
          "2024-05-01T04:01:19.000000000",
          "2024-05-01T04:21:35.000000000",
          "2024-05-05T04:47:59.000000000",
          "2024-05-06T20:50:56.000000000",
          "2024-05-06T21:02:20.000000000",
          "2024-05-08T16:55:12.000000000",
          "2024-05-08T19:57:36.000000000",
          "2024-05-09T03:58:32.000000000",
          "2024-05-09T04:19:48.000000000",
          "2024-05-09T20:05:30.000000000",
          "2024-05-09T22:19:35.000000000",
          "2024-05-09T22:27:46.000000000",
          "2024-05-09T22:40:44.000000000",
          "2024-05-10T20:28:59.000000000",
          "2024-05-10T20:40:26.000000000",
          "2024-05-10T20:46:23.000000000",
          "2024-05-10T22:28:44.000000000",
          "2024-05-10T22:38:52.000000000",
          "2024-05-10T22:47:13.000000000",
          "2024-05-10T22:56:00.000000000",
          "2024-05-12T04:13:31.000000000",
          "2024-05-13T04:41:47.000000000",
          "2024-05-13T04:45:05.000000000",
          "2024-05-13T04:48:17.000000000",
          "2024-05-13T04:55:49.000000000",
          "2024-05-13T05:06:18.000000000",
          "2024-05-13T18:17:06.000000000",
          "2024-05-14T17:30:24.000000000",
          "2024-05-14T18:26:20.000000000",
          "2024-05-14T19:26:54.000000000",
          "2024-05-17T17:48:21.000000000",
          "2024-05-22T20:25:16.000000000",
          "2024-05-23T03:44:43.000000000",
          "2024-05-23T03:56:21.000000000",
          "2024-05-23T05:45:18.000000000",
          "2024-05-23T05:56:54.000000000",
          "2024-05-23T06:11:56.000000000",
          "2024-05-23T06:15:01.000000000",
          "2024-05-23T19:10:30.000000000",
          "2024-05-23T19:18:47.000000000",
          "2024-05-23T19:35:51.000000000",
          "2024-05-24T18:37:46.000000000",
          "2024-05-24T19:09:09.000000000",
          "2024-05-24T19:16:10.000000000",
          "2024-05-24T19:24:15.000000000",
          "2024-05-24T19:38:40.000000000",
          "2024-05-24T23:20:07.000000000",
          "2024-05-27T22:04:12.000000000",
          "2024-05-28T03:22:53.000000000",
          "2024-05-28T03:31:52.000000000",
          "2024-05-28T03:45:50.000000000",
          "2024-05-28T04:00:13.000000000",
          "2024-05-28T04:04:50.000000000",
          "2024-05-28T04:15:26.000000000",
          "2024-05-28T05:30:38.000000000",
          "2024-05-28T05:41:29.000000000",
          "2024-05-28T05:57:22.000000000",
          "2024-05-28T06:03:16.000000000",
          "2024-05-28T19:18:40.000000000",
          "2024-05-28T19:22:52.000000000",
          "2024-05-28T19:35:12.000000000",
          "2024-05-28T22:51:59.000000000",
          "2024-05-28T22:55:31.000000000",
          "2024-05-28T23:11:07.000000000",
          "2024-05-28T23:23:03.000000000",
          "2024-05-28T23:28:19.000000000",
          "2024-05-29T06:11:59.000000000",
          "2024-05-29T17:38:20.000000000",
          "2024-05-29T17:58:49.000000000",
          "2024-05-29T18:07:09.000000000",
          "2024-05-29T18:25:10.000000000",
          "2024-05-29T18:37:17.000000000",
          "2024-05-29T20:34:48.000000000",
          "2024-05-29T22:07:06.000000000",
          "2024-05-29T22:24:27.000000000",
          "2024-05-29T22:35:28.000000000",
          "2024-05-29T22:54:58.000000000",
          "2024-05-31T05:01:44.000000000",
          "2024-05-31T05:03:53.000000000",
          "2024-05-31T05:12:25.000000000",
          "2024-06-02T05:09:57.000000000",
          "2024-06-03T05:11:22.000000000",
          "2024-06-03T05:13:48.000000000",
          "2024-06-03T05:24:32.000000000",
          "2024-06-03T05:35:49.000000000",
          "2024-06-03T05:47:23.000000000",
          "2024-06-03T05:52:16.000000000",
          "2024-06-03T06:03:38.000000000",
          "2024-06-03T20:43:31.000000000",
          "2024-06-03T20:47:03.000000000",
          "2024-06-03T21:16:53.000000000",
          "2024-06-03T21:33:23.000000000",
          "2024-06-03T21:35:35.000000000",
          "2024-06-03T21:52:14.000000000",
          "2024-06-03T22:11:10.000000000",
          "2024-06-04T00:07:30.000000000",
          "2024-06-04T05:18:57.000000000",
          "2024-06-04T05:37:38.000000000",
          "2024-06-04T06:01:17.000000000",
          "2024-06-04T06:16:18.000000000",
          "2024-06-04T06:28:55.000000000",
          "2024-06-04T06:37:05.000000000",
          "2024-06-04T06:53:57.000000000",
          "2024-06-04T16:48:53.000000000",
          "2024-06-04T17:03:46.000000000",
          "2024-06-04T17:11:42.000000000",
          "2024-06-04T17:21:19.000000000",
          "2024-06-04T17:29:53.000000000",
          "2024-06-04T17:30:35.000000000",
          "2024-06-04T17:36:33.000000000",
          "2024-06-04T17:43:14.000000000",
          "2024-06-04T18:01:54.000000000",
          "2024-06-04T18:10:26.000000000",
          "2024-06-04T18:19:50.000000000",
          "2024-06-04T18:29:00.000000000",
          "2024-06-04T20:40:51.000000000",
          "2024-06-04T20:47:11.000000000",
          "2024-06-04T21:02:10.000000000",
          "2024-06-04T21:10:58.000000000",
          "2024-06-04T21:22:00.000000000",
          "2024-06-04T21:31:17.000000000",
          "2024-06-04T21:49:11.000000000",
          "2024-06-04T22:14:20.000000000",
          "2024-06-04T22:17:43.000000000",
          "2024-06-04T23:21:14.000000000",
          "2024-06-04T23:47:28.000000000",
          "2024-06-04T23:51:07.000000000",
          "2024-06-05T04:06:23.000000000",
          "2024-06-05T04:18:35.000000000",
          "2024-06-05T04:34:28.000000000",
          "2024-06-05T04:48:20.000000000",
          "2024-06-05T05:07:07.000000000",
          "2024-06-05T05:12:21.000000000",
          "2024-06-05T05:23:57.000000000",
          "2024-06-05T05:40:40.000000000",
          "2024-06-05T20:28:02.000000000",
          "2024-06-05T20:56:37.000000000",
          "2024-06-05T21:13:37.000000000",
          "2024-06-05T21:41:40.000000000",
          "2024-06-05T21:54:06.000000000",
          "2024-06-05T22:03:31.000000000",
          "2024-06-06T04:15:10.000000000",
          "2024-06-06T04:31:34.000000000",
          "2024-06-06T04:51:10.000000000",
          "2024-06-06T05:02:56.000000000",
          "2024-06-06T05:16:49.000000000",
          "2024-06-06T06:09:00.000000000",
          "2024-06-06T17:32:57.000000000",
          "2024-06-06T17:39:28.000000000",
          "2024-06-06T17:47:35.000000000",
          "2024-06-06T17:59:21.000000000",
          "2024-06-06T18:07:24.000000000",
          "2024-06-06T18:25:10.000000000",
          "2024-06-06T18:26:36.000000000",
          "2024-06-06T18:31:16.000000000",
          "2024-06-06T18:43:34.000000000",
          "2024-06-06T18:49:51.000000000",
          "2024-06-06T19:17:51.000000000",
          "2024-06-06T19:32:16.000000000",
          "2024-06-06T21:03:49.000000000",
          "2024-06-06T21:17:27.000000000",
          "2024-06-06T21:31:33.000000000",
          "2024-06-06T21:38:18.000000000",
          "2024-06-06T21:56:47.000000000",
          "2024-06-06T22:15:50.000000000",
          "2024-06-06T22:21:41.000000000",
          "2024-06-07T01:42:52.000000000",
          "2024-06-07T01:51:12.000000000",
          "2024-06-07T02:00:16.000000000",
          "2024-06-07T02:08:44.000000000",
          "2024-06-07T02:23:53.000000000",
          "2024-06-07T02:28:19.000000000",
          "2024-06-07T17:45:35.000000000",
          "2024-06-07T17:53:07.000000000",
          "2024-06-07T18:24:14.000000000",
          "2024-06-07T18:35:54.000000000",
          "2024-06-07T19:04:10.000000000",
          "2024-06-07T19:10:21.000000000",
          "2024-06-07T19:25:21.000000000",
          "2024-06-07T19:58:10.000000000",
          "2024-06-07T20:12:36.000000000",
          "2024-06-07T20:20:38.000000000",
          "2024-06-07T20:39:05.000000000",
          "2024-06-07T20:43:08.000000000",
          "2024-06-07T22:51:48.000000000",
          "2024-06-07T23:04:43.000000000",
          "2024-06-08T00:37:47.000000000",
          "2024-06-08T00:41:52.000000000",
          "2024-06-08T03:55:47.000000000",
          "2024-06-08T04:09:06.000000000",
          "2024-06-08T04:18:57.000000000",
          "2024-06-08T04:29:21.000000000",
          "2024-06-08T04:53:44.000000000",
          "2024-06-08T05:12:33.000000000",
          "2024-06-08T05:26:40.000000000",
          "2024-06-08T05:35:55.000000000",
          "2024-06-08T05:52:13.000000000",
          "2024-06-08T06:08:21.000000000",
          "2024-06-08T06:37:22.000000000",
          "2024-06-08T06:49:58.000000000",
          "2024-06-08T06:57:30.000000000",
          "2024-06-09T02:24:13.000000000",
          "2024-06-09T02:38:23.000000000",
          "2024-06-09T04:34:46.000000000",
          "2024-06-09T04:55:22.000000000",
          "2024-06-09T05:08:53.000000000",
          "2024-06-09T05:18:31.000000000",
          "2024-06-09T05:22:59.000000000",
          "2024-06-09T05:33:29.000000000",
          "2024-06-10T04:39:24.000000000",
          "2024-06-10T04:48:35.000000000",
          "2024-06-10T04:58:31.000000000",
          "2024-06-10T17:27:45.000000000",
          "2024-06-10T17:42:41.000000000",
          "2024-06-10T18:10:22.000000000",
          "2024-06-10T19:24:10.000000000",
          "2024-06-10T19:46:56.000000000",
          "2024-06-10T20:02:51.000000000",
          "2024-06-10T21:29:47.000000000",
          "2024-06-10T21:47:59.000000000",
          "2024-06-10T21:50:51.000000000",
          "2024-06-10T22:01:35.000000000",
          "2024-06-10T22:08:35.000000000",
          "2024-06-11T05:01:15.000000000",
          "2024-06-11T16:54:03.000000000",
          "2024-06-11T17:10:12.000000000",
          "2024-06-11T22:45:14.000000000",
          "2024-06-11T23:00:33.000000000",
          "2024-06-12T18:22:05.000000000",
          "2024-06-12T18:36:52.000000000",
          "2024-06-12T21:57:26.000000000",
          "2024-06-12T22:17:03.000000000",
          "2024-06-12T22:42:00.000000000",
          "2024-06-13T15:42:39.000000000",
          "2024-06-13T17:35:24.000000000",
          "2024-06-13T17:49:21.000000000",
          "2024-06-13T17:55:21.000000000",
          "2024-06-13T19:02:02.000000000",
          "2024-06-13T19:03:21.000000000",
          "2024-06-13T19:10:41.000000000",
          "2024-06-13T19:30:23.000000000",
          "2024-06-14T19:09:58.000000000",
          "2024-06-17T03:33:21.000000000",
          "2024-06-17T03:48:31.000000000",
          "2024-06-17T05:11:53.000000000",
          "2024-06-17T18:01:01.000000000",
          "2024-06-17T18:16:44.000000000",
          "2024-06-17T19:54:40.000000000",
          "2024-06-17T22:02:30.000000000",
          "2024-06-17T22:15:10.000000000",
          "2024-06-17T22:29:09.000000000",
          "2024-06-18T04:05:43.000000000",
          "2024-06-18T04:17:36.000000000",
          "2024-06-18T15:47:22.000000000",
          "2024-06-18T15:53:39.000000000",
          "2024-06-18T15:59:36.000000000",
          "2024-06-19T19:56:39.000000000",
          "2024-06-19T20:06:35.000000000",
          "2024-06-19T20:07:40.000000000",
          "2024-06-19T20:11:55.000000000",
          "2024-06-19T20:37:04.000000000",
          "2024-06-19T20:55:35.000000000",
          "2024-06-19T21:36:10.000000000",
          "2024-06-20T04:15:21.000000000",
          "2024-06-20T05:12:36.000000000",
          "2024-06-24T02:37:39.000000000",
          "2024-06-24T04:07:39.000000000",
          "2024-06-25T15:55:18.000000000",
          "2024-06-26T20:10:30.000000000",
          "2024-06-26T21:00:36.000000000",
          "2024-06-26T21:04:26.000000000",
          "2024-06-26T21:22:22.000000000",
          "2024-06-26T21:29:23.000000000",
          "2024-06-27T20:10:27.000000000",
          "2024-06-28T21:27:00.000000000",
          "2024-06-29T05:38:07.000000000",
          "2024-06-29T05:53:09.000000000",
          "2024-06-30T00:48:09.000000000",
          "2024-06-30T00:55:32.000000000",
          "2024-06-30T01:05:15.000000000",
          "2024-06-30T04:20:52.000000000",
          "2024-06-30T23:02:28.000000000",
          "2024-06-30T23:29:16.000000000",
          "2024-06-30T23:33:28.000000000",
          "2024-06-30T23:49:59.000000000",
          "2024-06-30T23:57:23.000000000",
          "2024-07-01T01:22:50.000000000",
          "2024-07-01T04:26:33.000000000",
          "2024-07-01T04:36:46.000000000",
          "2024-07-01T04:46:24.000000000",
          "2024-07-01T04:49:33.000000000",
          "2024-07-02T03:42:53.000000000",
          "2024-07-02T03:50:38.000000000",
          "2024-07-02T03:56:58.000000000",
          "2024-07-02T04:12:08.000000000",
          "2024-07-03T05:28:44.000000000",
          "2024-07-03T05:43:30.000000000",
          "2024-07-04T04:18:10.000000000",
          "2024-07-04T04:29:56.000000000",
          "2024-07-04T04:33:08.000000000",
          "2024-07-04T04:38:38.000000000",
          "2024-07-04T04:48:57.000000000",
          "2024-07-04T04:55:03.000000000",
          "2024-07-04T19:21:33.000000000",
          "2024-07-04T21:51:19.000000000",
          "2024-07-04T22:01:06.000000000",
          "2024-07-06T01:14:30.000000000",
          "2024-07-06T06:37:18.000000000",
          "2024-07-07T01:23:00.000000000",
          "2024-07-07T02:14:11.000000000",
          "2024-07-07T02:16:55.000000000",
          "2024-07-07T02:19:33.000000000",
          "2024-07-07T05:52:40.000000000",
          "2024-07-07T05:54:01.000000000",
          "2024-07-07T06:09:01.000000000",
          "2024-07-07T06:11:37.000000000",
          "2024-07-08T02:58:14.000000000",
          "2024-07-08T03:02:09.000000000",
          "2024-07-08T03:30:02.000000000",
          "2024-07-08T03:40:43.000000000",
          "2024-07-08T03:51:29.000000000",
          "2024-07-08T04:43:08.000000000",
          "2024-07-08T04:49:01.000000000",
          "2024-07-08T04:58:40.000000000",
          "2024-07-08T05:17:17.000000000",
          "2024-07-08T19:29:47.000000000",
          "2024-07-08T19:35:18.000000000",
          "2024-07-08T19:45:44.000000000",
          "2024-07-08T20:18:17.000000000",
          "2024-07-08T20:38:59.000000000",
          "2024-07-08T20:45:32.000000000",
          "2024-07-08T21:07:31.000000000",
          "2024-07-08T21:17:41.000000000",
          "2024-07-08T21:26:17.000000000",
          "2024-07-09T16:07:06.000000000",
          "2024-07-09T16:14:50.000000000",
          "2024-07-10T18:27:55.000000000",
          "2024-07-10T19:18:51.000000000",
          "2024-07-10T20:47:18.000000000",
          "2024-07-10T22:06:38.000000000",
          "2024-07-10T22:25:26.000000000",
          "2024-07-10T22:37:01.000000000",
          "2024-07-11T03:19:20.000000000",
          "2024-07-11T03:43:04.000000000",
          "2024-07-11T05:11:30.000000000",
          "2024-07-11T22:21:52.000000000",
          "2024-07-11T23:13:45.000000000",
          "2024-07-11T23:49:59.000000000",
          "2024-07-12T22:10:52.000000000",
          "2024-07-12T22:39:27.000000000",
          "2024-07-14T03:38:15.000000000",
          "2024-07-15T03:37:01.000000000",
          "2024-07-15T04:22:44.000000000",
          "2024-07-16T00:48:23.000000000",
          "2024-07-16T01:02:02.000000000",
          "2024-07-16T04:04:29.000000000",
          "2024-07-16T04:16:31.000000000",
          "2024-07-16T04:33:47.000000000",
          "2024-07-16T21:53:38.000000000",
          "2024-07-16T22:10:29.000000000",
          "2024-07-16T22:14:05.000000000",
          "2024-07-16T22:51:26.000000000",
          "2024-07-16T23:02:16.000000000",
          "2024-07-17T03:52:06.000000000",
          "2024-07-17T20:22:19.000000000",
          "2024-07-17T20:24:51.000000000",
          "2024-07-17T20:25:17.000000000",
          "2024-07-17T20:43:19.000000000",
          "2024-07-17T20:52:52.000000000",
          "2024-07-17T21:08:10.000000000",
          "2024-07-17T21:16:32.000000000",
          "2024-07-17T21:20:18.000000000",
          "2024-07-17T21:38:44.000000000",
          "2024-07-17T22:09:28.000000000",
          "2024-07-18T23:20:37.000000000",
          "2024-07-21T02:56:21.000000000",
          "2024-07-21T04:12:54.000000000",
          "2024-07-22T01:58:24.000000000",
          "2024-07-22T03:34:24.000000000",
          "2024-07-22T03:50:06.000000000",
          "2024-07-22T04:05:25.000000000",
          "2024-07-22T18:48:33.000000000",
          "2024-07-22T18:50:19.000000000",
          "2024-07-22T19:02:05.000000000",
          "2024-07-23T02:26:37.000000000",
          "2024-07-24T01:33:03.000000000",
          "2024-07-24T01:51:06.000000000",
          "2024-07-24T04:47:06.000000000",
          "2024-07-24T05:08:03.000000000",
          "2024-07-24T18:55:46.000000000",
          "2024-07-24T21:06:29.000000000",
          "2024-07-24T21:13:01.000000000",
          "2024-07-25T02:41:12.000000000",
          "2024-07-25T02:53:53.000000000",
          "2024-07-25T03:40:09.000000000",
          "2024-07-25T03:56:55.000000000",
          "2024-07-26T02:16:19.000000000",
          "2024-07-26T05:33:23.000000000",
          "2024-07-26T05:47:33.000000000",
          "2024-07-26T05:49:34.000000000",
          "2024-07-26T05:59:51.000000000",
          "2024-07-26T06:04:03.000000000",
          "2024-07-26T06:09:55.000000000",
          "2024-07-26T06:14:20.000000000",
          "2024-07-26T06:20:37.000000000",
          "2024-07-26T06:26:36.000000000",
          "2024-07-27T04:28:23.000000000",
          "2024-07-27T04:38:37.000000000",
          "2024-07-27T04:42:42.000000000",
          "2024-07-27T04:51:12.000000000",
          "2024-07-28T00:30:09.000000000",
          "2024-07-28T04:28:18.000000000",
          "2024-07-28T05:01:35.000000000",
          "2024-07-28T05:12:21.000000000",
          "2024-07-29T00:48:30.000000000",
          "2024-07-29T03:46:45.000000000",
          "2024-07-29T04:00:04.000000000",
          "2024-07-29T04:02:31.000000000",
          "2024-07-29T04:40:37.000000000",
          "2024-07-29T04:47:44.000000000",
          "2024-07-29T04:55:48.000000000",
          "2024-07-29T05:07:48.000000000",
          "2024-07-29T05:18:07.000000000",
          "2024-08-06T00:12:06.000000000",
          "2024-08-06T02:38:27.000000000",
          "2024-08-06T03:03:48.000000000",
          "2024-08-06T03:14:56.000000000",
          "2024-08-06T04:07:21.000000000",
          "2024-08-06T06:09:48.000000000",
          "2024-08-06T06:24:06.000000000",
          "2024-08-07T02:58:34.000000000",
          "2024-08-07T20:05:20.000000000",
          "2024-08-07T22:06:22.000000000",
          "2024-08-08T00:44:23.000000000",
          "2024-08-08T01:02:27.000000000",
          "2024-08-08T01:04:30.000000000",
          "2024-08-08T02:56:13.000000000",
          "2024-08-08T02:58:35.000000000",
          "2024-08-08T05:43:49.000000000",
          "2024-08-08T21:33:56.000000000",
          "2024-08-09T01:42:16.000000000",
          "2024-08-09T01:57:25.000000000",
          "2024-08-09T19:11:10.000000000",
          "2024-08-10T03:55:43.000000000",
          "2024-08-10T03:58:59.000000000",
          "2024-08-10T04:08:20.000000000",
          "2024-08-10T04:17:35.000000000",
          "2024-08-11T02:38:39.000000000",
          "2024-08-11T19:52:35.000000000",
          "2024-08-11T21:35:05.000000000",
          "2024-08-11T21:39:30.000000000",
          "2024-08-11T21:49:13.000000000",
          "2024-08-12T03:58:16.000000000",
          "2024-08-12T04:03:10.000000000",
          "2024-08-12T23:34:22.000000000",
          "2024-08-12T23:53:11.000000000",
          "2024-08-13T20:35:58.000000000",
          "2024-08-13T20:37:02.000000000",
          "2024-08-13T23:16:50.000000000",
          "2024-08-13T23:21:26.000000000",
          "2024-08-14T02:30:12.000000000",
          "2024-08-14T21:31:30.000000000",
          "2024-08-14T23:03:56.000000000",
          "2024-08-16T03:12:39.000000000",
          "2024-08-17T02:01:12.000000000",
          "2024-09-10T16:43:10.000000000",
          "2024-09-16T23:02:48.000000000",
          "2024-09-17T00:13:12.000000000",
          "2024-09-17T03:32:04.000000000",
          "2024-09-17T03:39:19.000000000",
          "2024-09-17T22:56:55.000000000",
          "2024-09-17T23:08:33.000000000",
          "2024-09-20T00:04:12.000000000",
          "2024-09-21T04:21:03.000000000",
          "2024-09-21T04:28:48.000000000",
          "2024-09-21T05:55:55.000000000",
          "2024-09-21T05:59:17.000000000",
          "2024-09-21T06:00:03.000000000",
          "2024-09-25T06:32:46.000000000",
          "2024-09-26T19:17:26.000000000",
          "2024-09-27T05:28:00.000000000",
          "2024-09-30T20:33:00.000000000",
          "2024-10-01T03:30:24.000000000",
          "2024-10-01T05:35:49.000000000",
          "2024-10-01T05:50:49.000000000",
          "2024-10-02T00:18:45.000000000",
          "2024-10-02T00:27:59.000000000",
          "2024-10-02T01:18:17.000000000",
          "2024-10-02T01:19:53.000000000",
          "2024-10-03T19:40:40.000000000",
          "2024-10-04T05:52:13.000000000",
          "2024-10-04T06:08:14.000000000",
          "2024-10-04T06:26:23.000000000",
          "2024-10-04T23:27:36.000000000",
          "2024-10-05T03:55:41.000000000",
          "2024-10-05T04:08:49.000000000",
          "2024-10-05T06:29:42.000000000",
          "2024-10-06T04:04:53.000000000",
          "2024-10-06T04:21:43.000000000",
          "2024-10-07T00:16:30.000000000",
          "2024-10-07T03:51:22.000000000",
          "2024-10-07T21:33:57.000000000",
          "2024-10-07T23:18:00.000000000",
          "2024-10-07T23:19:18.000000000",
          "2024-10-08T05:42:08.000000000",
          "2024-10-09T23:38:56.000000000",
          "2024-10-09T23:47:52.000000000",
          "2024-10-10T21:46:15.000000000",
          "2024-10-13T06:29:50.000000000",
          "2024-10-14T20:51:16.000000000",
          "2024-10-14T21:02:53.000000000",
          "2024-10-15T03:31:51.000000000",
          "2024-10-15T03:49:55.000000000",
          "2024-10-15T06:13:15.000000000",
          "2024-10-15T06:31:27.000000000",
          "2024-10-15T06:39:00.000000000",
          "2024-10-15T06:43:20.000000000",
          "2024-10-16T03:54:38.000000000",
          "2024-10-16T04:03:14.000000000",
          "2024-10-16T04:14:16.000000000",
          "2024-10-16T04:30:54.000000000",
          "2024-10-16T22:40:10.000000000",
          "2024-10-16T22:44:23.000000000",
          "2024-10-16T22:57:43.000000000",
          "2024-10-16T23:05:09.000000000",
          "2024-10-17T01:54:01.000000000",
          "2024-10-17T01:59:40.000000000",
          "2024-10-17T02:03:58.000000000",
          "2024-10-17T19:35:40.000000000",
          "2024-10-17T19:40:28.000000000",
          "2024-10-18T15:53:28.000000000",
          "2024-10-18T18:08:10.000000000",
          "2024-10-18T18:17:15.000000000",
          "2024-10-20T01:22:50.000000000",
          "2024-10-20T06:45:48.000000000",
          "2024-10-21T00:15:57.000000000",
          "2024-10-21T20:02:40.000000000",
          "2024-10-21T20:57:46.000000000",
          "2024-10-21T21:15:29.000000000",
          "2024-10-21T21:24:17.000000000",
          "2024-10-21T23:06:39.000000000",
          "2024-10-21T23:43:24.000000000",
          "2024-10-22T00:13:34.000000000",
          "2024-10-22T18:51:24.000000000",
          "2024-10-23T18:00:47.000000000",
          "2024-10-23T18:14:41.000000000",
          "2024-10-30T05:03:13.000000000",
          "2024-10-30T18:33:34.000000000",
          "2024-10-30T18:46:44.000000000",
          "2024-10-30T20:49:48.000000000",
          "2024-10-31T19:29:18.000000000",
          "2024-10-31T19:47:30.000000000",
          "2024-11-03T00:11:26.000000000",
          "2024-11-03T00:14:47.000000000",
          "2024-11-03T00:21:02.000000000",
          "2024-11-03T03:05:48.000000000",
          "2024-11-03T03:15:59.000000000",
          "2024-11-03T04:24:34.000000000",
          "2024-11-03T04:36:04.000000000",
          "2024-11-04T03:45:35.000000000",
          "2024-11-04T03:59:26.000000000",
          "2024-11-04T04:03:24.000000000",
          "2024-11-04T04:05:19.000000000",
          "2024-11-04T04:39:16.000000000",
          "2024-11-04T04:45:35.000000000",
          "2024-11-04T04:55:27.000000000",
          "2024-11-04T05:01:59.000000000",
          "2024-11-04T05:16:17.000000000",
          "2024-11-04T05:19:39.000000000",
          "2024-11-04T05:28:33.000000000",
          "2024-11-05T00:07:24.000000000",
          "2024-11-05T00:10:04.000000000",
          "2024-11-05T00:21:00.000000000",
          "2024-11-05T00:28:43.000000000",
          "2024-11-05T18:14:28.000000000",
          "2024-11-05T18:22:23.000000000",
          "2024-11-05T18:27:25.000000000",
          "2024-11-05T19:42:14.000000000",
          "2024-11-05T19:49:11.000000000",
          "2024-11-05T20:15:18.000000000",
          "2024-11-05T21:00:08.000000000",
          "2024-11-05T21:02:01.000000000",
          "2024-11-05T21:19:54.000000000",
          "2024-11-05T21:33:00.000000000",
          "2024-11-05T21:55:05.000000000",
          "2024-11-05T21:58:42.000000000",
          "2024-11-05T22:06:53.000000000",
          "2024-11-05T22:17:42.000000000",
          "2024-11-05T22:31:44.000000000",
          "2024-11-05T23:23:01.000000000",
          "2024-11-05T23:29:53.000000000",
          "2024-11-06T00:25:52.000000000",
          "2024-11-06T00:33:15.000000000",
          "2024-11-06T01:55:34.000000000",
          "2024-11-06T02:07:37.000000000",
          "2024-11-06T02:16:25.000000000",
          "2024-11-06T02:26:50.000000000",
          "2024-11-06T05:29:34.000000000",
          "2024-11-06T05:42:01.000000000",
          "2024-11-06T20:35:37.000000000",
          "2024-11-06T22:27:02.000000000",
          "2024-11-06T22:55:26.000000000",
          "2024-11-06T23:47:22.000000000",
          "2024-11-06T23:51:07.000000000",
          "2024-11-06T23:58:45.000000000",
          "2024-11-07T16:09:47.000000000",
          "2024-11-07T19:55:39.000000000",
          "2024-11-07T20:04:11.000000000",
          "2024-11-07T20:10:07.000000000",
          "2024-11-07T22:17:45.000000000",
          "2024-11-07T22:59:33.000000000",
          "2024-11-07T23:09:36.000000000",
          "2024-11-07T23:20:56.000000000",
          "2024-11-08T22:16:58.000000000",
          "2024-11-08T22:22:27.000000000",
          "2024-11-12T00:42:05.000000000",
          "2024-11-12T19:50:07.000000000",
          "2024-11-13T20:02:05.000000000",
          "2024-11-13T23:11:17.000000000",
          "2024-11-14T00:23:23.000000000",
          "2024-11-14T04:45:54.000000000",
          "2024-11-14T04:51:15.000000000",
          "2024-11-14T04:58:51.000000000",
          "2024-11-14T05:06:56.000000000",
          "2024-11-14T06:34:45.000000000",
          "2024-11-14T06:51:48.000000000",
          "2024-11-14T17:24:50.000000000",
          "2024-11-14T21:41:07.000000000",
          "2024-11-14T21:48:35.000000000",
          "2024-11-14T22:44:09.000000000",
          "2024-11-14T22:53:47.000000000",
          "2024-11-14T22:55:04.000000000",
          "2024-11-15T17:11:22.000000000",
          "2024-11-15T18:44:57.000000000",
          "2024-11-15T19:01:58.000000000",
          "2024-11-15T19:44:50.000000000",
          "2024-11-15T23:05:29.000000000",
          "2024-11-15T23:08:58.000000000",
          "2024-11-15T23:16:22.000000000",
          "2024-11-15T23:24:14.000000000",
          "2024-11-15T23:40:23.000000000",
          "2024-11-18T19:54:59.000000000",
          "2024-11-18T21:45:28.000000000",
          "2024-11-18T21:55:33.000000000",
          "2024-11-19T00:20:10.000000000",
          "2024-11-19T05:04:24.000000000",
          "2024-11-19T18:26:45.000000000",
          "2024-11-19T21:17:32.000000000",
          "2024-11-19T21:22:46.000000000",
          "2024-11-19T21:26:26.000000000",
          "2024-11-19T21:45:10.000000000",
          "2024-11-20T00:14:49.000000000",
          "2024-11-20T18:29:03.000000000",
          "2024-11-20T22:45:20.000000000",
          "2024-11-20T22:51:36.000000000",
          "2024-11-20T23:03:59.000000000",
          "2024-11-21T17:45:49.000000000",
          "2024-11-21T20:45:35.000000000",
          "2024-11-22T06:25:38.000000000",
          "2024-11-22T06:36:55.000000000",
          "2024-11-24T05:08:22.000000000",
          "2024-11-24T05:17:49.000000000",
          "2024-11-25T07:21:37.000000000",
          "2024-11-25T21:13:36.000000000",
          "2024-11-25T21:20:27.000000000",
          "2024-11-26T05:01:40.000000000",
          "2024-11-26T20:36:41.000000000",
          "2024-11-26T23:33:40.000000000",
          "2024-11-26T23:47:29.000000000",
          "2024-11-27T00:53:44.000000000",
          "2024-11-27T01:06:26.000000000",
          "2024-11-27T23:35:18.000000000",
          "2024-11-27T23:47:36.000000000",
          "2024-11-28T08:08:48.000000000",
          "2024-11-28T08:19:48.000000000",
          "2024-11-30T00:00:05.000000000",
          "2024-11-30T01:09:43.000000000",
          "2024-11-30T05:38:11.000000000",
          "2024-11-30T05:54:19.000000000",
          "2024-11-30T23:44:49.000000000",
          "2024-12-01T04:53:50.000000000",
          "2024-12-01T05:07:47.000000000",
          "2024-12-01T08:01:09.000000000",
          "2024-12-01T08:13:38.000000000",
          "2024-12-01T20:01:03.000000000",
          "2024-12-01T21:00:43.000000000",
          "2024-12-01T21:09:22.000000000",
          "2024-12-01T21:10:30.000000000",
          "2024-12-01T21:22:32.000000000",
          "2024-12-02T02:46:47.000000000",
          "2024-12-02T02:57:15.000000000",
          "2024-12-02T03:04:21.000000000",
          "2024-12-02T04:17:43.000000000",
          "2024-12-02T04:25:01.000000000",
          "2024-12-02T05:05:23.000000000",
          "2024-12-02T15:59:12.000000000",
          "2024-12-02T16:12:48.000000000",
          "2024-12-02T16:19:07.000000000",
          "2024-12-02T17:45:59.000000000",
          "2024-12-02T21:58:02.000000000",
          "2024-12-02T22:10:39.000000000",
          "2024-12-03T01:35:19.000000000",
          "2024-12-03T04:42:17.000000000",
          "2024-12-03T04:52:38.000000000",
          "2024-12-03T05:24:57.000000000",
          "2024-12-03T05:28:09.000000000",
          "2024-12-03T17:40:47.000000000",
          "2024-12-03T20:11:08.000000000",
          "2024-12-04T04:40:16.000000000",
          "2024-12-04T06:24:32.000000000",
          "2024-12-04T06:33:51.000000000",
          "2024-12-06T00:29:15.000000000",
          "2024-12-06T06:33:15.000000000",
          "2024-12-09T03:21:28.000000000",
          "2024-12-09T07:31:50.000000000",
          "2024-12-09T07:37:46.000000000",
          "2024-12-09T07:45:39.000000000",
          "2024-12-10T08:08:13.000000000",
          "2024-12-10T08:28:11.000000000",
          "2024-12-10T18:07:48.000000000",
          "2024-12-10T20:21:00.000000000",
          "2024-12-10T20:48:16.000000000",
          "2024-12-10T21:06:06.000000000",
          "2024-12-10T21:24:46.000000000",
          "2024-12-10T21:25:49.000000000",
          "2024-12-10T21:30:02.000000000",
          "2024-12-10T21:40:01.000000000",
          "2024-12-10T21:57:14.000000000",
          "2024-12-10T22:28:37.000000000",
          "2024-12-10T22:41:12.000000000",
          "2024-12-10T22:48:56.000000000",
          "2024-12-10T22:55:46.000000000",
          "2024-12-10T23:04:07.000000000",
          "2024-12-11T02:53:23.000000000",
          "2024-12-11T21:58:18.000000000",
          "2024-12-11T22:24:29.000000000",
          "2024-12-11T22:45:27.000000000",
          "2024-12-13T18:14:21.000000000",
          "2024-12-13T18:30:33.000000000",
          "2024-12-14T01:06:13.000000000",
          "2024-12-14T02:57:20.000000000",
          "2024-12-14T06:22:28.000000000",
          "2024-12-15T04:52:03.000000000",
          "2024-12-15T05:02:31.000000000",
          "2024-12-15T05:15:42.000000000",
          "2024-12-15T05:32:28.000000000",
          "2024-12-15T07:35:30.000000000",
          "2024-12-15T07:45:56.000000000",
          "2024-12-16T04:27:37.000000000",
          "2024-12-16T04:33:33.000000000",
          "2024-12-16T04:47:14.000000000",
          "2024-12-16T05:05:12.000000000",
          "2024-12-16T07:13:43.000000000",
          "2024-12-16T17:41:13.000000000",
          "2024-12-16T17:56:20.000000000",
          "2024-12-16T18:06:52.000000000",
          "2024-12-16T18:13:14.000000000",
          "2024-12-16T19:43:03.000000000",
          "2024-12-16T19:45:12.000000000",
          "2024-12-16T19:53:41.000000000",
          "2024-12-16T20:46:17.000000000",
          "2024-12-16T20:58:02.000000000",
          "2024-12-16T21:50:04.000000000",
          "2024-12-16T22:50:29.000000000",
          "2024-12-16T23:06:02.000000000",
          "2024-12-16T23:29:36.000000000",
          "2024-12-17T00:13:54.000000000",
          "2024-12-17T01:00:39.000000000",
          "2024-12-17T05:17:23.000000000",
          "2024-12-17T17:32:08.000000000",
          "2024-12-17T17:35:35.000000000",
          "2024-12-17T17:44:03.000000000",
          "2024-12-17T17:56:16.000000000",
          "2024-12-17T20:31:26.000000000",
          "2024-12-17T22:07:31.000000000",
          "2024-12-17T22:52:50.000000000",
          "2024-12-18T05:00:02.000000000",
          "2024-12-18T05:02:27.000000000",
          "2024-12-18T05:04:17.000000000",
          "2024-12-18T05:21:12.000000000",
          "2024-12-18T15:50:54.000000000",
          "2024-12-18T18:07:43.000000000",
          "2024-12-18T18:40:21.000000000",
          "2024-12-18T18:48:56.000000000",
          "2024-12-18T21:22:08.000000000",
          "2024-12-19T06:41:52.000000000",
          "2024-12-19T06:44:21.000000000",
          "2024-12-19T18:20:02.000000000",
          "2024-12-19T18:58:35.000000000",
          "2024-12-19T21:01:22.000000000",
          "2024-12-19T22:32:16.000000000",
          "2024-12-19T22:39:32.000000000",
          "2024-12-20T06:11:38.000000000",
          "2024-12-20T06:25:40.000000000",
          "2024-12-21T00:03:57.000000000",
          "2024-12-21T00:14:24.000000000",
          "2024-12-21T00:25:11.000000000",
          "2024-12-21T04:13:32.000000000",
          "2024-12-21T04:19:06.000000000",
          "2024-12-21T05:22:16.000000000",
          "2024-12-22T05:07:53.000000000",
          "2024-12-22T05:15:21.000000000",
          "2024-12-23T05:08:46.000000000",
          "2024-12-23T17:54:48.000000000",
          "2024-12-23T18:57:25.000000000",
          "2024-12-25T23:32:20.000000000",
          "2024-12-26T05:31:47.000000000",
          "2024-12-27T01:10:14.000000000",
          "2024-12-27T04:33:50.000000000",
          "2024-12-28T07:51:07.000000000",
          "2024-12-29T05:28:21.000000000",
          "2024-12-29T05:36:41.000000000",
          "2024-12-29T05:47:18.000000000",
          "2024-12-29T06:01:09.000000000",
          "2024-12-30T00:24:17.000000000",
          "2024-12-30T00:26:46.000000000",
          "2024-12-30T20:47:41.000000000",
          "2025-01-01T05:18:57.000000000",
          "2025-01-01T05:23:51.000000000",
          "2025-01-01T05:44:35.000000000",
          "2025-01-01T07:02:35.000000000",
          "2025-01-01T07:06:59.000000000",
          "2025-01-02T03:40:43.000000000",
          "2025-01-02T03:53:46.000000000",
          "2025-01-02T06:58:12.000000000",
          "2025-01-04T07:55:09.000000000",
          "2025-01-04T08:14:41.000000000",
          "2025-01-04T22:53:49.000000000",
          "2025-01-04T23:02:52.000000000",
          "2025-01-05T02:13:52.000000000",
          "2025-01-05T05:23:23.000000000",
          "2025-01-05T05:30:25.000000000",
          "2025-01-06T07:50:46.000000000",
          "2025-01-06T07:51:57.000000000",
          "2025-01-06T07:59:44.000000000",
          "2025-01-06T23:52:56.000000000",
          "2025-01-07T00:38:18.000000000",
          "2025-01-07T21:37:49.000000000",
          "2025-01-07T23:28:32.000000000",
          "2025-01-08T03:32:16.000000000",
          "2025-01-08T03:41:26.000000000",
          "2025-01-08T08:23:51.000000000",
          "2025-01-08T08:31:06.000000000",
          "2025-01-08T22:09:57.000000000",
          "2025-01-08T23:49:49.000000000",
          "2025-01-09T04:45:30.000000000",
          "2025-01-09T08:08:24.000000000",
          "2025-01-09T08:23:16.000000000",
          "2025-01-09T19:19:16.000000000",
          "2025-01-09T20:18:20.000000000",
          "2025-01-10T20:23:01.000000000",
          "2025-01-10T20:27:40.000000000",
          "2025-01-10T20:38:21.000000000",
          "2025-01-10T23:39:25.000000000",
          "2025-01-10T23:59:34.000000000",
          "2025-01-12T00:30:14.000000000",
          "2025-01-12T00:44:51.000000000",
          "2025-01-12T01:12:18.000000000",
          "2025-01-14T05:38:48.000000000",
          "2025-01-14T05:51:12.000000000",
          "2025-01-14T05:56:06.000000000",
          "2025-01-15T00:17:13.000000000",
          "2025-01-15T21:03:10.000000000",
          "2025-01-15T21:43:58.000000000",
          "2025-01-15T23:58:12.000000000",
          "2025-01-16T20:56:15.000000000",
          "2025-01-16T23:50:22.000000000",
          "2025-01-17T03:16:15.000000000",
          "2025-01-17T19:16:43.000000000",
          "2025-01-17T19:25:32.000000000",
          "2025-01-18T05:15:43.000000000",
          "2025-01-24T18:33:50.000000000",
          "2025-01-24T20:53:51.000000000",
          "2025-01-25T01:01:21.000000000",
          "2025-01-25T01:12:31.000000000",
          "2025-01-25T05:01:21.000000000",
          "2025-01-25T06:32:39.000000000",
          "2025-01-26T01:19:51.000000000",
          "2025-01-26T01:36:43.000000000",
          "2025-01-26T04:47:14.000000000",
          "2025-01-26T05:03:54.000000000",
          "2025-01-26T05:22:06.000000000",
          "2025-01-27T03:05:14.000000000",
          "2025-01-27T04:17:00.000000000",
          "2025-01-27T04:35:54.000000000",
          "2025-01-27T20:52:43.000000000",
          "2025-01-27T22:12:01.000000000",
          "2025-01-27T22:34:32.000000000",
          "2025-01-30T00:06:34.000000000",
          "2025-01-30T02:33:28.000000000",
          "2025-01-30T22:35:42.000000000",
          "2025-01-30T22:46:20.000000000",
          "2025-01-30T23:53:01.000000000",
          "2025-01-31T06:37:18.000000000",
          "2025-01-31T07:52:56.000000000",
          "2025-02-02T01:02:28.000000000",
          "2025-02-02T01:19:58.000000000",
          "2025-02-02T01:27:03.000000000",
          "2025-02-03T01:10:58.000000000",
          "2025-02-03T05:07:10.000000000",
          "2025-02-04T06:46:10.000000000",
          "2025-02-04T21:01:30.000000000",
          "2025-02-04T21:25:34.000000000",
          "2025-02-05T05:07:40.000000000",
          "2025-02-05T05:27:50.000000000",
          "2025-02-05T06:58:04.000000000",
          "2025-02-05T07:01:49.000000000",
          "2025-02-05T07:12:06.000000000",
          "2025-02-05T07:16:03.000000000",
          "2025-02-05T07:28:54.000000000",
          "2025-02-05T19:04:13.000000000",
          "2025-02-05T20:04:10.000000000",
          "2025-02-05T20:14:06.000000000",
          "2025-02-05T22:57:22.000000000",
          "2025-02-05T23:01:00.000000000",
          "2025-02-06T00:32:15.000000000",
          "2025-02-06T00:38:15.000000000",
          "2025-02-06T00:47:27.000000000",
          "2025-02-06T00:59:02.000000000",
          "2025-02-06T02:24:29.000000000",
          "2025-02-06T02:42:14.000000000",
          "2025-02-06T04:10:57.000000000",
          "2025-02-06T04:14:55.000000000",
          "2025-02-06T04:23:37.000000000",
          "2025-02-06T04:32:51.000000000",
          "2025-02-06T19:50:59.000000000",
          "2025-02-06T20:03:36.000000000",
          "2025-02-06T23:29:48.000000000",
          "2025-02-07T00:13:27.000000000",
          "2025-02-07T01:13:54.000000000",
          "2025-02-07T03:55:54.000000000",
          "2025-02-07T21:44:14.000000000",
          "2025-02-07T21:49:07.000000000",
          "2025-02-07T21:59:06.000000000",
          "2025-02-07T21:59:40.000000000",
          "2025-02-07T22:02:27.000000000",
          "2025-02-07T22:07:30.000000000",
          "2025-02-08T01:18:13.000000000",
          "2025-02-08T01:33:05.000000000",
          "2025-02-08T01:48:46.000000000",
          "2025-02-08T02:56:45.000000000",
          "2025-02-08T23:20:56.000000000",
          "2025-02-09T04:58:14.000000000",
          "2025-02-09T05:16:43.000000000",
          "2025-02-09T06:30:34.000000000",
          "2025-02-09T06:42:46.000000000",
          "2025-02-10T00:49:25.000000000",
          "2025-02-10T03:57:57.000000000",
          "2025-02-10T04:12:02.000000000",
          "2025-02-10T04:25:10.000000000",
          "2025-02-10T06:41:34.000000000",
          "2025-02-10T20:04:31.000000000",
          "2025-02-10T20:15:32.000000000",
          "2025-02-10T20:59:32.000000000",
          "2025-02-10T23:05:24.000000000",
          "2025-02-10T23:15:11.000000000",
          "2025-02-11T03:29:10.000000000",
          "2025-02-11T03:33:51.000000000",
          "2025-02-11T03:53:32.000000000",
          "2025-02-11T07:34:07.000000000",
          "2025-02-11T20:01:53.000000000",
          "2025-02-12T05:07:30.000000000",
          "2025-02-12T18:55:01.000000000",
          "2025-02-12T20:00:42.000000000",
          "2025-02-12T20:20:04.000000000",
          "2025-02-13T03:41:52.000000000",
          "2025-02-13T03:45:35.000000000",
          "2025-02-13T03:53:44.000000000",
          "2025-02-13T19:26:59.000000000",
          "2025-02-13T19:57:36.000000000",
          "2025-02-13T21:02:29.000000000",
          "2025-02-14T03:06:06.000000000",
          "2025-02-14T06:03:45.000000000",
          "2025-02-14T06:05:33.000000000",
          "2025-02-14T06:09:39.000000000",
          "2025-02-14T06:20:47.000000000",
          "2025-02-14T06:27:32.000000000",
          "2025-02-14T20:44:29.000000000",
          "2025-02-14T20:49:24.000000000",
          "2025-02-14T22:30:51.000000000",
          "2025-02-14T22:41:25.000000000",
          "2025-02-14T22:54:30.000000000",
          "2025-02-14T23:23:15.000000000",
          "2025-02-14T23:30:29.000000000",
          "2025-02-14T23:45:38.000000000",
          "2025-02-15T01:02:17.000000000",
          "2025-02-15T01:06:32.000000000",
          "2025-02-15T02:29:00.000000000",
          "2025-02-15T05:07:51.000000000",
          "2025-02-16T00:47:45.000000000",
          "2025-02-16T01:05:11.000000000",
          "2025-02-16T02:35:56.000000000",
          "2025-02-16T05:16:38.000000000",
          "2025-02-17T20:55:59.000000000",
          "2025-02-17T21:08:25.000000000",
          "2025-02-18T22:30:11.000000000",
          "2025-02-18T23:10:04.000000000",
          "2025-02-19T00:11:37.000000000",
          "2025-02-19T00:41:52.000000000",
          "2025-02-19T04:58:42.000000000",
          "2025-02-19T08:46:25.000000000",
          "2025-02-19T18:08:00.000000000",
          "2025-02-19T19:57:49.000000000",
          "2025-02-19T20:49:14.000000000",
          "2025-02-19T21:14:22.000000000",
          "2025-02-19T21:49:10.000000000",
          "2025-02-19T22:07:17.000000000",
          "2025-02-20T00:01:17.000000000",
          "2025-02-20T00:02:58.000000000",
          "2025-02-20T00:06:21.000000000",
          "2025-02-20T07:29:24.000000000",
          "2025-02-20T07:49:41.000000000",
          "2025-02-20T19:52:30.000000000",
          "2025-02-20T22:34:17.000000000",
          "2025-02-20T22:51:16.000000000",
          "2025-02-20T23:53:35.000000000",
          "2025-02-21T00:17:05.000000000",
          "2025-02-21T01:07:28.000000000",
          "2025-02-21T05:30:35.000000000",
          "2025-02-21T05:48:31.000000000",
          "2025-02-21T06:04:28.000000000",
          "2025-02-21T06:11:38.000000000",
          "2025-02-21T06:19:23.000000000",
          "2025-02-21T06:24:35.000000000",
          "2025-02-21T06:41:50.000000000",
          "2025-02-21T19:45:38.000000000",
          "2025-02-21T20:52:33.000000000",
          "2025-02-22T01:25:23.000000000",
          "2025-02-23T01:07:06.000000000",
          "2025-02-23T01:38:01.000000000",
          "2025-02-23T20:03:40.000000000",
          "2025-02-23T20:12:27.000000000",
          "2025-02-24T05:09:35.000000000",
          "2025-02-24T05:19:11.000000000",
          "2025-02-24T07:01:15.000000000",
          "2025-02-25T04:46:50.000000000",
          "2025-02-25T04:49:43.000000000",
          "2025-02-25T04:58:55.000000000",
          "2025-02-25T23:42:52.000000000",
          "2025-02-27T16:56:12.000000000",
          "2025-02-27T18:43:54.000000000",
          "2025-02-27T21:22:42.000000000",
          "2025-02-27T21:33:05.000000000",
          "2025-02-27T21:49:35.000000000",
          "2025-03-03T04:05:31.000000000",
          "2025-03-03T04:12:04.000000000",
          "2025-03-03T20:49:45.000000000",
          "2025-03-04T06:12:07.000000000",
          "2025-03-04T06:24:38.000000000",
          "2025-03-04T07:24:00.000000000",
          "2025-03-04T07:39:26.000000000",
          "2025-03-04T07:48:44.000000000",
          "2025-03-04T22:03:14.000000000",
          "2025-03-04T22:11:31.000000000",
          "2025-03-05T04:32:26.000000000",
          "2025-03-05T06:22:07.000000000",
          "2025-03-06T05:48:04.000000000",
          "2025-03-06T22:02:02.000000000",
          "2025-03-07T03:35:27.000000000",
          "2025-03-07T03:46:53.000000000",
          "2025-03-07T03:48:12.000000000",
          "2025-03-07T04:04:25.000000000",
          "2025-03-07T20:50:34.000000000",
          "2025-03-07T20:59:45.000000000",
          "2025-03-07T21:01:42.000000000",
          "2025-03-07T21:11:33.000000000",
          "2025-03-07T21:15:31.000000000",
          "2025-03-07T21:36:01.000000000",
          "2025-03-07T21:46:23.000000000",
          "2025-03-07T22:00:31.000000000",
          "2025-03-07T22:02:23.000000000",
          "2025-03-07T22:07:37.000000000",
          "2025-03-07T22:23:46.000000000",
          "2025-03-07T22:35:34.000000000",
          "2025-03-07T22:45:09.000000000",
          "2025-03-08T00:34:56.000000000",
          "2025-03-08T00:58:36.000000000",
          "2025-03-08T01:07:00.000000000",
          "2025-03-08T01:21:16.000000000",
          "2025-03-08T05:15:49.000000000",
          "2025-03-08T05:23:54.000000000",
          "2025-03-08T05:32:11.000000000",
          "2025-03-08T05:45:12.000000000",
          "2025-03-09T00:49:38.000000000",
          "2025-03-09T00:57:19.000000000",
          "2025-03-10T00:00:19.000000000",
          "2025-03-10T00:15:12.000000000",
          "2025-03-10T01:58:40.000000000",
          "2025-03-10T02:07:28.000000000",
          "2025-03-11T21:11:09.000000000",
          "2025-03-11T21:17:06.000000000",
          "2025-03-12T20:42:32.000000000",
          "2025-03-12T22:05:40.000000000",
          "2025-03-13T19:15:36.000000000",
          "2025-03-13T19:22:04.000000000",
          "2025-03-14T00:32:09.000000000",
          "2025-03-17T00:11:03.000000000",
          "2025-03-17T23:59:11.000000000",
          "2025-03-18T00:37:24.000000000",
          "2025-03-18T00:47:37.000000000",
          "2025-03-18T03:34:44.000000000",
          "2025-03-18T03:55:11.000000000",
          "2025-03-18T04:08:23.000000000",
          "2025-03-18T04:21:05.000000000",
          "2025-03-18T19:07:11.000000000",
          "2025-03-19T02:01:25.000000000",
          "2025-03-19T02:16:17.000000000",
          "2025-03-19T04:48:42.000000000",
          "2025-03-19T05:02:45.000000000",
          "2025-03-19T05:11:23.000000000",
          "2025-03-19T05:18:51.000000000",
          "2025-03-19T07:29:56.000000000",
          "2025-03-20T18:05:15.000000000",
          "2025-03-20T18:07:20.000000000",
          "2025-03-20T18:11:50.000000000",
          "2025-03-20T22:35:05.000000000",
          "2025-03-20T22:53:10.000000000",
          "2025-03-21T19:23:30.000000000",
          "2025-03-21T21:00:02.000000000",
          "2025-03-21T21:04:12.000000000",
          "2025-03-21T21:17:24.000000000",
          "2025-03-22T00:16:51.000000000",
          "2025-03-22T01:46:39.000000000",
          "2025-03-22T01:56:34.000000000",
          "2025-03-22T04:53:58.000000000",
          "2025-03-22T05:08:52.000000000",
          "2025-03-22T05:18:59.000000000",
          "2025-03-22T05:27:53.000000000",
          "2025-03-22T22:26:48.000000000",
          "2025-03-22T23:41:13.000000000",
          "2025-03-22T23:42:17.000000000",
          "2025-03-22T23:48:01.000000000",
          "2025-03-22T23:57:17.000000000",
          "2025-03-23T00:56:01.000000000",
          "2025-03-23T01:08:20.000000000",
          "2025-03-23T04:24:28.000000000",
          "2025-03-23T04:31:24.000000000",
          "2025-03-24T00:56:23.000000000",
          "2025-03-24T04:32:06.000000000",
          "2025-03-24T17:29:43.000000000",
          "2025-03-24T18:08:35.000000000",
          "2025-03-24T18:52:26.000000000",
          "2025-03-24T19:11:40.000000000",
          "2025-03-24T19:25:52.000000000",
          "2025-03-24T20:07:50.000000000",
          "2025-03-24T20:23:29.000000000",
          "2025-03-24T20:36:24.000000000",
          "2025-03-24T21:06:01.000000000",
          "2025-03-24T23:41:32.000000000",
          "2025-03-25T04:15:04.000000000",
          "2025-03-25T04:32:46.000000000",
          "2025-03-25T16:00:24.000000000",
          "2025-03-25T19:32:09.000000000",
          "2025-03-25T19:56:24.000000000",
          "2025-03-25T20:58:11.000000000",
          "2025-03-25T21:01:28.000000000",
          "2025-03-25T21:08:13.000000000",
          "2025-03-25T23:50:16.000000000",
          "2025-03-26T00:02:38.000000000",
          "2025-03-26T02:16:58.000000000",
          "2025-03-26T02:41:32.000000000",
          "2025-03-26T04:34:09.000000000",
          "2025-03-26T04:39:59.000000000",
          "2025-03-26T04:46:09.000000000",
          "2025-03-26T04:52:49.000000000",
          "2025-03-26T07:17:23.000000000",
          "2025-03-26T18:10:08.000000000",
          "2025-03-26T20:39:18.000000000",
          "2025-03-26T20:44:04.000000000",
          "2025-03-26T20:46:45.000000000",
          "2025-03-26T20:47:54.000000000",
          "2025-03-26T21:12:02.000000000",
          "2025-03-26T21:35:06.000000000",
          "2025-03-26T21:46:50.000000000",
          "2025-03-26T22:42:29.000000000",
          "2025-03-26T22:56:39.000000000",
          "2025-03-26T23:12:09.000000000",
          "2025-03-26T23:23:17.000000000",
          "2025-03-26T23:40:39.000000000",
          "2025-03-27T00:03:00.000000000",
          "2025-03-27T18:17:51.000000000",
          "2025-03-27T18:36:40.000000000",
          "2025-03-27T19:01:46.000000000",
          "2025-03-27T19:09:52.000000000",
          "2025-03-27T23:14:55.000000000",
          "2025-03-27T23:28:32.000000000",
          "2025-03-27T23:45:42.000000000",
          "2025-03-27T23:52:25.000000000",
          "2025-03-28T00:22:01.000000000",
          "2025-03-28T05:52:08.000000000",
          "2025-03-28T18:50:20.000000000",
          "2025-03-28T19:05:48.000000000",
          "2025-03-29T04:59:51.000000000",
          "2025-03-30T04:07:20.000000000",
          "2025-03-30T04:13:43.000000000",
          "2025-03-30T04:29:28.000000000",
          "2025-03-31T04:39:15.000000000",
          "2025-04-01T03:59:52.000000000",
          "2025-04-01T04:15:53.000000000",
          "2025-04-01T17:32:37.000000000",
          "2025-04-01T17:35:48.000000000",
          "2025-04-01T17:58:46.000000000",
          "2025-04-01T20:00:16.000000000",
          "2025-04-01T21:18:20.000000000",
          "2025-04-01T21:44:52.000000000",
          "2025-04-01T21:58:27.000000000",
          "2025-04-01T22:34:27.000000000",
          "2025-04-01T22:46:22.000000000",
          "2025-04-01T23:20:50.000000000",
          "2025-04-02T01:13:40.000000000",
          "2025-04-02T01:24:29.000000000",
          "2025-04-02T03:59:46.000000000",
          "2025-04-02T04:03:51.000000000",
          "2025-04-02T15:31:02.000000000",
          "2025-04-02T15:34:06.000000000",
          "2025-04-02T15:41:57.000000000",
          "2025-04-02T15:44:58.000000000",
          "2025-04-02T15:52:24.000000000",
          "2025-04-02T17:56:18.000000000",
          "2025-04-02T18:02:11.000000000",
          "2025-04-02T18:19:08.000000000",
          "2025-04-02T20:51:50.000000000",
          "2025-04-02T21:10:38.000000000",
          "2025-04-02T21:42:48.000000000",
          "2025-04-02T21:50:44.000000000",
          "2025-04-02T22:05:51.000000000",
          "2025-04-03T18:53:20.000000000",
          "2025-04-03T19:44:13.000000000",
          "2025-04-03T19:54:37.000000000",
          "2025-04-04T05:04:26.000000000",
          "2025-04-04T20:11:48.000000000",
          "2025-04-04T20:17:28.000000000",
          "2025-04-04T20:23:54.000000000",
          "2025-04-04T21:28:37.000000000",
          "2025-04-04T21:43:35.000000000",
          "2025-04-05T02:23:20.000000000",
          "2025-04-05T04:57:31.000000000",
          "2025-04-06T04:41:17.000000000",
          "2025-04-07T04:43:00.000000000",
          "2025-04-07T18:11:53.000000000",
          "2025-04-07T19:31:57.000000000",
          "2025-04-07T20:14:50.000000000",
          "2025-04-07T20:18:53.000000000",
          "2025-04-07T22:59:05.000000000",
          "2025-04-08T05:30:09.000000000",
          "2025-04-08T17:42:41.000000000",
          "2025-04-08T19:10:20.000000000",
          "2025-04-08T19:18:12.000000000",
          "2025-04-08T19:35:59.000000000",
          "2025-04-08T21:46:54.000000000",
          "2025-04-08T22:01:24.000000000",
          "2025-04-08T22:19:12.000000000",
          "2025-04-09T01:12:56.000000000",
          "2025-04-09T19:42:36.000000000",
          "2025-04-09T19:56:16.000000000",
          "2025-04-09T20:10:45.000000000",
          "2025-04-09T22:00:03.000000000",
          "2025-04-09T22:13:34.000000000",
          "2025-04-10T18:30:29.000000000",
          "2025-04-10T18:31:29.000000000",
          "2025-04-10T18:41:42.000000000",
          "2025-04-10T18:43:36.000000000",
          "2025-04-10T19:39:29.000000000",
          "2025-04-10T19:48:15.000000000",
          "2025-04-10T20:05:04.000000000",
          "2025-04-11T16:15:50.000000000",
          "2025-04-11T17:44:35.000000000",
          "2025-04-11T19:44:04.000000000",
          "2025-04-11T19:56:14.000000000",
          "2025-04-11T22:39:53.000000000",
          "2025-04-11T22:42:14.000000000",
          "2025-04-11T23:49:23.000000000",
          "2025-04-13T20:04:55.000000000",
          "2025-04-14T19:07:31.000000000",
          "2025-04-15T03:37:19.000000000",
          "2025-04-15T17:26:51.000000000",
          "2025-04-16T23:02:52.000000000",
          "2025-04-17T03:11:38.000000000",
          "2025-04-17T03:27:21.000000000",
          "2025-04-17T20:23:45.000000000",
          "2025-04-24T20:32:26.000000000",
          "2025-04-24T20:40:47.000000000",
          "2025-04-24T21:21:14.000000000",
          "2025-04-28T22:48:37.000000000",
          "2025-04-29T20:14:10.000000000",
          "2025-04-29T20:23:20.000000000",
          "2025-04-30T19:29:20.000000000",
          "2025-04-30T19:38:23.000000000",
          "2025-04-30T22:59:01.000000000",
          "2025-05-05T04:00:13.000000000",
          "2025-05-05T04:16:44.000000000",
          "2025-05-05T17:32:34.000000000",
          "2025-05-05T20:31:32.000000000",
          "2025-05-05T20:41:43.000000000",
          "2025-05-06T01:23:53.000000000",
          "2025-05-06T01:35:10.000000000",
          "2025-05-06T03:58:51.000000000",
          "2025-05-06T04:11:35.000000000",
          "2025-05-06T17:58:00.000000000",
          "2025-05-06T18:05:01.000000000",
          "2025-05-06T18:24:58.000000000",
          "2025-05-06T19:04:17.000000000",
          "2025-05-06T19:07:11.000000000",
          "2025-05-06T20:53:45.000000000",
          "2025-05-06T22:44:33.000000000",
          "2025-05-06T23:03:22.000000000",
          "2025-05-06T23:19:50.000000000",
          "2025-05-07T04:10:07.000000000",
          "2025-05-07T21:02:18.000000000",
          "2025-05-07T22:08:15.000000000",
          "2025-05-07T22:26:13.000000000",
          "2025-05-07T22:35:42.000000000",
          "2025-05-08T03:58:48.000000000",
          "2025-05-08T04:10:36.000000000",
          "2025-05-08T19:58:13.000000000",
          "2025-05-08T20:19:13.000000000",
          "2025-05-08T20:28:01.000000000",
          "2025-05-08T20:34:07.000000000",
          "2025-05-08T21:07:33.000000000",
          "2025-05-08T21:17:45.000000000",
          "2025-05-08T21:22:12.000000000",
          "2025-05-08T21:27:07.000000000"
         ],
         "y": {
          "bdata": "AAAAAADIlEAAAAAAAASTQAAAAAAAWJRAAAAAAAAwkUAAAAAAAGiQQAAAAAAAeJBAAAAAAAD4kkAAAAAAACCSQAAAAAAAhJBAAAAAAAAgkEAAAAAAAIyQQAAAAAAAuI9AAAAAAADYj0AAAAAAAKiPQAAAAAAAEI9AAAAAAABwjkAAAAAAANCNQAAAAAAAMI1AAAAAAAAgkEAAAAAAAHiNQAAAAAAA8IxAAAAAAABQjUAAAAAAANiMQAAAAAAAUI1AAAAAAACYjUAAAAAAAMiNQAAAAAAAQI1AAAAAAACQjUAAAAAAAHiNQAAAAAAAMI1AAAAAAAAgjUAAAAAAANCMQAAAAAAAOI1AAAAAAADQjEAAAAAAAHiMQAAAAAAAKIxAAAAAAADIjEAAAAAAAIiMQAAAAAAAQIxAAAAAAACIjEAAAAAAAIiMQAAAAAAAwIxAAAAAAAAIjUAAAAAAAOiMQAAAAAAAMI1AAAAAAACIjUAAAAAAAEiNQAAAAAAAkI1AAAAAAADAjUAAAAAAAHiNQAAAAAAAKI1AAAAAAAB4jUAAAAAAAMiNQAAAAAAAEI5AAAAAAADIjUAAAAAAAMCNQAAAAAAA8I1AAAAAAADAjUAAAAAAAICNQAAAAAAASI1AAAAAAAAIjUAAAAAAAMiMQAAAAAAAeIxAAAAAAACAjUAAAAAAAAiNQAAAAAAAwIxAAAAAAADIjUAAAAAAAMiNQAAAAAAAgI1AAAAAAABQjUAAAAAAAEiNQAAAAAAAkI1AAAAAAAAojUAAAAAAAGiNQAAAAAAAGI1AAAAAAADojEAAAAAAALiMQAAAAAAA8IxAAAAAAACwjEAAAAAAAPiMQAAAAAAAqIxAAAAAAADYjEAAAAAAABiNQAAAAAAACI1AAAAAAADAjEAAAAAAAPiMQAAAAAAAyIxAAAAAAAAIjUAAAAAAAFCNQAAAAAAACI1AAAAAAAAIjUAAAAAAAJiNQAAAAAAA0I1AAAAAAACgjUAAAAAAAFiNQAAAAAAAOI5AAAAAAAAAjkAAAAAAAOCNQAAAAAAAGI5AAAAAAADIjUAAAAAAAACOQAAAAAAA+I1AAAAAAAC4jUAAAAAAAHCNQAAAAAAAuI1AAAAAAADojUAAAAAAADiOQAAAAAAAeI1AAAAAAABIjUAAAAAAAKCNQAAAAAAAUI1AAAAAAAAIjUAAAAAAAECNQAAAAAAACI1AAAAAAADQjEAAAAAAABCNQAAAAAAA4IxAAAAAAADgjEAAAAAAAKiMQAAAAAAA4IxAAAAAAAAYjUAAAAAAAOCMQAAAAAAAKI1AAAAAAACgjUAAAAAAAGCNQAAAAAAA4I1AAAAAAAAojkAAAAAAAOCNQAAAAAAAoI1AAAAAAABYjUAAAAAAABCNQAAAAAAAWI1AAAAAAAAYjUAAAAAAAGCNQAAAAAAAGI1AAAAAAADQjEAAAAAAAJCMQAAAAAAA4IxAAAAAAAAojUAAAAAAAGCNQAAAAAAAII1AAAAAAABojUAAAAAAAKiNQAAAAAAAaI1AAAAAAABwjUAAAAAAADiNQAAAAAAAMI1AAAAAAAD4jEAAAAAAADCNQAAAAAAAcI1AAAAAAACojUAAAAAAAHCNQAAAAAAAMI1AAAAAAAB4jUAAAAAAACiNQAAAAAAA8IxAAAAAAAAwjUAAAAAAADCNQAAAAAAAII1AAAAAAADgjEAAAAAAABCNQAAAAAAASI1AAAAAAAAAjUAAAAAAADiNQAAAAAAAeI1AAAAAAACojUAAAAAAAOCNQAAAAAAAqI1AAAAAAADgjUAAAAAAALCNQAAAAAAA+I1AAAAAAAAwjkAAAAAAALCOQAAAAAAAcI5AAAAAAADwjkAAAAAAAKCOQAAAAAAA2I5AAAAAAADIjkAAAAAAAAiPQAAAAAAAQI9AAAAAAAAQj0AAAAAAAHCPQAAAAAAAsI9AAAAAAADwj0AAAAAAABiQQAAAAAAAOJBAAAAAAAAAkEAAAAAAANCPQAAAAAAAmI9AAAAAAADgj0AAAAAAABiQQAAAAAAAEJBAAAAAAADgj0AAAAAAABSQQAAAAAAACJBAAAAAAADYj0AAAAAAAKiPQAAAAAAA+I9AAAAAAADoj0AAAAAAAAyQQAAAAAAAAJBAAAAAAAAgkEAAAAAAAASQQAAAAAAABJBAAAAAAADAj0AAAAAAAACQQAAAAAAAIJBAAAAAAAAAkEAAAAAAAACQQAAAAAAAaI5AAAAAAAAwjkAAAAAAACiOQAAAAAAAyI9AAAAAAACQj0AAAAAAAFiPQAAAAAAAEI9AAAAAAAAQj0AAAAAAAFCPQAAAAAAAEI9AAAAAAABYj0AAAAAAABiPQAAAAAAA4I5AAAAAAACojkAAAAAAAOCOQAAAAAAAmI5AAAAAAADgjkAAAAAAAJiOQAAAAAAAWI5AAAAAAABYjkAAAAAAAHCOQAAAAAAAqI5AAAAAAABgjkAAAAAAAKCOQAAAAAAAoI5AAAAAAABojkAAAAAAACiOQAAAAAAA4I1AAAAAAAAojkAAAAAAAOCNQAAAAAAAoI1AAAAAAADgjUAAAAAAAJiNQAAAAAAAYI1AAAAAAACgjUAAAAAAAFiNQAAAAAAAGI1AAAAAAADgjEAAAAAAABiNQAAAAAAAWI1AAAAAAAAYjUAAAAAAAFiNQAAAAAAA6I1AAAAAAACgjUAAAAAAAGCNQAAAAAAAGI1AAAAAAACQjEAAAAAAAFiMQAAAAAAAGIxAAAAAAABYjEAAAAAAAJiMQAAAAAAAoI1AAAAAAABgjUAAAAAAACCNQAAAAAAA6IxAAAAAAAAgjUAAAAAAAOCMQAAAAAAAmIxAAAAAAAAojEAAAAAAAGCMQAAAAAAAGIxAAAAAAADgi0AAAAAAAGCMQAAAAAAAIIxAAAAAAADgi0AAAAAAALiLQAAAAAAAGIxAAAAAAADgi0AAAAAAALCLQAAAAAAAeItAAAAAAABwi0AAAAAAAICKQAAAAAAAwIpAAAAAAAB4ikAAAAAAALCKQAAAAAAAqIpAAAAAAABwikAAAAAAALiKQAAAAAAAcIpAAAAAAAA4ikAAAAAAAPiJQAAAAAAAsIlAAAAAAABoiUAAAAAAAHCJQAAAAAAAKItAAAAAAADwikAAAAAAALCKQAAAAAAAcIpAAAAAAAC4ikAAAAAAAKCJQAAAAAAA4IlAAAAAAAAoikAAAAAAAGCKQAAAAAAAoIpAAAAAAABgikAAAAAAAKCKQAAAAAAA4IpAAAAAAACgikAAAAAAANiKQAAAAAAAuIlAAAAAAADwiUAAAAAAAKiJQAAAAAAA8IlAAAAAAACwiUAAAAAAAKiJQAAAAAAA4IlAAAAAAADwiUAAAAAAADCKQAAAAAAA8IlAAAAAAAAoikAAAAAAAOiJQAAAAAAAKIpAAAAAAADgiUAAAAAAACCKQAAAAAAA4IlAAAAAAACoiUAAAAAAAKCKQAAAAAAA6IpAAAAAAACwikAAAAAAAGiKQAAAAAAAKIpAAAAAAABwikAAAAAAALiKQAAAAAAAeIpAAAAAAAA4ikAAAAAAADiKQAAAAAAA+IlAAAAAAAC4iUAAAAAAAPiJQAAAAAAA4IlAAAAAAAAoikAAAAAAAGiKQAAAAAAAsIpAAAAAAABwikAAAAAAADCKQAAAAAAA+IlAAAAAAABAiUAAAAAAAPiIQAAAAAAAuIlAAAAAAACAiUAAAAAAAMCIQAAAAAAACIlAAAAAAADAiEAAAAAAAICIQAAAAAAASIhAAAAAAACIiEAAAAAAANCIQAAAAAAAEIlAAAAAAABIiUAAAAAAABCKQAAAAAAAyIlAAAAAAAAQikAAAAAAAFiKQAAAAAAAIIpAAAAAAABYikAAAAAAAKCKQAAAAAAAaIpAAAAAAACoikAAAAAAAICJQAAAAAAAQIlAAAAAAACAiUAAAAAAAMCJQAAAAAAAAIpAAAAAAABIikAAAAAAANiLQAAAAAAAIIxAAAAAAADgikAAAAAAABiLQAAAAAAA2IpAAAAAAAAQi0AAAAAAAFiLQAAAAAAAkItAAAAAAAAoi0AAAAAAAOiKQAAAAAAAKItAAAAAAADwikAAAAAAAKiKQAAAAAAA6IpAAAAAAACwikAAAAAAAHCKQAAAAAAAMIpAAAAAAADoiUAAAAAAACiKQAAAAAAA6ItAAAAAAAAojEAAAAAAAOiLQAAAAAAAsItAAAAAAABwi0AAAAAAAPCJQAAAAAAAqIlAAAAAAADgiUAAAAAAABiKQAAAAAAA0IlAAAAAAAAYikAAAAAAABiKQAAAAAAA4IlAAAAAAADoiUAAAAAAACiKQAAAAAAAaIpAAAAAAAAoikAAAAAAAGiKQAAAAAAAMIpAAAAAAAAoikAAAAAAAPCJQAAAAAAAuIlAAAAAAAB4ikAAAAAAALCKQAAAAAAAcIpAAAAAAAC4ikAAAAAAAPiKQAAAAAAAwIpAAAAAAAAIi0AAAAAAADCKQAAAAAAAyIpAAAAAAAAIi0AAAAAAAEiLQAAAAAAACItAAAAAAADIikAAAAAAAIiKQAAAAAAASIpAAAAAAACQikAAAAAAANCKQAAAAAAACItAAAAAAADQikAAAAAAAJCKQAAAAAAACItAAAAAAADAikAAAAAAAMCKQAAAAAAA+IpAAAAAAAAwi0AAAAAAAPCKQAAAAAAAuIpAAAAAAAD4ikAAAAAAAECLQAAAAAAAAItAAAAAAABAi0AAAAAAACiKQAAAAAAAcIpAAAAAAACwikAAAAAAAOiKQAAAAAAAKItAAAAAAADoikAAAAAAACCLQAAAAAAAUIpAAAAAAACIikAAAAAAAECKQAAAAAAAeIpAAAAAAAAwikAAAAAAADCKQAAAAAAAcIpAAAAAAAAwikAAAAAAAHCKQAAAAAAAMIpAAAAAAADoiUAAAAAAALCJQAAAAAAA8IlAAAAAAACoiUAAAAAAAKiJQAAAAAAA4IlAAAAAAADgikAAAAAAAKiKQAAAAAAAaIpAAAAAAACgikAAAAAAAOCKQAAAAAAAGItAAAAAAABgi0AAAAAAACCLQAAAAAAA4IpAAAAAAACgikAAAAAAANiKQAAAAAAAmIpAAAAAAACIi0AAAAAAAEiLQAAAAAAAiItAAAAAAABAi0AAAAAAAAiLQAAAAAAASItAAAAAAABYi0AAAAAAAKCLQAAAAAAAmItAAAAAAACYi0AAAAAAANCLQAAAAAAAQItAAAAAAACAi0AAAAAAALiLQAAAAAAAEItAAAAAAABIi0AAAAAAAAiLQAAAAAAASItAAAAAAAAIi0AAAAAAAECLQAAAAAAAiItAAAAAAABAi0AAAAAAAHiLQAAAAAAAOItAAAAAAAB4i0AAAAAAADiLQAAAAAAAeItAAAAAAAAwi0AAAAAAAGiLQAAAAAAAcIpAAAAAAACoikAAAAAAAOiKQAAAAAAAaItAAAAAAAAoi0AAAAAAAOiKQAAAAAAAoIpAAAAAAADgikAAAAAAAKCKQAAAAAAAYIpAAAAAAAAoikAAAAAAAACLQAAAAAAAuIpAAAAAAAD4ikAAAAAAALCKQAAAAAAA6IpAAAAAAAAoi0AAAAAAALCKQAAAAAAAcIpAAAAAAACwikAAAAAAAHCKQAAAAAAAuIpAAAAAAACYi0AAAAAAANiLQAAAAAAAEIxAAAAAAABYjEAAAAAAAJiMQAAAAAAAaItAAAAAAAAgi0AAAAAAAGCLQAAAAAAAmItAAAAAAADgi0AAAAAAAKiMQAAAAAAAaIxAAAAAAAAojEAAAAAAAOCLQAAAAAAAKIxAAAAAAABojEAAAAAAAOCMQAAAAAAAqIxAAAAAAABgjEAAAAAAAJiMQAAAAAAAcIxAAAAAAACojEAAAAAAAGiMQAAAAAAAIIxAAAAAAABYjEAAAAAAAKCMQAAAAAAA6IxAAAAAAABYjEAAAAAAACCMQAAAAAAAYIxAAAAAAAAYjEAAAAAAABiMQAAAAAAA2ItAAAAAAAAgjEAAAAAAAGCMQAAAAAAAIIxAAAAAAABgjEAAAAAAACCMQAAAAAAA2ItAAAAAAADQi0AAAAAAAIiLQAAAAAAASItAAAAAAACAi0AAAAAAALiLQAAAAAAA0ItAAAAAAACwi0AAAAAAAPCLQAAAAAAAqItAAAAAAABoi0AAAAAAACiLQAAAAAAA8IpAAAAAAAD4i0AAAAAAAPCLQAAAAAAAsItAAAAAAADwi0AAAAAAADCMQAAAAAAA8ItAAAAAAACoikAAAAAAAGiKQAAAAAAAqIpAAAAAAABoikAAAAAAADCKQAAAAAAA6IlAAAAAAAAoikAAAAAAAOCJQAAAAAAAmIlAAAAAAADQiUAAAAAAAAiKQAAAAAAAgIlAAAAAAACAiUAAAAAAAECJQAAAAAAAeIlAAAAAAADIiUAAAAAAAMiJQAAAAAAAuIlAAAAAAABwiUAAAAAAALCJQAAAAAAA+IlAAAAAAAA4ikAAAAAAAHCKQAAAAAAAuIpAAAAAAAC4iUAAAAAAAACKQAAAAAAAAIpAAAAAAAAAi0AAAAAAAECLQAAAAAAAgItAAAAAAAA4i0AAAAAAAICLQAAAAAAAiItAAAAAAADIi0AAAAAAAECLQAAAAAAAQItAAAAAAACIi0AAAAAAAMiLQAAAAAAAEIxAAAAAAACIjEAAAAAAAFCMQAAAAAAAEIxAAAAAAADYi0AAAAAAABiMQAAAAAAAWIxAAAAAAABQjEAAAAAAABCMQAAAAAAASIxAAAAAAACAjEAAAAAAAIiMQAAAAAAAUIxAAAAAAAAIjEAAAAAAAMiMQAAAAAAASIxAAAAAAACIjEAAAAAAAFCMQAAAAAAACIxAAAAAAABAjEAAAAAAAACMQAAAAAAAQIxAAAAAAABIi0AAAAAAAAiLQAAAAAAAyIpAAAAAAAAQi0AAAAAAAACMQAAAAAAAwItAAAAAAACAi0AAAAAAANCKQAAAAAAAEItAAAAAAABQi0AAAAAAAEiLQAAAAAAAEItAAAAAAABYi0AAAAAAABiLQAAAAAAA2IpAAAAAAACgikAAAAAAAFiKQAAAAAAAEIpAAAAAAADYiUAAAAAAACCKQAAAAAAA4IlAAAAAAACgiUAAAAAAAGCJQAAAAAAAiItAAAAAAACgiUAAAAAAAOiJQAAAAAAAqIlAAAAAAABgiUAAAAAAAKCJQAAAAAAAaIlAAAAAAAAQikAAAAAAAFCKQAAAAAAAUIpAAAAAAACQikAAAAAAAKCJQAAAAAAA2IlAAAAAAADYikAAAAAAABiLQAAAAAAAUIpAAAAAAACYikAAAAAAABiLQAAAAAAA2IpAAAAAAACYikAAAAAAANiKQAAAAAAAWItAAAAAAAAQi0AAAAAAAFCLQAAAAAAAmIpAAAAAAADYikAAAAAAABiLQAAAAAAAUItAAAAAAACYi0AAAAAAAGCLQAAAAAAAKItAAAAAAAAgi0AAAAAAAGiLQAAAAAAAKItAAAAAAAAoi0AAAAAAAGiLQAAAAAAA4IpAAAAAAACgikAAAAAAANiKQAAAAAAAkIpAAAAAAADIikAAAAAAAAiLQAAAAAAA0IpAAAAAAAAIi0AAAAAAANCKQAAAAAAAGItAAAAAAAAgi0AAAAAAAOCKQAAAAAAAEItAAAAAAADQikAAAAAAABCLQAAAAAAAUItAAAAAAADYikAAAAAAANiKQAAAAAAAUItAAAAAAAAQi0AAAAAAAEiLQAAAAAAAQItAAAAAAACIi0AAAAAAABCLQAAAAAAAwItAAAAAAAAAjEAAAAAAAEiMQAAAAAAACIxAAAAAAADQi0AAAAAAAJiLQAAAAAAAWItAAAAAAADIi0AAAAAAAMCLQAAAAAAA+ItAAAAAAADQikAAAAAAAAiLQAAAAAAAyIpAAAAAAACAikAAAAAAAECKQAAAAAAAiIpAAAAAAAAQi0AAAAAAABCLQAAAAAAASIpAAAAAAAAIikAAAAAAANCJQAAAAAAAiIlAAAAAAADAiUAAAAAAAEiKQAAAAAAAgIlAAAAAAABAiUAAAAAAAACJQAAAAAAAyIhAAAAAAADIiEAAAAAAAAiJQAAAAAAASIlAAAAAAACIiUAAAAAAAEiJQAAAAAAAEIlAAAAAAABQiUAAAAAAABCJQAAAAAAA0IhAAAAAAAAQiUAAAAAAABCJQAAAAAAA2IlAAAAAAAAYikAAAAAAAOCJQAAAAAAAqIlAAAAAAADoiUAAAAAAACiKQAAAAAAA6IlAAAAAAACoiUAAAAAAAGiJQAAAAAAAkIlAAAAAAADgiUAAAAAAACCJQAAAAAAAYIlAAAAAAACYiUAAAAAAABiKQAAAAAAAWIpAAAAAAACgiUAAAAAAAOCJQAAAAAAAIIpAAAAAAABYikAAAAAAAJCKQAAAAAAAQIpAAAAAAAAYikAAAAAAANiJQAAAAAAAiIpAAAAAAADAikAAAAAAAHiKQAAAAAAAOIpAAAAAAAD4iUAAAAAAADCKQAAAAAAAcIpAAAAAAABoikAAAAAAAKiKQAAAAAAAcIpAAAAAAAAoikAAAAAAAGiKQAAAAAAAMIpAAAAAAABgikAAAAAAAGiKQAAAAAAAIIpAAAAAAAAYikAAAAAAANiJQAAAAAAAIIpAAAAAAADgiUAAAAAAAKCJQAAAAAAA4IlAAAAAAACgiUAAAAAAAOiJQAAAAAAAMIpAAAAAAAD4iUAAAAAAAECKQAAAAAAAeIpAAAAAAABwikAAAAAAADiKQAAAAAAAcIpAAAAAAACoikAAAAAAALiKQAAAAAAAgIpAAAAAAAC4ikAAAAAAAHiKQAAAAAAAuIpAAAAAAABgikAAAAAAAOiKQAAAAAAAoIpAAAAAAAAYikAAAAAAAFiKQAAAAAAAIIpAAAAAAADoiUAAAAAAACCKQAAAAAAA6IlAAAAAAACoikAAAAAAAGiKQAAAAAAAqIpAAAAAAABgikAAAAAAABiKQAAAAAAAUIpAAAAAAACQikAAAAAAAMiKQAAAAAAAIIpAAAAAAABYikAAAAAAAEiLQAAAAAAAiItAAAAAAAAAi0AAAAAAAMCLQAAAAAAAiItAAAAAAADQi0AAAAAAAJCLQAAAAAAAmItAAAAAAAAAjEAAAAAAAFCLQAAAAAAAiItAAAAAAADAi0AAAAAAADiMQAAAAAAAAIxAAAAAAABIjEAAAAAAADiMQAAAAAAAAIxAAAAAAAD4i0AAAAAAABCMQAAAAAAA0ItAAAAAAAAIjEAAAAAAAECMQAAAAAAA+ItAAAAAAACwi0AAAAAAAPCLQAAAAAAAsItAAAAAAADoi0AAAAAAAACMQAAAAAAAuItAAAAAAACgi0AAAAAAAGCLQAAAAAAAGItAAAAAAADgikAAAAAAABiLQAAAAAAA2IpAAAAAAACQikAAAAAAAMiKQAAAAAAAgIpAAAAAAAA4ikAAAAAAAPCJQAAAAAAAuIlAAAAAAADwiUAAAAAAAHCJQAAAAAAAMIlAAAAAAABwiUAAAAAAALCJQAAAAAAAaIlAAAAAAACwiUAAAAAAAPCJQAAAAAAAMIpAAAAAAACoiUAAAAAAAPiJQAAAAAAAQIpAAAAAAAB4ikAAAAAAADiKQAAAAAAAAIpAAAAAAADIiUAAAAAAAIiJQAAAAAAA0IlAAAAAAACYiUAAAAAAANCJQAAAAAAAEIpAAAAAAAAQikAAAAAAABCKQAAAAAAAUIpAAAAAAABIikAAAAAAAAiKQAAAAAAASIpAAAAAAACAikAAAAAAAIiKQAAAAAAAiIpAAAAAAABIikAAAAAAAIiKQAAAAAAAyIpAAAAAAADQikAAAAAAAJCLQAAAAAAA2ItAAAAAAAAIi0AAAAAAAEiLQAAAAAAAmIxAAAAAAABQjEAAAAAAABiMQAAAAAAA2ItAAAAAAAAQjEAAAAAAAFiMQAAAAAAACIxAAAAAAABIjEAAAAAAAFCMQAAAAAAAmItAAAAAAABQi0AAAAAAAIiLQAAAAAAAyItAAAAAAAAQjEAAAAAAABCMQAAAAAAA0ItAAAAAAABAi0AAAAAAAICLQAAAAAAAuItAAAAAAAC4i0AAAAAAAPiLQAAAAAAAMIxAAAAAAADQi0AAAAAAAIiLQAAAAAAAeIxAAAAAAAB4jEAAAAAAALiMQAAAAAAA8IxAAAAAAAAwjUAAAAAAAOiMQAAAAAAAsIxAAAAAAAB4jEAAAAAAAHiMQAAAAAAAsIxAAAAAAAA4jUAAAAAAALCMQAAAAAAA8IxAAAAAAAC4jEAAAAAAAICMQAAAAAAAuIxAAAAAAADwjEAAAAAAAPiMQAAAAAAAcI1AAAAAAAC4jEAAAAAAAHCMQAAAAAAAuIxAAAAAAAD4jEAAAAAAALiMQAAAAAAA+IxAAAAAAAC4jEAAAAAAAPiMQAAAAAAAMI1AAAAAAAAwjUAAAAAAAPiMQAAAAAAAOI1AAAAAAAB4jUAAAAAAAICNQAAAAAAAMI1AAAAAAABwjUAAAAAAAKiNQAAAAAAAwI1AAAAAAACIjUAAAAAAAMCNQAAAAAAAeI1AAAAAAAA4jUAAAAAAAHCNQAAAAAAAqI1AAAAAAACgjUAAAAAAAGiNQAAAAAAAkIxAAAAAAABQjEAAAAAAAAiMQAAAAAAASIxAAAAAAAAIjEAAAAAAANCLQAAAAAAAkItAAAAAAABIi0AAAAAAAIiLQAAAAAAAyItAAAAAAADAi0AAAAAAAACMQAAAAAAAyItAAAAAAAAAjEAAAAAAAMCLQAAAAAAAAIxAAAAAAADAi0AAAAAAAHiLQAAAAAAAMItAAAAAAABgjUAAAAAAAKCNQAAAAAAAWI1AAAAAAAAYjUAAAAAAAOCMQAAAAAAAmIxAAAAAAABYjEAAAAAAAPiLQAAAAAAAsItAAAAAAADoi0AAAAAAAGiLQAAAAAAAIItAAAAAAABgi0AAAAAAAKCLQAAAAAAA6ItAAAAAAAAwjEAAAAAAAHCMQAAAAAAAOIxAAAAAAAD4i0AAAAAAAMCLQAAAAAAAAIxAAAAAAABAjEAAAAAAAHiMQAAAAAAAMIxAAAAAAADwi0AAAAAAAOCMQAAAAAAAoIxAAAAAAADgjEAAAAAAACCNQAAAAAAA6IxAAAAAAAAwjUAAAAAAAPCMQAAAAAAAsItAAAAAAADoi0AAAAAAACCMQAAAAAAAWIxAAAAAAACYjEAAAAAAAKCMQAAAAAAAqIxAAAAAAADojEAAAAAAAKiMQAAAAAAA6IxAAAAAAAAgjUAAAAAAALiMQAAAAAAAeIxAAAAAAACwjEAAAAAAALCMQAAAAAAAeIxAAAAAAADojEAAAAAAALCMQAAAAAAA8IxAAAAAAACoi0AAAAAAAGCLQAAAAAAAIItAAAAAAABYi0AAAAAAADiMQAAAAAAA8ItAAAAAAACwi0AAAAAAAPiLQAAAAAAAuItAAAAAAAAAjEAAAAAAADiMQAAAAAAA8ItAAAAAAACwi0AAAAAAAJCKQAAAAAAAWIpAAAAAAACQikAAAAAAAFiKQAAAAAAAmIpAAAAAAADgikAAAAAAAKCKQAAAAAAA4IpAAAAAAACgikAAAAAAAFiKQAAAAAAAGIpAAAAAAAAQi0AAAAAAANCKQAAAAAAAEItAAAAAAADQikAAAAAAAJiKQAAAAAAA2IpAAAAAAACAiUAAAAAAAMiJQAAAAAAAiIlAAAAAAABAiUAAAAAAAICJQAAAAAAAyIlAAAAAAAAIikAAAAAAANCJQAAAAAAACIpAAAAAAADYiUAAAAAAABCKQAAAAAAAUIpAAAAAAAAIikAAAAAAAMCJQAAAAAAAwIlAAAAAAAA4ikAAAAAAAHiKQAAAAAAAMIpAAAAAAABwikAAAAAAAFCKQAAAAAAAEIpAAAAAAABIikAAAAAAAICKQAAAAAAAgIpAAAAAAAC4ikAAAAAAAPiKQAAAAAAAOItAAAAAAAD4ikAAAAAAADiLQAAAAAAAcItAAAAAAAAwi0AAAAAAAHCLQAAAAAAAOItAAAAAAACAi0AAAAAAAAiMQAAAAAAAwItAAAAAAADAi0AAAAAAAMCLQAAAAAAAuItAAAAAAABwi0AAAAAAAKiLQAAAAAAAyItAAAAAAAAAjEAAAAAAAGiLQAAAAAAAoItAAAAAAABYi0AAAAAAABCLQAAAAAAAyIpAAAAAAAAIi0AAAAAAAECLQAAAAAAA8ItAAAAAAAAwjEAAAAAAAOiLQAAAAAAA6ItAAAAAAACgi0AAAAAAAGiLQAAAAAAAoItAAAAAAAD4ikAAAAAAAECLQAAAAAAAiItAAAAAAADAi0AAAAAAAHiLQAAAAAAAOItAAAAAAAB4i0AAAAAAAJiLQAAAAAAA2ItAAAAAAAAgjEAAAAAAALCLQAAAAAAAcItAAAAAAACoi0AAAAAAAOCLQAAAAAAAIIxAAAAAAAAgjEAAAAAAANiLQAAAAAAAoItAAAAAAADYi0AAAAAAAOCLQAAAAAAAoItAAAAAAABYjEAAAAAAABiMQAAAAAAA0ItAAAAAAAAYjEAAAAAAANiLQAAAAAAAmItAAAAAAADYi0AAAAAAAJiLQAAAAAAAYItAAAAAAAAgi0AAAAAAANCLQAAAAAAAkItAAAAAAADYi0AAAAAAABCMQAAAAAAAYIxAAAAAAACojEAAAAAAAGiLQAAAAAAAsItAAAAAAAC4i0AAAAAAAHCLQAAAAAAAsItAAAAAAADoi0AAAAAAACCMQAAAAAAA4IxAAAAAAAAgjUAAAAAAAOCMQAAAAAAAqIxAAAAAAAAgjUAAAAAAAHCMQAAAAAAAsIxAAAAAAADojEAAAAAAACiNQAAAAAAAaI1AAAAAAADwjEAAAAAAADCNQAAAAAAAcI1AAAAAAADwjEAAAAAAALCMQAAAAAAA8IxAAAAAAAC4jEAAAAAAAACNQAAAAAAAOI1AAAAAAAD4jEAAAAAAALiMQAAAAAAA+IxAAAAAAACwjEAAAAAAAPCMQAAAAAAAKI1AAAAAAADIjEAAAAAAAAiNQAAAAAAASI1AAAAAAACQjUAAAAAAAFCNQAAAAAAAGI1AAAAAAADQjEAAAAAAABCNQAAAAAAAiIxAAAAAAABQjEAAAAAAAJCMQAAAAAAASIxAAAAAAACAjEAAAAAAANCMQAAAAAAAkIxAAAAAAADIjEAAAAAAAMiMQAAAAAAAAI1AAAAAAADAjEAAAAAAAAiNQAAAAAAA0IxAAAAAAAAYjUAAAAAAAFCNQAAAAAAACI1AAAAAAABQjUAAAAAAAJiNQAAAAAAA0I1AAAAAAAAQjkAAAAAAABCOQAAAAAAAEI5AAAAAAABQjkAAAAAAANiNQAAAAAAAEI5AAAAAAADQjUAAAAAAABCOQAAAAAAAUI5AAAAAAACIjkAAAAAAAEiOQAAAAAAAiI1AAAAAAADIjUAAAAAAAAiOQAAAAAAA0I1AAAAAAACIjUAAAAAAAMCNQAAAAAAAiI1AAAAAAACIjUAAAAAAAMiNQAAAAAAAkI1AAAAAAABYjUAAAAAAAJCNQAAAAAAA0I1AAAAAAAAIjkAAAAAAABCOQAAAAAAASI5AAAAAAAAIjkAAAAAAANCNQAAAAAAAEI5AAAAAAABQjkAAAAAAAFCOQAAAAAAAUI5AAAAAAACQjkAAAAAAANCOQAAAAAAAEI9AAAAAAABQjkAAAAAAAJCOQAAAAAAAUI5AAAAAAAAQjkAAAAAAANCNQAAAAAAAEI5AAAAAAADQjkAAAAAAAJCOQAAAAAAAkI5AAAAAAABQjkAAAAAAABCOQAAAAAAAyI1AAAAAAAAIjkAAAAAAAECOQAAAAAAAgI5AAAAAAADAjkAAAAAAAMCNQAAAAAAAAI5AAAAAAADAjUAAAAAAAACOQAAAAAAAwI1AAAAAAAAAjkAAAAAAAMCNQAAAAAAAAI5AAAAAAAC4jUAAAAAAAPiNQAAAAAAAgI5AAAAAAABAjkAAAAAAAACOQAAAAAAAwI1AAAAAAAAAjkAAAAAAAACOQAAAAAAAwI1AAAAAAAAAjkAAAAAAAPiNQAAAAAAAuI1AAAAAAAD4jUAAAAAAALiNQAAAAAAAuI1AAAAAAAD4jUAAAAAAADiOQAAAAAAA+I1AAAAAAAC4jUAAAAAAALiNQAAAAAAAuI1AAAAAAADAjUAAAAAAAICNQAAAAAAAwI1AAAAAAAAIjkAAAAAAABCNQAAAAAAA0IxAAAAAAACQjEAAAAAAANCMQAAAAAAAkIxAAAAAAADQjEAAAAAAABiNQAAAAAAACI5AAAAAAABIjkAAAAAAAEiOQAAAAAAAEI5AAAAAAADQjUAAAAAAAJCNQAAAAAAAUI1AAAAAAABQjEAAAAAAAJCMQAAAAAAAUIxAAAAAAABQjEAAAAAAABCMQAAAAAAA0ItAAAAAAACQi0AAAAAAANCLQAAAAAAA2IxAAAAAAACQjEAAAAAAAFCMQAAAAAAAEIxAAAAAAABQjEAAAAAAAJCMQAAAAAAAUIxAAAAAAAAQjEAAAAAAABCMQAAAAAAA0ItAAAAAAACQi0AAAAAAAFCLQAAAAAAAkItAAAAAAADQi0AAAAAAAJCLQAAAAAAA0ItAAAAAAACQi0AAAAAAANCLQAAAAAAAEIxAAAAAAAAQjEAAAAAAAFCMQAAAAAAAkIxAAAAAAABQjEAAAAAAAJCMQAAAAAAAUItAAAAAAACQi0AAAAAAAFCLQAAAAAAAEItAAAAAAADYikAAAAAAABiLQAAAAAAA0IpAAAAAAADQikAAAAAAABCMQAAAAAAA0ItAAAAAAADQi0AAAAAAABCMQAAAAAAA0ItAAAAAAACIi0AAAAAAAAiKQAAAAAAACIpAAAAAAADIiUAAAAAAAMiJQAAAAAAACIpAAAAAAADIiUAAAAAAABCLQAAAAAAA0IpAAAAAAACQikAAAAAAAFCKQAAAAAAAkIpAAAAAAABQikAAAAAAAJCKQAAAAAAAUIpAAAAAAAAQikAAAAAAANCJQAAAAAAAEIpAAAAAAADQiUAAAAAAABCKQAAAAAAA0IlAAAAAAAAIikAAAAAAAAiKQAAAAAAASIpAAAAAAAAIikAAAAAAAEiKQAAAAAAA2IlAAAAAAACYiUAAAAAAANiJQAAAAAAAmIlAAAAAAADYiUAAAAAAABiKQAAAAAAAiIlAAAAAAABIiUAAAAAAAIiJQAAAAAAAiIlAAAAAAACQiUAAAAAAAFCJQAAAAAAAkIlAAAAAAADQiUAAAAAAANCJQAAAAAAAEIpAAAAAAADQiUAAAAAAABCKQAAAAAAA0IlAAAAAAACYiUAAAAAAANiJQAAAAAAAGIpAAAAAAABYikAAAAAAABiKQAAAAAAA0IlAAAAAAAAQikAAAAAAANCJQAAAAAAAkIlAAAAAAABQiUAAAAAAABCJQAAAAAAAUIlAAAAAAABIiUAAAAAAAAiJQAAAAAAAyIhAAAAAAACIiEAAAAAAAEiIQAAAAAAASIhAAAAAAAAIiEAAAAAAAMiHQAAAAAAACIhAAAAAAADIh0AAAAAAAIiHQAAAAAAAUIdAAAAAAADQiEAAAAAAAJCIQAAAAAAA0IhAAAAAAACQh0AAAAAAANCHQAAAAAAAEIhAAAAAAABQiEAAAAAAAFCIQAAAAAAAkIhAAAAAAABQiEAAAAAAAFCIQAAAAAAAkIhAAAAAAACQiEAAAAAAANCIQAAAAAAAiIlAAAAAAAAQiUAAAAAAAFCJQAAAAAAACIlAAAAAAABIiUAAAAAAAEiJQAAAAAAACIlAAAAAAAAIiUAAAAAAAAiJQAAAAAAAQIlAAAAAAACAiUAAAAAAAECJQAAAAAAAAIlAAAAAAABAiUAAAAAAAACJQAAAAAAAQIlAAAAAAACAiUAAAAAAAMCJQAAAAAAAAIpAAAAAAAA4ikAAAAAAAHiKQAAAAAAAwIpAAAAAAABAikAAAAAAAICKQAAAAAAAwIpAAAAAAACAikAAAAAAADiKQAAAAAAA+IlAAAAAAADAiUAAAAAAAICJQAAAAAAAgIpAAAAAAABAikAAAAAAAACKQAAAAAAAuIlAAAAAAAB4iUAAAAAAALiJQAAAAAAA+IlAAAAAAAC4iUAAAAAAALiJQAAAAAAA+IlAAAAAAAA4ikAAAAAAAHiKQAAAAAAAuIpAAAAAAAD4ikAAAAAAADiLQAAAAAAAeItAAAAAAAA4i0AAAAAAAHiLQAAAAAAAOItAAAAAAAB4i0AAAAAAALiLQAAAAAAA+ItAAAAAAAC4i0AAAAAAAPiLQAAAAAAA+IpAAAAAAAC4ikAAAAAAAHCKQAAAAAAAMIpAAAAAAAD4i0AAAAAAALiLQAAAAAAAeItAAAAAAAB4i0AAAAAAADiLQAAAAAAAcIpAAAAAAACwikAAAAAAAHCKQAAAAAAAsIpAAAAAAADwikAAAAAAALiKQAAAAAAAeIpAAAAAAAA4ikAAAAAAAHiKQAAAAAAAOIpAAAAAAAB4ikAAAAAAAHCKQAAAAAAAMIpAAAAAAABwikAAAAAAACiKQAAAAAAAaIpAAAAAAACoikAAAAAAALCKQAAAAAAAcIpAAAAAAAAwikAAAAAAAGiKQAAAAAAAqIpAAAAAAABwikAAAAAAADCKQAAAAAAA8IlAAAAAAAAwikAAAAAAAHCKQAAAAAAAMIpAAAAAAAAwikAAAAAAAHCKQAAAAAAAuIpAAAAAAAD4ikAAAAAAALiKQAAAAAAAeIpAAAAAAAC4ikAAAAAAAPiKQAAAAAAAuIpAAAAAAAD4ikAAAAAAALCKQAAAAAAAOIpAAAAAAAB4ikAAAAAAALiKQAAAAAAAeIpAAAAAAAC4ikAAAAAAAPiKQAAAAAAAuIpAAAAAAAB4ikAAAAAAALiKQAAAAAAAcIpAAAAAAAAwikAAAAAAAHCKQAAAAAAAsIpAAAAAAADwikAAAAAAALCKQAAAAAAAcIpAAAAAAACwikAAAAAAADCLQAAAAAAAcItAAAAAAABwi0AAAAAAAPCKQAAAAAAAsIpAAAAAAADwikAAAAAAALCLQAAAAAAA8ItAAAAAAAAwjEAAAAAAADCMQAAAAAAAcIxAAAAAAAAwjEAAAAAAAHCMQAAAAAAAMIxAAAAAAABwjEAAAAAAALCMQAAAAAAAcIxAAAAAAAAwjEAAAAAAAHCMQAAAAAAAMIxAAAAAAABwjEAAAAAAAHiMQAAAAAAAcIxAAAAAAAAwjEAAAAAAAHCMQAAAAAAAOIxAAAAAAAD4i0AAAAAAALiLQAAAAAAAeItAAAAAAAC4i0AAAAAAAPiLQAAAAAAAOIxAAAAAAAD4jEAAAAAAALiMQAAAAAAA+IxAAAAAAAD4jEAAAAAAALiMQAAAAAAAeIxAAAAAAACwjEAAAAAAALiMQAAAAAAAeIxAAAAAAAC4jEAAAAAAAPCMQAAAAAAA8IxAAAAAAACojEAAAAAAAOiMQAAAAAAAII1AAAAAAAAwjUAAAAAAAPCMQAAAAAAAMI1AAAAAAADgjEAAAAAAAJiMQAAAAAAA2IxAAAAAAAAgjUAAAAAAAGCNQAAAAAAAII1AAAAAAADgjEAAAAAAACCNQAAAAAAA4IxAAAAAAACgjEAAAAAAAGCMQAAAAAAAoIxAAAAAAABgjEAAAAAAACCMQAAAAAAA4ItAAAAAAACgi0AAAAAAAOCLQAAAAAAAIIxAAAAAAADgi0AAAAAAACCMQAAAAAAA4ItAAAAAAAAgjEAAAAAAAGCMQAAAAAAAYIxAAAAAAAAgjEAAAAAAAGCMQAAAAAAAIIxAAAAAAABgjEAAAAAAACCMQAAAAAAA4ItAAAAAAAAgjEAAAAAAAGCMQAAAAAAAoIxAAAAAAABgjEAAAAAAAGCMQAAAAAAAoIxAAAAAAABgjEAAAAAAAKCMQAAAAAAAYI1AAAAAAADgjEAAAAAAACCNQAAAAAAAYI1AAAAAAAAgjUAAAAAAAGCNQAAAAAAAII1AAAAAAABYjUAAAAAAAJiNQAAAAAAAoI1AAAAAAACYjUAAAAAAANiNQAAAAAAAWI1AAAAAAACYjUAAAAAAAFiNQAAAAAAAGI1AAAAAAABYjUAAAAAAANCNQAAAAAAAmI1AAAAAAADYjUAAAAAAAJiNQAAAAAAA2I1AAAAAAADQjUAAAAAAAAiOQAAAAAAAkI1AAAAAAADQjUAAAAAAANCNQAAAAAAACI5AAAAAAADIjUAAAAAAAAiOQAAAAAAACI5AAAAAAADIjUAAAAAAAMiNQAAAAAAAyI1AAAAAAAAIjkAAAAAAAEiOQAAAAAAACI5AAAAAAADQjUAAAAAAAJCNQAAAAAAA0I1AAAAAAADQjUAAAAAAAJCNQAAAAAAAEI5AAAAAAADQjUAAAAAAANCNQAAAAAAAmI1AAAAAAADYjUAAAAAAABiOQAAAAAAAGI5AAAAAAADYjUAAAAAAABiOQAAAAAAAWI5AAAAAAACYjkAAAAAAAFiOQAAAAAAAmI5AAAAAAABYjkAAAAAAAJiOQAAAAAAAWI5AAAAAAACYjkAAAAAAANiOQAAAAAAAWI5AAAAAAAAYjkAAAAAAANiNQAAAAAAAmI5AAAAAAAAYjkAAAAAAAFiOQAAAAAAAmI5AAAAAAABYjkAAAAAAAJiOQAAAAAAAGI9AAAAAAABYj0AAAAAAANiOQAAAAAAAmI5AAAAAAADYjkAAAAAAAFCPQAAAAAAAEI9AAAAAAABQj0AAAAAAAJCPQAAAAAAA0I9AAAAAAACQj0AAAAAAAFCPQAAAAAAAEI9AAAAAAAAQj0AAAAAAANCOQAAAAAAAkI5AAAAAAABQjkAAAAAAABCOQAAAAAAAUI1AAAAAAACQjUAAAAAAAFCNQAAAAAAACI1AAAAAAADQjUAAAAAAABCOQAAAAAAA0I1AAAAAAACQjUAAAAAAAMiMQAAAAAAAiIxAAAAAAADIjEAAAAAAAMiMQAAAAAAACI1AAAAAAADIjEAAAAAAAAiNQAAAAAAASI1AAAAAAACIjUAAAAAAAMiNQAAAAAAAQI5AAAAAAAAAjkAAAAAAAMCNQAAAAAAAgI1AAAAAAADAjUAAAAAAAACOQAAAAAAAAI5AAAAAAADAjkAAAAAAAICOQAAAAAAAgI5AAAAAAABAjkAAAAAAAMCOQAAAAAAAAI5AAAAAAABAjkAAAAAAAICOQAAAAAAAiI5AAAAAAADIjkAAAAAAAIiOQAAAAAAASI5AAAAAAAAAjkAAAAAAAMiNQAAAAAAAiI1AAAAAAADAjUAAAAAAAAiOQAAAAAAAyI1AAAAAAACIjUAAAAAAAMiNQAAAAAAACI5AAAAAAADIjUAAAAAAAMiNQAAAAAAACI5AAAAAAADIjUAAAAAAAIiNQAAAAAAASI1AAAAAAACIjUAAAAAAAICMQAAAAAAAwIxAAAAAAAB4jEAAAAAAAMCMQAAAAAAASI1AAAAAAAAIjUAAAAAAAEiNQAAAAAAAiI1AAAAAAADAjUAAAAAAAACOQAAAAAAAuI1AAAAAAAD4jUAAAAAAALiNQAAAAAAAeI1AAAAAAAA4jUAAAAAAAHiNQAAAAAAAOI1AAAAAAAD4jEAAAAAAAMCMQAAAAAAAgIxAAAAAAACAjEAAAAAAALCMQAAAAAAAcIxAAAAAAAAwjEAAAAAAADCMQAAAAAAAaIxAAAAAAAAojEAAAAAAAOiLQAAAAAAAKIxAAAAAAAAAjUAAAAAAAECNQAAAAAAAQI1AAAAAAAAAjUAAAAAAALiMQAAAAAAA+IxAAAAAAABojEAAAAAAACiMQAAAAAAA6ItAAAAAAAAojEAAAAAAAOiLQAAAAAAAqItAAAAAAACoi0AAAAAAAOiLQAAAAAAAqItAAAAAAABoi0AAAAAAACiLQAAAAAAAaItAAAAAAAAoi0AAAAAAAGiLQAAAAAAAMItAAAAAAADwikAAAAAAADCLQAAAAAAAcItAAAAAAACwi0AAAAAAAHCLQAAAAAAAsItAAAAAAACoi0AAAAAAAGiLQAAAAAAAqItAAAAAAABoi0AAAAAAACiLQAAAAAAAaItAAAAAAABwi0AAAAAAAHCLQAAAAAAAsItAAAAAAADwi0AAAAAAALCLQAAAAAAAsItAAAAAAABoi0AAAAAAACiLQAAAAAAAKItAAAAAAADoikAAAAAAAKiKQAAAAAAAaIpAAAAAAADgikAAAAAAAOCKQAAAAAAAKIpAAAAAAAAoikAAAAAAAGCKQAAAAAAAoIpAAAAAAABgikAAAAAAACCLQAAAAAAAoIpAAAAAAADgikAAAAAAACCLQAAAAAAA4IpAAAAAAADgikAAAAAAAKCKQAAAAAAAoIpAAAAAAADgikAAAAAAACCLQAAAAAAAIItAAAAAAADgikAAAAAAAOCKQAAAAAAAoIpAAAAAAAD4i0AAAAAAACiLQAAAAAAAcItAAAAAAAC4i0AAAAAAALiLQAAAAAAA+ItAAAAAAAC4i0AAAAAAAPiLQAAAAAAAuItAAAAAAAB4i0AAAAAAAPiKQAAAAAAAOItAAAAAAAD4ikAAAAAAALiKQAAAAAAAOItAAAAAAAA4ikAAAAAAAHiKQAAAAAAAOIpAAAAAAADwiUAAAAAAAHiKQAAAAAAAOIpAAAAAAAB4ikAAAAAAADiKQAAAAAAA+IlAAAAAAACwikAAAAAAAHCKQAAAAAAAMIpAAAAAAABwikAAAAAAALCKQAAAAAAAcIpAAAAAAACwiUAAAAAAAPCJQAAAAAAAMIpAAAAAAABwikAAAAAAALCKQAAAAAAA8IpAAAAAAAC4iUAAAAAAAHiJQAAAAAAAuIlAAAAAAAC4iUAAAAAAAPiJQAAAAAAAMIpAAAAAAADwiUAAAAAAADiKQAAAAAAA+IlAAAAAAAA4ikAAAAAAAPiJQAAAAAAAuIlAAAAAAAD4iUAAAAAAALiJQAAAAAAA8IlAAAAAAACwiUAAAAAAAAiKQAAAAAAAyIlAAAAAAADwiUAAAAAAADiKQAAAAAAAAIpAAAAAAABAikAAAAAAAACKQAAAAAAAQIpAAAAAAAAAikAAAAAAAECKQAAAAAAAgIpAAAAAAADAikAAAAAAAICKQAAAAAAAQIpAAAAAAAAIikAAAAAAAMiJQAAAAAAA0IlAAAAAAAAIikAAAAAAAMiJQAAAAAAAEIpAAAAAAAAQikAAAAAAANiJQAAAAAAAoIlAAAAAAABoiUAAAAAAACiJQAAAAAAA4IhAAAAAAAAgiUAAAAAAAOCIQAAAAAAA4IhAAAAAAAAgiUAAAAAAAGCJQAAAAAAA4IpAAAAAAAAgi0AAAAAAANiKQAAAAAAAmIpAAAAAAACYikAAAAAAAJiJQAAAAAAA2IlAAAAAAAAYikAAAAAAAFiKQAAAAAAAGIpAAAAAAABYikAAAAAAAJiKQAAAAAAAWIpAAAAAAACYikAAAAAAANiKQAAAAAAAoIpAAAAAAACgikAAAAAAAOCKQAAAAAAAkIpAAAAAAABQikAAAAAAAJCKQAAAAAAAWIpAAAAAAACgikAAAAAAAFiKQAAAAAAAmIpAAAAAAADYikAAAAAAAJiKQAAAAAAA2IpAAAAAAAAYikAAAAAAAGCKQAAAAAAAoIpAAAAAAABgikAAAAAAANCKQAAAAAAAmIpAAAAAAABYikAAAAAAABiKQAAAAAAA2IlAAAAAAAAoikAAAAAAAGiKQAAAAAAAaIpAAAAAAACoikAAAAAAAGiKQAAAAAAAKIpAAAAAAABoikAAAAAAAKiKQAAAAAAAaIpAAAAAAACoikAAAAAAAOiKQAAAAAAAqIpAAAAAAABoikAAAAAAACiKQAAAAAAAKIpAAAAAAABgikAAAAAAAKCKQAAAAAAAYItAAAAAAADgikAAAAAAACCLQAAAAAAAoItAAAAAAABgi0AAAAAAAKCLQAAAAAAA4ItAAAAAAACgi0AAAAAAAGCLQAAAAAAAoItAAAAAAABgi0AAAAAAACCLQAAAAAAAoIpAAAAAAABgikAAAAAAAOCKQAAAAAAAGIpAAAAAAABYikAAAAAAAFiKQAAAAAAAmIpAAAAAAADYikAAAAAAANiKQAAAAAAAmIpAAAAAAABYikAAAAAAAJCKQAAAAAAA0IpAAAAAAACQikAAAAAAAFCKQAAAAAAAkIpAAAAAAABQikAAAAAAABCKQAAAAAAAEIpAAAAAAABQikAAAAAAAJCKQAAAAAAA0IlAAAAAAABQikAAAAAAANCKQAAAAAAAkIpAAAAAAAAQikAAAAAAAFCKQAAAAAAAEIpAAAAAAADQiUAAAAAAABCKQAAAAAAAUIpAAAAAAACIikAAAAAAAMiKQAAAAAAAyIpAAAAAAAAIikAAAAAAAEiKQAAAAAAAiIpAAAAAAADIikAAAAAAAIiKQAAAAAAAyIpAAAAAAACAikAAAAAAAMCKQAAAAAAAgIpAAAAAAABAikAAAAAAAICKQAAAAAAAuIpAAAAAAAB4ikAAAAAAALiKQAAAAAAAuIpAAAAAAAD4ikAAAAAAALiKQAAAAAAAuIpAAAAAAAD4ikAAAAAAADCLQAAAAAAAuIpAAAAAAAD4ikAAAAAAAGiLQAAAAAAAKItAAAAAAABoi0AAAAAAACiLQAAAAAAAaItAAAAAAACoi0AAAAAAAPCLQAAAAAAAsItAAAAAAADwi0AAAAAAALCLQAAAAAAAsItAAAAAAADwi0AAAAAAADCMQAAAAAAAcIxAAAAAAAAwjEAAAAAAADCMQAAAAAAAMIxAAAAAAABwjEAAAAAAALiLQAAAAAAA+ItAAAAAAADwi0AAAAAAALCLQAAAAAAAcItAAAAAAAA4jEAAAAAAADCMQAAAAAAA8ItAAAAAAACwi0AAAAAAAPCLQAAAAAAA8ItAAAAAAAAwjEAAAAAAAGiMQAAAAAAAcIxAAAAAAAAojEAAAAAAACiMQAAAAAAA6ItAAAAAAACoi0AAAAAAAOiLQAAAAAAAqItAAAAAAADoi0AAAAAAACiMQAAAAAAAaIxAAAAAAAAojEAAAAAAAGiMQAAAAAAAKIxAAAAAAABojEAAAAAAACiMQAAAAAAA8ItAAAAAAACwi0AAAAAAAPCLQAAAAAAAMIxAAAAAAAAwjEAAAAAAAPCLQAAAAAAAMIxAAAAAAADwi0AAAAAAADCMQAAAAAAAaIxAAAAAAAAojEAAAAAAAGiMQAAAAAAAOItAAAAAAAB4i0AAAAAAADiLQAAAAAAA8ItAAAAAAACwi0AAAAAAAHCLQAAAAAAAsItAAAAAAABwi0AAAAAAADCLQAAAAAAAOItAAAAAAAB4i0AAAAAAALiLQAAAAAAA+ItAAAAAAAB4i0AAAAAAALiLQAAAAAAAeItAAAAAAAC4i0AAAAAAAPiLQAAAAAAAeItAAAAAAAC4i0AAAAAAAHiLQAAAAAAAOItAAAAAAAD4ikAAAAAAALiLQAAAAAAA+ItAAAAAAAA4jEAAAAAAAPiLQAAAAAAAuItAAAAAAAD4ikAAAAAAALiKQAAAAAAA+IpAAAAAAAC4ikAAAAAAADiLQAAAAAAAeItAAAAAAAC4ikAAAAAAAPiKQAAAAAAAOItAAAAAAAD4ikAAAAAAALiKQAAAAAAAeIpAAAAAAAA4i0AAAAAAAPiKQAAAAAAAOItAAAAAAAC4iUAAAAAAAHiJQAAAAAAAuIlAAAAAAAD4iUAAAAAAADiKQAAAAAAAeIpAAAAAAAA4ikAAAAAAAPiJQAAAAAAAOIpAAAAAAAD4iUAAAAAAAMCJQAAAAAAAgIlAAAAAAADAiUAAAAAAAPiJQAAAAAAAuIpAAAAAAAD4ikAAAAAAAMCKQAAAAAAAgIpAAAAAAAA4ikAAAAAAAHiKQAAAAAAAuIpAAAAAAAC4ikAAAAAAAHiKQAAAAAAAOIpAAAAAAAB4ikAAAAAAALiKQAAAAAAAgItAAAAAAADIi0AAAAAAAAiMQAAAAAAAyItAAAAAAAB4ikAAAAAAAMCKQAAAAAAAgIpAAAAAAADAikAAAAAAAACLQAAAAAAAQItAAAAAAACIi0AAAAAAAFCLQAAAAAAAmItAAAAAAADYi0AAAAAAABiMQAAAAAAACIxAAAAAAADIi0AAAAAAAAiMQAAAAAAAyItAAAAAAAAojEAAAAAAAOiLQAAAAAAAqItAAAAAAABoi0AAAAAAACiLQAAAAAAA6IpAAAAAAAAoi0AAAAAAAGiLQAAAAAAAqItAAAAAAABgjEAAAAAAAGCMQAAAAAAA6ItAAAAAAACgi0AAAAAAAOCLQAAAAAAAqItAAAAAAABoi0AAAAAAACCMQAAAAAAAYIxAAAAAAACgjEAAAAAAAKCMQAAAAAAA4IxAAAAAAAAgjUAAAAAAAOCMQAAAAAAAYI1AAAAAAACgjUAAAAAAAGCNQAAAAAAAoI1AAAAAAABgjUAAAAAAAGiNQAAAAAAAKI1AAAAAAACojUAAAAAAAKiNQAAAAAAAaI1AAAAAAACojUAAAAAAAKiNQAAAAAAA6I1AAAAAAABojUAAAAAAAKiNQAAAAAAAqI1AAAAAAADojUAAAAAAACiOQAAAAAAAKI5AAAAAAAAAjUAAAAAAAMCMQAAAAAAAAI1AAAAAAADAjEAAAAAAAGiOQAAAAAAAiI5AAAAAAAAojkAAAAAAAOCNQAAAAAAAmI1AAAAAAADYjUAAAAAAAKCNQAAAAAAASI1AAAAAAABwjUAAAAAAALiNQAAAAAAAgI1AAAAAAAAwjUAAAAAAAECNQAAAAAAACI1AAAAAAABIjUAAAAAAAIiNQAAAAAAAQI1AAAAAAAD4jEAAAAAAALiMQAAAAAAA+IxAAAAAAAC4jEAAAAAAAPiMQAAAAAAAsIxAAAAAAADwjEAAAAAAADCNQAAAAAAA8IxAAAAAAACwjEAAAAAAAPCMQAAAAAAAMI1AAAAAAABwjUAAAAAAALCNQAAAAAAAcI1AAAAAAAAwjUAAAAAAAPCMQAAAAAAAcIxAAAAAAACwjEAAAAAAAPCLQAAAAAAAMIxAAAAAAABwjEAAAAAAAHCMQAAAAAAAqIxAAAAAAADojEAAAAAAADCMQAAAAAAAoIxAAAAAAABgjEAAAAAAAKCMQAAAAAAAYIxAAAAAAAAYjEAAAAAAANiLQAAAAAAAGIxAAAAAAADYi0AAAAAAAJiLQAAAAAAAWItAAAAAAAAYi0AAAAAAANiKQAAAAAAAGItAAAAAAADYikAAAAAAAJiKQAAAAAAAWIpAAAAAAADgikAAAAAAAKCKQAAAAAAA4IpAAAAAAAAYi0AAAAAAANiKQAAAAAAAoIpAAAAAAADgikAAAAAAAJiKQAAAAAAAWIpAAAAAAAAgikAAAAAAAGCKQAAAAAAAoIpAAAAAAACoikAAAAAAAGiKQAAAAAAAKIpAAAAAAADwiUAAAAAAACiLQAAAAAAAaItAAAAAAAAwikAAAAAAAHCKQAAAAAAAsIpAAAAAAABwikAAAAAAALCKQAAAAAAA8IpAAAAAAACwikAAAAAAAPCKQAAAAAAAqIpAAAAAAADoikAAAAAAAGiMQAAAAAAAqIxAAAAAAACoi0AAAAAAAGiLQAAAAAAAqItAAAAAAABoi0AAAAAAAKiLQAAAAAAA6ItAAAAAAAAojEAAAAAAAKCLQAAAAAAA4ItAAAAAAACgi0AAAAAAAOCLQAAAAAAAoItAAAAAAADgi0AAAAAAACCMQAAAAAAAYIxAAAAAAADojEAAAAAAAKiMQAAAAAAAaIxAAAAAAAAojEAAAAAAAOiLQAAAAAAAoItAAAAAAABgi0AAAAAAACCLQAAAAAAAYItAAAAAAAAgi0AAAAAAAGCLQAAAAAAAIItAAAAAAABgi0AAAAAAAKiLQAAAAAAAIIxAAAAAAADgi0AAAAAAACCMQAAAAAAAYIxAAAAAAAAgjEAAAAAAAGCMQAAAAAAAKIxAAAAAAADoi0AAAAAAAKiLQAAAAAAA6ItAAAAAAACoi0AAAAAAAGiLQAAAAAAAqItAAAAAAADoi0AAAAAAAKiLQAAAAAAA6ItAAAAAAAAojEAAAAAAANiMQAAAAAAAkIxAAAAAAADgi0AAAAAAACCMQAAAAAAAYIxAAAAAAACgjEAAAAAAAOCMQAAAAAAAoIxAAAAAAADYjEAAAAAAAJiMQAAAAAAA2IxAAAAAAAAYjUAAAAAAAJiMQAAAAAAA2IxAAAAAAACYjEAAAAAAANiMQAAAAAAAUIxAAAAAAAAQjEAAAAAAANCLQAAAAAAAEIxAAAAAAABQjEAAAAAAABiMQAAAAAAAWIxAAAAAAAAYjEAAAAAAAFiMQAAAAAAAWIxAAAAAAABYjEAAAAAAABiMQAAAAAAAWIxAAAAAAAAYjUAAAAAAANiMQAAAAAAAmIxAAAAAAACYjUAAAAAAAFiMQAAAAAAAmIxAAAAAAADYjEAAAAAAABiNQAAAAAAAWI1AAAAAAADYjUAAAAAAANiNQAAAAAAAmI1AAAAAAADYjUAAAAAAANiNQAAAAAAAGI5AAAAAAADYjUAAAAAAABiOQAAAAAAAGI5AAAAAAABwjkAAAAAAAKCNQAAAAAAAYI1AAAAAAAAgjUAAAAAAAGCNQAAAAAAAqI1AAAAAAADojUAAAAAAACiOQAAAAAAAMI5AAAAAAAAwjkAAAAAAAPCNQAAAAAAAsI1AAAAAAACwjUAAAAAAAPCNQAAAAAAA8I1AAAAAAAA4jkAAAAAAAPCNQAAAAAAAMI5AAAAAAADwjUAAAAAAALiNQAAAAAAA+I1AAAAAAAA4jkAAAAAAAHiOQAAAAAAAOI5AAAAAAAB4jkAAAAAAADiOQAAAAAAAeI5AAAAAAAC4jkAAAAAAAPCOQAAAAAAAKI9AAAAAAACoj0AAAAAAAGiPQAAAAAAA6I9AAAAAAADoj0AAAAAAABCQQAAAAAAAqI9AAAAAAADYj0AAAAAAAAyQQAAAAAAALJBAAAAAAABMkEAAAAAAACyQQAAAAAAATJBAAAAAAAAskEAAAAAAAEyQQAAAAAAAbJBAAAAAAABskEAAAAAAAIyQQAAAAAAAjJBAAAAAAABskEAAAAAAAIyQQAAAAAAABJBAAAAAAAAkkEAAAAAAAASQQAAAAAAAyI9AAAAAAABokEAAAAAAAEiQQAAAAAAAKJBAAAAAAAAIkEAAAAAAACiQQAAAAAAARJBAAAAAAAAkkEAAAAAAAASQQAAAAAAAJJBAAAAAAAAokEAAAAAAAIiPQAAAAAAAyI9AAAAAAADIj0AAAAAAAAiQQAAAAAAAiJBAAAAAAACokEAAAAAAAAiQQAAAAAAA0I9AAAAAAAAIkEAAAAAAACiQQAAAAAAACJBAAAAAAAAokEAAAAAAAEiQQAAAAAAAaJBA",
          "dtype": "f8"
         }
        }
       ],
       "layout": {
        "template": {
         "data": {
          "bar": [
           {
            "error_x": {
             "color": "#2a3f5f"
            },
            "error_y": {
             "color": "#2a3f5f"
            },
            "marker": {
             "line": {
              "color": "white",
              "width": 0.5
             },
             "pattern": {
              "fillmode": "overlay",
              "size": 10,
              "solidity": 0.2
             }
            },
            "type": "bar"
           }
          ],
          "barpolar": [
           {
            "marker": {
             "line": {
              "color": "white",
              "width": 0.5
             },
             "pattern": {
              "fillmode": "overlay",
              "size": 10,
              "solidity": 0.2
             }
            },
            "type": "barpolar"
           }
          ],
          "carpet": [
           {
            "aaxis": {
             "endlinecolor": "#2a3f5f",
             "gridcolor": "#C8D4E3",
             "linecolor": "#C8D4E3",
             "minorgridcolor": "#C8D4E3",
             "startlinecolor": "#2a3f5f"
            },
            "baxis": {
             "endlinecolor": "#2a3f5f",
             "gridcolor": "#C8D4E3",
             "linecolor": "#C8D4E3",
             "minorgridcolor": "#C8D4E3",
             "startlinecolor": "#2a3f5f"
            },
            "type": "carpet"
           }
          ],
          "choropleth": [
           {
            "colorbar": {
             "outlinewidth": 0,
             "ticks": ""
            },
            "type": "choropleth"
           }
          ],
          "contour": [
           {
            "colorbar": {
             "outlinewidth": 0,
             "ticks": ""
            },
            "colorscale": [
             [
              0,
              "#0d0887"
             ],
             [
              0.1111111111111111,
              "#46039f"
             ],
             [
              0.2222222222222222,
              "#7201a8"
             ],
             [
              0.3333333333333333,
              "#9c179e"
             ],
             [
              0.4444444444444444,
              "#bd3786"
             ],
             [
              0.5555555555555556,
              "#d8576b"
             ],
             [
              0.6666666666666666,
              "#ed7953"
             ],
             [
              0.7777777777777778,
              "#fb9f3a"
             ],
             [
              0.8888888888888888,
              "#fdca26"
             ],
             [
              1,
              "#f0f921"
             ]
            ],
            "type": "contour"
           }
          ],
          "contourcarpet": [
           {
            "colorbar": {
             "outlinewidth": 0,
             "ticks": ""
            },
            "type": "contourcarpet"
           }
          ],
          "heatmap": [
           {
            "colorbar": {
             "outlinewidth": 0,
             "ticks": ""
            },
            "colorscale": [
             [
              0,
              "#0d0887"
             ],
             [
              0.1111111111111111,
              "#46039f"
             ],
             [
              0.2222222222222222,
              "#7201a8"
             ],
             [
              0.3333333333333333,
              "#9c179e"
             ],
             [
              0.4444444444444444,
              "#bd3786"
             ],
             [
              0.5555555555555556,
              "#d8576b"
             ],
             [
              0.6666666666666666,
              "#ed7953"
             ],
             [
              0.7777777777777778,
              "#fb9f3a"
             ],
             [
              0.8888888888888888,
              "#fdca26"
             ],
             [
              1,
              "#f0f921"
             ]
            ],
            "type": "heatmap"
           }
          ],
          "histogram": [
           {
            "marker": {
             "pattern": {
              "fillmode": "overlay",
              "size": 10,
              "solidity": 0.2
             }
            },
            "type": "histogram"
           }
          ],
          "histogram2d": [
           {
            "colorbar": {
             "outlinewidth": 0,
             "ticks": ""
            },
            "colorscale": [
             [
              0,
              "#0d0887"
             ],
             [
              0.1111111111111111,
              "#46039f"
             ],
             [
              0.2222222222222222,
              "#7201a8"
             ],
             [
              0.3333333333333333,
              "#9c179e"
             ],
             [
              0.4444444444444444,
              "#bd3786"
             ],
             [
              0.5555555555555556,
              "#d8576b"
             ],
             [
              0.6666666666666666,
              "#ed7953"
             ],
             [
              0.7777777777777778,
              "#fb9f3a"
             ],
             [
              0.8888888888888888,
              "#fdca26"
             ],
             [
              1,
              "#f0f921"
             ]
            ],
            "type": "histogram2d"
           }
          ],
          "histogram2dcontour": [
           {
            "colorbar": {
             "outlinewidth": 0,
             "ticks": ""
            },
            "colorscale": [
             [
              0,
              "#0d0887"
             ],
             [
              0.1111111111111111,
              "#46039f"
             ],
             [
              0.2222222222222222,
              "#7201a8"
             ],
             [
              0.3333333333333333,
              "#9c179e"
             ],
             [
              0.4444444444444444,
              "#bd3786"
             ],
             [
              0.5555555555555556,
              "#d8576b"
             ],
             [
              0.6666666666666666,
              "#ed7953"
             ],
             [
              0.7777777777777778,
              "#fb9f3a"
             ],
             [
              0.8888888888888888,
              "#fdca26"
             ],
             [
              1,
              "#f0f921"
             ]
            ],
            "type": "histogram2dcontour"
           }
          ],
          "mesh3d": [
           {
            "colorbar": {
             "outlinewidth": 0,
             "ticks": ""
            },
            "type": "mesh3d"
           }
          ],
          "parcoords": [
           {
            "line": {
             "colorbar": {
              "outlinewidth": 0,
              "ticks": ""
             }
            },
            "type": "parcoords"
           }
          ],
          "pie": [
           {
            "automargin": true,
            "type": "pie"
           }
          ],
          "scatter": [
           {
            "fillpattern": {
             "fillmode": "overlay",
             "size": 10,
             "solidity": 0.2
            },
            "type": "scatter"
           }
          ],
          "scatter3d": [
           {
            "line": {
             "colorbar": {
              "outlinewidth": 0,
              "ticks": ""
             }
            },
            "marker": {
             "colorbar": {
              "outlinewidth": 0,
              "ticks": ""
             }
            },
            "type": "scatter3d"
           }
          ],
          "scattercarpet": [
           {
            "marker": {
             "colorbar": {
              "outlinewidth": 0,
              "ticks": ""
             }
            },
            "type": "scattercarpet"
           }
          ],
          "scattergeo": [
           {
            "marker": {
             "colorbar": {
              "outlinewidth": 0,
              "ticks": ""
             }
            },
            "type": "scattergeo"
           }
          ],
          "scattergl": [
           {
            "marker": {
             "colorbar": {
              "outlinewidth": 0,
              "ticks": ""
             }
            },
            "type": "scattergl"
           }
          ],
          "scattermap": [
           {
            "marker": {
             "colorbar": {
              "outlinewidth": 0,
              "ticks": ""
             }
            },
            "type": "scattermap"
           }
          ],
          "scattermapbox": [
           {
            "marker": {
             "colorbar": {
              "outlinewidth": 0,
              "ticks": ""
             }
            },
            "type": "scattermapbox"
           }
          ],
          "scatterpolar": [
           {
            "marker": {
             "colorbar": {
              "outlinewidth": 0,
              "ticks": ""
             }
            },
            "type": "scatterpolar"
           }
          ],
          "scatterpolargl": [
           {
            "marker": {
             "colorbar": {
              "outlinewidth": 0,
              "ticks": ""
             }
            },
            "type": "scatterpolargl"
           }
          ],
          "scatterternary": [
           {
            "marker": {
             "colorbar": {
              "outlinewidth": 0,
              "ticks": ""
             }
            },
            "type": "scatterternary"
           }
          ],
          "surface": [
           {
            "colorbar": {
             "outlinewidth": 0,
             "ticks": ""
            },
            "colorscale": [
             [
              0,
              "#0d0887"
             ],
             [
              0.1111111111111111,
              "#46039f"
             ],
             [
              0.2222222222222222,
              "#7201a8"
             ],
             [
              0.3333333333333333,
              "#9c179e"
             ],
             [
              0.4444444444444444,
              "#bd3786"
             ],
             [
              0.5555555555555556,
              "#d8576b"
             ],
             [
              0.6666666666666666,
              "#ed7953"
             ],
             [
              0.7777777777777778,
              "#fb9f3a"
             ],
             [
              0.8888888888888888,
              "#fdca26"
             ],
             [
              1,
              "#f0f921"
             ]
            ],
            "type": "surface"
           }
          ],
          "table": [
           {
            "cells": {
             "fill": {
              "color": "#EBF0F8"
             },
             "line": {
              "color": "white"
             }
            },
            "header": {
             "fill": {
              "color": "#C8D4E3"
             },
             "line": {
              "color": "white"
             }
            },
            "type": "table"
           }
          ]
         },
         "layout": {
          "annotationdefaults": {
           "arrowcolor": "#2a3f5f",
           "arrowhead": 0,
           "arrowwidth": 1
          },
          "autotypenumbers": "strict",
          "coloraxis": {
           "colorbar": {
            "outlinewidth": 0,
            "ticks": ""
           }
          },
          "colorscale": {
           "diverging": [
            [
             0,
             "#8e0152"
            ],
            [
             0.1,
             "#c51b7d"
            ],
            [
             0.2,
             "#de77ae"
            ],
            [
             0.3,
             "#f1b6da"
            ],
            [
             0.4,
             "#fde0ef"
            ],
            [
             0.5,
             "#f7f7f7"
            ],
            [
             0.6,
             "#e6f5d0"
            ],
            [
             0.7,
             "#b8e186"
            ],
            [
             0.8,
             "#7fbc41"
            ],
            [
             0.9,
             "#4d9221"
            ],
            [
             1,
             "#276419"
            ]
           ],
           "sequential": [
            [
             0,
             "#0d0887"
            ],
            [
             0.1111111111111111,
             "#46039f"
            ],
            [
             0.2222222222222222,
             "#7201a8"
            ],
            [
             0.3333333333333333,
             "#9c179e"
            ],
            [
             0.4444444444444444,
             "#bd3786"
            ],
            [
             0.5555555555555556,
             "#d8576b"
            ],
            [
             0.6666666666666666,
             "#ed7953"
            ],
            [
             0.7777777777777778,
             "#fb9f3a"
            ],
            [
             0.8888888888888888,
             "#fdca26"
            ],
            [
             1,
             "#f0f921"
            ]
           ],
           "sequentialminus": [
            [
             0,
             "#0d0887"
            ],
            [
             0.1111111111111111,
             "#46039f"
            ],
            [
             0.2222222222222222,
             "#7201a8"
            ],
            [
             0.3333333333333333,
             "#9c179e"
            ],
            [
             0.4444444444444444,
             "#bd3786"
            ],
            [
             0.5555555555555556,
             "#d8576b"
            ],
            [
             0.6666666666666666,
             "#ed7953"
            ],
            [
             0.7777777777777778,
             "#fb9f3a"
            ],
            [
             0.8888888888888888,
             "#fdca26"
            ],
            [
             1,
             "#f0f921"
            ]
           ]
          },
          "colorway": [
           "#636efa",
           "#EF553B",
           "#00cc96",
           "#ab63fa",
           "#FFA15A",
           "#19d3f3",
           "#FF6692",
           "#B6E880",
           "#FF97FF",
           "#FECB52"
          ],
          "font": {
           "color": "#2a3f5f"
          },
          "geo": {
           "bgcolor": "white",
           "lakecolor": "white",
           "landcolor": "white",
           "showlakes": true,
           "showland": true,
           "subunitcolor": "#C8D4E3"
          },
          "hoverlabel": {
           "align": "left"
          },
          "hovermode": "closest",
          "mapbox": {
           "style": "light"
          },
          "paper_bgcolor": "white",
          "plot_bgcolor": "white",
          "polar": {
           "angularaxis": {
            "gridcolor": "#EBF0F8",
            "linecolor": "#EBF0F8",
            "ticks": ""
           },
           "bgcolor": "white",
           "radialaxis": {
            "gridcolor": "#EBF0F8",
            "linecolor": "#EBF0F8",
            "ticks": ""
           }
          },
          "scene": {
           "xaxis": {
            "backgroundcolor": "white",
            "gridcolor": "#DFE8F3",
            "gridwidth": 2,
            "linecolor": "#EBF0F8",
            "showbackground": true,
            "ticks": "",
            "zerolinecolor": "#EBF0F8"
           },
           "yaxis": {
            "backgroundcolor": "white",
            "gridcolor": "#DFE8F3",
            "gridwidth": 2,
            "linecolor": "#EBF0F8",
            "showbackground": true,
            "ticks": "",
            "zerolinecolor": "#EBF0F8"
           },
           "zaxis": {
            "backgroundcolor": "white",
            "gridcolor": "#DFE8F3",
            "gridwidth": 2,
            "linecolor": "#EBF0F8",
            "showbackground": true,
            "ticks": "",
            "zerolinecolor": "#EBF0F8"
           }
          },
          "shapedefaults": {
           "line": {
            "color": "#2a3f5f"
           }
          },
          "ternary": {
           "aaxis": {
            "gridcolor": "#DFE8F3",
            "linecolor": "#A2B1C6",
            "ticks": ""
           },
           "baxis": {
            "gridcolor": "#DFE8F3",
            "linecolor": "#A2B1C6",
            "ticks": ""
           },
           "bgcolor": "white",
           "caxis": {
            "gridcolor": "#DFE8F3",
            "linecolor": "#A2B1C6",
            "ticks": ""
           }
          },
          "title": {
           "x": 0.05
          },
          "xaxis": {
           "automargin": true,
           "gridcolor": "#EBF0F8",
           "linecolor": "#EBF0F8",
           "ticks": "",
           "title": {
            "standoff": 15
           },
           "zerolinecolor": "#EBF0F8",
           "zerolinewidth": 2
          },
          "yaxis": {
           "automargin": true,
           "gridcolor": "#EBF0F8",
           "linecolor": "#EBF0F8",
           "ticks": "",
           "title": {
            "standoff": 15
           },
           "zerolinecolor": "#EBF0F8",
           "zerolinewidth": 2
          }
         }
        },
        "title": {
         "text": "My Chess.com Elo rating"
        },
        "xaxis": {
         "showgrid": true,
         "title": {
          "text": "Date"
         }
        },
        "yaxis": {
         "showgrid": true,
         "title": {
          "text": "My Elo"
         }
        }
       }
      }
     },
     "metadata": {},
     "output_type": "display_data"
    }
   ],
   "source": [
    "# Aggregate 'My_Elo' values by date\n",
    "df_daily = df.groupby('datetime_warsaw')['My_Elo'].mean().reset_index()\n",
    "\n",
    "# Create the figure\n",
    "fig = go.Figure()\n",
    "\n",
    "# Add trace\n",
    "fig.add_trace(go.Scatter(\n",
    "    x=df_daily['datetime_warsaw'],\n",
    "    y=df_daily['My_Elo'],\n",
    "    mode='lines+markers',\n",
    "    name='My Elo'\n",
    "))\n",
    "\n",
    "# Update layout to match the style of the Matplotlib plot\n",
    "fig.update_layout(\n",
    "    title='My Chess.com Elo rating',\n",
    "    xaxis_title='Date',\n",
    "    yaxis_title='My Elo',\n",
    "    xaxis=dict(showgrid=True),\n",
    "    yaxis=dict(showgrid=True),\n",
    "    template='plotly_white'\n",
    ")\n",
    "\n",
    "# Show plot\n",
    "fig.show()"
   ]
  },
  {
   "cell_type": "code",
   "execution_count": 34,
   "id": "8d0b21c7-3566-4f5f-a8bd-2dcce0ca629d",
   "metadata": {},
   "outputs": [
    {
     "data": {
      "application/vnd.plotly.v1+json": {
       "config": {
        "plotlyServerURL": "https://plot.ly"
       },
       "data": [
        {
         "mode": "lines+markers",
         "name": "My Elo",
         "type": "scatter",
         "x": [
          "2023-08-28T00:00:00.000000000",
          "2023-08-29T00:00:00.000000000",
          "2023-08-30T00:00:00.000000000",
          "2023-08-31T00:00:00.000000000",
          "2023-09-01T00:00:00.000000000",
          "2023-09-02T00:00:00.000000000",
          "2023-09-03T00:00:00.000000000",
          "2023-09-04T00:00:00.000000000",
          "2023-09-05T00:00:00.000000000",
          "2023-09-06T00:00:00.000000000",
          "2023-09-07T00:00:00.000000000",
          "2023-09-08T00:00:00.000000000",
          "2023-09-10T00:00:00.000000000",
          "2023-09-11T00:00:00.000000000",
          "2023-09-13T00:00:00.000000000",
          "2023-09-14T00:00:00.000000000",
          "2023-09-15T00:00:00.000000000",
          "2023-09-16T00:00:00.000000000",
          "2023-09-17T00:00:00.000000000",
          "2023-09-18T00:00:00.000000000",
          "2023-09-19T00:00:00.000000000",
          "2023-09-20T00:00:00.000000000",
          "2023-09-21T00:00:00.000000000",
          "2023-09-22T00:00:00.000000000",
          "2023-09-23T00:00:00.000000000",
          "2023-09-24T00:00:00.000000000",
          "2023-09-26T00:00:00.000000000",
          "2023-09-27T00:00:00.000000000",
          "2023-09-28T00:00:00.000000000",
          "2023-09-29T00:00:00.000000000",
          "2023-09-30T00:00:00.000000000",
          "2023-10-01T00:00:00.000000000",
          "2023-10-02T00:00:00.000000000",
          "2023-10-04T00:00:00.000000000",
          "2023-10-05T00:00:00.000000000",
          "2023-10-06T00:00:00.000000000",
          "2023-10-07T00:00:00.000000000",
          "2023-10-08T00:00:00.000000000",
          "2023-10-09T00:00:00.000000000",
          "2023-10-10T00:00:00.000000000",
          "2023-10-11T00:00:00.000000000",
          "2023-10-12T00:00:00.000000000",
          "2023-10-13T00:00:00.000000000",
          "2023-10-15T00:00:00.000000000",
          "2023-10-16T00:00:00.000000000",
          "2023-10-17T00:00:00.000000000",
          "2023-10-18T00:00:00.000000000",
          "2023-10-19T00:00:00.000000000",
          "2023-10-21T00:00:00.000000000",
          "2023-10-22T00:00:00.000000000",
          "2023-10-23T00:00:00.000000000",
          "2023-10-24T00:00:00.000000000",
          "2023-10-29T00:00:00.000000000",
          "2023-10-30T00:00:00.000000000",
          "2023-10-31T00:00:00.000000000",
          "2023-11-02T00:00:00.000000000",
          "2023-11-03T00:00:00.000000000",
          "2023-11-04T00:00:00.000000000",
          "2023-11-05T00:00:00.000000000",
          "2023-11-06T00:00:00.000000000",
          "2023-11-07T00:00:00.000000000",
          "2023-11-08T00:00:00.000000000",
          "2023-11-09T00:00:00.000000000",
          "2023-11-10T00:00:00.000000000",
          "2023-11-12T00:00:00.000000000",
          "2023-11-13T00:00:00.000000000",
          "2023-11-14T00:00:00.000000000",
          "2023-11-15T00:00:00.000000000",
          "2023-11-16T00:00:00.000000000",
          "2023-11-18T00:00:00.000000000",
          "2023-11-19T00:00:00.000000000",
          "2023-11-20T00:00:00.000000000",
          "2023-11-21T00:00:00.000000000",
          "2023-11-22T00:00:00.000000000",
          "2023-11-23T00:00:00.000000000",
          "2023-11-24T00:00:00.000000000",
          "2023-11-25T00:00:00.000000000",
          "2023-11-26T00:00:00.000000000",
          "2023-11-27T00:00:00.000000000",
          "2023-11-28T00:00:00.000000000",
          "2023-11-29T00:00:00.000000000",
          "2023-11-30T00:00:00.000000000",
          "2023-12-01T00:00:00.000000000",
          "2023-12-02T00:00:00.000000000",
          "2023-12-03T00:00:00.000000000",
          "2023-12-04T00:00:00.000000000",
          "2023-12-05T00:00:00.000000000",
          "2023-12-06T00:00:00.000000000",
          "2023-12-07T00:00:00.000000000",
          "2023-12-08T00:00:00.000000000",
          "2023-12-09T00:00:00.000000000",
          "2023-12-10T00:00:00.000000000",
          "2023-12-11T00:00:00.000000000",
          "2023-12-12T00:00:00.000000000",
          "2023-12-13T00:00:00.000000000",
          "2023-12-14T00:00:00.000000000",
          "2023-12-15T00:00:00.000000000",
          "2023-12-16T00:00:00.000000000",
          "2023-12-17T00:00:00.000000000",
          "2023-12-18T00:00:00.000000000",
          "2023-12-19T00:00:00.000000000",
          "2023-12-20T00:00:00.000000000",
          "2023-12-21T00:00:00.000000000",
          "2023-12-22T00:00:00.000000000",
          "2023-12-23T00:00:00.000000000",
          "2023-12-24T00:00:00.000000000",
          "2023-12-25T00:00:00.000000000",
          "2023-12-26T00:00:00.000000000",
          "2023-12-27T00:00:00.000000000",
          "2023-12-28T00:00:00.000000000",
          "2023-12-29T00:00:00.000000000",
          "2023-12-31T00:00:00.000000000",
          "2024-01-01T00:00:00.000000000",
          "2024-01-03T00:00:00.000000000",
          "2024-01-04T00:00:00.000000000",
          "2024-01-05T00:00:00.000000000",
          "2024-01-06T00:00:00.000000000",
          "2024-01-07T00:00:00.000000000",
          "2024-01-08T00:00:00.000000000",
          "2024-01-09T00:00:00.000000000",
          "2024-01-10T00:00:00.000000000",
          "2024-01-11T00:00:00.000000000",
          "2024-01-12T00:00:00.000000000",
          "2024-01-13T00:00:00.000000000",
          "2024-01-14T00:00:00.000000000",
          "2024-01-15T00:00:00.000000000",
          "2024-01-16T00:00:00.000000000",
          "2024-01-17T00:00:00.000000000",
          "2024-01-18T00:00:00.000000000",
          "2024-01-19T00:00:00.000000000",
          "2024-01-20T00:00:00.000000000",
          "2024-01-21T00:00:00.000000000",
          "2024-01-22T00:00:00.000000000",
          "2024-01-23T00:00:00.000000000",
          "2024-01-24T00:00:00.000000000",
          "2024-01-26T00:00:00.000000000",
          "2024-01-27T00:00:00.000000000",
          "2024-01-28T00:00:00.000000000",
          "2024-01-29T00:00:00.000000000",
          "2024-01-31T00:00:00.000000000",
          "2024-02-01T00:00:00.000000000",
          "2024-02-02T00:00:00.000000000",
          "2024-02-03T00:00:00.000000000",
          "2024-02-04T00:00:00.000000000",
          "2024-02-05T00:00:00.000000000",
          "2024-02-06T00:00:00.000000000",
          "2024-02-07T00:00:00.000000000",
          "2024-02-08T00:00:00.000000000",
          "2024-02-09T00:00:00.000000000",
          "2024-02-10T00:00:00.000000000",
          "2024-02-11T00:00:00.000000000",
          "2024-02-12T00:00:00.000000000",
          "2024-02-13T00:00:00.000000000",
          "2024-02-14T00:00:00.000000000",
          "2024-02-17T00:00:00.000000000",
          "2024-02-18T00:00:00.000000000",
          "2024-02-19T00:00:00.000000000",
          "2024-02-21T00:00:00.000000000",
          "2024-02-22T00:00:00.000000000",
          "2024-02-23T00:00:00.000000000",
          "2024-02-24T00:00:00.000000000",
          "2024-02-25T00:00:00.000000000",
          "2024-02-26T00:00:00.000000000",
          "2024-02-27T00:00:00.000000000",
          "2024-02-28T00:00:00.000000000",
          "2024-03-01T00:00:00.000000000",
          "2024-03-02T00:00:00.000000000",
          "2024-03-03T00:00:00.000000000",
          "2024-03-04T00:00:00.000000000",
          "2024-03-05T00:00:00.000000000",
          "2024-03-06T00:00:00.000000000",
          "2024-03-07T00:00:00.000000000",
          "2024-03-08T00:00:00.000000000",
          "2024-03-09T00:00:00.000000000",
          "2024-03-10T00:00:00.000000000",
          "2024-03-11T00:00:00.000000000",
          "2024-03-12T00:00:00.000000000",
          "2024-03-13T00:00:00.000000000",
          "2024-03-14T00:00:00.000000000",
          "2024-03-15T00:00:00.000000000",
          "2024-03-17T00:00:00.000000000",
          "2024-03-18T00:00:00.000000000",
          "2024-03-19T00:00:00.000000000",
          "2024-03-20T00:00:00.000000000",
          "2024-03-21T00:00:00.000000000",
          "2024-03-22T00:00:00.000000000",
          "2024-03-24T00:00:00.000000000",
          "2024-03-25T00:00:00.000000000",
          "2024-03-26T00:00:00.000000000",
          "2024-03-27T00:00:00.000000000",
          "2024-03-28T00:00:00.000000000",
          "2024-03-29T00:00:00.000000000",
          "2024-03-30T00:00:00.000000000",
          "2024-03-31T00:00:00.000000000",
          "2024-04-01T00:00:00.000000000",
          "2024-04-02T00:00:00.000000000",
          "2024-04-03T00:00:00.000000000",
          "2024-04-04T00:00:00.000000000",
          "2024-04-05T00:00:00.000000000",
          "2024-04-06T00:00:00.000000000",
          "2024-04-07T00:00:00.000000000",
          "2024-04-08T00:00:00.000000000",
          "2024-04-09T00:00:00.000000000",
          "2024-04-10T00:00:00.000000000",
          "2024-04-11T00:00:00.000000000",
          "2024-04-12T00:00:00.000000000",
          "2024-04-13T00:00:00.000000000",
          "2024-04-14T00:00:00.000000000",
          "2024-04-15T00:00:00.000000000",
          "2024-04-16T00:00:00.000000000",
          "2024-04-17T00:00:00.000000000",
          "2024-04-18T00:00:00.000000000",
          "2024-04-19T00:00:00.000000000",
          "2024-04-20T00:00:00.000000000",
          "2024-04-21T00:00:00.000000000",
          "2024-04-22T00:00:00.000000000",
          "2024-04-23T00:00:00.000000000",
          "2024-04-24T00:00:00.000000000",
          "2024-04-25T00:00:00.000000000",
          "2024-04-26T00:00:00.000000000",
          "2024-04-29T00:00:00.000000000",
          "2024-05-01T00:00:00.000000000",
          "2024-05-05T00:00:00.000000000",
          "2024-05-06T00:00:00.000000000",
          "2024-05-08T00:00:00.000000000",
          "2024-05-09T00:00:00.000000000",
          "2024-05-10T00:00:00.000000000",
          "2024-05-12T00:00:00.000000000",
          "2024-05-13T00:00:00.000000000",
          "2024-05-14T00:00:00.000000000",
          "2024-05-17T00:00:00.000000000",
          "2024-05-22T00:00:00.000000000",
          "2024-05-23T00:00:00.000000000",
          "2024-05-24T00:00:00.000000000",
          "2024-05-27T00:00:00.000000000",
          "2024-05-28T00:00:00.000000000",
          "2024-05-29T00:00:00.000000000",
          "2024-05-31T00:00:00.000000000",
          "2024-06-02T00:00:00.000000000",
          "2024-06-03T00:00:00.000000000",
          "2024-06-04T00:00:00.000000000",
          "2024-06-05T00:00:00.000000000",
          "2024-06-06T00:00:00.000000000",
          "2024-06-07T00:00:00.000000000",
          "2024-06-08T00:00:00.000000000",
          "2024-06-09T00:00:00.000000000",
          "2024-06-10T00:00:00.000000000",
          "2024-06-11T00:00:00.000000000",
          "2024-06-12T00:00:00.000000000",
          "2024-06-13T00:00:00.000000000",
          "2024-06-14T00:00:00.000000000",
          "2024-06-17T00:00:00.000000000",
          "2024-06-18T00:00:00.000000000",
          "2024-06-19T00:00:00.000000000",
          "2024-06-20T00:00:00.000000000",
          "2024-06-24T00:00:00.000000000",
          "2024-06-25T00:00:00.000000000",
          "2024-06-26T00:00:00.000000000",
          "2024-06-27T00:00:00.000000000",
          "2024-06-28T00:00:00.000000000",
          "2024-06-29T00:00:00.000000000",
          "2024-06-30T00:00:00.000000000",
          "2024-07-01T00:00:00.000000000",
          "2024-07-02T00:00:00.000000000",
          "2024-07-03T00:00:00.000000000",
          "2024-07-04T00:00:00.000000000",
          "2024-07-06T00:00:00.000000000",
          "2024-07-07T00:00:00.000000000",
          "2024-07-08T00:00:00.000000000",
          "2024-07-09T00:00:00.000000000",
          "2024-07-10T00:00:00.000000000",
          "2024-07-11T00:00:00.000000000",
          "2024-07-12T00:00:00.000000000",
          "2024-07-14T00:00:00.000000000",
          "2024-07-15T00:00:00.000000000",
          "2024-07-16T00:00:00.000000000",
          "2024-07-17T00:00:00.000000000",
          "2024-07-18T00:00:00.000000000",
          "2024-07-21T00:00:00.000000000",
          "2024-07-22T00:00:00.000000000",
          "2024-07-23T00:00:00.000000000",
          "2024-07-24T00:00:00.000000000",
          "2024-07-25T00:00:00.000000000",
          "2024-07-26T00:00:00.000000000",
          "2024-07-27T00:00:00.000000000",
          "2024-07-28T00:00:00.000000000",
          "2024-07-29T00:00:00.000000000",
          "2024-08-06T00:00:00.000000000",
          "2024-08-07T00:00:00.000000000",
          "2024-08-08T00:00:00.000000000",
          "2024-08-09T00:00:00.000000000",
          "2024-08-10T00:00:00.000000000",
          "2024-08-11T00:00:00.000000000",
          "2024-08-12T00:00:00.000000000",
          "2024-08-13T00:00:00.000000000",
          "2024-08-14T00:00:00.000000000",
          "2024-08-16T00:00:00.000000000",
          "2024-08-17T00:00:00.000000000",
          "2024-09-10T00:00:00.000000000",
          "2024-09-16T00:00:00.000000000",
          "2024-09-17T00:00:00.000000000",
          "2024-09-20T00:00:00.000000000",
          "2024-09-21T00:00:00.000000000",
          "2024-09-25T00:00:00.000000000",
          "2024-09-26T00:00:00.000000000",
          "2024-09-27T00:00:00.000000000",
          "2024-09-30T00:00:00.000000000",
          "2024-10-01T00:00:00.000000000",
          "2024-10-02T00:00:00.000000000",
          "2024-10-03T00:00:00.000000000",
          "2024-10-04T00:00:00.000000000",
          "2024-10-05T00:00:00.000000000",
          "2024-10-06T00:00:00.000000000",
          "2024-10-07T00:00:00.000000000",
          "2024-10-08T00:00:00.000000000",
          "2024-10-09T00:00:00.000000000",
          "2024-10-10T00:00:00.000000000",
          "2024-10-13T00:00:00.000000000",
          "2024-10-14T00:00:00.000000000",
          "2024-10-15T00:00:00.000000000",
          "2024-10-16T00:00:00.000000000",
          "2024-10-17T00:00:00.000000000",
          "2024-10-18T00:00:00.000000000",
          "2024-10-20T00:00:00.000000000",
          "2024-10-21T00:00:00.000000000",
          "2024-10-22T00:00:00.000000000",
          "2024-10-23T00:00:00.000000000",
          "2024-10-30T00:00:00.000000000",
          "2024-10-31T00:00:00.000000000",
          "2024-11-03T00:00:00.000000000",
          "2024-11-04T00:00:00.000000000",
          "2024-11-05T00:00:00.000000000",
          "2024-11-06T00:00:00.000000000",
          "2024-11-07T00:00:00.000000000",
          "2024-11-08T00:00:00.000000000",
          "2024-11-12T00:00:00.000000000",
          "2024-11-13T00:00:00.000000000",
          "2024-11-14T00:00:00.000000000",
          "2024-11-15T00:00:00.000000000",
          "2024-11-18T00:00:00.000000000",
          "2024-11-19T00:00:00.000000000",
          "2024-11-20T00:00:00.000000000",
          "2024-11-21T00:00:00.000000000",
          "2024-11-22T00:00:00.000000000",
          "2024-11-24T00:00:00.000000000",
          "2024-11-25T00:00:00.000000000",
          "2024-11-26T00:00:00.000000000",
          "2024-11-27T00:00:00.000000000",
          "2024-11-28T00:00:00.000000000",
          "2024-11-30T00:00:00.000000000",
          "2024-12-01T00:00:00.000000000",
          "2024-12-02T00:00:00.000000000",
          "2024-12-03T00:00:00.000000000",
          "2024-12-04T00:00:00.000000000",
          "2024-12-06T00:00:00.000000000",
          "2024-12-09T00:00:00.000000000",
          "2024-12-10T00:00:00.000000000",
          "2024-12-11T00:00:00.000000000",
          "2024-12-13T00:00:00.000000000",
          "2024-12-14T00:00:00.000000000",
          "2024-12-15T00:00:00.000000000",
          "2024-12-16T00:00:00.000000000",
          "2024-12-17T00:00:00.000000000",
          "2024-12-18T00:00:00.000000000",
          "2024-12-19T00:00:00.000000000",
          "2024-12-20T00:00:00.000000000",
          "2024-12-21T00:00:00.000000000",
          "2024-12-22T00:00:00.000000000",
          "2024-12-23T00:00:00.000000000",
          "2024-12-25T00:00:00.000000000",
          "2024-12-26T00:00:00.000000000",
          "2024-12-27T00:00:00.000000000",
          "2024-12-28T00:00:00.000000000",
          "2024-12-29T00:00:00.000000000",
          "2024-12-30T00:00:00.000000000",
          "2025-01-01T00:00:00.000000000",
          "2025-01-02T00:00:00.000000000",
          "2025-01-04T00:00:00.000000000",
          "2025-01-05T00:00:00.000000000",
          "2025-01-06T00:00:00.000000000",
          "2025-01-07T00:00:00.000000000",
          "2025-01-08T00:00:00.000000000",
          "2025-01-09T00:00:00.000000000",
          "2025-01-10T00:00:00.000000000",
          "2025-01-12T00:00:00.000000000",
          "2025-01-14T00:00:00.000000000",
          "2025-01-15T00:00:00.000000000",
          "2025-01-16T00:00:00.000000000",
          "2025-01-17T00:00:00.000000000",
          "2025-01-18T00:00:00.000000000",
          "2025-01-24T00:00:00.000000000",
          "2025-01-25T00:00:00.000000000",
          "2025-01-26T00:00:00.000000000",
          "2025-01-27T00:00:00.000000000",
          "2025-01-30T00:00:00.000000000",
          "2025-01-31T00:00:00.000000000",
          "2025-02-02T00:00:00.000000000",
          "2025-02-03T00:00:00.000000000",
          "2025-02-04T00:00:00.000000000",
          "2025-02-05T00:00:00.000000000",
          "2025-02-06T00:00:00.000000000",
          "2025-02-07T00:00:00.000000000",
          "2025-02-08T00:00:00.000000000",
          "2025-02-09T00:00:00.000000000",
          "2025-02-10T00:00:00.000000000",
          "2025-02-11T00:00:00.000000000",
          "2025-02-12T00:00:00.000000000",
          "2025-02-13T00:00:00.000000000",
          "2025-02-14T00:00:00.000000000",
          "2025-02-15T00:00:00.000000000",
          "2025-02-16T00:00:00.000000000",
          "2025-02-17T00:00:00.000000000",
          "2025-02-18T00:00:00.000000000",
          "2025-02-19T00:00:00.000000000",
          "2025-02-20T00:00:00.000000000",
          "2025-02-21T00:00:00.000000000",
          "2025-02-22T00:00:00.000000000",
          "2025-02-23T00:00:00.000000000",
          "2025-02-24T00:00:00.000000000",
          "2025-02-25T00:00:00.000000000",
          "2025-02-27T00:00:00.000000000",
          "2025-03-03T00:00:00.000000000",
          "2025-03-04T00:00:00.000000000",
          "2025-03-05T00:00:00.000000000",
          "2025-03-06T00:00:00.000000000",
          "2025-03-07T00:00:00.000000000",
          "2025-03-08T00:00:00.000000000",
          "2025-03-09T00:00:00.000000000",
          "2025-03-10T00:00:00.000000000",
          "2025-03-11T00:00:00.000000000",
          "2025-03-12T00:00:00.000000000",
          "2025-03-13T00:00:00.000000000",
          "2025-03-14T00:00:00.000000000",
          "2025-03-17T00:00:00.000000000",
          "2025-03-18T00:00:00.000000000",
          "2025-03-19T00:00:00.000000000",
          "2025-03-20T00:00:00.000000000",
          "2025-03-21T00:00:00.000000000",
          "2025-03-22T00:00:00.000000000",
          "2025-03-23T00:00:00.000000000",
          "2025-03-24T00:00:00.000000000",
          "2025-03-25T00:00:00.000000000",
          "2025-03-26T00:00:00.000000000",
          "2025-03-27T00:00:00.000000000",
          "2025-03-28T00:00:00.000000000",
          "2025-03-29T00:00:00.000000000",
          "2025-03-30T00:00:00.000000000",
          "2025-03-31T00:00:00.000000000",
          "2025-04-01T00:00:00.000000000",
          "2025-04-02T00:00:00.000000000",
          "2025-04-03T00:00:00.000000000",
          "2025-04-04T00:00:00.000000000",
          "2025-04-05T00:00:00.000000000",
          "2025-04-06T00:00:00.000000000",
          "2025-04-07T00:00:00.000000000",
          "2025-04-08T00:00:00.000000000",
          "2025-04-09T00:00:00.000000000",
          "2025-04-10T00:00:00.000000000",
          "2025-04-11T00:00:00.000000000",
          "2025-04-13T00:00:00.000000000",
          "2025-04-14T00:00:00.000000000",
          "2025-04-15T00:00:00.000000000",
          "2025-04-16T00:00:00.000000000",
          "2025-04-17T00:00:00.000000000",
          "2025-04-24T00:00:00.000000000",
          "2025-04-28T00:00:00.000000000",
          "2025-04-29T00:00:00.000000000",
          "2025-04-30T00:00:00.000000000",
          "2025-05-05T00:00:00.000000000",
          "2025-05-06T00:00:00.000000000",
          "2025-05-07T00:00:00.000000000",
          "2025-05-08T00:00:00.000000000"
         ],
         "y": {
          "bdata": "AQIFBQYGAwMCAwUCAgMJBwIGDgUEBgYGAgQEAgEBCwQCAgMBAQEFAwICBgICAQIEAQECBgMGCQ4KAwgLDAcFARIREwsEBAMCDwgQEQgDFBcMCwgFBQsLCgcKAQEEBwUMBAIDAQEGCgECAgYBBwMEAgMCBwIBDgYGBAUGCAwGBgoIBgoDAgoEAggBAwkCBgEDBQcDCgYDBQQGBAcCAwQECQIJAQEBBAMDBAYHAwgCAQcDBQoDAgwaEg0DAggNEQ8JAwMCAgIHDgIFDAYCCAkCAgQCBQoEAgIIAgcCAQMCAQICBgcBBgMBAQkGARILAwEOIA4ZFA8IDgUFCAEJBQcCAgEFAQECCQUEAgkCCBICBgYCAQIKCwECBwEHBAoEBAkHAwcDBAUEBAMBAQEBBQEFAQEBAQMEAQQDAgUBAgEBAgYIBQMCBwICBAIHCxUOCAICAg0JAwcFAgICAwQEAgUJDAcDAgQQBAIDBhIKCQcCBgIDAQECAQQDBQMEAwQDBgUFAwMEAgMBAgQFBgUCAwIDDA0JBQQKBQQGDgQEAgIKCQsBBAMEBQMHAgIRCAIEAgICAQIHBwUEDAQMCRUJBAEDAQwRAwYCAQYIBgcHAQECAQMDAQIDBQ0FCg==",
          "dtype": "i1"
         }
        }
       ],
       "layout": {
        "template": {
         "data": {
          "bar": [
           {
            "error_x": {
             "color": "#2a3f5f"
            },
            "error_y": {
             "color": "#2a3f5f"
            },
            "marker": {
             "line": {
              "color": "white",
              "width": 0.5
             },
             "pattern": {
              "fillmode": "overlay",
              "size": 10,
              "solidity": 0.2
             }
            },
            "type": "bar"
           }
          ],
          "barpolar": [
           {
            "marker": {
             "line": {
              "color": "white",
              "width": 0.5
             },
             "pattern": {
              "fillmode": "overlay",
              "size": 10,
              "solidity": 0.2
             }
            },
            "type": "barpolar"
           }
          ],
          "carpet": [
           {
            "aaxis": {
             "endlinecolor": "#2a3f5f",
             "gridcolor": "#C8D4E3",
             "linecolor": "#C8D4E3",
             "minorgridcolor": "#C8D4E3",
             "startlinecolor": "#2a3f5f"
            },
            "baxis": {
             "endlinecolor": "#2a3f5f",
             "gridcolor": "#C8D4E3",
             "linecolor": "#C8D4E3",
             "minorgridcolor": "#C8D4E3",
             "startlinecolor": "#2a3f5f"
            },
            "type": "carpet"
           }
          ],
          "choropleth": [
           {
            "colorbar": {
             "outlinewidth": 0,
             "ticks": ""
            },
            "type": "choropleth"
           }
          ],
          "contour": [
           {
            "colorbar": {
             "outlinewidth": 0,
             "ticks": ""
            },
            "colorscale": [
             [
              0,
              "#0d0887"
             ],
             [
              0.1111111111111111,
              "#46039f"
             ],
             [
              0.2222222222222222,
              "#7201a8"
             ],
             [
              0.3333333333333333,
              "#9c179e"
             ],
             [
              0.4444444444444444,
              "#bd3786"
             ],
             [
              0.5555555555555556,
              "#d8576b"
             ],
             [
              0.6666666666666666,
              "#ed7953"
             ],
             [
              0.7777777777777778,
              "#fb9f3a"
             ],
             [
              0.8888888888888888,
              "#fdca26"
             ],
             [
              1,
              "#f0f921"
             ]
            ],
            "type": "contour"
           }
          ],
          "contourcarpet": [
           {
            "colorbar": {
             "outlinewidth": 0,
             "ticks": ""
            },
            "type": "contourcarpet"
           }
          ],
          "heatmap": [
           {
            "colorbar": {
             "outlinewidth": 0,
             "ticks": ""
            },
            "colorscale": [
             [
              0,
              "#0d0887"
             ],
             [
              0.1111111111111111,
              "#46039f"
             ],
             [
              0.2222222222222222,
              "#7201a8"
             ],
             [
              0.3333333333333333,
              "#9c179e"
             ],
             [
              0.4444444444444444,
              "#bd3786"
             ],
             [
              0.5555555555555556,
              "#d8576b"
             ],
             [
              0.6666666666666666,
              "#ed7953"
             ],
             [
              0.7777777777777778,
              "#fb9f3a"
             ],
             [
              0.8888888888888888,
              "#fdca26"
             ],
             [
              1,
              "#f0f921"
             ]
            ],
            "type": "heatmap"
           }
          ],
          "histogram": [
           {
            "marker": {
             "pattern": {
              "fillmode": "overlay",
              "size": 10,
              "solidity": 0.2
             }
            },
            "type": "histogram"
           }
          ],
          "histogram2d": [
           {
            "colorbar": {
             "outlinewidth": 0,
             "ticks": ""
            },
            "colorscale": [
             [
              0,
              "#0d0887"
             ],
             [
              0.1111111111111111,
              "#46039f"
             ],
             [
              0.2222222222222222,
              "#7201a8"
             ],
             [
              0.3333333333333333,
              "#9c179e"
             ],
             [
              0.4444444444444444,
              "#bd3786"
             ],
             [
              0.5555555555555556,
              "#d8576b"
             ],
             [
              0.6666666666666666,
              "#ed7953"
             ],
             [
              0.7777777777777778,
              "#fb9f3a"
             ],
             [
              0.8888888888888888,
              "#fdca26"
             ],
             [
              1,
              "#f0f921"
             ]
            ],
            "type": "histogram2d"
           }
          ],
          "histogram2dcontour": [
           {
            "colorbar": {
             "outlinewidth": 0,
             "ticks": ""
            },
            "colorscale": [
             [
              0,
              "#0d0887"
             ],
             [
              0.1111111111111111,
              "#46039f"
             ],
             [
              0.2222222222222222,
              "#7201a8"
             ],
             [
              0.3333333333333333,
              "#9c179e"
             ],
             [
              0.4444444444444444,
              "#bd3786"
             ],
             [
              0.5555555555555556,
              "#d8576b"
             ],
             [
              0.6666666666666666,
              "#ed7953"
             ],
             [
              0.7777777777777778,
              "#fb9f3a"
             ],
             [
              0.8888888888888888,
              "#fdca26"
             ],
             [
              1,
              "#f0f921"
             ]
            ],
            "type": "histogram2dcontour"
           }
          ],
          "mesh3d": [
           {
            "colorbar": {
             "outlinewidth": 0,
             "ticks": ""
            },
            "type": "mesh3d"
           }
          ],
          "parcoords": [
           {
            "line": {
             "colorbar": {
              "outlinewidth": 0,
              "ticks": ""
             }
            },
            "type": "parcoords"
           }
          ],
          "pie": [
           {
            "automargin": true,
            "type": "pie"
           }
          ],
          "scatter": [
           {
            "fillpattern": {
             "fillmode": "overlay",
             "size": 10,
             "solidity": 0.2
            },
            "type": "scatter"
           }
          ],
          "scatter3d": [
           {
            "line": {
             "colorbar": {
              "outlinewidth": 0,
              "ticks": ""
             }
            },
            "marker": {
             "colorbar": {
              "outlinewidth": 0,
              "ticks": ""
             }
            },
            "type": "scatter3d"
           }
          ],
          "scattercarpet": [
           {
            "marker": {
             "colorbar": {
              "outlinewidth": 0,
              "ticks": ""
             }
            },
            "type": "scattercarpet"
           }
          ],
          "scattergeo": [
           {
            "marker": {
             "colorbar": {
              "outlinewidth": 0,
              "ticks": ""
             }
            },
            "type": "scattergeo"
           }
          ],
          "scattergl": [
           {
            "marker": {
             "colorbar": {
              "outlinewidth": 0,
              "ticks": ""
             }
            },
            "type": "scattergl"
           }
          ],
          "scattermap": [
           {
            "marker": {
             "colorbar": {
              "outlinewidth": 0,
              "ticks": ""
             }
            },
            "type": "scattermap"
           }
          ],
          "scattermapbox": [
           {
            "marker": {
             "colorbar": {
              "outlinewidth": 0,
              "ticks": ""
             }
            },
            "type": "scattermapbox"
           }
          ],
          "scatterpolar": [
           {
            "marker": {
             "colorbar": {
              "outlinewidth": 0,
              "ticks": ""
             }
            },
            "type": "scatterpolar"
           }
          ],
          "scatterpolargl": [
           {
            "marker": {
             "colorbar": {
              "outlinewidth": 0,
              "ticks": ""
             }
            },
            "type": "scatterpolargl"
           }
          ],
          "scatterternary": [
           {
            "marker": {
             "colorbar": {
              "outlinewidth": 0,
              "ticks": ""
             }
            },
            "type": "scatterternary"
           }
          ],
          "surface": [
           {
            "colorbar": {
             "outlinewidth": 0,
             "ticks": ""
            },
            "colorscale": [
             [
              0,
              "#0d0887"
             ],
             [
              0.1111111111111111,
              "#46039f"
             ],
             [
              0.2222222222222222,
              "#7201a8"
             ],
             [
              0.3333333333333333,
              "#9c179e"
             ],
             [
              0.4444444444444444,
              "#bd3786"
             ],
             [
              0.5555555555555556,
              "#d8576b"
             ],
             [
              0.6666666666666666,
              "#ed7953"
             ],
             [
              0.7777777777777778,
              "#fb9f3a"
             ],
             [
              0.8888888888888888,
              "#fdca26"
             ],
             [
              1,
              "#f0f921"
             ]
            ],
            "type": "surface"
           }
          ],
          "table": [
           {
            "cells": {
             "fill": {
              "color": "#EBF0F8"
             },
             "line": {
              "color": "white"
             }
            },
            "header": {
             "fill": {
              "color": "#C8D4E3"
             },
             "line": {
              "color": "white"
             }
            },
            "type": "table"
           }
          ]
         },
         "layout": {
          "annotationdefaults": {
           "arrowcolor": "#2a3f5f",
           "arrowhead": 0,
           "arrowwidth": 1
          },
          "autotypenumbers": "strict",
          "coloraxis": {
           "colorbar": {
            "outlinewidth": 0,
            "ticks": ""
           }
          },
          "colorscale": {
           "diverging": [
            [
             0,
             "#8e0152"
            ],
            [
             0.1,
             "#c51b7d"
            ],
            [
             0.2,
             "#de77ae"
            ],
            [
             0.3,
             "#f1b6da"
            ],
            [
             0.4,
             "#fde0ef"
            ],
            [
             0.5,
             "#f7f7f7"
            ],
            [
             0.6,
             "#e6f5d0"
            ],
            [
             0.7,
             "#b8e186"
            ],
            [
             0.8,
             "#7fbc41"
            ],
            [
             0.9,
             "#4d9221"
            ],
            [
             1,
             "#276419"
            ]
           ],
           "sequential": [
            [
             0,
             "#0d0887"
            ],
            [
             0.1111111111111111,
             "#46039f"
            ],
            [
             0.2222222222222222,
             "#7201a8"
            ],
            [
             0.3333333333333333,
             "#9c179e"
            ],
            [
             0.4444444444444444,
             "#bd3786"
            ],
            [
             0.5555555555555556,
             "#d8576b"
            ],
            [
             0.6666666666666666,
             "#ed7953"
            ],
            [
             0.7777777777777778,
             "#fb9f3a"
            ],
            [
             0.8888888888888888,
             "#fdca26"
            ],
            [
             1,
             "#f0f921"
            ]
           ],
           "sequentialminus": [
            [
             0,
             "#0d0887"
            ],
            [
             0.1111111111111111,
             "#46039f"
            ],
            [
             0.2222222222222222,
             "#7201a8"
            ],
            [
             0.3333333333333333,
             "#9c179e"
            ],
            [
             0.4444444444444444,
             "#bd3786"
            ],
            [
             0.5555555555555556,
             "#d8576b"
            ],
            [
             0.6666666666666666,
             "#ed7953"
            ],
            [
             0.7777777777777778,
             "#fb9f3a"
            ],
            [
             0.8888888888888888,
             "#fdca26"
            ],
            [
             1,
             "#f0f921"
            ]
           ]
          },
          "colorway": [
           "#636efa",
           "#EF553B",
           "#00cc96",
           "#ab63fa",
           "#FFA15A",
           "#19d3f3",
           "#FF6692",
           "#B6E880",
           "#FF97FF",
           "#FECB52"
          ],
          "font": {
           "color": "#2a3f5f"
          },
          "geo": {
           "bgcolor": "white",
           "lakecolor": "white",
           "landcolor": "white",
           "showlakes": true,
           "showland": true,
           "subunitcolor": "#C8D4E3"
          },
          "hoverlabel": {
           "align": "left"
          },
          "hovermode": "closest",
          "mapbox": {
           "style": "light"
          },
          "paper_bgcolor": "white",
          "plot_bgcolor": "white",
          "polar": {
           "angularaxis": {
            "gridcolor": "#EBF0F8",
            "linecolor": "#EBF0F8",
            "ticks": ""
           },
           "bgcolor": "white",
           "radialaxis": {
            "gridcolor": "#EBF0F8",
            "linecolor": "#EBF0F8",
            "ticks": ""
           }
          },
          "scene": {
           "xaxis": {
            "backgroundcolor": "white",
            "gridcolor": "#DFE8F3",
            "gridwidth": 2,
            "linecolor": "#EBF0F8",
            "showbackground": true,
            "ticks": "",
            "zerolinecolor": "#EBF0F8"
           },
           "yaxis": {
            "backgroundcolor": "white",
            "gridcolor": "#DFE8F3",
            "gridwidth": 2,
            "linecolor": "#EBF0F8",
            "showbackground": true,
            "ticks": "",
            "zerolinecolor": "#EBF0F8"
           },
           "zaxis": {
            "backgroundcolor": "white",
            "gridcolor": "#DFE8F3",
            "gridwidth": 2,
            "linecolor": "#EBF0F8",
            "showbackground": true,
            "ticks": "",
            "zerolinecolor": "#EBF0F8"
           }
          },
          "shapedefaults": {
           "line": {
            "color": "#2a3f5f"
           }
          },
          "ternary": {
           "aaxis": {
            "gridcolor": "#DFE8F3",
            "linecolor": "#A2B1C6",
            "ticks": ""
           },
           "baxis": {
            "gridcolor": "#DFE8F3",
            "linecolor": "#A2B1C6",
            "ticks": ""
           },
           "bgcolor": "white",
           "caxis": {
            "gridcolor": "#DFE8F3",
            "linecolor": "#A2B1C6",
            "ticks": ""
           }
          },
          "title": {
           "x": 0.05
          },
          "xaxis": {
           "automargin": true,
           "gridcolor": "#EBF0F8",
           "linecolor": "#EBF0F8",
           "ticks": "",
           "title": {
            "standoff": 15
           },
           "zerolinecolor": "#EBF0F8",
           "zerolinewidth": 2
          },
          "yaxis": {
           "automargin": true,
           "gridcolor": "#EBF0F8",
           "linecolor": "#EBF0F8",
           "ticks": "",
           "title": {
            "standoff": 15
           },
           "zerolinecolor": "#EBF0F8",
           "zerolinewidth": 2
          }
         }
        },
        "title": {
         "text": "Daily # games played on Chess.com"
        },
        "xaxis": {
         "showgrid": true,
         "title": {
          "text": "Date"
         }
        },
        "yaxis": {
         "showgrid": true,
         "title": {
          "text": "# games played"
         }
        }
       }
      }
     },
     "metadata": {},
     "output_type": "display_data"
    }
   ],
   "source": [
    "# Aggregate 'My_Elo' values by date\n",
    "df_daily = df.groupby('Date')['My_Elo'].count().reset_index()\n",
    "\n",
    "# Create the figure\n",
    "fig = go.Figure()\n",
    "\n",
    "# Add trace\n",
    "fig.add_trace(go.Scatter(\n",
    "    x=df_daily['Date'],\n",
    "    y=df_daily['My_Elo'],\n",
    "    mode='lines+markers',\n",
    "    name='My Elo'\n",
    "))\n",
    "\n",
    "# Update layout to match the style of the Matplotlib plot\n",
    "fig.update_layout(\n",
    "    title='Daily # games played on Chess.com',\n",
    "    xaxis_title='Date',\n",
    "    yaxis_title='# games played',\n",
    "    xaxis=dict(showgrid=True),\n",
    "    yaxis=dict(showgrid=True),\n",
    "    template='plotly_white'\n",
    ")\n",
    "\n",
    "# Show plot\n",
    "fig.show()"
   ]
  },
  {
   "cell_type": "markdown",
   "id": "017d6ff1-965e-4711-93ee-c8f995ad33d5",
   "metadata": {},
   "source": [
    "### Black and White"
   ]
  },
  {
   "cell_type": "code",
   "execution_count": 35,
   "id": "f8316a3e-1a4c-49e0-891d-3edada8188b2",
   "metadata": {},
   "outputs": [],
   "source": [
    "white = df[df['White'] == 'SJB_137']"
   ]
  },
  {
   "cell_type": "code",
   "execution_count": 36,
   "id": "6eea1c2c-9cf2-4529-9a51-95371145b17c",
   "metadata": {},
   "outputs": [
    {
     "data": {
      "text/plain": [
       "Win     649\n",
       "Loss    548\n",
       "Draw     93\n",
       "Name: Result, dtype: int64"
      ]
     },
     "execution_count": 36,
     "metadata": {},
     "output_type": "execute_result"
    }
   ],
   "source": [
    "white.Result.value_counts()"
   ]
  },
  {
   "cell_type": "code",
   "execution_count": 37,
   "id": "0595f042-4d4b-4daa-ac8c-af9d1e39a6cd",
   "metadata": {},
   "outputs": [],
   "source": [
    "# Calculate total games\n",
    "total_games_white = white.shape[0]\n",
    "\n",
    "# Count occurrences of each result\n",
    "total_wins_white = (white['Result'] == 'Win').sum()\n",
    "total_losses_white = (white['Result'] == 'Loss').sum()\n",
    "total_draws_white = (white['Result'] == 'Draw').sum()"
   ]
  },
  {
   "cell_type": "code",
   "execution_count": 38,
   "id": "ac50ac59-f3dd-4c33-b3f5-7f5438b1b4ca",
   "metadata": {},
   "outputs": [],
   "source": [
    "black = df[df['Black'] == 'SJB_137']"
   ]
  },
  {
   "cell_type": "code",
   "execution_count": 39,
   "id": "8b7cfbd0-94ff-4b85-8d5e-b8788f71cb2d",
   "metadata": {},
   "outputs": [
    {
     "data": {
      "text/plain": [
       "Loss    645\n",
       "Win     558\n",
       "Draw     84\n",
       "Name: Result, dtype: int64"
      ]
     },
     "execution_count": 39,
     "metadata": {},
     "output_type": "execute_result"
    }
   ],
   "source": [
    "black.Result.value_counts()"
   ]
  },
  {
   "cell_type": "code",
   "execution_count": 40,
   "id": "7c64d9db-894b-4c10-8167-911d42bcc8d7",
   "metadata": {},
   "outputs": [],
   "source": [
    "# Calculate total games\n",
    "total_games_black = black.shape[0]\n",
    "\n",
    "# Count occurrences of each result\n",
    "total_wins_black = (black['Result'] == 'Win').sum()\n",
    "total_losses_black = (black['Result'] == 'Loss').sum()\n",
    "total_draws_black = (black['Result'] == 'Draw').sum()"
   ]
  },
  {
   "cell_type": "code",
   "execution_count": 41,
   "id": "1be855fa-dbcb-40da-9645-7ce30b4269e2",
   "metadata": {},
   "outputs": [
    {
     "data": {
      "application/vnd.plotly.v1+json": {
       "config": {
        "plotlyServerURL": "https://plot.ly"
       },
       "data": [
        {
         "domain": {
          "x": [
           0,
           0.45
          ],
          "y": [
           0,
           1
          ]
         },
         "labels": [
          "Wins",
          "Losses",
          "Draws"
         ],
         "name": "White",
         "type": "pie",
         "values": [
          649,
          548,
          93
         ]
        },
        {
         "domain": {
          "x": [
           0.55,
           1
          ],
          "y": [
           0,
           1
          ]
         },
         "labels": [
          "Wins",
          "Losses",
          "Draws"
         ],
         "name": "Black",
         "type": "pie",
         "values": [
          558,
          645,
          84
         ]
        }
       ],
       "layout": {
        "annotations": [
         {
          "font": {
           "size": 20
          },
          "showarrow": false,
          "text": "",
          "x": 0.5,
          "xanchor": "center",
          "xref": "paper",
          "y": 0.5,
          "yanchor": "bottom",
          "yref": "paper"
         },
         {
          "font": {
           "size": 20
          },
          "showarrow": false,
          "text": "",
          "x": 0.5,
          "xanchor": "center",
          "xref": "paper",
          "y": 0.5,
          "yanchor": "bottom",
          "yref": "paper"
         }
        ],
        "template": {
         "data": {
          "bar": [
           {
            "error_x": {
             "color": "#2a3f5f"
            },
            "error_y": {
             "color": "#2a3f5f"
            },
            "marker": {
             "line": {
              "color": "#E5ECF6",
              "width": 0.5
             },
             "pattern": {
              "fillmode": "overlay",
              "size": 10,
              "solidity": 0.2
             }
            },
            "type": "bar"
           }
          ],
          "barpolar": [
           {
            "marker": {
             "line": {
              "color": "#E5ECF6",
              "width": 0.5
             },
             "pattern": {
              "fillmode": "overlay",
              "size": 10,
              "solidity": 0.2
             }
            },
            "type": "barpolar"
           }
          ],
          "carpet": [
           {
            "aaxis": {
             "endlinecolor": "#2a3f5f",
             "gridcolor": "white",
             "linecolor": "white",
             "minorgridcolor": "white",
             "startlinecolor": "#2a3f5f"
            },
            "baxis": {
             "endlinecolor": "#2a3f5f",
             "gridcolor": "white",
             "linecolor": "white",
             "minorgridcolor": "white",
             "startlinecolor": "#2a3f5f"
            },
            "type": "carpet"
           }
          ],
          "choropleth": [
           {
            "colorbar": {
             "outlinewidth": 0,
             "ticks": ""
            },
            "type": "choropleth"
           }
          ],
          "contour": [
           {
            "colorbar": {
             "outlinewidth": 0,
             "ticks": ""
            },
            "colorscale": [
             [
              0,
              "#0d0887"
             ],
             [
              0.1111111111111111,
              "#46039f"
             ],
             [
              0.2222222222222222,
              "#7201a8"
             ],
             [
              0.3333333333333333,
              "#9c179e"
             ],
             [
              0.4444444444444444,
              "#bd3786"
             ],
             [
              0.5555555555555556,
              "#d8576b"
             ],
             [
              0.6666666666666666,
              "#ed7953"
             ],
             [
              0.7777777777777778,
              "#fb9f3a"
             ],
             [
              0.8888888888888888,
              "#fdca26"
             ],
             [
              1,
              "#f0f921"
             ]
            ],
            "type": "contour"
           }
          ],
          "contourcarpet": [
           {
            "colorbar": {
             "outlinewidth": 0,
             "ticks": ""
            },
            "type": "contourcarpet"
           }
          ],
          "heatmap": [
           {
            "colorbar": {
             "outlinewidth": 0,
             "ticks": ""
            },
            "colorscale": [
             [
              0,
              "#0d0887"
             ],
             [
              0.1111111111111111,
              "#46039f"
             ],
             [
              0.2222222222222222,
              "#7201a8"
             ],
             [
              0.3333333333333333,
              "#9c179e"
             ],
             [
              0.4444444444444444,
              "#bd3786"
             ],
             [
              0.5555555555555556,
              "#d8576b"
             ],
             [
              0.6666666666666666,
              "#ed7953"
             ],
             [
              0.7777777777777778,
              "#fb9f3a"
             ],
             [
              0.8888888888888888,
              "#fdca26"
             ],
             [
              1,
              "#f0f921"
             ]
            ],
            "type": "heatmap"
           }
          ],
          "histogram": [
           {
            "marker": {
             "pattern": {
              "fillmode": "overlay",
              "size": 10,
              "solidity": 0.2
             }
            },
            "type": "histogram"
           }
          ],
          "histogram2d": [
           {
            "colorbar": {
             "outlinewidth": 0,
             "ticks": ""
            },
            "colorscale": [
             [
              0,
              "#0d0887"
             ],
             [
              0.1111111111111111,
              "#46039f"
             ],
             [
              0.2222222222222222,
              "#7201a8"
             ],
             [
              0.3333333333333333,
              "#9c179e"
             ],
             [
              0.4444444444444444,
              "#bd3786"
             ],
             [
              0.5555555555555556,
              "#d8576b"
             ],
             [
              0.6666666666666666,
              "#ed7953"
             ],
             [
              0.7777777777777778,
              "#fb9f3a"
             ],
             [
              0.8888888888888888,
              "#fdca26"
             ],
             [
              1,
              "#f0f921"
             ]
            ],
            "type": "histogram2d"
           }
          ],
          "histogram2dcontour": [
           {
            "colorbar": {
             "outlinewidth": 0,
             "ticks": ""
            },
            "colorscale": [
             [
              0,
              "#0d0887"
             ],
             [
              0.1111111111111111,
              "#46039f"
             ],
             [
              0.2222222222222222,
              "#7201a8"
             ],
             [
              0.3333333333333333,
              "#9c179e"
             ],
             [
              0.4444444444444444,
              "#bd3786"
             ],
             [
              0.5555555555555556,
              "#d8576b"
             ],
             [
              0.6666666666666666,
              "#ed7953"
             ],
             [
              0.7777777777777778,
              "#fb9f3a"
             ],
             [
              0.8888888888888888,
              "#fdca26"
             ],
             [
              1,
              "#f0f921"
             ]
            ],
            "type": "histogram2dcontour"
           }
          ],
          "mesh3d": [
           {
            "colorbar": {
             "outlinewidth": 0,
             "ticks": ""
            },
            "type": "mesh3d"
           }
          ],
          "parcoords": [
           {
            "line": {
             "colorbar": {
              "outlinewidth": 0,
              "ticks": ""
             }
            },
            "type": "parcoords"
           }
          ],
          "pie": [
           {
            "automargin": true,
            "type": "pie"
           }
          ],
          "scatter": [
           {
            "fillpattern": {
             "fillmode": "overlay",
             "size": 10,
             "solidity": 0.2
            },
            "type": "scatter"
           }
          ],
          "scatter3d": [
           {
            "line": {
             "colorbar": {
              "outlinewidth": 0,
              "ticks": ""
             }
            },
            "marker": {
             "colorbar": {
              "outlinewidth": 0,
              "ticks": ""
             }
            },
            "type": "scatter3d"
           }
          ],
          "scattercarpet": [
           {
            "marker": {
             "colorbar": {
              "outlinewidth": 0,
              "ticks": ""
             }
            },
            "type": "scattercarpet"
           }
          ],
          "scattergeo": [
           {
            "marker": {
             "colorbar": {
              "outlinewidth": 0,
              "ticks": ""
             }
            },
            "type": "scattergeo"
           }
          ],
          "scattergl": [
           {
            "marker": {
             "colorbar": {
              "outlinewidth": 0,
              "ticks": ""
             }
            },
            "type": "scattergl"
           }
          ],
          "scattermap": [
           {
            "marker": {
             "colorbar": {
              "outlinewidth": 0,
              "ticks": ""
             }
            },
            "type": "scattermap"
           }
          ],
          "scattermapbox": [
           {
            "marker": {
             "colorbar": {
              "outlinewidth": 0,
              "ticks": ""
             }
            },
            "type": "scattermapbox"
           }
          ],
          "scatterpolar": [
           {
            "marker": {
             "colorbar": {
              "outlinewidth": 0,
              "ticks": ""
             }
            },
            "type": "scatterpolar"
           }
          ],
          "scatterpolargl": [
           {
            "marker": {
             "colorbar": {
              "outlinewidth": 0,
              "ticks": ""
             }
            },
            "type": "scatterpolargl"
           }
          ],
          "scatterternary": [
           {
            "marker": {
             "colorbar": {
              "outlinewidth": 0,
              "ticks": ""
             }
            },
            "type": "scatterternary"
           }
          ],
          "surface": [
           {
            "colorbar": {
             "outlinewidth": 0,
             "ticks": ""
            },
            "colorscale": [
             [
              0,
              "#0d0887"
             ],
             [
              0.1111111111111111,
              "#46039f"
             ],
             [
              0.2222222222222222,
              "#7201a8"
             ],
             [
              0.3333333333333333,
              "#9c179e"
             ],
             [
              0.4444444444444444,
              "#bd3786"
             ],
             [
              0.5555555555555556,
              "#d8576b"
             ],
             [
              0.6666666666666666,
              "#ed7953"
             ],
             [
              0.7777777777777778,
              "#fb9f3a"
             ],
             [
              0.8888888888888888,
              "#fdca26"
             ],
             [
              1,
              "#f0f921"
             ]
            ],
            "type": "surface"
           }
          ],
          "table": [
           {
            "cells": {
             "fill": {
              "color": "#EBF0F8"
             },
             "line": {
              "color": "white"
             }
            },
            "header": {
             "fill": {
              "color": "#C8D4E3"
             },
             "line": {
              "color": "white"
             }
            },
            "type": "table"
           }
          ]
         },
         "layout": {
          "annotationdefaults": {
           "arrowcolor": "#2a3f5f",
           "arrowhead": 0,
           "arrowwidth": 1
          },
          "autotypenumbers": "strict",
          "coloraxis": {
           "colorbar": {
            "outlinewidth": 0,
            "ticks": ""
           }
          },
          "colorscale": {
           "diverging": [
            [
             0,
             "#8e0152"
            ],
            [
             0.1,
             "#c51b7d"
            ],
            [
             0.2,
             "#de77ae"
            ],
            [
             0.3,
             "#f1b6da"
            ],
            [
             0.4,
             "#fde0ef"
            ],
            [
             0.5,
             "#f7f7f7"
            ],
            [
             0.6,
             "#e6f5d0"
            ],
            [
             0.7,
             "#b8e186"
            ],
            [
             0.8,
             "#7fbc41"
            ],
            [
             0.9,
             "#4d9221"
            ],
            [
             1,
             "#276419"
            ]
           ],
           "sequential": [
            [
             0,
             "#0d0887"
            ],
            [
             0.1111111111111111,
             "#46039f"
            ],
            [
             0.2222222222222222,
             "#7201a8"
            ],
            [
             0.3333333333333333,
             "#9c179e"
            ],
            [
             0.4444444444444444,
             "#bd3786"
            ],
            [
             0.5555555555555556,
             "#d8576b"
            ],
            [
             0.6666666666666666,
             "#ed7953"
            ],
            [
             0.7777777777777778,
             "#fb9f3a"
            ],
            [
             0.8888888888888888,
             "#fdca26"
            ],
            [
             1,
             "#f0f921"
            ]
           ],
           "sequentialminus": [
            [
             0,
             "#0d0887"
            ],
            [
             0.1111111111111111,
             "#46039f"
            ],
            [
             0.2222222222222222,
             "#7201a8"
            ],
            [
             0.3333333333333333,
             "#9c179e"
            ],
            [
             0.4444444444444444,
             "#bd3786"
            ],
            [
             0.5555555555555556,
             "#d8576b"
            ],
            [
             0.6666666666666666,
             "#ed7953"
            ],
            [
             0.7777777777777778,
             "#fb9f3a"
            ],
            [
             0.8888888888888888,
             "#fdca26"
            ],
            [
             1,
             "#f0f921"
            ]
           ]
          },
          "colorway": [
           "#636efa",
           "#EF553B",
           "#00cc96",
           "#ab63fa",
           "#FFA15A",
           "#19d3f3",
           "#FF6692",
           "#B6E880",
           "#FF97FF",
           "#FECB52"
          ],
          "font": {
           "color": "#2a3f5f"
          },
          "geo": {
           "bgcolor": "white",
           "lakecolor": "white",
           "landcolor": "#E5ECF6",
           "showlakes": true,
           "showland": true,
           "subunitcolor": "white"
          },
          "hoverlabel": {
           "align": "left"
          },
          "hovermode": "closest",
          "mapbox": {
           "style": "light"
          },
          "paper_bgcolor": "white",
          "plot_bgcolor": "#E5ECF6",
          "polar": {
           "angularaxis": {
            "gridcolor": "white",
            "linecolor": "white",
            "ticks": ""
           },
           "bgcolor": "#E5ECF6",
           "radialaxis": {
            "gridcolor": "white",
            "linecolor": "white",
            "ticks": ""
           }
          },
          "scene": {
           "xaxis": {
            "backgroundcolor": "#E5ECF6",
            "gridcolor": "white",
            "gridwidth": 2,
            "linecolor": "white",
            "showbackground": true,
            "ticks": "",
            "zerolinecolor": "white"
           },
           "yaxis": {
            "backgroundcolor": "#E5ECF6",
            "gridcolor": "white",
            "gridwidth": 2,
            "linecolor": "white",
            "showbackground": true,
            "ticks": "",
            "zerolinecolor": "white"
           },
           "zaxis": {
            "backgroundcolor": "#E5ECF6",
            "gridcolor": "white",
            "gridwidth": 2,
            "linecolor": "white",
            "showbackground": true,
            "ticks": "",
            "zerolinecolor": "white"
           }
          },
          "shapedefaults": {
           "line": {
            "color": "#2a3f5f"
           }
          },
          "ternary": {
           "aaxis": {
            "gridcolor": "white",
            "linecolor": "white",
            "ticks": ""
           },
           "baxis": {
            "gridcolor": "white",
            "linecolor": "white",
            "ticks": ""
           },
           "bgcolor": "#E5ECF6",
           "caxis": {
            "gridcolor": "white",
            "linecolor": "white",
            "ticks": ""
           }
          },
          "title": {
           "x": 0.05
          },
          "xaxis": {
           "automargin": true,
           "gridcolor": "white",
           "linecolor": "white",
           "ticks": "",
           "title": {
            "standoff": 15
           },
           "zerolinecolor": "white",
           "zerolinewidth": 2
          },
          "yaxis": {
           "automargin": true,
           "gridcolor": "white",
           "linecolor": "white",
           "ticks": "",
           "title": {
            "standoff": 15
           },
           "zerolinecolor": "white",
           "zerolinewidth": 2
          }
         }
        },
        "title": {
         "text": "Comparison of results playing as Black or White"
        }
       }
      }
     },
     "metadata": {},
     "output_type": "display_data"
    }
   ],
   "source": [
    "# Create a pie chart using Plotly\n",
    "labels_white = ['Wins', 'Losses', 'Draws']\n",
    "values_white = [total_wins_white, total_losses_white, total_draws_white]\n",
    "\n",
    "# Create a pie chart using Plotly\n",
    "labels_black = ['Wins', 'Losses', 'Draws']\n",
    "values_black = [total_wins_black, total_losses_black, total_draws_black]\n",
    "\n",
    "# Create figure with subplots\n",
    "fig = make_subplots(rows=1, cols=2, specs=[[{'type':'domain'}, {'type':'domain'}]],\n",
    "                    subplot_titles=['White stats', 'Black stats'])\n",
    "\n",
    "# Pie chart 1\n",
    "fig.add_trace(go.Pie(labels=labels_white, values=values_white, name='White'), 1, 1)\n",
    "\n",
    "# Pie chart 2\n",
    "fig.add_trace(go.Pie(labels=labels_black, values=values_black, name='Black'), 1, 2)\n",
    "\n",
    "# Update layout\n",
    "fig.update_layout(\n",
    "    title_text='Comparison of results playing as Black or White',\n",
    "    annotations=[dict(text='', x=0.5, y=0.5, font_size=20, showarrow=False) for _ in range(2)],  # Empty annotations for centering\n",
    ")\n",
    "\n",
    "# Show plot\n",
    "fig.show()"
   ]
  },
  {
   "cell_type": "markdown",
   "id": "2be8fb30-59ec-483f-b591-8d1a4df1ac2a",
   "metadata": {},
   "source": [
    "As expected playing as White gives me an advantage which is translated into a higher win rate."
   ]
  },
  {
   "cell_type": "markdown",
   "id": "76e72fc6-61af-4ee2-93c4-8ae8a71f054f",
   "metadata": {},
   "source": [
    "### Opening Variations"
   ]
  },
  {
   "cell_type": "markdown",
   "id": "6ff5fac7-8f20-4dde-9d0f-529eec0353bc",
   "metadata": {},
   "source": [
    "https://www.365chess.com/eco.php"
   ]
  },
  {
   "cell_type": "code",
   "execution_count": 42,
   "id": "0473d744-5116-4e97-ab05-203b7797df94",
   "metadata": {},
   "outputs": [
    {
     "data": {
      "text/plain": [
       "Scandinavian Defense Mieses Kotrc Variation    104\n",
       "Scandinavian Defense                           102\n",
       "Queens Pawn Opening                             97\n",
       "Bishops Opening                                 87\n",
       "Queens Pawn Opening Chigorin Variation          65\n",
       "                                              ... \n",
       "Kings Gambit Declined Keene Defense              1\n",
       "Ruy Lopez Opening Classical Defense              1\n",
       "Reti Opening Ross Gambit                         1\n",
       "Portuguese Opening                               1\n",
       "Birds Opening Dutch Variation                    1\n",
       "Name: VariationName, Length: 126, dtype: int64"
      ]
     },
     "execution_count": 42,
     "metadata": {},
     "output_type": "execute_result"
    }
   ],
   "source": [
    "df.VariationName.value_counts()"
   ]
  },
  {
   "cell_type": "code",
   "execution_count": 43,
   "id": "5e19111e-63d7-4a53-92d5-fa209dfed9bd",
   "metadata": {},
   "outputs": [
    {
     "data": {
      "application/vnd.plotly.v1+json": {
       "config": {
        "plotlyServerURL": "https://plot.ly"
       },
       "data": [
        {
         "hovertemplate": "Count=%{x}<br>Variation name=%{y}<extra></extra>",
         "legendgroup": "",
         "marker": {
          "color": "#636efa",
          "pattern": {
           "shape": ""
          }
         },
         "name": "",
         "orientation": "h",
         "showlegend": false,
         "textposition": "auto",
         "type": "bar",
         "x": {
          "bdata": "HB0kJzRBV2FmaA==",
          "dtype": "i1"
         },
         "xaxis": "x",
         "y": [
          "Pirc Defense",
          "Queens Pawn Opening Zukertort Variation",
          "Kings Pawn Opening Kings Knight Busch Gass Gambit",
          "Kings Pawn Opening Wayward Queen Attack",
          "Queens Pawn Opening Accelerated London System",
          "Queens Pawn Opening Chigorin Variation",
          "Bishops Opening",
          "Queens Pawn Opening",
          "Scandinavian Defense",
          "Scandinavian Defense Mieses Kotrc Variation"
         ],
         "yaxis": "y"
        }
       ],
       "layout": {
        "barmode": "relative",
        "legend": {
         "tracegroupgap": 0
        },
        "template": {
         "data": {
          "bar": [
           {
            "error_x": {
             "color": "#2a3f5f"
            },
            "error_y": {
             "color": "#2a3f5f"
            },
            "marker": {
             "line": {
              "color": "#E5ECF6",
              "width": 0.5
             },
             "pattern": {
              "fillmode": "overlay",
              "size": 10,
              "solidity": 0.2
             }
            },
            "type": "bar"
           }
          ],
          "barpolar": [
           {
            "marker": {
             "line": {
              "color": "#E5ECF6",
              "width": 0.5
             },
             "pattern": {
              "fillmode": "overlay",
              "size": 10,
              "solidity": 0.2
             }
            },
            "type": "barpolar"
           }
          ],
          "carpet": [
           {
            "aaxis": {
             "endlinecolor": "#2a3f5f",
             "gridcolor": "white",
             "linecolor": "white",
             "minorgridcolor": "white",
             "startlinecolor": "#2a3f5f"
            },
            "baxis": {
             "endlinecolor": "#2a3f5f",
             "gridcolor": "white",
             "linecolor": "white",
             "minorgridcolor": "white",
             "startlinecolor": "#2a3f5f"
            },
            "type": "carpet"
           }
          ],
          "choropleth": [
           {
            "colorbar": {
             "outlinewidth": 0,
             "ticks": ""
            },
            "type": "choropleth"
           }
          ],
          "contour": [
           {
            "colorbar": {
             "outlinewidth": 0,
             "ticks": ""
            },
            "colorscale": [
             [
              0,
              "#0d0887"
             ],
             [
              0.1111111111111111,
              "#46039f"
             ],
             [
              0.2222222222222222,
              "#7201a8"
             ],
             [
              0.3333333333333333,
              "#9c179e"
             ],
             [
              0.4444444444444444,
              "#bd3786"
             ],
             [
              0.5555555555555556,
              "#d8576b"
             ],
             [
              0.6666666666666666,
              "#ed7953"
             ],
             [
              0.7777777777777778,
              "#fb9f3a"
             ],
             [
              0.8888888888888888,
              "#fdca26"
             ],
             [
              1,
              "#f0f921"
             ]
            ],
            "type": "contour"
           }
          ],
          "contourcarpet": [
           {
            "colorbar": {
             "outlinewidth": 0,
             "ticks": ""
            },
            "type": "contourcarpet"
           }
          ],
          "heatmap": [
           {
            "colorbar": {
             "outlinewidth": 0,
             "ticks": ""
            },
            "colorscale": [
             [
              0,
              "#0d0887"
             ],
             [
              0.1111111111111111,
              "#46039f"
             ],
             [
              0.2222222222222222,
              "#7201a8"
             ],
             [
              0.3333333333333333,
              "#9c179e"
             ],
             [
              0.4444444444444444,
              "#bd3786"
             ],
             [
              0.5555555555555556,
              "#d8576b"
             ],
             [
              0.6666666666666666,
              "#ed7953"
             ],
             [
              0.7777777777777778,
              "#fb9f3a"
             ],
             [
              0.8888888888888888,
              "#fdca26"
             ],
             [
              1,
              "#f0f921"
             ]
            ],
            "type": "heatmap"
           }
          ],
          "histogram": [
           {
            "marker": {
             "pattern": {
              "fillmode": "overlay",
              "size": 10,
              "solidity": 0.2
             }
            },
            "type": "histogram"
           }
          ],
          "histogram2d": [
           {
            "colorbar": {
             "outlinewidth": 0,
             "ticks": ""
            },
            "colorscale": [
             [
              0,
              "#0d0887"
             ],
             [
              0.1111111111111111,
              "#46039f"
             ],
             [
              0.2222222222222222,
              "#7201a8"
             ],
             [
              0.3333333333333333,
              "#9c179e"
             ],
             [
              0.4444444444444444,
              "#bd3786"
             ],
             [
              0.5555555555555556,
              "#d8576b"
             ],
             [
              0.6666666666666666,
              "#ed7953"
             ],
             [
              0.7777777777777778,
              "#fb9f3a"
             ],
             [
              0.8888888888888888,
              "#fdca26"
             ],
             [
              1,
              "#f0f921"
             ]
            ],
            "type": "histogram2d"
           }
          ],
          "histogram2dcontour": [
           {
            "colorbar": {
             "outlinewidth": 0,
             "ticks": ""
            },
            "colorscale": [
             [
              0,
              "#0d0887"
             ],
             [
              0.1111111111111111,
              "#46039f"
             ],
             [
              0.2222222222222222,
              "#7201a8"
             ],
             [
              0.3333333333333333,
              "#9c179e"
             ],
             [
              0.4444444444444444,
              "#bd3786"
             ],
             [
              0.5555555555555556,
              "#d8576b"
             ],
             [
              0.6666666666666666,
              "#ed7953"
             ],
             [
              0.7777777777777778,
              "#fb9f3a"
             ],
             [
              0.8888888888888888,
              "#fdca26"
             ],
             [
              1,
              "#f0f921"
             ]
            ],
            "type": "histogram2dcontour"
           }
          ],
          "mesh3d": [
           {
            "colorbar": {
             "outlinewidth": 0,
             "ticks": ""
            },
            "type": "mesh3d"
           }
          ],
          "parcoords": [
           {
            "line": {
             "colorbar": {
              "outlinewidth": 0,
              "ticks": ""
             }
            },
            "type": "parcoords"
           }
          ],
          "pie": [
           {
            "automargin": true,
            "type": "pie"
           }
          ],
          "scatter": [
           {
            "fillpattern": {
             "fillmode": "overlay",
             "size": 10,
             "solidity": 0.2
            },
            "type": "scatter"
           }
          ],
          "scatter3d": [
           {
            "line": {
             "colorbar": {
              "outlinewidth": 0,
              "ticks": ""
             }
            },
            "marker": {
             "colorbar": {
              "outlinewidth": 0,
              "ticks": ""
             }
            },
            "type": "scatter3d"
           }
          ],
          "scattercarpet": [
           {
            "marker": {
             "colorbar": {
              "outlinewidth": 0,
              "ticks": ""
             }
            },
            "type": "scattercarpet"
           }
          ],
          "scattergeo": [
           {
            "marker": {
             "colorbar": {
              "outlinewidth": 0,
              "ticks": ""
             }
            },
            "type": "scattergeo"
           }
          ],
          "scattergl": [
           {
            "marker": {
             "colorbar": {
              "outlinewidth": 0,
              "ticks": ""
             }
            },
            "type": "scattergl"
           }
          ],
          "scattermap": [
           {
            "marker": {
             "colorbar": {
              "outlinewidth": 0,
              "ticks": ""
             }
            },
            "type": "scattermap"
           }
          ],
          "scattermapbox": [
           {
            "marker": {
             "colorbar": {
              "outlinewidth": 0,
              "ticks": ""
             }
            },
            "type": "scattermapbox"
           }
          ],
          "scatterpolar": [
           {
            "marker": {
             "colorbar": {
              "outlinewidth": 0,
              "ticks": ""
             }
            },
            "type": "scatterpolar"
           }
          ],
          "scatterpolargl": [
           {
            "marker": {
             "colorbar": {
              "outlinewidth": 0,
              "ticks": ""
             }
            },
            "type": "scatterpolargl"
           }
          ],
          "scatterternary": [
           {
            "marker": {
             "colorbar": {
              "outlinewidth": 0,
              "ticks": ""
             }
            },
            "type": "scatterternary"
           }
          ],
          "surface": [
           {
            "colorbar": {
             "outlinewidth": 0,
             "ticks": ""
            },
            "colorscale": [
             [
              0,
              "#0d0887"
             ],
             [
              0.1111111111111111,
              "#46039f"
             ],
             [
              0.2222222222222222,
              "#7201a8"
             ],
             [
              0.3333333333333333,
              "#9c179e"
             ],
             [
              0.4444444444444444,
              "#bd3786"
             ],
             [
              0.5555555555555556,
              "#d8576b"
             ],
             [
              0.6666666666666666,
              "#ed7953"
             ],
             [
              0.7777777777777778,
              "#fb9f3a"
             ],
             [
              0.8888888888888888,
              "#fdca26"
             ],
             [
              1,
              "#f0f921"
             ]
            ],
            "type": "surface"
           }
          ],
          "table": [
           {
            "cells": {
             "fill": {
              "color": "#EBF0F8"
             },
             "line": {
              "color": "white"
             }
            },
            "header": {
             "fill": {
              "color": "#C8D4E3"
             },
             "line": {
              "color": "white"
             }
            },
            "type": "table"
           }
          ]
         },
         "layout": {
          "annotationdefaults": {
           "arrowcolor": "#2a3f5f",
           "arrowhead": 0,
           "arrowwidth": 1
          },
          "autotypenumbers": "strict",
          "coloraxis": {
           "colorbar": {
            "outlinewidth": 0,
            "ticks": ""
           }
          },
          "colorscale": {
           "diverging": [
            [
             0,
             "#8e0152"
            ],
            [
             0.1,
             "#c51b7d"
            ],
            [
             0.2,
             "#de77ae"
            ],
            [
             0.3,
             "#f1b6da"
            ],
            [
             0.4,
             "#fde0ef"
            ],
            [
             0.5,
             "#f7f7f7"
            ],
            [
             0.6,
             "#e6f5d0"
            ],
            [
             0.7,
             "#b8e186"
            ],
            [
             0.8,
             "#7fbc41"
            ],
            [
             0.9,
             "#4d9221"
            ],
            [
             1,
             "#276419"
            ]
           ],
           "sequential": [
            [
             0,
             "#0d0887"
            ],
            [
             0.1111111111111111,
             "#46039f"
            ],
            [
             0.2222222222222222,
             "#7201a8"
            ],
            [
             0.3333333333333333,
             "#9c179e"
            ],
            [
             0.4444444444444444,
             "#bd3786"
            ],
            [
             0.5555555555555556,
             "#d8576b"
            ],
            [
             0.6666666666666666,
             "#ed7953"
            ],
            [
             0.7777777777777778,
             "#fb9f3a"
            ],
            [
             0.8888888888888888,
             "#fdca26"
            ],
            [
             1,
             "#f0f921"
            ]
           ],
           "sequentialminus": [
            [
             0,
             "#0d0887"
            ],
            [
             0.1111111111111111,
             "#46039f"
            ],
            [
             0.2222222222222222,
             "#7201a8"
            ],
            [
             0.3333333333333333,
             "#9c179e"
            ],
            [
             0.4444444444444444,
             "#bd3786"
            ],
            [
             0.5555555555555556,
             "#d8576b"
            ],
            [
             0.6666666666666666,
             "#ed7953"
            ],
            [
             0.7777777777777778,
             "#fb9f3a"
            ],
            [
             0.8888888888888888,
             "#fdca26"
            ],
            [
             1,
             "#f0f921"
            ]
           ]
          },
          "colorway": [
           "#636efa",
           "#EF553B",
           "#00cc96",
           "#ab63fa",
           "#FFA15A",
           "#19d3f3",
           "#FF6692",
           "#B6E880",
           "#FF97FF",
           "#FECB52"
          ],
          "font": {
           "color": "#2a3f5f"
          },
          "geo": {
           "bgcolor": "white",
           "lakecolor": "white",
           "landcolor": "#E5ECF6",
           "showlakes": true,
           "showland": true,
           "subunitcolor": "white"
          },
          "hoverlabel": {
           "align": "left"
          },
          "hovermode": "closest",
          "mapbox": {
           "style": "light"
          },
          "paper_bgcolor": "white",
          "plot_bgcolor": "#E5ECF6",
          "polar": {
           "angularaxis": {
            "gridcolor": "white",
            "linecolor": "white",
            "ticks": ""
           },
           "bgcolor": "#E5ECF6",
           "radialaxis": {
            "gridcolor": "white",
            "linecolor": "white",
            "ticks": ""
           }
          },
          "scene": {
           "xaxis": {
            "backgroundcolor": "#E5ECF6",
            "gridcolor": "white",
            "gridwidth": 2,
            "linecolor": "white",
            "showbackground": true,
            "ticks": "",
            "zerolinecolor": "white"
           },
           "yaxis": {
            "backgroundcolor": "#E5ECF6",
            "gridcolor": "white",
            "gridwidth": 2,
            "linecolor": "white",
            "showbackground": true,
            "ticks": "",
            "zerolinecolor": "white"
           },
           "zaxis": {
            "backgroundcolor": "#E5ECF6",
            "gridcolor": "white",
            "gridwidth": 2,
            "linecolor": "white",
            "showbackground": true,
            "ticks": "",
            "zerolinecolor": "white"
           }
          },
          "shapedefaults": {
           "line": {
            "color": "#2a3f5f"
           }
          },
          "ternary": {
           "aaxis": {
            "gridcolor": "white",
            "linecolor": "white",
            "ticks": ""
           },
           "baxis": {
            "gridcolor": "white",
            "linecolor": "white",
            "ticks": ""
           },
           "bgcolor": "#E5ECF6",
           "caxis": {
            "gridcolor": "white",
            "linecolor": "white",
            "ticks": ""
           }
          },
          "title": {
           "x": 0.05
          },
          "xaxis": {
           "automargin": true,
           "gridcolor": "white",
           "linecolor": "white",
           "ticks": "",
           "title": {
            "standoff": 15
           },
           "zerolinecolor": "white",
           "zerolinewidth": 2
          },
          "yaxis": {
           "automargin": true,
           "gridcolor": "white",
           "linecolor": "white",
           "ticks": "",
           "title": {
            "standoff": 15
           },
           "zerolinecolor": "white",
           "zerolinewidth": 2
          }
         }
        },
        "title": {
         "text": "Top 10 variations based on my Chess.com games"
        },
        "xaxis": {
         "anchor": "y",
         "domain": [
          0,
          1
         ],
         "title": {
          "text": "Count"
         }
        },
        "yaxis": {
         "anchor": "x",
         "domain": [
          0,
          1
         ],
         "title": {
          "text": "Variation name"
         }
        }
       }
      }
     },
     "metadata": {},
     "output_type": "display_data"
    }
   ],
   "source": [
    "# Count the occurrences of each variation name\n",
    "opening_counts = df['VariationName'].value_counts().head(10).reset_index()\n",
    "opening_counts.columns = ['VariationName', 'Count']\n",
    "\n",
    "# Sort the DataFrame in decreasing order of 'Count'\n",
    "opening_counts = opening_counts.sort_values(by='Count', ascending=True)\n",
    "\n",
    "# Create a bar plot using Plotly\n",
    "fig = px.bar(opening_counts, x='Count', y='VariationName', orientation='h', \n",
    "             title='Top 10 variations based on my Chess.com games', \n",
    "             labels={'VariationName': 'Variation name', 'Count': 'Count'})\n",
    "\n",
    "fig.show()"
   ]
  },
  {
   "cell_type": "markdown",
   "id": "8fcc7c0f-d224-41a9-ba1d-ea32bc9919ac",
   "metadata": {},
   "source": [
    "### Convert chess notation to board co-ordinates"
   ]
  },
  {
   "cell_type": "code",
   "execution_count": 44,
   "id": "14a4f630-048f-480d-ad2c-3e5562bad4ba",
   "metadata": {},
   "outputs": [],
   "source": [
    "# Function to convert chess notation to board coordinates (0-63)\n",
    "def chess_notation_to_index(move):\n",
    "    file_map = {'a': 0, 'b': 1, 'c': 2, 'd': 3, 'e': 4, 'f': 5, 'g': 6, 'h': 7}\n",
    "    rank_map = {'1': 7, '2': 6, '3': 5, '4': 4, '5': 3, '6': 2, '7': 1, '8': 0}\n",
    "    \n",
    "    if move[0] == 'N':\n",
    "        file_char = move[1]\n",
    "    else:\n",
    "        file_char = move[0]\n",
    "        \n",
    "    if move[0] == 'N':\n",
    "        rank_char = move[2]\n",
    "    else:\n",
    "        rank_char = move[1]\n",
    "    \n",
    "    file_index = file_map[file_char]\n",
    "    rank_index = rank_map[rank_char]\n",
    "    \n",
    "    return rank_index * 8 + file_index"
   ]
  },
  {
   "cell_type": "markdown",
   "id": "b38a1bd8-b26f-4cd8-8e1c-18b6d6edbb3c",
   "metadata": {},
   "source": [
    "### Visualisation of first moves as WHITE"
   ]
  },
  {
   "cell_type": "code",
   "execution_count": 45,
   "id": "6454ec91-fec1-4ebd-a461-b5b97dc96afa",
   "metadata": {},
   "outputs": [
    {
     "name": "stderr",
     "output_type": "stream",
     "text": [
      "c:\\Users\\User\\anaconda3\\lib\\site-packages\\pandas\\core\\indexing.py:1667: SettingWithCopyWarning:\n",
      "\n",
      "\n",
      "A value is trying to be set on a copy of a slice from a DataFrame.\n",
      "Try using .loc[row_indexer,col_indexer] = value instead\n",
      "\n",
      "See the caveats in the documentation: https://pandas.pydata.org/pandas-docs/stable/user_guide/indexing.html#returning-a-view-versus-a-copy\n",
      "\n"
     ]
    },
    {
     "data": {
      "text/plain": [
       "e4     788\n",
       "d4     494\n",
       "e3       7\n",
       "Nf3      1\n",
       "Name: my_move_1, dtype: int64"
      ]
     },
     "execution_count": 45,
     "metadata": {},
     "output_type": "execute_result"
    }
   ],
   "source": [
    "# Apply function using .loc to avoid SettingWithCopyWarning\n",
    "white.loc[:, 'my_move_1_index'] = white['my_move_1'].apply(chess_notation_to_index)\n",
    "white.my_move_1.value_counts()"
   ]
  },
  {
   "cell_type": "code",
   "execution_count": 46,
   "id": "99a3b6c7-9884-4a62-905a-8a7317f77c0d",
   "metadata": {},
   "outputs": [],
   "source": [
    "# Calculate frequencies of each move_1 position on an 8x8 chessboard\n",
    "white_heatmap_data = [[0]*8 for _ in range(8)]\n",
    "\n",
    "for position in white['my_move_1_index']:\n",
    "    row = position // 8\n",
    "    col = position % 8\n",
    "    white_heatmap_data[row][col] += 1"
   ]
  },
  {
   "cell_type": "code",
   "execution_count": 47,
   "id": "39815662-d356-497c-b59d-5998498194eb",
   "metadata": {},
   "outputs": [
    {
     "data": {
      "application/vnd.plotly.v1+json": {
       "config": {
        "plotlyServerURL": "https://plot.ly"
       },
       "data": [
        {
         "colorbar": {
          "title": {
           "text": "Frequency"
          }
         },
         "colorscale": [
          [
           0,
           "rgb(247,251,255)"
          ],
          [
           0.125,
           "rgb(222,235,247)"
          ],
          [
           0.25,
           "rgb(198,219,239)"
          ],
          [
           0.375,
           "rgb(158,202,225)"
          ],
          [
           0.5,
           "rgb(107,174,214)"
          ],
          [
           0.625,
           "rgb(66,146,198)"
          ],
          [
           0.75,
           "rgb(33,113,181)"
          ],
          [
           0.875,
           "rgb(8,81,156)"
          ],
          [
           1,
           "rgb(8,48,107)"
          ]
         ],
         "type": "heatmap",
         "x": [
          "a",
          "b",
          "c",
          "d",
          "e",
          "f",
          "g",
          "h"
         ],
         "y": [
          "8",
          "7",
          "6",
          "5",
          "4",
          "3",
          "2",
          "1"
         ],
         "z": [
          [
           0,
           0,
           0,
           0,
           0,
           0,
           0,
           0
          ],
          [
           0,
           0,
           0,
           0,
           0,
           0,
           0,
           0
          ],
          [
           0,
           0,
           0,
           0,
           0,
           0,
           0,
           0
          ],
          [
           0,
           0,
           0,
           0,
           0,
           0,
           0,
           0
          ],
          [
           0,
           0,
           0,
           494,
           788,
           0,
           0,
           0
          ],
          [
           0,
           0,
           0,
           0,
           7,
           1,
           0,
           0
          ],
          [
           0,
           0,
           0,
           0,
           0,
           0,
           0,
           0
          ],
          [
           0,
           0,
           0,
           0,
           0,
           0,
           0,
           0
          ]
         ]
        }
       ],
       "layout": {
        "annotations": [
         {
          "font": {
           "color": "black",
           "size": 12
          },
          "showarrow": false,
          "text": "0",
          "x": 0,
          "y": 0
         },
         {
          "font": {
           "color": "black",
           "size": 12
          },
          "showarrow": false,
          "text": "0",
          "x": 1,
          "y": 0
         },
         {
          "font": {
           "color": "black",
           "size": 12
          },
          "showarrow": false,
          "text": "0",
          "x": 2,
          "y": 0
         },
         {
          "font": {
           "color": "black",
           "size": 12
          },
          "showarrow": false,
          "text": "0",
          "x": 3,
          "y": 0
         },
         {
          "font": {
           "color": "black",
           "size": 12
          },
          "showarrow": false,
          "text": "0",
          "x": 4,
          "y": 0
         },
         {
          "font": {
           "color": "black",
           "size": 12
          },
          "showarrow": false,
          "text": "0",
          "x": 5,
          "y": 0
         },
         {
          "font": {
           "color": "black",
           "size": 12
          },
          "showarrow": false,
          "text": "0",
          "x": 6,
          "y": 0
         },
         {
          "font": {
           "color": "black",
           "size": 12
          },
          "showarrow": false,
          "text": "0",
          "x": 7,
          "y": 0
         },
         {
          "font": {
           "color": "black",
           "size": 12
          },
          "showarrow": false,
          "text": "0",
          "x": 0,
          "y": 1
         },
         {
          "font": {
           "color": "black",
           "size": 12
          },
          "showarrow": false,
          "text": "0",
          "x": 1,
          "y": 1
         },
         {
          "font": {
           "color": "black",
           "size": 12
          },
          "showarrow": false,
          "text": "0",
          "x": 2,
          "y": 1
         },
         {
          "font": {
           "color": "black",
           "size": 12
          },
          "showarrow": false,
          "text": "0",
          "x": 3,
          "y": 1
         },
         {
          "font": {
           "color": "black",
           "size": 12
          },
          "showarrow": false,
          "text": "0",
          "x": 4,
          "y": 1
         },
         {
          "font": {
           "color": "black",
           "size": 12
          },
          "showarrow": false,
          "text": "0",
          "x": 5,
          "y": 1
         },
         {
          "font": {
           "color": "black",
           "size": 12
          },
          "showarrow": false,
          "text": "0",
          "x": 6,
          "y": 1
         },
         {
          "font": {
           "color": "black",
           "size": 12
          },
          "showarrow": false,
          "text": "0",
          "x": 7,
          "y": 1
         },
         {
          "font": {
           "color": "black",
           "size": 12
          },
          "showarrow": false,
          "text": "0",
          "x": 0,
          "y": 2
         },
         {
          "font": {
           "color": "black",
           "size": 12
          },
          "showarrow": false,
          "text": "0",
          "x": 1,
          "y": 2
         },
         {
          "font": {
           "color": "black",
           "size": 12
          },
          "showarrow": false,
          "text": "0",
          "x": 2,
          "y": 2
         },
         {
          "font": {
           "color": "black",
           "size": 12
          },
          "showarrow": false,
          "text": "0",
          "x": 3,
          "y": 2
         },
         {
          "font": {
           "color": "black",
           "size": 12
          },
          "showarrow": false,
          "text": "0",
          "x": 4,
          "y": 2
         },
         {
          "font": {
           "color": "black",
           "size": 12
          },
          "showarrow": false,
          "text": "0",
          "x": 5,
          "y": 2
         },
         {
          "font": {
           "color": "black",
           "size": 12
          },
          "showarrow": false,
          "text": "0",
          "x": 6,
          "y": 2
         },
         {
          "font": {
           "color": "black",
           "size": 12
          },
          "showarrow": false,
          "text": "0",
          "x": 7,
          "y": 2
         },
         {
          "font": {
           "color": "black",
           "size": 12
          },
          "showarrow": false,
          "text": "0",
          "x": 0,
          "y": 3
         },
         {
          "font": {
           "color": "black",
           "size": 12
          },
          "showarrow": false,
          "text": "0",
          "x": 1,
          "y": 3
         },
         {
          "font": {
           "color": "black",
           "size": 12
          },
          "showarrow": false,
          "text": "0",
          "x": 2,
          "y": 3
         },
         {
          "font": {
           "color": "black",
           "size": 12
          },
          "showarrow": false,
          "text": "0",
          "x": 3,
          "y": 3
         },
         {
          "font": {
           "color": "black",
           "size": 12
          },
          "showarrow": false,
          "text": "0",
          "x": 4,
          "y": 3
         },
         {
          "font": {
           "color": "black",
           "size": 12
          },
          "showarrow": false,
          "text": "0",
          "x": 5,
          "y": 3
         },
         {
          "font": {
           "color": "black",
           "size": 12
          },
          "showarrow": false,
          "text": "0",
          "x": 6,
          "y": 3
         },
         {
          "font": {
           "color": "black",
           "size": 12
          },
          "showarrow": false,
          "text": "0",
          "x": 7,
          "y": 3
         },
         {
          "font": {
           "color": "black",
           "size": 12
          },
          "showarrow": false,
          "text": "0",
          "x": 0,
          "y": 4
         },
         {
          "font": {
           "color": "black",
           "size": 12
          },
          "showarrow": false,
          "text": "0",
          "x": 1,
          "y": 4
         },
         {
          "font": {
           "color": "black",
           "size": 12
          },
          "showarrow": false,
          "text": "0",
          "x": 2,
          "y": 4
         },
         {
          "font": {
           "color": "black",
           "size": 12
          },
          "showarrow": false,
          "text": "494",
          "x": 3,
          "y": 4
         },
         {
          "font": {
           "color": "black",
           "size": 12
          },
          "showarrow": false,
          "text": "788",
          "x": 4,
          "y": 4
         },
         {
          "font": {
           "color": "black",
           "size": 12
          },
          "showarrow": false,
          "text": "0",
          "x": 5,
          "y": 4
         },
         {
          "font": {
           "color": "black",
           "size": 12
          },
          "showarrow": false,
          "text": "0",
          "x": 6,
          "y": 4
         },
         {
          "font": {
           "color": "black",
           "size": 12
          },
          "showarrow": false,
          "text": "0",
          "x": 7,
          "y": 4
         },
         {
          "font": {
           "color": "black",
           "size": 12
          },
          "showarrow": false,
          "text": "0",
          "x": 0,
          "y": 5
         },
         {
          "font": {
           "color": "black",
           "size": 12
          },
          "showarrow": false,
          "text": "0",
          "x": 1,
          "y": 5
         },
         {
          "font": {
           "color": "black",
           "size": 12
          },
          "showarrow": false,
          "text": "0",
          "x": 2,
          "y": 5
         },
         {
          "font": {
           "color": "black",
           "size": 12
          },
          "showarrow": false,
          "text": "0",
          "x": 3,
          "y": 5
         },
         {
          "font": {
           "color": "black",
           "size": 12
          },
          "showarrow": false,
          "text": "7",
          "x": 4,
          "y": 5
         },
         {
          "font": {
           "color": "black",
           "size": 12
          },
          "showarrow": false,
          "text": "1",
          "x": 5,
          "y": 5
         },
         {
          "font": {
           "color": "black",
           "size": 12
          },
          "showarrow": false,
          "text": "0",
          "x": 6,
          "y": 5
         },
         {
          "font": {
           "color": "black",
           "size": 12
          },
          "showarrow": false,
          "text": "0",
          "x": 7,
          "y": 5
         },
         {
          "font": {
           "color": "black",
           "size": 12
          },
          "showarrow": false,
          "text": "0",
          "x": 0,
          "y": 6
         },
         {
          "font": {
           "color": "black",
           "size": 12
          },
          "showarrow": false,
          "text": "0",
          "x": 1,
          "y": 6
         },
         {
          "font": {
           "color": "black",
           "size": 12
          },
          "showarrow": false,
          "text": "0",
          "x": 2,
          "y": 6
         },
         {
          "font": {
           "color": "black",
           "size": 12
          },
          "showarrow": false,
          "text": "0",
          "x": 3,
          "y": 6
         },
         {
          "font": {
           "color": "black",
           "size": 12
          },
          "showarrow": false,
          "text": "0",
          "x": 4,
          "y": 6
         },
         {
          "font": {
           "color": "black",
           "size": 12
          },
          "showarrow": false,
          "text": "0",
          "x": 5,
          "y": 6
         },
         {
          "font": {
           "color": "black",
           "size": 12
          },
          "showarrow": false,
          "text": "0",
          "x": 6,
          "y": 6
         },
         {
          "font": {
           "color": "black",
           "size": 12
          },
          "showarrow": false,
          "text": "0",
          "x": 7,
          "y": 6
         },
         {
          "font": {
           "color": "black",
           "size": 12
          },
          "showarrow": false,
          "text": "0",
          "x": 0,
          "y": 7
         },
         {
          "font": {
           "color": "black",
           "size": 12
          },
          "showarrow": false,
          "text": "0",
          "x": 1,
          "y": 7
         },
         {
          "font": {
           "color": "black",
           "size": 12
          },
          "showarrow": false,
          "text": "0",
          "x": 2,
          "y": 7
         },
         {
          "font": {
           "color": "black",
           "size": 12
          },
          "showarrow": false,
          "text": "0",
          "x": 3,
          "y": 7
         },
         {
          "font": {
           "color": "black",
           "size": 12
          },
          "showarrow": false,
          "text": "0",
          "x": 4,
          "y": 7
         },
         {
          "font": {
           "color": "black",
           "size": 12
          },
          "showarrow": false,
          "text": "0",
          "x": 5,
          "y": 7
         },
         {
          "font": {
           "color": "black",
           "size": 12
          },
          "showarrow": false,
          "text": "0",
          "x": 6,
          "y": 7
         },
         {
          "font": {
           "color": "black",
           "size": 12
          },
          "showarrow": false,
          "text": "0",
          "x": 7,
          "y": 7
         }
        ],
        "autosize": false,
        "height": 500,
        "template": {
         "data": {
          "bar": [
           {
            "error_x": {
             "color": "#2a3f5f"
            },
            "error_y": {
             "color": "#2a3f5f"
            },
            "marker": {
             "line": {
              "color": "#E5ECF6",
              "width": 0.5
             },
             "pattern": {
              "fillmode": "overlay",
              "size": 10,
              "solidity": 0.2
             }
            },
            "type": "bar"
           }
          ],
          "barpolar": [
           {
            "marker": {
             "line": {
              "color": "#E5ECF6",
              "width": 0.5
             },
             "pattern": {
              "fillmode": "overlay",
              "size": 10,
              "solidity": 0.2
             }
            },
            "type": "barpolar"
           }
          ],
          "carpet": [
           {
            "aaxis": {
             "endlinecolor": "#2a3f5f",
             "gridcolor": "white",
             "linecolor": "white",
             "minorgridcolor": "white",
             "startlinecolor": "#2a3f5f"
            },
            "baxis": {
             "endlinecolor": "#2a3f5f",
             "gridcolor": "white",
             "linecolor": "white",
             "minorgridcolor": "white",
             "startlinecolor": "#2a3f5f"
            },
            "type": "carpet"
           }
          ],
          "choropleth": [
           {
            "colorbar": {
             "outlinewidth": 0,
             "ticks": ""
            },
            "type": "choropleth"
           }
          ],
          "contour": [
           {
            "colorbar": {
             "outlinewidth": 0,
             "ticks": ""
            },
            "colorscale": [
             [
              0,
              "#0d0887"
             ],
             [
              0.1111111111111111,
              "#46039f"
             ],
             [
              0.2222222222222222,
              "#7201a8"
             ],
             [
              0.3333333333333333,
              "#9c179e"
             ],
             [
              0.4444444444444444,
              "#bd3786"
             ],
             [
              0.5555555555555556,
              "#d8576b"
             ],
             [
              0.6666666666666666,
              "#ed7953"
             ],
             [
              0.7777777777777778,
              "#fb9f3a"
             ],
             [
              0.8888888888888888,
              "#fdca26"
             ],
             [
              1,
              "#f0f921"
             ]
            ],
            "type": "contour"
           }
          ],
          "contourcarpet": [
           {
            "colorbar": {
             "outlinewidth": 0,
             "ticks": ""
            },
            "type": "contourcarpet"
           }
          ],
          "heatmap": [
           {
            "colorbar": {
             "outlinewidth": 0,
             "ticks": ""
            },
            "colorscale": [
             [
              0,
              "#0d0887"
             ],
             [
              0.1111111111111111,
              "#46039f"
             ],
             [
              0.2222222222222222,
              "#7201a8"
             ],
             [
              0.3333333333333333,
              "#9c179e"
             ],
             [
              0.4444444444444444,
              "#bd3786"
             ],
             [
              0.5555555555555556,
              "#d8576b"
             ],
             [
              0.6666666666666666,
              "#ed7953"
             ],
             [
              0.7777777777777778,
              "#fb9f3a"
             ],
             [
              0.8888888888888888,
              "#fdca26"
             ],
             [
              1,
              "#f0f921"
             ]
            ],
            "type": "heatmap"
           }
          ],
          "histogram": [
           {
            "marker": {
             "pattern": {
              "fillmode": "overlay",
              "size": 10,
              "solidity": 0.2
             }
            },
            "type": "histogram"
           }
          ],
          "histogram2d": [
           {
            "colorbar": {
             "outlinewidth": 0,
             "ticks": ""
            },
            "colorscale": [
             [
              0,
              "#0d0887"
             ],
             [
              0.1111111111111111,
              "#46039f"
             ],
             [
              0.2222222222222222,
              "#7201a8"
             ],
             [
              0.3333333333333333,
              "#9c179e"
             ],
             [
              0.4444444444444444,
              "#bd3786"
             ],
             [
              0.5555555555555556,
              "#d8576b"
             ],
             [
              0.6666666666666666,
              "#ed7953"
             ],
             [
              0.7777777777777778,
              "#fb9f3a"
             ],
             [
              0.8888888888888888,
              "#fdca26"
             ],
             [
              1,
              "#f0f921"
             ]
            ],
            "type": "histogram2d"
           }
          ],
          "histogram2dcontour": [
           {
            "colorbar": {
             "outlinewidth": 0,
             "ticks": ""
            },
            "colorscale": [
             [
              0,
              "#0d0887"
             ],
             [
              0.1111111111111111,
              "#46039f"
             ],
             [
              0.2222222222222222,
              "#7201a8"
             ],
             [
              0.3333333333333333,
              "#9c179e"
             ],
             [
              0.4444444444444444,
              "#bd3786"
             ],
             [
              0.5555555555555556,
              "#d8576b"
             ],
             [
              0.6666666666666666,
              "#ed7953"
             ],
             [
              0.7777777777777778,
              "#fb9f3a"
             ],
             [
              0.8888888888888888,
              "#fdca26"
             ],
             [
              1,
              "#f0f921"
             ]
            ],
            "type": "histogram2dcontour"
           }
          ],
          "mesh3d": [
           {
            "colorbar": {
             "outlinewidth": 0,
             "ticks": ""
            },
            "type": "mesh3d"
           }
          ],
          "parcoords": [
           {
            "line": {
             "colorbar": {
              "outlinewidth": 0,
              "ticks": ""
             }
            },
            "type": "parcoords"
           }
          ],
          "pie": [
           {
            "automargin": true,
            "type": "pie"
           }
          ],
          "scatter": [
           {
            "fillpattern": {
             "fillmode": "overlay",
             "size": 10,
             "solidity": 0.2
            },
            "type": "scatter"
           }
          ],
          "scatter3d": [
           {
            "line": {
             "colorbar": {
              "outlinewidth": 0,
              "ticks": ""
             }
            },
            "marker": {
             "colorbar": {
              "outlinewidth": 0,
              "ticks": ""
             }
            },
            "type": "scatter3d"
           }
          ],
          "scattercarpet": [
           {
            "marker": {
             "colorbar": {
              "outlinewidth": 0,
              "ticks": ""
             }
            },
            "type": "scattercarpet"
           }
          ],
          "scattergeo": [
           {
            "marker": {
             "colorbar": {
              "outlinewidth": 0,
              "ticks": ""
             }
            },
            "type": "scattergeo"
           }
          ],
          "scattergl": [
           {
            "marker": {
             "colorbar": {
              "outlinewidth": 0,
              "ticks": ""
             }
            },
            "type": "scattergl"
           }
          ],
          "scattermap": [
           {
            "marker": {
             "colorbar": {
              "outlinewidth": 0,
              "ticks": ""
             }
            },
            "type": "scattermap"
           }
          ],
          "scattermapbox": [
           {
            "marker": {
             "colorbar": {
              "outlinewidth": 0,
              "ticks": ""
             }
            },
            "type": "scattermapbox"
           }
          ],
          "scatterpolar": [
           {
            "marker": {
             "colorbar": {
              "outlinewidth": 0,
              "ticks": ""
             }
            },
            "type": "scatterpolar"
           }
          ],
          "scatterpolargl": [
           {
            "marker": {
             "colorbar": {
              "outlinewidth": 0,
              "ticks": ""
             }
            },
            "type": "scatterpolargl"
           }
          ],
          "scatterternary": [
           {
            "marker": {
             "colorbar": {
              "outlinewidth": 0,
              "ticks": ""
             }
            },
            "type": "scatterternary"
           }
          ],
          "surface": [
           {
            "colorbar": {
             "outlinewidth": 0,
             "ticks": ""
            },
            "colorscale": [
             [
              0,
              "#0d0887"
             ],
             [
              0.1111111111111111,
              "#46039f"
             ],
             [
              0.2222222222222222,
              "#7201a8"
             ],
             [
              0.3333333333333333,
              "#9c179e"
             ],
             [
              0.4444444444444444,
              "#bd3786"
             ],
             [
              0.5555555555555556,
              "#d8576b"
             ],
             [
              0.6666666666666666,
              "#ed7953"
             ],
             [
              0.7777777777777778,
              "#fb9f3a"
             ],
             [
              0.8888888888888888,
              "#fdca26"
             ],
             [
              1,
              "#f0f921"
             ]
            ],
            "type": "surface"
           }
          ],
          "table": [
           {
            "cells": {
             "fill": {
              "color": "#EBF0F8"
             },
             "line": {
              "color": "white"
             }
            },
            "header": {
             "fill": {
              "color": "#C8D4E3"
             },
             "line": {
              "color": "white"
             }
            },
            "type": "table"
           }
          ]
         },
         "layout": {
          "annotationdefaults": {
           "arrowcolor": "#2a3f5f",
           "arrowhead": 0,
           "arrowwidth": 1
          },
          "autotypenumbers": "strict",
          "coloraxis": {
           "colorbar": {
            "outlinewidth": 0,
            "ticks": ""
           }
          },
          "colorscale": {
           "diverging": [
            [
             0,
             "#8e0152"
            ],
            [
             0.1,
             "#c51b7d"
            ],
            [
             0.2,
             "#de77ae"
            ],
            [
             0.3,
             "#f1b6da"
            ],
            [
             0.4,
             "#fde0ef"
            ],
            [
             0.5,
             "#f7f7f7"
            ],
            [
             0.6,
             "#e6f5d0"
            ],
            [
             0.7,
             "#b8e186"
            ],
            [
             0.8,
             "#7fbc41"
            ],
            [
             0.9,
             "#4d9221"
            ],
            [
             1,
             "#276419"
            ]
           ],
           "sequential": [
            [
             0,
             "#0d0887"
            ],
            [
             0.1111111111111111,
             "#46039f"
            ],
            [
             0.2222222222222222,
             "#7201a8"
            ],
            [
             0.3333333333333333,
             "#9c179e"
            ],
            [
             0.4444444444444444,
             "#bd3786"
            ],
            [
             0.5555555555555556,
             "#d8576b"
            ],
            [
             0.6666666666666666,
             "#ed7953"
            ],
            [
             0.7777777777777778,
             "#fb9f3a"
            ],
            [
             0.8888888888888888,
             "#fdca26"
            ],
            [
             1,
             "#f0f921"
            ]
           ],
           "sequentialminus": [
            [
             0,
             "#0d0887"
            ],
            [
             0.1111111111111111,
             "#46039f"
            ],
            [
             0.2222222222222222,
             "#7201a8"
            ],
            [
             0.3333333333333333,
             "#9c179e"
            ],
            [
             0.4444444444444444,
             "#bd3786"
            ],
            [
             0.5555555555555556,
             "#d8576b"
            ],
            [
             0.6666666666666666,
             "#ed7953"
            ],
            [
             0.7777777777777778,
             "#fb9f3a"
            ],
            [
             0.8888888888888888,
             "#fdca26"
            ],
            [
             1,
             "#f0f921"
            ]
           ]
          },
          "colorway": [
           "#636efa",
           "#EF553B",
           "#00cc96",
           "#ab63fa",
           "#FFA15A",
           "#19d3f3",
           "#FF6692",
           "#B6E880",
           "#FF97FF",
           "#FECB52"
          ],
          "font": {
           "color": "#2a3f5f"
          },
          "geo": {
           "bgcolor": "white",
           "lakecolor": "white",
           "landcolor": "#E5ECF6",
           "showlakes": true,
           "showland": true,
           "subunitcolor": "white"
          },
          "hoverlabel": {
           "align": "left"
          },
          "hovermode": "closest",
          "mapbox": {
           "style": "light"
          },
          "paper_bgcolor": "white",
          "plot_bgcolor": "#E5ECF6",
          "polar": {
           "angularaxis": {
            "gridcolor": "white",
            "linecolor": "white",
            "ticks": ""
           },
           "bgcolor": "#E5ECF6",
           "radialaxis": {
            "gridcolor": "white",
            "linecolor": "white",
            "ticks": ""
           }
          },
          "scene": {
           "xaxis": {
            "backgroundcolor": "#E5ECF6",
            "gridcolor": "white",
            "gridwidth": 2,
            "linecolor": "white",
            "showbackground": true,
            "ticks": "",
            "zerolinecolor": "white"
           },
           "yaxis": {
            "backgroundcolor": "#E5ECF6",
            "gridcolor": "white",
            "gridwidth": 2,
            "linecolor": "white",
            "showbackground": true,
            "ticks": "",
            "zerolinecolor": "white"
           },
           "zaxis": {
            "backgroundcolor": "#E5ECF6",
            "gridcolor": "white",
            "gridwidth": 2,
            "linecolor": "white",
            "showbackground": true,
            "ticks": "",
            "zerolinecolor": "white"
           }
          },
          "shapedefaults": {
           "line": {
            "color": "#2a3f5f"
           }
          },
          "ternary": {
           "aaxis": {
            "gridcolor": "white",
            "linecolor": "white",
            "ticks": ""
           },
           "baxis": {
            "gridcolor": "white",
            "linecolor": "white",
            "ticks": ""
           },
           "bgcolor": "#E5ECF6",
           "caxis": {
            "gridcolor": "white",
            "linecolor": "white",
            "ticks": ""
           }
          },
          "title": {
           "x": 0.05
          },
          "xaxis": {
           "automargin": true,
           "gridcolor": "white",
           "linecolor": "white",
           "ticks": "",
           "title": {
            "standoff": 15
           },
           "zerolinecolor": "white",
           "zerolinewidth": 2
          },
          "yaxis": {
           "automargin": true,
           "gridcolor": "white",
           "linecolor": "white",
           "ticks": "",
           "title": {
            "standoff": 15
           },
           "zerolinecolor": "white",
           "zerolinewidth": 2
          }
         }
        },
        "title": {
         "text": "Distribution of my opening moves playing as WHITE on Chess.com"
        },
        "width": 600,
        "xaxis": {
         "tickmode": "array",
         "ticktext": [
          "a",
          "b",
          "c",
          "d",
          "e",
          "f",
          "g",
          "h"
         ],
         "tickvals": [
          0,
          1,
          2,
          3,
          4,
          5,
          6,
          7
         ],
         "title": {
          "text": "File"
         }
        },
        "yaxis": {
         "autorange": "reversed",
         "tickmode": "array",
         "ticktext": [
          "8",
          "1",
          "2",
          "3",
          "4",
          "5",
          "6",
          "7"
         ],
         "tickvals": [
          0,
          1,
          2,
          3,
          4,
          5,
          6,
          7
         ],
         "title": {
          "text": "Rank"
         }
        }
       }
      }
     },
     "metadata": {},
     "output_type": "display_data"
    }
   ],
   "source": [
    "# Create annotated heatmap using Plotly\n",
    "fig = go.Figure(data=go.Heatmap(\n",
    "    z=white_heatmap_data,\n",
    "    x=['a', 'b', 'c', 'd', 'e', 'f', 'g', 'h'],\n",
    "    y=['8', '7', '6', '5', '4', '3', '2', '1'],  # Correct order for y-axis\n",
    "    colorscale='Blues',\n",
    "    colorbar=dict(title='Frequency')\n",
    "))\n",
    "\n",
    "# Add annotations\n",
    "for i in range(len(white_heatmap_data)):\n",
    "    for j in range(len(white_heatmap_data[i])):\n",
    "        fig.add_annotation(\n",
    "            x=j, y=i,\n",
    "            text=str(white_heatmap_data[i][j]),\n",
    "            showarrow=False,\n",
    "            font=dict(color='black', size=12)\n",
    "        )\n",
    "\n",
    "# Update layout to correctly order the y-axis\n",
    "fig.update_layout(\n",
    "    title='Distribution of my opening moves playing as WHITE on Chess.com',\n",
    "    xaxis=dict(title='File'),\n",
    "    yaxis=dict(title='Rank', autorange='reversed'),\n",
    "    xaxis_tickmode='array',\n",
    "    yaxis_tickmode='array',\n",
    "    xaxis_tickvals=list(range(8)),\n",
    "    yaxis_tickvals=list(range(8)),\n",
    "    xaxis_ticktext=['a', 'b', 'c', 'd', 'e', 'f', 'g', 'h'],\n",
    "    yaxis_ticktext=['8', '1', '2', '3', '4', '5', '6', '7'],  # Correct order for y-axis\n",
    "    width=600,\n",
    "    height=500,\n",
    "    autosize=False\n",
    ")\n",
    "\n",
    "# Show plot\n",
    "fig.show()"
   ]
  },
  {
   "cell_type": "markdown",
   "id": "9168418e-ca0c-4e3b-97ce-2f6367b952f3",
   "metadata": {},
   "source": [
    "### Visualisation of first moves as BLACK"
   ]
  },
  {
   "cell_type": "code",
   "execution_count": 48,
   "id": "24b78a7a-80b1-4cc2-8026-5939bed0b07e",
   "metadata": {},
   "outputs": [
    {
     "data": {
      "text/plain": [
       "e5     634\n",
       "d5     508\n",
       "e6      61\n",
       "Nf6     27\n",
       "Nc6     26\n",
       "d6       8\n",
       "f6       5\n",
       "b6       3\n",
       "Na6      3\n",
       "g6       3\n",
       "c5       2\n",
       "a5       2\n",
       "g5       2\n",
       "b5       1\n",
       "Nh6      1\n",
       "h5       1\n",
       "Name: my_move_1, dtype: int64"
      ]
     },
     "execution_count": 48,
     "metadata": {},
     "output_type": "execute_result"
    }
   ],
   "source": [
    "# Apply function using .loc to avoid SettingWithCopyWarning\n",
    "black.loc[:, 'my_move_1_index'] = black['my_move_1'].apply(chess_notation_to_index)\n",
    "black.my_move_1.value_counts()"
   ]
  },
  {
   "cell_type": "code",
   "execution_count": 49,
   "id": "8ebf1d70-7771-488c-bdf3-b13891c09a43",
   "metadata": {},
   "outputs": [],
   "source": [
    "# Calculate frequencies of each move_1 position on an 8x8 chessboard\n",
    "black_heatmap_data = [[0]*8 for _ in range(8)]\n",
    "\n",
    "for position in black['my_move_1_index']:\n",
    "    row = position // 8\n",
    "    col = position % 8\n",
    "    black_heatmap_data[row][col] += 1"
   ]
  },
  {
   "cell_type": "code",
   "execution_count": 50,
   "id": "04a0b0d3-13c0-47b6-9f02-b8b759459238",
   "metadata": {},
   "outputs": [
    {
     "data": {
      "application/vnd.plotly.v1+json": {
       "config": {
        "plotlyServerURL": "https://plot.ly"
       },
       "data": [
        {
         "colorbar": {
          "title": {
           "text": "Frequency"
          }
         },
         "colorscale": [
          [
           0,
           "rgb(247,251,255)"
          ],
          [
           0.125,
           "rgb(222,235,247)"
          ],
          [
           0.25,
           "rgb(198,219,239)"
          ],
          [
           0.375,
           "rgb(158,202,225)"
          ],
          [
           0.5,
           "rgb(107,174,214)"
          ],
          [
           0.625,
           "rgb(66,146,198)"
          ],
          [
           0.75,
           "rgb(33,113,181)"
          ],
          [
           0.875,
           "rgb(8,81,156)"
          ],
          [
           1,
           "rgb(8,48,107)"
          ]
         ],
         "type": "heatmap",
         "x": [
          "a",
          "b",
          "c",
          "d",
          "e",
          "f",
          "g",
          "h"
         ],
         "y": [
          "8",
          "7",
          "6",
          "5",
          "4",
          "3",
          "2",
          "1"
         ],
         "z": [
          [
           0,
           0,
           0,
           0,
           0,
           0,
           0,
           0
          ],
          [
           0,
           0,
           0,
           0,
           0,
           0,
           0,
           0
          ],
          [
           3,
           3,
           26,
           8,
           61,
           32,
           3,
           1
          ],
          [
           2,
           1,
           2,
           508,
           634,
           0,
           2,
           1
          ],
          [
           0,
           0,
           0,
           0,
           0,
           0,
           0,
           0
          ],
          [
           0,
           0,
           0,
           0,
           0,
           0,
           0,
           0
          ],
          [
           0,
           0,
           0,
           0,
           0,
           0,
           0,
           0
          ],
          [
           0,
           0,
           0,
           0,
           0,
           0,
           0,
           0
          ]
         ]
        }
       ],
       "layout": {
        "annotations": [
         {
          "font": {
           "color": "black",
           "size": 12
          },
          "showarrow": false,
          "text": "0",
          "x": 0,
          "y": 0
         },
         {
          "font": {
           "color": "black",
           "size": 12
          },
          "showarrow": false,
          "text": "0",
          "x": 1,
          "y": 0
         },
         {
          "font": {
           "color": "black",
           "size": 12
          },
          "showarrow": false,
          "text": "0",
          "x": 2,
          "y": 0
         },
         {
          "font": {
           "color": "black",
           "size": 12
          },
          "showarrow": false,
          "text": "0",
          "x": 3,
          "y": 0
         },
         {
          "font": {
           "color": "black",
           "size": 12
          },
          "showarrow": false,
          "text": "0",
          "x": 4,
          "y": 0
         },
         {
          "font": {
           "color": "black",
           "size": 12
          },
          "showarrow": false,
          "text": "0",
          "x": 5,
          "y": 0
         },
         {
          "font": {
           "color": "black",
           "size": 12
          },
          "showarrow": false,
          "text": "0",
          "x": 6,
          "y": 0
         },
         {
          "font": {
           "color": "black",
           "size": 12
          },
          "showarrow": false,
          "text": "0",
          "x": 7,
          "y": 0
         },
         {
          "font": {
           "color": "black",
           "size": 12
          },
          "showarrow": false,
          "text": "0",
          "x": 0,
          "y": 1
         },
         {
          "font": {
           "color": "black",
           "size": 12
          },
          "showarrow": false,
          "text": "0",
          "x": 1,
          "y": 1
         },
         {
          "font": {
           "color": "black",
           "size": 12
          },
          "showarrow": false,
          "text": "0",
          "x": 2,
          "y": 1
         },
         {
          "font": {
           "color": "black",
           "size": 12
          },
          "showarrow": false,
          "text": "0",
          "x": 3,
          "y": 1
         },
         {
          "font": {
           "color": "black",
           "size": 12
          },
          "showarrow": false,
          "text": "0",
          "x": 4,
          "y": 1
         },
         {
          "font": {
           "color": "black",
           "size": 12
          },
          "showarrow": false,
          "text": "0",
          "x": 5,
          "y": 1
         },
         {
          "font": {
           "color": "black",
           "size": 12
          },
          "showarrow": false,
          "text": "0",
          "x": 6,
          "y": 1
         },
         {
          "font": {
           "color": "black",
           "size": 12
          },
          "showarrow": false,
          "text": "0",
          "x": 7,
          "y": 1
         },
         {
          "font": {
           "color": "black",
           "size": 12
          },
          "showarrow": false,
          "text": "3",
          "x": 0,
          "y": 2
         },
         {
          "font": {
           "color": "black",
           "size": 12
          },
          "showarrow": false,
          "text": "3",
          "x": 1,
          "y": 2
         },
         {
          "font": {
           "color": "black",
           "size": 12
          },
          "showarrow": false,
          "text": "26",
          "x": 2,
          "y": 2
         },
         {
          "font": {
           "color": "black",
           "size": 12
          },
          "showarrow": false,
          "text": "8",
          "x": 3,
          "y": 2
         },
         {
          "font": {
           "color": "black",
           "size": 12
          },
          "showarrow": false,
          "text": "61",
          "x": 4,
          "y": 2
         },
         {
          "font": {
           "color": "black",
           "size": 12
          },
          "showarrow": false,
          "text": "32",
          "x": 5,
          "y": 2
         },
         {
          "font": {
           "color": "black",
           "size": 12
          },
          "showarrow": false,
          "text": "3",
          "x": 6,
          "y": 2
         },
         {
          "font": {
           "color": "black",
           "size": 12
          },
          "showarrow": false,
          "text": "1",
          "x": 7,
          "y": 2
         },
         {
          "font": {
           "color": "black",
           "size": 12
          },
          "showarrow": false,
          "text": "2",
          "x": 0,
          "y": 3
         },
         {
          "font": {
           "color": "black",
           "size": 12
          },
          "showarrow": false,
          "text": "1",
          "x": 1,
          "y": 3
         },
         {
          "font": {
           "color": "black",
           "size": 12
          },
          "showarrow": false,
          "text": "2",
          "x": 2,
          "y": 3
         },
         {
          "font": {
           "color": "black",
           "size": 12
          },
          "showarrow": false,
          "text": "508",
          "x": 3,
          "y": 3
         },
         {
          "font": {
           "color": "black",
           "size": 12
          },
          "showarrow": false,
          "text": "634",
          "x": 4,
          "y": 3
         },
         {
          "font": {
           "color": "black",
           "size": 12
          },
          "showarrow": false,
          "text": "0",
          "x": 5,
          "y": 3
         },
         {
          "font": {
           "color": "black",
           "size": 12
          },
          "showarrow": false,
          "text": "2",
          "x": 6,
          "y": 3
         },
         {
          "font": {
           "color": "black",
           "size": 12
          },
          "showarrow": false,
          "text": "1",
          "x": 7,
          "y": 3
         },
         {
          "font": {
           "color": "black",
           "size": 12
          },
          "showarrow": false,
          "text": "0",
          "x": 0,
          "y": 4
         },
         {
          "font": {
           "color": "black",
           "size": 12
          },
          "showarrow": false,
          "text": "0",
          "x": 1,
          "y": 4
         },
         {
          "font": {
           "color": "black",
           "size": 12
          },
          "showarrow": false,
          "text": "0",
          "x": 2,
          "y": 4
         },
         {
          "font": {
           "color": "black",
           "size": 12
          },
          "showarrow": false,
          "text": "0",
          "x": 3,
          "y": 4
         },
         {
          "font": {
           "color": "black",
           "size": 12
          },
          "showarrow": false,
          "text": "0",
          "x": 4,
          "y": 4
         },
         {
          "font": {
           "color": "black",
           "size": 12
          },
          "showarrow": false,
          "text": "0",
          "x": 5,
          "y": 4
         },
         {
          "font": {
           "color": "black",
           "size": 12
          },
          "showarrow": false,
          "text": "0",
          "x": 6,
          "y": 4
         },
         {
          "font": {
           "color": "black",
           "size": 12
          },
          "showarrow": false,
          "text": "0",
          "x": 7,
          "y": 4
         },
         {
          "font": {
           "color": "black",
           "size": 12
          },
          "showarrow": false,
          "text": "0",
          "x": 0,
          "y": 5
         },
         {
          "font": {
           "color": "black",
           "size": 12
          },
          "showarrow": false,
          "text": "0",
          "x": 1,
          "y": 5
         },
         {
          "font": {
           "color": "black",
           "size": 12
          },
          "showarrow": false,
          "text": "0",
          "x": 2,
          "y": 5
         },
         {
          "font": {
           "color": "black",
           "size": 12
          },
          "showarrow": false,
          "text": "0",
          "x": 3,
          "y": 5
         },
         {
          "font": {
           "color": "black",
           "size": 12
          },
          "showarrow": false,
          "text": "0",
          "x": 4,
          "y": 5
         },
         {
          "font": {
           "color": "black",
           "size": 12
          },
          "showarrow": false,
          "text": "0",
          "x": 5,
          "y": 5
         },
         {
          "font": {
           "color": "black",
           "size": 12
          },
          "showarrow": false,
          "text": "0",
          "x": 6,
          "y": 5
         },
         {
          "font": {
           "color": "black",
           "size": 12
          },
          "showarrow": false,
          "text": "0",
          "x": 7,
          "y": 5
         },
         {
          "font": {
           "color": "black",
           "size": 12
          },
          "showarrow": false,
          "text": "0",
          "x": 0,
          "y": 6
         },
         {
          "font": {
           "color": "black",
           "size": 12
          },
          "showarrow": false,
          "text": "0",
          "x": 1,
          "y": 6
         },
         {
          "font": {
           "color": "black",
           "size": 12
          },
          "showarrow": false,
          "text": "0",
          "x": 2,
          "y": 6
         },
         {
          "font": {
           "color": "black",
           "size": 12
          },
          "showarrow": false,
          "text": "0",
          "x": 3,
          "y": 6
         },
         {
          "font": {
           "color": "black",
           "size": 12
          },
          "showarrow": false,
          "text": "0",
          "x": 4,
          "y": 6
         },
         {
          "font": {
           "color": "black",
           "size": 12
          },
          "showarrow": false,
          "text": "0",
          "x": 5,
          "y": 6
         },
         {
          "font": {
           "color": "black",
           "size": 12
          },
          "showarrow": false,
          "text": "0",
          "x": 6,
          "y": 6
         },
         {
          "font": {
           "color": "black",
           "size": 12
          },
          "showarrow": false,
          "text": "0",
          "x": 7,
          "y": 6
         },
         {
          "font": {
           "color": "black",
           "size": 12
          },
          "showarrow": false,
          "text": "0",
          "x": 0,
          "y": 7
         },
         {
          "font": {
           "color": "black",
           "size": 12
          },
          "showarrow": false,
          "text": "0",
          "x": 1,
          "y": 7
         },
         {
          "font": {
           "color": "black",
           "size": 12
          },
          "showarrow": false,
          "text": "0",
          "x": 2,
          "y": 7
         },
         {
          "font": {
           "color": "black",
           "size": 12
          },
          "showarrow": false,
          "text": "0",
          "x": 3,
          "y": 7
         },
         {
          "font": {
           "color": "black",
           "size": 12
          },
          "showarrow": false,
          "text": "0",
          "x": 4,
          "y": 7
         },
         {
          "font": {
           "color": "black",
           "size": 12
          },
          "showarrow": false,
          "text": "0",
          "x": 5,
          "y": 7
         },
         {
          "font": {
           "color": "black",
           "size": 12
          },
          "showarrow": false,
          "text": "0",
          "x": 6,
          "y": 7
         },
         {
          "font": {
           "color": "black",
           "size": 12
          },
          "showarrow": false,
          "text": "0",
          "x": 7,
          "y": 7
         }
        ],
        "autosize": false,
        "height": 500,
        "template": {
         "data": {
          "bar": [
           {
            "error_x": {
             "color": "#2a3f5f"
            },
            "error_y": {
             "color": "#2a3f5f"
            },
            "marker": {
             "line": {
              "color": "#E5ECF6",
              "width": 0.5
             },
             "pattern": {
              "fillmode": "overlay",
              "size": 10,
              "solidity": 0.2
             }
            },
            "type": "bar"
           }
          ],
          "barpolar": [
           {
            "marker": {
             "line": {
              "color": "#E5ECF6",
              "width": 0.5
             },
             "pattern": {
              "fillmode": "overlay",
              "size": 10,
              "solidity": 0.2
             }
            },
            "type": "barpolar"
           }
          ],
          "carpet": [
           {
            "aaxis": {
             "endlinecolor": "#2a3f5f",
             "gridcolor": "white",
             "linecolor": "white",
             "minorgridcolor": "white",
             "startlinecolor": "#2a3f5f"
            },
            "baxis": {
             "endlinecolor": "#2a3f5f",
             "gridcolor": "white",
             "linecolor": "white",
             "minorgridcolor": "white",
             "startlinecolor": "#2a3f5f"
            },
            "type": "carpet"
           }
          ],
          "choropleth": [
           {
            "colorbar": {
             "outlinewidth": 0,
             "ticks": ""
            },
            "type": "choropleth"
           }
          ],
          "contour": [
           {
            "colorbar": {
             "outlinewidth": 0,
             "ticks": ""
            },
            "colorscale": [
             [
              0,
              "#0d0887"
             ],
             [
              0.1111111111111111,
              "#46039f"
             ],
             [
              0.2222222222222222,
              "#7201a8"
             ],
             [
              0.3333333333333333,
              "#9c179e"
             ],
             [
              0.4444444444444444,
              "#bd3786"
             ],
             [
              0.5555555555555556,
              "#d8576b"
             ],
             [
              0.6666666666666666,
              "#ed7953"
             ],
             [
              0.7777777777777778,
              "#fb9f3a"
             ],
             [
              0.8888888888888888,
              "#fdca26"
             ],
             [
              1,
              "#f0f921"
             ]
            ],
            "type": "contour"
           }
          ],
          "contourcarpet": [
           {
            "colorbar": {
             "outlinewidth": 0,
             "ticks": ""
            },
            "type": "contourcarpet"
           }
          ],
          "heatmap": [
           {
            "colorbar": {
             "outlinewidth": 0,
             "ticks": ""
            },
            "colorscale": [
             [
              0,
              "#0d0887"
             ],
             [
              0.1111111111111111,
              "#46039f"
             ],
             [
              0.2222222222222222,
              "#7201a8"
             ],
             [
              0.3333333333333333,
              "#9c179e"
             ],
             [
              0.4444444444444444,
              "#bd3786"
             ],
             [
              0.5555555555555556,
              "#d8576b"
             ],
             [
              0.6666666666666666,
              "#ed7953"
             ],
             [
              0.7777777777777778,
              "#fb9f3a"
             ],
             [
              0.8888888888888888,
              "#fdca26"
             ],
             [
              1,
              "#f0f921"
             ]
            ],
            "type": "heatmap"
           }
          ],
          "histogram": [
           {
            "marker": {
             "pattern": {
              "fillmode": "overlay",
              "size": 10,
              "solidity": 0.2
             }
            },
            "type": "histogram"
           }
          ],
          "histogram2d": [
           {
            "colorbar": {
             "outlinewidth": 0,
             "ticks": ""
            },
            "colorscale": [
             [
              0,
              "#0d0887"
             ],
             [
              0.1111111111111111,
              "#46039f"
             ],
             [
              0.2222222222222222,
              "#7201a8"
             ],
             [
              0.3333333333333333,
              "#9c179e"
             ],
             [
              0.4444444444444444,
              "#bd3786"
             ],
             [
              0.5555555555555556,
              "#d8576b"
             ],
             [
              0.6666666666666666,
              "#ed7953"
             ],
             [
              0.7777777777777778,
              "#fb9f3a"
             ],
             [
              0.8888888888888888,
              "#fdca26"
             ],
             [
              1,
              "#f0f921"
             ]
            ],
            "type": "histogram2d"
           }
          ],
          "histogram2dcontour": [
           {
            "colorbar": {
             "outlinewidth": 0,
             "ticks": ""
            },
            "colorscale": [
             [
              0,
              "#0d0887"
             ],
             [
              0.1111111111111111,
              "#46039f"
             ],
             [
              0.2222222222222222,
              "#7201a8"
             ],
             [
              0.3333333333333333,
              "#9c179e"
             ],
             [
              0.4444444444444444,
              "#bd3786"
             ],
             [
              0.5555555555555556,
              "#d8576b"
             ],
             [
              0.6666666666666666,
              "#ed7953"
             ],
             [
              0.7777777777777778,
              "#fb9f3a"
             ],
             [
              0.8888888888888888,
              "#fdca26"
             ],
             [
              1,
              "#f0f921"
             ]
            ],
            "type": "histogram2dcontour"
           }
          ],
          "mesh3d": [
           {
            "colorbar": {
             "outlinewidth": 0,
             "ticks": ""
            },
            "type": "mesh3d"
           }
          ],
          "parcoords": [
           {
            "line": {
             "colorbar": {
              "outlinewidth": 0,
              "ticks": ""
             }
            },
            "type": "parcoords"
           }
          ],
          "pie": [
           {
            "automargin": true,
            "type": "pie"
           }
          ],
          "scatter": [
           {
            "fillpattern": {
             "fillmode": "overlay",
             "size": 10,
             "solidity": 0.2
            },
            "type": "scatter"
           }
          ],
          "scatter3d": [
           {
            "line": {
             "colorbar": {
              "outlinewidth": 0,
              "ticks": ""
             }
            },
            "marker": {
             "colorbar": {
              "outlinewidth": 0,
              "ticks": ""
             }
            },
            "type": "scatter3d"
           }
          ],
          "scattercarpet": [
           {
            "marker": {
             "colorbar": {
              "outlinewidth": 0,
              "ticks": ""
             }
            },
            "type": "scattercarpet"
           }
          ],
          "scattergeo": [
           {
            "marker": {
             "colorbar": {
              "outlinewidth": 0,
              "ticks": ""
             }
            },
            "type": "scattergeo"
           }
          ],
          "scattergl": [
           {
            "marker": {
             "colorbar": {
              "outlinewidth": 0,
              "ticks": ""
             }
            },
            "type": "scattergl"
           }
          ],
          "scattermap": [
           {
            "marker": {
             "colorbar": {
              "outlinewidth": 0,
              "ticks": ""
             }
            },
            "type": "scattermap"
           }
          ],
          "scattermapbox": [
           {
            "marker": {
             "colorbar": {
              "outlinewidth": 0,
              "ticks": ""
             }
            },
            "type": "scattermapbox"
           }
          ],
          "scatterpolar": [
           {
            "marker": {
             "colorbar": {
              "outlinewidth": 0,
              "ticks": ""
             }
            },
            "type": "scatterpolar"
           }
          ],
          "scatterpolargl": [
           {
            "marker": {
             "colorbar": {
              "outlinewidth": 0,
              "ticks": ""
             }
            },
            "type": "scatterpolargl"
           }
          ],
          "scatterternary": [
           {
            "marker": {
             "colorbar": {
              "outlinewidth": 0,
              "ticks": ""
             }
            },
            "type": "scatterternary"
           }
          ],
          "surface": [
           {
            "colorbar": {
             "outlinewidth": 0,
             "ticks": ""
            },
            "colorscale": [
             [
              0,
              "#0d0887"
             ],
             [
              0.1111111111111111,
              "#46039f"
             ],
             [
              0.2222222222222222,
              "#7201a8"
             ],
             [
              0.3333333333333333,
              "#9c179e"
             ],
             [
              0.4444444444444444,
              "#bd3786"
             ],
             [
              0.5555555555555556,
              "#d8576b"
             ],
             [
              0.6666666666666666,
              "#ed7953"
             ],
             [
              0.7777777777777778,
              "#fb9f3a"
             ],
             [
              0.8888888888888888,
              "#fdca26"
             ],
             [
              1,
              "#f0f921"
             ]
            ],
            "type": "surface"
           }
          ],
          "table": [
           {
            "cells": {
             "fill": {
              "color": "#EBF0F8"
             },
             "line": {
              "color": "white"
             }
            },
            "header": {
             "fill": {
              "color": "#C8D4E3"
             },
             "line": {
              "color": "white"
             }
            },
            "type": "table"
           }
          ]
         },
         "layout": {
          "annotationdefaults": {
           "arrowcolor": "#2a3f5f",
           "arrowhead": 0,
           "arrowwidth": 1
          },
          "autotypenumbers": "strict",
          "coloraxis": {
           "colorbar": {
            "outlinewidth": 0,
            "ticks": ""
           }
          },
          "colorscale": {
           "diverging": [
            [
             0,
             "#8e0152"
            ],
            [
             0.1,
             "#c51b7d"
            ],
            [
             0.2,
             "#de77ae"
            ],
            [
             0.3,
             "#f1b6da"
            ],
            [
             0.4,
             "#fde0ef"
            ],
            [
             0.5,
             "#f7f7f7"
            ],
            [
             0.6,
             "#e6f5d0"
            ],
            [
             0.7,
             "#b8e186"
            ],
            [
             0.8,
             "#7fbc41"
            ],
            [
             0.9,
             "#4d9221"
            ],
            [
             1,
             "#276419"
            ]
           ],
           "sequential": [
            [
             0,
             "#0d0887"
            ],
            [
             0.1111111111111111,
             "#46039f"
            ],
            [
             0.2222222222222222,
             "#7201a8"
            ],
            [
             0.3333333333333333,
             "#9c179e"
            ],
            [
             0.4444444444444444,
             "#bd3786"
            ],
            [
             0.5555555555555556,
             "#d8576b"
            ],
            [
             0.6666666666666666,
             "#ed7953"
            ],
            [
             0.7777777777777778,
             "#fb9f3a"
            ],
            [
             0.8888888888888888,
             "#fdca26"
            ],
            [
             1,
             "#f0f921"
            ]
           ],
           "sequentialminus": [
            [
             0,
             "#0d0887"
            ],
            [
             0.1111111111111111,
             "#46039f"
            ],
            [
             0.2222222222222222,
             "#7201a8"
            ],
            [
             0.3333333333333333,
             "#9c179e"
            ],
            [
             0.4444444444444444,
             "#bd3786"
            ],
            [
             0.5555555555555556,
             "#d8576b"
            ],
            [
             0.6666666666666666,
             "#ed7953"
            ],
            [
             0.7777777777777778,
             "#fb9f3a"
            ],
            [
             0.8888888888888888,
             "#fdca26"
            ],
            [
             1,
             "#f0f921"
            ]
           ]
          },
          "colorway": [
           "#636efa",
           "#EF553B",
           "#00cc96",
           "#ab63fa",
           "#FFA15A",
           "#19d3f3",
           "#FF6692",
           "#B6E880",
           "#FF97FF",
           "#FECB52"
          ],
          "font": {
           "color": "#2a3f5f"
          },
          "geo": {
           "bgcolor": "white",
           "lakecolor": "white",
           "landcolor": "#E5ECF6",
           "showlakes": true,
           "showland": true,
           "subunitcolor": "white"
          },
          "hoverlabel": {
           "align": "left"
          },
          "hovermode": "closest",
          "mapbox": {
           "style": "light"
          },
          "paper_bgcolor": "white",
          "plot_bgcolor": "#E5ECF6",
          "polar": {
           "angularaxis": {
            "gridcolor": "white",
            "linecolor": "white",
            "ticks": ""
           },
           "bgcolor": "#E5ECF6",
           "radialaxis": {
            "gridcolor": "white",
            "linecolor": "white",
            "ticks": ""
           }
          },
          "scene": {
           "xaxis": {
            "backgroundcolor": "#E5ECF6",
            "gridcolor": "white",
            "gridwidth": 2,
            "linecolor": "white",
            "showbackground": true,
            "ticks": "",
            "zerolinecolor": "white"
           },
           "yaxis": {
            "backgroundcolor": "#E5ECF6",
            "gridcolor": "white",
            "gridwidth": 2,
            "linecolor": "white",
            "showbackground": true,
            "ticks": "",
            "zerolinecolor": "white"
           },
           "zaxis": {
            "backgroundcolor": "#E5ECF6",
            "gridcolor": "white",
            "gridwidth": 2,
            "linecolor": "white",
            "showbackground": true,
            "ticks": "",
            "zerolinecolor": "white"
           }
          },
          "shapedefaults": {
           "line": {
            "color": "#2a3f5f"
           }
          },
          "ternary": {
           "aaxis": {
            "gridcolor": "white",
            "linecolor": "white",
            "ticks": ""
           },
           "baxis": {
            "gridcolor": "white",
            "linecolor": "white",
            "ticks": ""
           },
           "bgcolor": "#E5ECF6",
           "caxis": {
            "gridcolor": "white",
            "linecolor": "white",
            "ticks": ""
           }
          },
          "title": {
           "x": 0.05
          },
          "xaxis": {
           "automargin": true,
           "gridcolor": "white",
           "linecolor": "white",
           "ticks": "",
           "title": {
            "standoff": 15
           },
           "zerolinecolor": "white",
           "zerolinewidth": 2
          },
          "yaxis": {
           "automargin": true,
           "gridcolor": "white",
           "linecolor": "white",
           "ticks": "",
           "title": {
            "standoff": 15
           },
           "zerolinecolor": "white",
           "zerolinewidth": 2
          }
         }
        },
        "title": {
         "text": "Distribution of my opening moves playing as BLACK on Chess.com"
        },
        "width": 600,
        "xaxis": {
         "tickmode": "array",
         "ticktext": [
          "a",
          "b",
          "c",
          "d",
          "e",
          "f",
          "g",
          "h"
         ],
         "tickvals": [
          0,
          1,
          2,
          3,
          4,
          5,
          6,
          7
         ],
         "title": {
          "text": "File"
         }
        },
        "yaxis": {
         "autorange": "reversed",
         "tickmode": "array",
         "ticktext": [
          "8",
          "1",
          "2",
          "3",
          "4",
          "5",
          "6",
          "7"
         ],
         "tickvals": [
          0,
          1,
          2,
          3,
          4,
          5,
          6,
          7
         ],
         "title": {
          "text": "Rank"
         }
        }
       }
      }
     },
     "metadata": {},
     "output_type": "display_data"
    }
   ],
   "source": [
    "# Create annotated heatmap using Plotly\n",
    "fig = go.Figure(data=go.Heatmap(\n",
    "    z=black_heatmap_data,\n",
    "    x=['a', 'b', 'c', 'd', 'e', 'f', 'g', 'h'],\n",
    "    y=['8', '7', '6', '5', '4', '3', '2', '1'],  # Correct order for y-axis\n",
    "    colorscale='Blues',\n",
    "    colorbar=dict(title='Frequency')\n",
    "))\n",
    "\n",
    "# Add annotations\n",
    "for i in range(len(black_heatmap_data)):\n",
    "    for j in range(len(black_heatmap_data[i])):\n",
    "        fig.add_annotation(\n",
    "            x=j, y=i,\n",
    "            text=str(black_heatmap_data[i][j]),\n",
    "            showarrow=False,\n",
    "            font=dict(color='black', size=12)\n",
    "        )\n",
    "\n",
    "# Update layout to correctly order the y-axis\n",
    "fig.update_layout(\n",
    "    title='Distribution of my opening moves playing as BLACK on Chess.com',\n",
    "    xaxis=dict(title='File'),\n",
    "    yaxis=dict(title='Rank', autorange='reversed'),\n",
    "    xaxis_tickmode='array',\n",
    "    yaxis_tickmode='array',\n",
    "    xaxis_tickvals=list(range(8)),\n",
    "    yaxis_tickvals=list(range(8)),\n",
    "    xaxis_ticktext=['a', 'b', 'c', 'd', 'e', 'f', 'g', 'h'],\n",
    "    yaxis_ticktext=['8', '1', '2', '3', '4', '5', '6', '7'],  # Correct order for y-axis\n",
    "    width=600,\n",
    "    height=500,\n",
    "    autosize=False\n",
    ")\n",
    "\n",
    "# Show plot\n",
    "fig.show()"
   ]
  },
  {
   "cell_type": "markdown",
   "id": "55d4c3dd-a104-4d58-888d-61b7e9304590",
   "metadata": {},
   "source": [
    "### Opening move win rates as WHITE"
   ]
  },
  {
   "cell_type": "code",
   "execution_count": 51,
   "id": "5f72bdaa-d872-4a7d-b3a6-5eb9700160c5",
   "metadata": {},
   "outputs": [
    {
     "data": {
      "text/html": [
       "<div>\n",
       "<style scoped>\n",
       "    .dataframe tbody tr th:only-of-type {\n",
       "        vertical-align: middle;\n",
       "    }\n",
       "\n",
       "    .dataframe tbody tr th {\n",
       "        vertical-align: top;\n",
       "    }\n",
       "\n",
       "    .dataframe thead th {\n",
       "        text-align: right;\n",
       "    }\n",
       "</style>\n",
       "<table border=\"1\" class=\"dataframe\">\n",
       "  <thead>\n",
       "    <tr style=\"text-align: right;\">\n",
       "      <th>Result</th>\n",
       "      <th>Draw</th>\n",
       "      <th>Loss</th>\n",
       "      <th>Win</th>\n",
       "      <th>Total</th>\n",
       "      <th>Win Rate</th>\n",
       "    </tr>\n",
       "    <tr>\n",
       "      <th>my_move_1</th>\n",
       "      <th></th>\n",
       "      <th></th>\n",
       "      <th></th>\n",
       "      <th></th>\n",
       "      <th></th>\n",
       "    </tr>\n",
       "  </thead>\n",
       "  <tbody>\n",
       "    <tr>\n",
       "      <th>Nf3</th>\n",
       "      <td>0</td>\n",
       "      <td>1</td>\n",
       "      <td>0</td>\n",
       "      <td>1</td>\n",
       "      <td>0.000000</td>\n",
       "    </tr>\n",
       "    <tr>\n",
       "      <th>d4</th>\n",
       "      <td>32</td>\n",
       "      <td>207</td>\n",
       "      <td>255</td>\n",
       "      <td>494</td>\n",
       "      <td>51.619433</td>\n",
       "    </tr>\n",
       "    <tr>\n",
       "      <th>e3</th>\n",
       "      <td>0</td>\n",
       "      <td>5</td>\n",
       "      <td>2</td>\n",
       "      <td>7</td>\n",
       "      <td>28.571429</td>\n",
       "    </tr>\n",
       "    <tr>\n",
       "      <th>e4</th>\n",
       "      <td>61</td>\n",
       "      <td>335</td>\n",
       "      <td>392</td>\n",
       "      <td>788</td>\n",
       "      <td>49.746193</td>\n",
       "    </tr>\n",
       "  </tbody>\n",
       "</table>\n",
       "</div>"
      ],
      "text/plain": [
       "Result     Draw  Loss  Win  Total   Win Rate\n",
       "my_move_1                                   \n",
       "Nf3           0     1    0      1   0.000000\n",
       "d4           32   207  255    494  51.619433\n",
       "e3            0     5    2      7  28.571429\n",
       "e4           61   335  392    788  49.746193"
      ]
     },
     "execution_count": 51,
     "metadata": {},
     "output_type": "execute_result"
    }
   ],
   "source": [
    "# Aggregate the results by first move\n",
    "move_results_white = white.groupby(['my_move_1','Result']).size().unstack(fill_value=0)\n",
    "\n",
    "# Calculate win rates\n",
    "move_results_white['Total'] = move_results_white.sum(axis=1)\n",
    "move_results_white['Win Rate'] = (move_results_white['Win'] / move_results_white['Total']) * 100\n",
    "move_results_white"
   ]
  },
  {
   "cell_type": "markdown",
   "id": "f40e65ce-4cba-4bfb-b7ee-d1e37073ec84",
   "metadata": {},
   "source": [
    "### Heatmap of opening move win rates as WHITE"
   ]
  },
  {
   "cell_type": "code",
   "execution_count": 52,
   "id": "4794ed9d-f1f1-454c-bbfa-d6a801bc288f",
   "metadata": {},
   "outputs": [],
   "source": [
    "# Initialize an 8x8 matrix with zeros\n",
    "white_heatmap_data_winrates = [[0 for _ in range(8)] for _ in range(8)]"
   ]
  },
  {
   "cell_type": "code",
   "execution_count": 53,
   "id": "188f0f1c-bdf9-49a8-a8d3-9faa54297034",
   "metadata": {},
   "outputs": [
    {
     "data": {
      "application/vnd.plotly.v1+json": {
       "config": {
        "plotlyServerURL": "https://plot.ly"
       },
       "data": [
        {
         "colorbar": {
          "title": {
           "text": "Win Rate (%)"
          }
         },
         "colorscale": [
          [
           0,
           "rgb(247,251,255)"
          ],
          [
           0.125,
           "rgb(222,235,247)"
          ],
          [
           0.25,
           "rgb(198,219,239)"
          ],
          [
           0.375,
           "rgb(158,202,225)"
          ],
          [
           0.5,
           "rgb(107,174,214)"
          ],
          [
           0.625,
           "rgb(66,146,198)"
          ],
          [
           0.75,
           "rgb(33,113,181)"
          ],
          [
           0.875,
           "rgb(8,81,156)"
          ],
          [
           1,
           "rgb(8,48,107)"
          ]
         ],
         "type": "heatmap",
         "x": [
          "a",
          "b",
          "c",
          "d",
          "e",
          "f",
          "g",
          "h"
         ],
         "y": [
          "8",
          "7",
          "6",
          "5",
          "4",
          "3",
          "2",
          "1"
         ],
         "z": [
          [
           0,
           0,
           0,
           0,
           0,
           0,
           0,
           0
          ],
          [
           0,
           0,
           0,
           0,
           0,
           0,
           0,
           0
          ],
          [
           0,
           0,
           0,
           0,
           0,
           0,
           0,
           0
          ],
          [
           0,
           0,
           0,
           0,
           0,
           0,
           0,
           0
          ],
          [
           0,
           0,
           0,
           51.61943319838057,
           49.746192893401016,
           0,
           0,
           0
          ],
          [
           0,
           0,
           0,
           0,
           28.57142857142857,
           0,
           0,
           0
          ],
          [
           0,
           0,
           0,
           0,
           0,
           0,
           0,
           0
          ],
          [
           0,
           0,
           0,
           0,
           0,
           0,
           0,
           0
          ]
         ]
        }
       ],
       "layout": {
        "annotations": [
         {
          "font": {
           "color": "black",
           "size": 12
          },
          "showarrow": false,
          "text": "0.0%",
          "x": 0,
          "y": 0
         },
         {
          "font": {
           "color": "black",
           "size": 12
          },
          "showarrow": false,
          "text": "0.0%",
          "x": 1,
          "y": 0
         },
         {
          "font": {
           "color": "black",
           "size": 12
          },
          "showarrow": false,
          "text": "0.0%",
          "x": 2,
          "y": 0
         },
         {
          "font": {
           "color": "black",
           "size": 12
          },
          "showarrow": false,
          "text": "0.0%",
          "x": 3,
          "y": 0
         },
         {
          "font": {
           "color": "black",
           "size": 12
          },
          "showarrow": false,
          "text": "0.0%",
          "x": 4,
          "y": 0
         },
         {
          "font": {
           "color": "black",
           "size": 12
          },
          "showarrow": false,
          "text": "0.0%",
          "x": 5,
          "y": 0
         },
         {
          "font": {
           "color": "black",
           "size": 12
          },
          "showarrow": false,
          "text": "0.0%",
          "x": 6,
          "y": 0
         },
         {
          "font": {
           "color": "black",
           "size": 12
          },
          "showarrow": false,
          "text": "0.0%",
          "x": 7,
          "y": 0
         },
         {
          "font": {
           "color": "black",
           "size": 12
          },
          "showarrow": false,
          "text": "0.0%",
          "x": 0,
          "y": 1
         },
         {
          "font": {
           "color": "black",
           "size": 12
          },
          "showarrow": false,
          "text": "0.0%",
          "x": 1,
          "y": 1
         },
         {
          "font": {
           "color": "black",
           "size": 12
          },
          "showarrow": false,
          "text": "0.0%",
          "x": 2,
          "y": 1
         },
         {
          "font": {
           "color": "black",
           "size": 12
          },
          "showarrow": false,
          "text": "0.0%",
          "x": 3,
          "y": 1
         },
         {
          "font": {
           "color": "black",
           "size": 12
          },
          "showarrow": false,
          "text": "0.0%",
          "x": 4,
          "y": 1
         },
         {
          "font": {
           "color": "black",
           "size": 12
          },
          "showarrow": false,
          "text": "0.0%",
          "x": 5,
          "y": 1
         },
         {
          "font": {
           "color": "black",
           "size": 12
          },
          "showarrow": false,
          "text": "0.0%",
          "x": 6,
          "y": 1
         },
         {
          "font": {
           "color": "black",
           "size": 12
          },
          "showarrow": false,
          "text": "0.0%",
          "x": 7,
          "y": 1
         },
         {
          "font": {
           "color": "black",
           "size": 12
          },
          "showarrow": false,
          "text": "0.0%",
          "x": 0,
          "y": 2
         },
         {
          "font": {
           "color": "black",
           "size": 12
          },
          "showarrow": false,
          "text": "0.0%",
          "x": 1,
          "y": 2
         },
         {
          "font": {
           "color": "black",
           "size": 12
          },
          "showarrow": false,
          "text": "0.0%",
          "x": 2,
          "y": 2
         },
         {
          "font": {
           "color": "black",
           "size": 12
          },
          "showarrow": false,
          "text": "0.0%",
          "x": 3,
          "y": 2
         },
         {
          "font": {
           "color": "black",
           "size": 12
          },
          "showarrow": false,
          "text": "0.0%",
          "x": 4,
          "y": 2
         },
         {
          "font": {
           "color": "black",
           "size": 12
          },
          "showarrow": false,
          "text": "0.0%",
          "x": 5,
          "y": 2
         },
         {
          "font": {
           "color": "black",
           "size": 12
          },
          "showarrow": false,
          "text": "0.0%",
          "x": 6,
          "y": 2
         },
         {
          "font": {
           "color": "black",
           "size": 12
          },
          "showarrow": false,
          "text": "0.0%",
          "x": 7,
          "y": 2
         },
         {
          "font": {
           "color": "black",
           "size": 12
          },
          "showarrow": false,
          "text": "0.0%",
          "x": 0,
          "y": 3
         },
         {
          "font": {
           "color": "black",
           "size": 12
          },
          "showarrow": false,
          "text": "0.0%",
          "x": 1,
          "y": 3
         },
         {
          "font": {
           "color": "black",
           "size": 12
          },
          "showarrow": false,
          "text": "0.0%",
          "x": 2,
          "y": 3
         },
         {
          "font": {
           "color": "black",
           "size": 12
          },
          "showarrow": false,
          "text": "0.0%",
          "x": 3,
          "y": 3
         },
         {
          "font": {
           "color": "black",
           "size": 12
          },
          "showarrow": false,
          "text": "0.0%",
          "x": 4,
          "y": 3
         },
         {
          "font": {
           "color": "black",
           "size": 12
          },
          "showarrow": false,
          "text": "0.0%",
          "x": 5,
          "y": 3
         },
         {
          "font": {
           "color": "black",
           "size": 12
          },
          "showarrow": false,
          "text": "0.0%",
          "x": 6,
          "y": 3
         },
         {
          "font": {
           "color": "black",
           "size": 12
          },
          "showarrow": false,
          "text": "0.0%",
          "x": 7,
          "y": 3
         },
         {
          "font": {
           "color": "black",
           "size": 12
          },
          "showarrow": false,
          "text": "0.0%",
          "x": 0,
          "y": 4
         },
         {
          "font": {
           "color": "black",
           "size": 12
          },
          "showarrow": false,
          "text": "0.0%",
          "x": 1,
          "y": 4
         },
         {
          "font": {
           "color": "black",
           "size": 12
          },
          "showarrow": false,
          "text": "0.0%",
          "x": 2,
          "y": 4
         },
         {
          "font": {
           "color": "black",
           "size": 12
          },
          "showarrow": false,
          "text": "51.6%",
          "x": 3,
          "y": 4
         },
         {
          "font": {
           "color": "black",
           "size": 12
          },
          "showarrow": false,
          "text": "49.7%",
          "x": 4,
          "y": 4
         },
         {
          "font": {
           "color": "black",
           "size": 12
          },
          "showarrow": false,
          "text": "0.0%",
          "x": 5,
          "y": 4
         },
         {
          "font": {
           "color": "black",
           "size": 12
          },
          "showarrow": false,
          "text": "0.0%",
          "x": 6,
          "y": 4
         },
         {
          "font": {
           "color": "black",
           "size": 12
          },
          "showarrow": false,
          "text": "0.0%",
          "x": 7,
          "y": 4
         },
         {
          "font": {
           "color": "black",
           "size": 12
          },
          "showarrow": false,
          "text": "0.0%",
          "x": 0,
          "y": 5
         },
         {
          "font": {
           "color": "black",
           "size": 12
          },
          "showarrow": false,
          "text": "0.0%",
          "x": 1,
          "y": 5
         },
         {
          "font": {
           "color": "black",
           "size": 12
          },
          "showarrow": false,
          "text": "0.0%",
          "x": 2,
          "y": 5
         },
         {
          "font": {
           "color": "black",
           "size": 12
          },
          "showarrow": false,
          "text": "0.0%",
          "x": 3,
          "y": 5
         },
         {
          "font": {
           "color": "black",
           "size": 12
          },
          "showarrow": false,
          "text": "28.6%",
          "x": 4,
          "y": 5
         },
         {
          "font": {
           "color": "black",
           "size": 12
          },
          "showarrow": false,
          "text": "0.0%",
          "x": 5,
          "y": 5
         },
         {
          "font": {
           "color": "black",
           "size": 12
          },
          "showarrow": false,
          "text": "0.0%",
          "x": 6,
          "y": 5
         },
         {
          "font": {
           "color": "black",
           "size": 12
          },
          "showarrow": false,
          "text": "0.0%",
          "x": 7,
          "y": 5
         },
         {
          "font": {
           "color": "black",
           "size": 12
          },
          "showarrow": false,
          "text": "0.0%",
          "x": 0,
          "y": 6
         },
         {
          "font": {
           "color": "black",
           "size": 12
          },
          "showarrow": false,
          "text": "0.0%",
          "x": 1,
          "y": 6
         },
         {
          "font": {
           "color": "black",
           "size": 12
          },
          "showarrow": false,
          "text": "0.0%",
          "x": 2,
          "y": 6
         },
         {
          "font": {
           "color": "black",
           "size": 12
          },
          "showarrow": false,
          "text": "0.0%",
          "x": 3,
          "y": 6
         },
         {
          "font": {
           "color": "black",
           "size": 12
          },
          "showarrow": false,
          "text": "0.0%",
          "x": 4,
          "y": 6
         },
         {
          "font": {
           "color": "black",
           "size": 12
          },
          "showarrow": false,
          "text": "0.0%",
          "x": 5,
          "y": 6
         },
         {
          "font": {
           "color": "black",
           "size": 12
          },
          "showarrow": false,
          "text": "0.0%",
          "x": 6,
          "y": 6
         },
         {
          "font": {
           "color": "black",
           "size": 12
          },
          "showarrow": false,
          "text": "0.0%",
          "x": 7,
          "y": 6
         },
         {
          "font": {
           "color": "black",
           "size": 12
          },
          "showarrow": false,
          "text": "0.0%",
          "x": 0,
          "y": 7
         },
         {
          "font": {
           "color": "black",
           "size": 12
          },
          "showarrow": false,
          "text": "0.0%",
          "x": 1,
          "y": 7
         },
         {
          "font": {
           "color": "black",
           "size": 12
          },
          "showarrow": false,
          "text": "0.0%",
          "x": 2,
          "y": 7
         },
         {
          "font": {
           "color": "black",
           "size": 12
          },
          "showarrow": false,
          "text": "0.0%",
          "x": 3,
          "y": 7
         },
         {
          "font": {
           "color": "black",
           "size": 12
          },
          "showarrow": false,
          "text": "0.0%",
          "x": 4,
          "y": 7
         },
         {
          "font": {
           "color": "black",
           "size": 12
          },
          "showarrow": false,
          "text": "0.0%",
          "x": 5,
          "y": 7
         },
         {
          "font": {
           "color": "black",
           "size": 12
          },
          "showarrow": false,
          "text": "0.0%",
          "x": 6,
          "y": 7
         },
         {
          "font": {
           "color": "black",
           "size": 12
          },
          "showarrow": false,
          "text": "0.0%",
          "x": 7,
          "y": 7
         }
        ],
        "autosize": false,
        "height": 500,
        "template": {
         "data": {
          "bar": [
           {
            "error_x": {
             "color": "#2a3f5f"
            },
            "error_y": {
             "color": "#2a3f5f"
            },
            "marker": {
             "line": {
              "color": "#E5ECF6",
              "width": 0.5
             },
             "pattern": {
              "fillmode": "overlay",
              "size": 10,
              "solidity": 0.2
             }
            },
            "type": "bar"
           }
          ],
          "barpolar": [
           {
            "marker": {
             "line": {
              "color": "#E5ECF6",
              "width": 0.5
             },
             "pattern": {
              "fillmode": "overlay",
              "size": 10,
              "solidity": 0.2
             }
            },
            "type": "barpolar"
           }
          ],
          "carpet": [
           {
            "aaxis": {
             "endlinecolor": "#2a3f5f",
             "gridcolor": "white",
             "linecolor": "white",
             "minorgridcolor": "white",
             "startlinecolor": "#2a3f5f"
            },
            "baxis": {
             "endlinecolor": "#2a3f5f",
             "gridcolor": "white",
             "linecolor": "white",
             "minorgridcolor": "white",
             "startlinecolor": "#2a3f5f"
            },
            "type": "carpet"
           }
          ],
          "choropleth": [
           {
            "colorbar": {
             "outlinewidth": 0,
             "ticks": ""
            },
            "type": "choropleth"
           }
          ],
          "contour": [
           {
            "colorbar": {
             "outlinewidth": 0,
             "ticks": ""
            },
            "colorscale": [
             [
              0,
              "#0d0887"
             ],
             [
              0.1111111111111111,
              "#46039f"
             ],
             [
              0.2222222222222222,
              "#7201a8"
             ],
             [
              0.3333333333333333,
              "#9c179e"
             ],
             [
              0.4444444444444444,
              "#bd3786"
             ],
             [
              0.5555555555555556,
              "#d8576b"
             ],
             [
              0.6666666666666666,
              "#ed7953"
             ],
             [
              0.7777777777777778,
              "#fb9f3a"
             ],
             [
              0.8888888888888888,
              "#fdca26"
             ],
             [
              1,
              "#f0f921"
             ]
            ],
            "type": "contour"
           }
          ],
          "contourcarpet": [
           {
            "colorbar": {
             "outlinewidth": 0,
             "ticks": ""
            },
            "type": "contourcarpet"
           }
          ],
          "heatmap": [
           {
            "colorbar": {
             "outlinewidth": 0,
             "ticks": ""
            },
            "colorscale": [
             [
              0,
              "#0d0887"
             ],
             [
              0.1111111111111111,
              "#46039f"
             ],
             [
              0.2222222222222222,
              "#7201a8"
             ],
             [
              0.3333333333333333,
              "#9c179e"
             ],
             [
              0.4444444444444444,
              "#bd3786"
             ],
             [
              0.5555555555555556,
              "#d8576b"
             ],
             [
              0.6666666666666666,
              "#ed7953"
             ],
             [
              0.7777777777777778,
              "#fb9f3a"
             ],
             [
              0.8888888888888888,
              "#fdca26"
             ],
             [
              1,
              "#f0f921"
             ]
            ],
            "type": "heatmap"
           }
          ],
          "histogram": [
           {
            "marker": {
             "pattern": {
              "fillmode": "overlay",
              "size": 10,
              "solidity": 0.2
             }
            },
            "type": "histogram"
           }
          ],
          "histogram2d": [
           {
            "colorbar": {
             "outlinewidth": 0,
             "ticks": ""
            },
            "colorscale": [
             [
              0,
              "#0d0887"
             ],
             [
              0.1111111111111111,
              "#46039f"
             ],
             [
              0.2222222222222222,
              "#7201a8"
             ],
             [
              0.3333333333333333,
              "#9c179e"
             ],
             [
              0.4444444444444444,
              "#bd3786"
             ],
             [
              0.5555555555555556,
              "#d8576b"
             ],
             [
              0.6666666666666666,
              "#ed7953"
             ],
             [
              0.7777777777777778,
              "#fb9f3a"
             ],
             [
              0.8888888888888888,
              "#fdca26"
             ],
             [
              1,
              "#f0f921"
             ]
            ],
            "type": "histogram2d"
           }
          ],
          "histogram2dcontour": [
           {
            "colorbar": {
             "outlinewidth": 0,
             "ticks": ""
            },
            "colorscale": [
             [
              0,
              "#0d0887"
             ],
             [
              0.1111111111111111,
              "#46039f"
             ],
             [
              0.2222222222222222,
              "#7201a8"
             ],
             [
              0.3333333333333333,
              "#9c179e"
             ],
             [
              0.4444444444444444,
              "#bd3786"
             ],
             [
              0.5555555555555556,
              "#d8576b"
             ],
             [
              0.6666666666666666,
              "#ed7953"
             ],
             [
              0.7777777777777778,
              "#fb9f3a"
             ],
             [
              0.8888888888888888,
              "#fdca26"
             ],
             [
              1,
              "#f0f921"
             ]
            ],
            "type": "histogram2dcontour"
           }
          ],
          "mesh3d": [
           {
            "colorbar": {
             "outlinewidth": 0,
             "ticks": ""
            },
            "type": "mesh3d"
           }
          ],
          "parcoords": [
           {
            "line": {
             "colorbar": {
              "outlinewidth": 0,
              "ticks": ""
             }
            },
            "type": "parcoords"
           }
          ],
          "pie": [
           {
            "automargin": true,
            "type": "pie"
           }
          ],
          "scatter": [
           {
            "fillpattern": {
             "fillmode": "overlay",
             "size": 10,
             "solidity": 0.2
            },
            "type": "scatter"
           }
          ],
          "scatter3d": [
           {
            "line": {
             "colorbar": {
              "outlinewidth": 0,
              "ticks": ""
             }
            },
            "marker": {
             "colorbar": {
              "outlinewidth": 0,
              "ticks": ""
             }
            },
            "type": "scatter3d"
           }
          ],
          "scattercarpet": [
           {
            "marker": {
             "colorbar": {
              "outlinewidth": 0,
              "ticks": ""
             }
            },
            "type": "scattercarpet"
           }
          ],
          "scattergeo": [
           {
            "marker": {
             "colorbar": {
              "outlinewidth": 0,
              "ticks": ""
             }
            },
            "type": "scattergeo"
           }
          ],
          "scattergl": [
           {
            "marker": {
             "colorbar": {
              "outlinewidth": 0,
              "ticks": ""
             }
            },
            "type": "scattergl"
           }
          ],
          "scattermap": [
           {
            "marker": {
             "colorbar": {
              "outlinewidth": 0,
              "ticks": ""
             }
            },
            "type": "scattermap"
           }
          ],
          "scattermapbox": [
           {
            "marker": {
             "colorbar": {
              "outlinewidth": 0,
              "ticks": ""
             }
            },
            "type": "scattermapbox"
           }
          ],
          "scatterpolar": [
           {
            "marker": {
             "colorbar": {
              "outlinewidth": 0,
              "ticks": ""
             }
            },
            "type": "scatterpolar"
           }
          ],
          "scatterpolargl": [
           {
            "marker": {
             "colorbar": {
              "outlinewidth": 0,
              "ticks": ""
             }
            },
            "type": "scatterpolargl"
           }
          ],
          "scatterternary": [
           {
            "marker": {
             "colorbar": {
              "outlinewidth": 0,
              "ticks": ""
             }
            },
            "type": "scatterternary"
           }
          ],
          "surface": [
           {
            "colorbar": {
             "outlinewidth": 0,
             "ticks": ""
            },
            "colorscale": [
             [
              0,
              "#0d0887"
             ],
             [
              0.1111111111111111,
              "#46039f"
             ],
             [
              0.2222222222222222,
              "#7201a8"
             ],
             [
              0.3333333333333333,
              "#9c179e"
             ],
             [
              0.4444444444444444,
              "#bd3786"
             ],
             [
              0.5555555555555556,
              "#d8576b"
             ],
             [
              0.6666666666666666,
              "#ed7953"
             ],
             [
              0.7777777777777778,
              "#fb9f3a"
             ],
             [
              0.8888888888888888,
              "#fdca26"
             ],
             [
              1,
              "#f0f921"
             ]
            ],
            "type": "surface"
           }
          ],
          "table": [
           {
            "cells": {
             "fill": {
              "color": "#EBF0F8"
             },
             "line": {
              "color": "white"
             }
            },
            "header": {
             "fill": {
              "color": "#C8D4E3"
             },
             "line": {
              "color": "white"
             }
            },
            "type": "table"
           }
          ]
         },
         "layout": {
          "annotationdefaults": {
           "arrowcolor": "#2a3f5f",
           "arrowhead": 0,
           "arrowwidth": 1
          },
          "autotypenumbers": "strict",
          "coloraxis": {
           "colorbar": {
            "outlinewidth": 0,
            "ticks": ""
           }
          },
          "colorscale": {
           "diverging": [
            [
             0,
             "#8e0152"
            ],
            [
             0.1,
             "#c51b7d"
            ],
            [
             0.2,
             "#de77ae"
            ],
            [
             0.3,
             "#f1b6da"
            ],
            [
             0.4,
             "#fde0ef"
            ],
            [
             0.5,
             "#f7f7f7"
            ],
            [
             0.6,
             "#e6f5d0"
            ],
            [
             0.7,
             "#b8e186"
            ],
            [
             0.8,
             "#7fbc41"
            ],
            [
             0.9,
             "#4d9221"
            ],
            [
             1,
             "#276419"
            ]
           ],
           "sequential": [
            [
             0,
             "#0d0887"
            ],
            [
             0.1111111111111111,
             "#46039f"
            ],
            [
             0.2222222222222222,
             "#7201a8"
            ],
            [
             0.3333333333333333,
             "#9c179e"
            ],
            [
             0.4444444444444444,
             "#bd3786"
            ],
            [
             0.5555555555555556,
             "#d8576b"
            ],
            [
             0.6666666666666666,
             "#ed7953"
            ],
            [
             0.7777777777777778,
             "#fb9f3a"
            ],
            [
             0.8888888888888888,
             "#fdca26"
            ],
            [
             1,
             "#f0f921"
            ]
           ],
           "sequentialminus": [
            [
             0,
             "#0d0887"
            ],
            [
             0.1111111111111111,
             "#46039f"
            ],
            [
             0.2222222222222222,
             "#7201a8"
            ],
            [
             0.3333333333333333,
             "#9c179e"
            ],
            [
             0.4444444444444444,
             "#bd3786"
            ],
            [
             0.5555555555555556,
             "#d8576b"
            ],
            [
             0.6666666666666666,
             "#ed7953"
            ],
            [
             0.7777777777777778,
             "#fb9f3a"
            ],
            [
             0.8888888888888888,
             "#fdca26"
            ],
            [
             1,
             "#f0f921"
            ]
           ]
          },
          "colorway": [
           "#636efa",
           "#EF553B",
           "#00cc96",
           "#ab63fa",
           "#FFA15A",
           "#19d3f3",
           "#FF6692",
           "#B6E880",
           "#FF97FF",
           "#FECB52"
          ],
          "font": {
           "color": "#2a3f5f"
          },
          "geo": {
           "bgcolor": "white",
           "lakecolor": "white",
           "landcolor": "#E5ECF6",
           "showlakes": true,
           "showland": true,
           "subunitcolor": "white"
          },
          "hoverlabel": {
           "align": "left"
          },
          "hovermode": "closest",
          "mapbox": {
           "style": "light"
          },
          "paper_bgcolor": "white",
          "plot_bgcolor": "#E5ECF6",
          "polar": {
           "angularaxis": {
            "gridcolor": "white",
            "linecolor": "white",
            "ticks": ""
           },
           "bgcolor": "#E5ECF6",
           "radialaxis": {
            "gridcolor": "white",
            "linecolor": "white",
            "ticks": ""
           }
          },
          "scene": {
           "xaxis": {
            "backgroundcolor": "#E5ECF6",
            "gridcolor": "white",
            "gridwidth": 2,
            "linecolor": "white",
            "showbackground": true,
            "ticks": "",
            "zerolinecolor": "white"
           },
           "yaxis": {
            "backgroundcolor": "#E5ECF6",
            "gridcolor": "white",
            "gridwidth": 2,
            "linecolor": "white",
            "showbackground": true,
            "ticks": "",
            "zerolinecolor": "white"
           },
           "zaxis": {
            "backgroundcolor": "#E5ECF6",
            "gridcolor": "white",
            "gridwidth": 2,
            "linecolor": "white",
            "showbackground": true,
            "ticks": "",
            "zerolinecolor": "white"
           }
          },
          "shapedefaults": {
           "line": {
            "color": "#2a3f5f"
           }
          },
          "ternary": {
           "aaxis": {
            "gridcolor": "white",
            "linecolor": "white",
            "ticks": ""
           },
           "baxis": {
            "gridcolor": "white",
            "linecolor": "white",
            "ticks": ""
           },
           "bgcolor": "#E5ECF6",
           "caxis": {
            "gridcolor": "white",
            "linecolor": "white",
            "ticks": ""
           }
          },
          "title": {
           "x": 0.05
          },
          "xaxis": {
           "automargin": true,
           "gridcolor": "white",
           "linecolor": "white",
           "ticks": "",
           "title": {
            "standoff": 15
           },
           "zerolinecolor": "white",
           "zerolinewidth": 2
          },
          "yaxis": {
           "automargin": true,
           "gridcolor": "white",
           "linecolor": "white",
           "ticks": "",
           "title": {
            "standoff": 15
           },
           "zerolinecolor": "white",
           "zerolinewidth": 2
          }
         }
        },
        "title": {
         "text": "Win rates based on my opening move playing as WHITE"
        },
        "width": 600,
        "xaxis": {
         "tickmode": "array",
         "ticktext": [
          "a",
          "b",
          "c",
          "d",
          "e",
          "f",
          "g",
          "h"
         ],
         "tickvals": [
          0,
          1,
          2,
          3,
          4,
          5,
          6,
          7
         ],
         "title": {
          "text": "File"
         }
        },
        "yaxis": {
         "autorange": "reversed",
         "tickmode": "array",
         "ticktext": [
          "8",
          "1",
          "2",
          "3",
          "4",
          "5",
          "6",
          "7"
         ],
         "tickvals": [
          0,
          1,
          2,
          3,
          4,
          5,
          6,
          7
         ],
         "title": {
          "text": "Rank"
         }
        }
       }
      }
     },
     "metadata": {},
     "output_type": "display_data"
    }
   ],
   "source": [
    "# Aggregate the results by first move\n",
    "move_results_white_index = white.groupby(['my_move_1_index','Result']).size().unstack(fill_value=0)\n",
    "\n",
    "# Calculate win rates\n",
    "move_results_white_index['Total'] = move_results_white_index.sum(axis=1)\n",
    "move_results_white_index['Win Rate'] = (move_results_white_index['Win'] / move_results_white_index['Total']) * 100\n",
    "\n",
    "# Fill the heatmap data with win rates\n",
    "for move, row in move_results_white_index.iterrows():\n",
    "    row_idx = move // 8\n",
    "    col_idx = move % 8\n",
    "    white_heatmap_data_winrates[row_idx][col_idx] = row['Win Rate']\n",
    "\n",
    "# Create the heatmap with percentage win rates\n",
    "fig = go.Figure(data=go.Heatmap(\n",
    "    z=white_heatmap_data_winrates,\n",
    "    x=['a', 'b', 'c', 'd', 'e', 'f', 'g', 'h'],\n",
    "    y=['8', '7', '6', '5', '4', '3', '2', '1'],  # Correct order for y-axis\n",
    "    colorscale='Blues',\n",
    "    colorbar=dict(title='Win Rate (%)')\n",
    "))\n",
    "\n",
    "# Add annotations for the percentage win rates\n",
    "for i in range(len(white_heatmap_data_winrates)):\n",
    "    for j in range(len(white_heatmap_data_winrates[i])):\n",
    "        fig.add_annotation(\n",
    "            x=j, y=i,\n",
    "            text=f\"{white_heatmap_data_winrates[i][j]:.1f}%\",\n",
    "            showarrow=False,\n",
    "            font=dict(color='black', size=12)\n",
    "        )\n",
    "\n",
    "# Update layout to correctly order the y-axis\n",
    "fig.update_layout(\n",
    "    title='Win rates based on my opening move playing as WHITE',\n",
    "    xaxis=dict(title='File'),\n",
    "    yaxis=dict(title='Rank', autorange='reversed'),\n",
    "    xaxis_tickmode='array',\n",
    "    yaxis_tickmode='array',\n",
    "    xaxis_tickvals=list(range(8)),\n",
    "    yaxis_tickvals=list(range(8)),\n",
    "    xaxis_ticktext=['a', 'b', 'c', 'd', 'e', 'f', 'g', 'h'],\n",
    "    yaxis_ticktext=['8', '1', '2', '3', '4', '5', '6', '7'],  # Correct order for y-axis\n",
    "    width=600,\n",
    "    height=500,\n",
    "    autosize=False\n",
    ")\n",
    "\n",
    "# Show plot\n",
    "fig.show()"
   ]
  },
  {
   "cell_type": "markdown",
   "id": "8212589d-4499-4571-bee6-87b9867a4d35",
   "metadata": {},
   "source": [
    "### Opening move win rates as BLACK"
   ]
  },
  {
   "cell_type": "code",
   "execution_count": 54,
   "id": "795fb57b-2c64-4967-976b-e3302f06524d",
   "metadata": {},
   "outputs": [
    {
     "data": {
      "text/html": [
       "<div>\n",
       "<style scoped>\n",
       "    .dataframe tbody tr th:only-of-type {\n",
       "        vertical-align: middle;\n",
       "    }\n",
       "\n",
       "    .dataframe tbody tr th {\n",
       "        vertical-align: top;\n",
       "    }\n",
       "\n",
       "    .dataframe thead th {\n",
       "        text-align: right;\n",
       "    }\n",
       "</style>\n",
       "<table border=\"1\" class=\"dataframe\">\n",
       "  <thead>\n",
       "    <tr style=\"text-align: right;\">\n",
       "      <th>Result</th>\n",
       "      <th>Draw</th>\n",
       "      <th>Loss</th>\n",
       "      <th>Win</th>\n",
       "      <th>Total</th>\n",
       "      <th>Win Rate</th>\n",
       "    </tr>\n",
       "    <tr>\n",
       "      <th>my_move_1</th>\n",
       "      <th></th>\n",
       "      <th></th>\n",
       "      <th></th>\n",
       "      <th></th>\n",
       "      <th></th>\n",
       "    </tr>\n",
       "  </thead>\n",
       "  <tbody>\n",
       "    <tr>\n",
       "      <th>Na6</th>\n",
       "      <td>1</td>\n",
       "      <td>2</td>\n",
       "      <td>0</td>\n",
       "      <td>3</td>\n",
       "      <td>0.000000</td>\n",
       "    </tr>\n",
       "    <tr>\n",
       "      <th>Nc6</th>\n",
       "      <td>1</td>\n",
       "      <td>18</td>\n",
       "      <td>7</td>\n",
       "      <td>26</td>\n",
       "      <td>26.923077</td>\n",
       "    </tr>\n",
       "    <tr>\n",
       "      <th>Nf6</th>\n",
       "      <td>2</td>\n",
       "      <td>18</td>\n",
       "      <td>7</td>\n",
       "      <td>27</td>\n",
       "      <td>25.925926</td>\n",
       "    </tr>\n",
       "    <tr>\n",
       "      <th>Nh6</th>\n",
       "      <td>0</td>\n",
       "      <td>0</td>\n",
       "      <td>1</td>\n",
       "      <td>1</td>\n",
       "      <td>100.000000</td>\n",
       "    </tr>\n",
       "    <tr>\n",
       "      <th>a5</th>\n",
       "      <td>0</td>\n",
       "      <td>2</td>\n",
       "      <td>0</td>\n",
       "      <td>2</td>\n",
       "      <td>0.000000</td>\n",
       "    </tr>\n",
       "    <tr>\n",
       "      <th>b5</th>\n",
       "      <td>0</td>\n",
       "      <td>1</td>\n",
       "      <td>0</td>\n",
       "      <td>1</td>\n",
       "      <td>0.000000</td>\n",
       "    </tr>\n",
       "    <tr>\n",
       "      <th>b6</th>\n",
       "      <td>0</td>\n",
       "      <td>2</td>\n",
       "      <td>1</td>\n",
       "      <td>3</td>\n",
       "      <td>33.333333</td>\n",
       "    </tr>\n",
       "    <tr>\n",
       "      <th>c5</th>\n",
       "      <td>0</td>\n",
       "      <td>2</td>\n",
       "      <td>0</td>\n",
       "      <td>2</td>\n",
       "      <td>0.000000</td>\n",
       "    </tr>\n",
       "    <tr>\n",
       "      <th>d5</th>\n",
       "      <td>33</td>\n",
       "      <td>253</td>\n",
       "      <td>222</td>\n",
       "      <td>508</td>\n",
       "      <td>43.700787</td>\n",
       "    </tr>\n",
       "    <tr>\n",
       "      <th>d6</th>\n",
       "      <td>0</td>\n",
       "      <td>2</td>\n",
       "      <td>6</td>\n",
       "      <td>8</td>\n",
       "      <td>75.000000</td>\n",
       "    </tr>\n",
       "    <tr>\n",
       "      <th>e5</th>\n",
       "      <td>45</td>\n",
       "      <td>305</td>\n",
       "      <td>284</td>\n",
       "      <td>634</td>\n",
       "      <td>44.794953</td>\n",
       "    </tr>\n",
       "    <tr>\n",
       "      <th>e6</th>\n",
       "      <td>2</td>\n",
       "      <td>33</td>\n",
       "      <td>26</td>\n",
       "      <td>61</td>\n",
       "      <td>42.622951</td>\n",
       "    </tr>\n",
       "    <tr>\n",
       "      <th>f6</th>\n",
       "      <td>0</td>\n",
       "      <td>3</td>\n",
       "      <td>2</td>\n",
       "      <td>5</td>\n",
       "      <td>40.000000</td>\n",
       "    </tr>\n",
       "    <tr>\n",
       "      <th>g5</th>\n",
       "      <td>0</td>\n",
       "      <td>0</td>\n",
       "      <td>2</td>\n",
       "      <td>2</td>\n",
       "      <td>100.000000</td>\n",
       "    </tr>\n",
       "    <tr>\n",
       "      <th>g6</th>\n",
       "      <td>0</td>\n",
       "      <td>3</td>\n",
       "      <td>0</td>\n",
       "      <td>3</td>\n",
       "      <td>0.000000</td>\n",
       "    </tr>\n",
       "    <tr>\n",
       "      <th>h5</th>\n",
       "      <td>0</td>\n",
       "      <td>1</td>\n",
       "      <td>0</td>\n",
       "      <td>1</td>\n",
       "      <td>0.000000</td>\n",
       "    </tr>\n",
       "  </tbody>\n",
       "</table>\n",
       "</div>"
      ],
      "text/plain": [
       "Result     Draw  Loss  Win  Total    Win Rate\n",
       "my_move_1                                    \n",
       "Na6           1     2    0      3    0.000000\n",
       "Nc6           1    18    7     26   26.923077\n",
       "Nf6           2    18    7     27   25.925926\n",
       "Nh6           0     0    1      1  100.000000\n",
       "a5            0     2    0      2    0.000000\n",
       "b5            0     1    0      1    0.000000\n",
       "b6            0     2    1      3   33.333333\n",
       "c5            0     2    0      2    0.000000\n",
       "d5           33   253  222    508   43.700787\n",
       "d6            0     2    6      8   75.000000\n",
       "e5           45   305  284    634   44.794953\n",
       "e6            2    33   26     61   42.622951\n",
       "f6            0     3    2      5   40.000000\n",
       "g5            0     0    2      2  100.000000\n",
       "g6            0     3    0      3    0.000000\n",
       "h5            0     1    0      1    0.000000"
      ]
     },
     "execution_count": 54,
     "metadata": {},
     "output_type": "execute_result"
    }
   ],
   "source": [
    "# Aggregate the results by first move\n",
    "move_results_black = black.groupby(['my_move_1','Result']).size().unstack(fill_value=0)\n",
    "# Calculate win rates\n",
    "move_results_black['Total'] = move_results_black.sum(axis=1)\n",
    "move_results_black['Win Rate'] = (move_results_black['Win'] / move_results_black['Total']) * 100\n",
    "move_results_black"
   ]
  },
  {
   "cell_type": "markdown",
   "id": "d7bdbfe3-b931-48e0-84eb-c2a9fba7b42e",
   "metadata": {},
   "source": [
    "### Heatmap of opening move win rates as BLACK"
   ]
  },
  {
   "cell_type": "code",
   "execution_count": 55,
   "id": "3ba53c4e-da50-46f7-8b3c-2213ec243b69",
   "metadata": {},
   "outputs": [],
   "source": [
    "# Initialize an 8x8 matrix with zeros\n",
    "black_heatmap_data_winrates = [[0 for _ in range(8)] for _ in range(8)]"
   ]
  },
  {
   "cell_type": "code",
   "execution_count": 56,
   "id": "116548dd-559d-4574-8b58-6fc42461cec6",
   "metadata": {},
   "outputs": [
    {
     "data": {
      "application/vnd.plotly.v1+json": {
       "config": {
        "plotlyServerURL": "https://plot.ly"
       },
       "data": [
        {
         "colorbar": {
          "title": {
           "text": "Win Rate (%)"
          }
         },
         "colorscale": [
          [
           0,
           "rgb(247,251,255)"
          ],
          [
           0.125,
           "rgb(222,235,247)"
          ],
          [
           0.25,
           "rgb(198,219,239)"
          ],
          [
           0.375,
           "rgb(158,202,225)"
          ],
          [
           0.5,
           "rgb(107,174,214)"
          ],
          [
           0.625,
           "rgb(66,146,198)"
          ],
          [
           0.75,
           "rgb(33,113,181)"
          ],
          [
           0.875,
           "rgb(8,81,156)"
          ],
          [
           1,
           "rgb(8,48,107)"
          ]
         ],
         "type": "heatmap",
         "x": [
          "a",
          "b",
          "c",
          "d",
          "e",
          "f",
          "g",
          "h"
         ],
         "y": [
          "8",
          "7",
          "6",
          "5",
          "4",
          "3",
          "2",
          "1"
         ],
         "z": [
          [
           0,
           0,
           0,
           0,
           0,
           0,
           0,
           0
          ],
          [
           0,
           0,
           0,
           0,
           0,
           0,
           0,
           0
          ],
          [
           0,
           33.33333333333333,
           26.923076923076923,
           75,
           42.62295081967213,
           28.125,
           0,
           100
          ],
          [
           0,
           0,
           0,
           43.7007874015748,
           44.79495268138801,
           0,
           100,
           0
          ],
          [
           0,
           0,
           0,
           0,
           0,
           0,
           0,
           0
          ],
          [
           0,
           0,
           0,
           0,
           0,
           0,
           0,
           0
          ],
          [
           0,
           0,
           0,
           0,
           0,
           0,
           0,
           0
          ],
          [
           0,
           0,
           0,
           0,
           0,
           0,
           0,
           0
          ]
         ]
        }
       ],
       "layout": {
        "annotations": [
         {
          "font": {
           "color": "black",
           "size": 12
          },
          "showarrow": false,
          "text": "0.0%",
          "x": 0,
          "y": 0
         },
         {
          "font": {
           "color": "black",
           "size": 12
          },
          "showarrow": false,
          "text": "0.0%",
          "x": 1,
          "y": 0
         },
         {
          "font": {
           "color": "black",
           "size": 12
          },
          "showarrow": false,
          "text": "0.0%",
          "x": 2,
          "y": 0
         },
         {
          "font": {
           "color": "black",
           "size": 12
          },
          "showarrow": false,
          "text": "0.0%",
          "x": 3,
          "y": 0
         },
         {
          "font": {
           "color": "black",
           "size": 12
          },
          "showarrow": false,
          "text": "0.0%",
          "x": 4,
          "y": 0
         },
         {
          "font": {
           "color": "black",
           "size": 12
          },
          "showarrow": false,
          "text": "0.0%",
          "x": 5,
          "y": 0
         },
         {
          "font": {
           "color": "black",
           "size": 12
          },
          "showarrow": false,
          "text": "0.0%",
          "x": 6,
          "y": 0
         },
         {
          "font": {
           "color": "black",
           "size": 12
          },
          "showarrow": false,
          "text": "0.0%",
          "x": 7,
          "y": 0
         },
         {
          "font": {
           "color": "black",
           "size": 12
          },
          "showarrow": false,
          "text": "0.0%",
          "x": 0,
          "y": 1
         },
         {
          "font": {
           "color": "black",
           "size": 12
          },
          "showarrow": false,
          "text": "0.0%",
          "x": 1,
          "y": 1
         },
         {
          "font": {
           "color": "black",
           "size": 12
          },
          "showarrow": false,
          "text": "0.0%",
          "x": 2,
          "y": 1
         },
         {
          "font": {
           "color": "black",
           "size": 12
          },
          "showarrow": false,
          "text": "0.0%",
          "x": 3,
          "y": 1
         },
         {
          "font": {
           "color": "black",
           "size": 12
          },
          "showarrow": false,
          "text": "0.0%",
          "x": 4,
          "y": 1
         },
         {
          "font": {
           "color": "black",
           "size": 12
          },
          "showarrow": false,
          "text": "0.0%",
          "x": 5,
          "y": 1
         },
         {
          "font": {
           "color": "black",
           "size": 12
          },
          "showarrow": false,
          "text": "0.0%",
          "x": 6,
          "y": 1
         },
         {
          "font": {
           "color": "black",
           "size": 12
          },
          "showarrow": false,
          "text": "0.0%",
          "x": 7,
          "y": 1
         },
         {
          "font": {
           "color": "black",
           "size": 12
          },
          "showarrow": false,
          "text": "0.0%",
          "x": 0,
          "y": 2
         },
         {
          "font": {
           "color": "black",
           "size": 12
          },
          "showarrow": false,
          "text": "33.3%",
          "x": 1,
          "y": 2
         },
         {
          "font": {
           "color": "black",
           "size": 12
          },
          "showarrow": false,
          "text": "26.9%",
          "x": 2,
          "y": 2
         },
         {
          "font": {
           "color": "black",
           "size": 12
          },
          "showarrow": false,
          "text": "75.0%",
          "x": 3,
          "y": 2
         },
         {
          "font": {
           "color": "black",
           "size": 12
          },
          "showarrow": false,
          "text": "42.6%",
          "x": 4,
          "y": 2
         },
         {
          "font": {
           "color": "black",
           "size": 12
          },
          "showarrow": false,
          "text": "28.1%",
          "x": 5,
          "y": 2
         },
         {
          "font": {
           "color": "black",
           "size": 12
          },
          "showarrow": false,
          "text": "0.0%",
          "x": 6,
          "y": 2
         },
         {
          "font": {
           "color": "black",
           "size": 12
          },
          "showarrow": false,
          "text": "100.0%",
          "x": 7,
          "y": 2
         },
         {
          "font": {
           "color": "black",
           "size": 12
          },
          "showarrow": false,
          "text": "0.0%",
          "x": 0,
          "y": 3
         },
         {
          "font": {
           "color": "black",
           "size": 12
          },
          "showarrow": false,
          "text": "0.0%",
          "x": 1,
          "y": 3
         },
         {
          "font": {
           "color": "black",
           "size": 12
          },
          "showarrow": false,
          "text": "0.0%",
          "x": 2,
          "y": 3
         },
         {
          "font": {
           "color": "black",
           "size": 12
          },
          "showarrow": false,
          "text": "43.7%",
          "x": 3,
          "y": 3
         },
         {
          "font": {
           "color": "black",
           "size": 12
          },
          "showarrow": false,
          "text": "44.8%",
          "x": 4,
          "y": 3
         },
         {
          "font": {
           "color": "black",
           "size": 12
          },
          "showarrow": false,
          "text": "0.0%",
          "x": 5,
          "y": 3
         },
         {
          "font": {
           "color": "black",
           "size": 12
          },
          "showarrow": false,
          "text": "100.0%",
          "x": 6,
          "y": 3
         },
         {
          "font": {
           "color": "black",
           "size": 12
          },
          "showarrow": false,
          "text": "0.0%",
          "x": 7,
          "y": 3
         },
         {
          "font": {
           "color": "black",
           "size": 12
          },
          "showarrow": false,
          "text": "0.0%",
          "x": 0,
          "y": 4
         },
         {
          "font": {
           "color": "black",
           "size": 12
          },
          "showarrow": false,
          "text": "0.0%",
          "x": 1,
          "y": 4
         },
         {
          "font": {
           "color": "black",
           "size": 12
          },
          "showarrow": false,
          "text": "0.0%",
          "x": 2,
          "y": 4
         },
         {
          "font": {
           "color": "black",
           "size": 12
          },
          "showarrow": false,
          "text": "0.0%",
          "x": 3,
          "y": 4
         },
         {
          "font": {
           "color": "black",
           "size": 12
          },
          "showarrow": false,
          "text": "0.0%",
          "x": 4,
          "y": 4
         },
         {
          "font": {
           "color": "black",
           "size": 12
          },
          "showarrow": false,
          "text": "0.0%",
          "x": 5,
          "y": 4
         },
         {
          "font": {
           "color": "black",
           "size": 12
          },
          "showarrow": false,
          "text": "0.0%",
          "x": 6,
          "y": 4
         },
         {
          "font": {
           "color": "black",
           "size": 12
          },
          "showarrow": false,
          "text": "0.0%",
          "x": 7,
          "y": 4
         },
         {
          "font": {
           "color": "black",
           "size": 12
          },
          "showarrow": false,
          "text": "0.0%",
          "x": 0,
          "y": 5
         },
         {
          "font": {
           "color": "black",
           "size": 12
          },
          "showarrow": false,
          "text": "0.0%",
          "x": 1,
          "y": 5
         },
         {
          "font": {
           "color": "black",
           "size": 12
          },
          "showarrow": false,
          "text": "0.0%",
          "x": 2,
          "y": 5
         },
         {
          "font": {
           "color": "black",
           "size": 12
          },
          "showarrow": false,
          "text": "0.0%",
          "x": 3,
          "y": 5
         },
         {
          "font": {
           "color": "black",
           "size": 12
          },
          "showarrow": false,
          "text": "0.0%",
          "x": 4,
          "y": 5
         },
         {
          "font": {
           "color": "black",
           "size": 12
          },
          "showarrow": false,
          "text": "0.0%",
          "x": 5,
          "y": 5
         },
         {
          "font": {
           "color": "black",
           "size": 12
          },
          "showarrow": false,
          "text": "0.0%",
          "x": 6,
          "y": 5
         },
         {
          "font": {
           "color": "black",
           "size": 12
          },
          "showarrow": false,
          "text": "0.0%",
          "x": 7,
          "y": 5
         },
         {
          "font": {
           "color": "black",
           "size": 12
          },
          "showarrow": false,
          "text": "0.0%",
          "x": 0,
          "y": 6
         },
         {
          "font": {
           "color": "black",
           "size": 12
          },
          "showarrow": false,
          "text": "0.0%",
          "x": 1,
          "y": 6
         },
         {
          "font": {
           "color": "black",
           "size": 12
          },
          "showarrow": false,
          "text": "0.0%",
          "x": 2,
          "y": 6
         },
         {
          "font": {
           "color": "black",
           "size": 12
          },
          "showarrow": false,
          "text": "0.0%",
          "x": 3,
          "y": 6
         },
         {
          "font": {
           "color": "black",
           "size": 12
          },
          "showarrow": false,
          "text": "0.0%",
          "x": 4,
          "y": 6
         },
         {
          "font": {
           "color": "black",
           "size": 12
          },
          "showarrow": false,
          "text": "0.0%",
          "x": 5,
          "y": 6
         },
         {
          "font": {
           "color": "black",
           "size": 12
          },
          "showarrow": false,
          "text": "0.0%",
          "x": 6,
          "y": 6
         },
         {
          "font": {
           "color": "black",
           "size": 12
          },
          "showarrow": false,
          "text": "0.0%",
          "x": 7,
          "y": 6
         },
         {
          "font": {
           "color": "black",
           "size": 12
          },
          "showarrow": false,
          "text": "0.0%",
          "x": 0,
          "y": 7
         },
         {
          "font": {
           "color": "black",
           "size": 12
          },
          "showarrow": false,
          "text": "0.0%",
          "x": 1,
          "y": 7
         },
         {
          "font": {
           "color": "black",
           "size": 12
          },
          "showarrow": false,
          "text": "0.0%",
          "x": 2,
          "y": 7
         },
         {
          "font": {
           "color": "black",
           "size": 12
          },
          "showarrow": false,
          "text": "0.0%",
          "x": 3,
          "y": 7
         },
         {
          "font": {
           "color": "black",
           "size": 12
          },
          "showarrow": false,
          "text": "0.0%",
          "x": 4,
          "y": 7
         },
         {
          "font": {
           "color": "black",
           "size": 12
          },
          "showarrow": false,
          "text": "0.0%",
          "x": 5,
          "y": 7
         },
         {
          "font": {
           "color": "black",
           "size": 12
          },
          "showarrow": false,
          "text": "0.0%",
          "x": 6,
          "y": 7
         },
         {
          "font": {
           "color": "black",
           "size": 12
          },
          "showarrow": false,
          "text": "0.0%",
          "x": 7,
          "y": 7
         }
        ],
        "autosize": false,
        "height": 500,
        "template": {
         "data": {
          "bar": [
           {
            "error_x": {
             "color": "#2a3f5f"
            },
            "error_y": {
             "color": "#2a3f5f"
            },
            "marker": {
             "line": {
              "color": "#E5ECF6",
              "width": 0.5
             },
             "pattern": {
              "fillmode": "overlay",
              "size": 10,
              "solidity": 0.2
             }
            },
            "type": "bar"
           }
          ],
          "barpolar": [
           {
            "marker": {
             "line": {
              "color": "#E5ECF6",
              "width": 0.5
             },
             "pattern": {
              "fillmode": "overlay",
              "size": 10,
              "solidity": 0.2
             }
            },
            "type": "barpolar"
           }
          ],
          "carpet": [
           {
            "aaxis": {
             "endlinecolor": "#2a3f5f",
             "gridcolor": "white",
             "linecolor": "white",
             "minorgridcolor": "white",
             "startlinecolor": "#2a3f5f"
            },
            "baxis": {
             "endlinecolor": "#2a3f5f",
             "gridcolor": "white",
             "linecolor": "white",
             "minorgridcolor": "white",
             "startlinecolor": "#2a3f5f"
            },
            "type": "carpet"
           }
          ],
          "choropleth": [
           {
            "colorbar": {
             "outlinewidth": 0,
             "ticks": ""
            },
            "type": "choropleth"
           }
          ],
          "contour": [
           {
            "colorbar": {
             "outlinewidth": 0,
             "ticks": ""
            },
            "colorscale": [
             [
              0,
              "#0d0887"
             ],
             [
              0.1111111111111111,
              "#46039f"
             ],
             [
              0.2222222222222222,
              "#7201a8"
             ],
             [
              0.3333333333333333,
              "#9c179e"
             ],
             [
              0.4444444444444444,
              "#bd3786"
             ],
             [
              0.5555555555555556,
              "#d8576b"
             ],
             [
              0.6666666666666666,
              "#ed7953"
             ],
             [
              0.7777777777777778,
              "#fb9f3a"
             ],
             [
              0.8888888888888888,
              "#fdca26"
             ],
             [
              1,
              "#f0f921"
             ]
            ],
            "type": "contour"
           }
          ],
          "contourcarpet": [
           {
            "colorbar": {
             "outlinewidth": 0,
             "ticks": ""
            },
            "type": "contourcarpet"
           }
          ],
          "heatmap": [
           {
            "colorbar": {
             "outlinewidth": 0,
             "ticks": ""
            },
            "colorscale": [
             [
              0,
              "#0d0887"
             ],
             [
              0.1111111111111111,
              "#46039f"
             ],
             [
              0.2222222222222222,
              "#7201a8"
             ],
             [
              0.3333333333333333,
              "#9c179e"
             ],
             [
              0.4444444444444444,
              "#bd3786"
             ],
             [
              0.5555555555555556,
              "#d8576b"
             ],
             [
              0.6666666666666666,
              "#ed7953"
             ],
             [
              0.7777777777777778,
              "#fb9f3a"
             ],
             [
              0.8888888888888888,
              "#fdca26"
             ],
             [
              1,
              "#f0f921"
             ]
            ],
            "type": "heatmap"
           }
          ],
          "histogram": [
           {
            "marker": {
             "pattern": {
              "fillmode": "overlay",
              "size": 10,
              "solidity": 0.2
             }
            },
            "type": "histogram"
           }
          ],
          "histogram2d": [
           {
            "colorbar": {
             "outlinewidth": 0,
             "ticks": ""
            },
            "colorscale": [
             [
              0,
              "#0d0887"
             ],
             [
              0.1111111111111111,
              "#46039f"
             ],
             [
              0.2222222222222222,
              "#7201a8"
             ],
             [
              0.3333333333333333,
              "#9c179e"
             ],
             [
              0.4444444444444444,
              "#bd3786"
             ],
             [
              0.5555555555555556,
              "#d8576b"
             ],
             [
              0.6666666666666666,
              "#ed7953"
             ],
             [
              0.7777777777777778,
              "#fb9f3a"
             ],
             [
              0.8888888888888888,
              "#fdca26"
             ],
             [
              1,
              "#f0f921"
             ]
            ],
            "type": "histogram2d"
           }
          ],
          "histogram2dcontour": [
           {
            "colorbar": {
             "outlinewidth": 0,
             "ticks": ""
            },
            "colorscale": [
             [
              0,
              "#0d0887"
             ],
             [
              0.1111111111111111,
              "#46039f"
             ],
             [
              0.2222222222222222,
              "#7201a8"
             ],
             [
              0.3333333333333333,
              "#9c179e"
             ],
             [
              0.4444444444444444,
              "#bd3786"
             ],
             [
              0.5555555555555556,
              "#d8576b"
             ],
             [
              0.6666666666666666,
              "#ed7953"
             ],
             [
              0.7777777777777778,
              "#fb9f3a"
             ],
             [
              0.8888888888888888,
              "#fdca26"
             ],
             [
              1,
              "#f0f921"
             ]
            ],
            "type": "histogram2dcontour"
           }
          ],
          "mesh3d": [
           {
            "colorbar": {
             "outlinewidth": 0,
             "ticks": ""
            },
            "type": "mesh3d"
           }
          ],
          "parcoords": [
           {
            "line": {
             "colorbar": {
              "outlinewidth": 0,
              "ticks": ""
             }
            },
            "type": "parcoords"
           }
          ],
          "pie": [
           {
            "automargin": true,
            "type": "pie"
           }
          ],
          "scatter": [
           {
            "fillpattern": {
             "fillmode": "overlay",
             "size": 10,
             "solidity": 0.2
            },
            "type": "scatter"
           }
          ],
          "scatter3d": [
           {
            "line": {
             "colorbar": {
              "outlinewidth": 0,
              "ticks": ""
             }
            },
            "marker": {
             "colorbar": {
              "outlinewidth": 0,
              "ticks": ""
             }
            },
            "type": "scatter3d"
           }
          ],
          "scattercarpet": [
           {
            "marker": {
             "colorbar": {
              "outlinewidth": 0,
              "ticks": ""
             }
            },
            "type": "scattercarpet"
           }
          ],
          "scattergeo": [
           {
            "marker": {
             "colorbar": {
              "outlinewidth": 0,
              "ticks": ""
             }
            },
            "type": "scattergeo"
           }
          ],
          "scattergl": [
           {
            "marker": {
             "colorbar": {
              "outlinewidth": 0,
              "ticks": ""
             }
            },
            "type": "scattergl"
           }
          ],
          "scattermap": [
           {
            "marker": {
             "colorbar": {
              "outlinewidth": 0,
              "ticks": ""
             }
            },
            "type": "scattermap"
           }
          ],
          "scattermapbox": [
           {
            "marker": {
             "colorbar": {
              "outlinewidth": 0,
              "ticks": ""
             }
            },
            "type": "scattermapbox"
           }
          ],
          "scatterpolar": [
           {
            "marker": {
             "colorbar": {
              "outlinewidth": 0,
              "ticks": ""
             }
            },
            "type": "scatterpolar"
           }
          ],
          "scatterpolargl": [
           {
            "marker": {
             "colorbar": {
              "outlinewidth": 0,
              "ticks": ""
             }
            },
            "type": "scatterpolargl"
           }
          ],
          "scatterternary": [
           {
            "marker": {
             "colorbar": {
              "outlinewidth": 0,
              "ticks": ""
             }
            },
            "type": "scatterternary"
           }
          ],
          "surface": [
           {
            "colorbar": {
             "outlinewidth": 0,
             "ticks": ""
            },
            "colorscale": [
             [
              0,
              "#0d0887"
             ],
             [
              0.1111111111111111,
              "#46039f"
             ],
             [
              0.2222222222222222,
              "#7201a8"
             ],
             [
              0.3333333333333333,
              "#9c179e"
             ],
             [
              0.4444444444444444,
              "#bd3786"
             ],
             [
              0.5555555555555556,
              "#d8576b"
             ],
             [
              0.6666666666666666,
              "#ed7953"
             ],
             [
              0.7777777777777778,
              "#fb9f3a"
             ],
             [
              0.8888888888888888,
              "#fdca26"
             ],
             [
              1,
              "#f0f921"
             ]
            ],
            "type": "surface"
           }
          ],
          "table": [
           {
            "cells": {
             "fill": {
              "color": "#EBF0F8"
             },
             "line": {
              "color": "white"
             }
            },
            "header": {
             "fill": {
              "color": "#C8D4E3"
             },
             "line": {
              "color": "white"
             }
            },
            "type": "table"
           }
          ]
         },
         "layout": {
          "annotationdefaults": {
           "arrowcolor": "#2a3f5f",
           "arrowhead": 0,
           "arrowwidth": 1
          },
          "autotypenumbers": "strict",
          "coloraxis": {
           "colorbar": {
            "outlinewidth": 0,
            "ticks": ""
           }
          },
          "colorscale": {
           "diverging": [
            [
             0,
             "#8e0152"
            ],
            [
             0.1,
             "#c51b7d"
            ],
            [
             0.2,
             "#de77ae"
            ],
            [
             0.3,
             "#f1b6da"
            ],
            [
             0.4,
             "#fde0ef"
            ],
            [
             0.5,
             "#f7f7f7"
            ],
            [
             0.6,
             "#e6f5d0"
            ],
            [
             0.7,
             "#b8e186"
            ],
            [
             0.8,
             "#7fbc41"
            ],
            [
             0.9,
             "#4d9221"
            ],
            [
             1,
             "#276419"
            ]
           ],
           "sequential": [
            [
             0,
             "#0d0887"
            ],
            [
             0.1111111111111111,
             "#46039f"
            ],
            [
             0.2222222222222222,
             "#7201a8"
            ],
            [
             0.3333333333333333,
             "#9c179e"
            ],
            [
             0.4444444444444444,
             "#bd3786"
            ],
            [
             0.5555555555555556,
             "#d8576b"
            ],
            [
             0.6666666666666666,
             "#ed7953"
            ],
            [
             0.7777777777777778,
             "#fb9f3a"
            ],
            [
             0.8888888888888888,
             "#fdca26"
            ],
            [
             1,
             "#f0f921"
            ]
           ],
           "sequentialminus": [
            [
             0,
             "#0d0887"
            ],
            [
             0.1111111111111111,
             "#46039f"
            ],
            [
             0.2222222222222222,
             "#7201a8"
            ],
            [
             0.3333333333333333,
             "#9c179e"
            ],
            [
             0.4444444444444444,
             "#bd3786"
            ],
            [
             0.5555555555555556,
             "#d8576b"
            ],
            [
             0.6666666666666666,
             "#ed7953"
            ],
            [
             0.7777777777777778,
             "#fb9f3a"
            ],
            [
             0.8888888888888888,
             "#fdca26"
            ],
            [
             1,
             "#f0f921"
            ]
           ]
          },
          "colorway": [
           "#636efa",
           "#EF553B",
           "#00cc96",
           "#ab63fa",
           "#FFA15A",
           "#19d3f3",
           "#FF6692",
           "#B6E880",
           "#FF97FF",
           "#FECB52"
          ],
          "font": {
           "color": "#2a3f5f"
          },
          "geo": {
           "bgcolor": "white",
           "lakecolor": "white",
           "landcolor": "#E5ECF6",
           "showlakes": true,
           "showland": true,
           "subunitcolor": "white"
          },
          "hoverlabel": {
           "align": "left"
          },
          "hovermode": "closest",
          "mapbox": {
           "style": "light"
          },
          "paper_bgcolor": "white",
          "plot_bgcolor": "#E5ECF6",
          "polar": {
           "angularaxis": {
            "gridcolor": "white",
            "linecolor": "white",
            "ticks": ""
           },
           "bgcolor": "#E5ECF6",
           "radialaxis": {
            "gridcolor": "white",
            "linecolor": "white",
            "ticks": ""
           }
          },
          "scene": {
           "xaxis": {
            "backgroundcolor": "#E5ECF6",
            "gridcolor": "white",
            "gridwidth": 2,
            "linecolor": "white",
            "showbackground": true,
            "ticks": "",
            "zerolinecolor": "white"
           },
           "yaxis": {
            "backgroundcolor": "#E5ECF6",
            "gridcolor": "white",
            "gridwidth": 2,
            "linecolor": "white",
            "showbackground": true,
            "ticks": "",
            "zerolinecolor": "white"
           },
           "zaxis": {
            "backgroundcolor": "#E5ECF6",
            "gridcolor": "white",
            "gridwidth": 2,
            "linecolor": "white",
            "showbackground": true,
            "ticks": "",
            "zerolinecolor": "white"
           }
          },
          "shapedefaults": {
           "line": {
            "color": "#2a3f5f"
           }
          },
          "ternary": {
           "aaxis": {
            "gridcolor": "white",
            "linecolor": "white",
            "ticks": ""
           },
           "baxis": {
            "gridcolor": "white",
            "linecolor": "white",
            "ticks": ""
           },
           "bgcolor": "#E5ECF6",
           "caxis": {
            "gridcolor": "white",
            "linecolor": "white",
            "ticks": ""
           }
          },
          "title": {
           "x": 0.05
          },
          "xaxis": {
           "automargin": true,
           "gridcolor": "white",
           "linecolor": "white",
           "ticks": "",
           "title": {
            "standoff": 15
           },
           "zerolinecolor": "white",
           "zerolinewidth": 2
          },
          "yaxis": {
           "automargin": true,
           "gridcolor": "white",
           "linecolor": "white",
           "ticks": "",
           "title": {
            "standoff": 15
           },
           "zerolinecolor": "white",
           "zerolinewidth": 2
          }
         }
        },
        "title": {
         "text": "Win rates based on my opening move playing as BLACK"
        },
        "width": 600,
        "xaxis": {
         "tickmode": "array",
         "ticktext": [
          "a",
          "b",
          "c",
          "d",
          "e",
          "f",
          "g",
          "h"
         ],
         "tickvals": [
          0,
          1,
          2,
          3,
          4,
          5,
          6,
          7
         ],
         "title": {
          "text": "File"
         }
        },
        "yaxis": {
         "autorange": "reversed",
         "tickmode": "array",
         "ticktext": [
          "8",
          "1",
          "2",
          "3",
          "4",
          "5",
          "6",
          "7"
         ],
         "tickvals": [
          0,
          1,
          2,
          3,
          4,
          5,
          6,
          7
         ],
         "title": {
          "text": "Rank"
         }
        }
       }
      }
     },
     "metadata": {},
     "output_type": "display_data"
    }
   ],
   "source": [
    "# Aggregate the results by first move\n",
    "move_results_black_index = black.groupby(['my_move_1_index','Result']).size().unstack(fill_value=0)\n",
    "\n",
    "# Calculate win rates\n",
    "move_results_black_index['Total'] = move_results_black_index.sum(axis=1)\n",
    "move_results_black_index['Win Rate'] = (move_results_black_index['Win'] / move_results_black_index['Total']) * 100\n",
    "\n",
    "\n",
    "# Fill the heatmap data with win rates\n",
    "for move, row in move_results_black_index.iterrows():\n",
    "    row_idx = move // 8\n",
    "    col_idx = move % 8\n",
    "    black_heatmap_data_winrates[row_idx][col_idx] = row['Win Rate']\n",
    "\n",
    "# Create the heatmap with percentage win rates\n",
    "fig = go.Figure(data=go.Heatmap(\n",
    "    z=black_heatmap_data_winrates,\n",
    "    x=['a', 'b', 'c', 'd', 'e', 'f', 'g', 'h'],\n",
    "    y=['8', '7', '6', '5', '4', '3', '2', '1'],  # Correct order for y-axis\n",
    "    colorscale='Blues',\n",
    "    colorbar=dict(title='Win Rate (%)')\n",
    "))\n",
    "\n",
    "# Add annotations for the percentage win rates\n",
    "for i in range(len(black_heatmap_data_winrates)):\n",
    "    for j in range(len(black_heatmap_data_winrates[i])):\n",
    "        fig.add_annotation(\n",
    "            x=j, y=i,\n",
    "            text=f\"{black_heatmap_data_winrates[i][j]:.1f}%\",\n",
    "            showarrow=False,\n",
    "            font=dict(color='black', size=12)\n",
    "        )\n",
    "\n",
    "# Update layout to correctly order the y-axis\n",
    "fig.update_layout(\n",
    "    title='Win rates based on my opening move playing as BLACK',\n",
    "    xaxis=dict(title='File'),\n",
    "    yaxis=dict(title='Rank', autorange='reversed'),\n",
    "    xaxis_tickmode='array',\n",
    "    yaxis_tickmode='array',\n",
    "    xaxis_tickvals=list(range(8)),\n",
    "    yaxis_tickvals=list(range(8)),\n",
    "    xaxis_ticktext=['a', 'b', 'c', 'd', 'e', 'f', 'g', 'h'],\n",
    "    yaxis_ticktext=['8', '1', '2', '3', '4', '5', '6', '7'],  # Correct order for y-axis\n",
    "    width=600,\n",
    "    height=500,\n",
    "    autosize=False\n",
    ")\n",
    "\n",
    "# Show plot\n",
    "fig.show()"
   ]
  },
  {
   "cell_type": "markdown",
   "id": "958b8768-4561-47d5-8c1e-30ebb5566223",
   "metadata": {},
   "source": [
    "### Win rates by Day of the Week"
   ]
  },
  {
   "cell_type": "code",
   "execution_count": 57,
   "id": "bc01e2d3-5d7f-462a-8f5f-42452a037dd6",
   "metadata": {},
   "outputs": [
    {
     "data": {
      "text/html": [
       "<div>\n",
       "<style scoped>\n",
       "    .dataframe tbody tr th:only-of-type {\n",
       "        vertical-align: middle;\n",
       "    }\n",
       "\n",
       "    .dataframe tbody tr th {\n",
       "        vertical-align: top;\n",
       "    }\n",
       "\n",
       "    .dataframe thead th {\n",
       "        text-align: right;\n",
       "    }\n",
       "</style>\n",
       "<table border=\"1\" class=\"dataframe\">\n",
       "  <thead>\n",
       "    <tr style=\"text-align: right;\">\n",
       "      <th>Result</th>\n",
       "      <th>Draw</th>\n",
       "      <th>Loss</th>\n",
       "      <th>Win</th>\n",
       "      <th>Total</th>\n",
       "      <th>Win Rate</th>\n",
       "    </tr>\n",
       "    <tr>\n",
       "      <th>day_of_the_week</th>\n",
       "      <th></th>\n",
       "      <th></th>\n",
       "      <th></th>\n",
       "      <th></th>\n",
       "      <th></th>\n",
       "    </tr>\n",
       "  </thead>\n",
       "  <tbody>\n",
       "    <tr>\n",
       "      <th>Friday</th>\n",
       "      <td>25</td>\n",
       "      <td>154</td>\n",
       "      <td>162</td>\n",
       "      <td>341</td>\n",
       "      <td>47.507331</td>\n",
       "    </tr>\n",
       "    <tr>\n",
       "      <th>Monday</th>\n",
       "      <td>33</td>\n",
       "      <td>174</td>\n",
       "      <td>215</td>\n",
       "      <td>422</td>\n",
       "      <td>50.947867</td>\n",
       "    </tr>\n",
       "    <tr>\n",
       "      <th>Saturday</th>\n",
       "      <td>14</td>\n",
       "      <td>94</td>\n",
       "      <td>91</td>\n",
       "      <td>199</td>\n",
       "      <td>45.728643</td>\n",
       "    </tr>\n",
       "    <tr>\n",
       "      <th>Sunday</th>\n",
       "      <td>16</td>\n",
       "      <td>135</td>\n",
       "      <td>109</td>\n",
       "      <td>260</td>\n",
       "      <td>41.923077</td>\n",
       "    </tr>\n",
       "    <tr>\n",
       "      <th>Thursday</th>\n",
       "      <td>25</td>\n",
       "      <td>224</td>\n",
       "      <td>183</td>\n",
       "      <td>432</td>\n",
       "      <td>42.361111</td>\n",
       "    </tr>\n",
       "    <tr>\n",
       "      <th>Tuesday</th>\n",
       "      <td>34</td>\n",
       "      <td>215</td>\n",
       "      <td>226</td>\n",
       "      <td>475</td>\n",
       "      <td>47.578947</td>\n",
       "    </tr>\n",
       "    <tr>\n",
       "      <th>Wednesday</th>\n",
       "      <td>30</td>\n",
       "      <td>197</td>\n",
       "      <td>221</td>\n",
       "      <td>448</td>\n",
       "      <td>49.330357</td>\n",
       "    </tr>\n",
       "  </tbody>\n",
       "</table>\n",
       "</div>"
      ],
      "text/plain": [
       "Result           Draw  Loss  Win  Total   Win Rate\n",
       "day_of_the_week                                   \n",
       "Friday             25   154  162    341  47.507331\n",
       "Monday             33   174  215    422  50.947867\n",
       "Saturday           14    94   91    199  45.728643\n",
       "Sunday             16   135  109    260  41.923077\n",
       "Thursday           25   224  183    432  42.361111\n",
       "Tuesday            34   215  226    475  47.578947\n",
       "Wednesday          30   197  221    448  49.330357"
      ]
     },
     "execution_count": 57,
     "metadata": {},
     "output_type": "execute_result"
    }
   ],
   "source": [
    "# Aggregate the results by day of the week\n",
    "day_of_the_week_results = df.groupby(['day_of_the_week','Result']).size().unstack(fill_value=0)\n",
    "# Calculate win rates\n",
    "day_of_the_week_results['Total'] = day_of_the_week_results.sum(axis=1)\n",
    "day_of_the_week_results['Win Rate'] = (day_of_the_week_results['Win'] / day_of_the_week_results['Total']) * 100\n",
    "day_of_the_week_results"
   ]
  },
  {
   "cell_type": "code",
   "execution_count": 58,
   "id": "69941b93-c76c-40fa-a23a-1c557a89d707",
   "metadata": {},
   "outputs": [
    {
     "data": {
      "application/vnd.plotly.v1+json": {
       "config": {
        "plotlyServerURL": "https://plot.ly"
       },
       "data": [
        {
         "hovertemplate": "Win rate (%)=%{x}<br>Day=%{y}<extra></extra>",
         "legendgroup": "",
         "marker": {
          "color": "#636efa",
          "pattern": {
           "shape": ""
          }
         },
         "name": "",
         "orientation": "h",
         "showlegend": false,
         "textposition": "auto",
         "type": "bar",
         "x": {
          "bdata": "wQMPPPDAR0CtKzS3U3lJQEDCTy5E3UZAYyd2Yif2REDjOI7jOC5FQKK8hvIaykdAJUmSJEmqSEA=",
          "dtype": "f8"
         },
         "xaxis": "x",
         "y": [
          "Friday",
          "Monday",
          "Saturday",
          "Sunday",
          "Thursday",
          "Tuesday",
          "Wednesday"
         ],
         "yaxis": "y"
        }
       ],
       "layout": {
        "barmode": "relative",
        "legend": {
         "tracegroupgap": 0
        },
        "template": {
         "data": {
          "bar": [
           {
            "error_x": {
             "color": "#2a3f5f"
            },
            "error_y": {
             "color": "#2a3f5f"
            },
            "marker": {
             "line": {
              "color": "#E5ECF6",
              "width": 0.5
             },
             "pattern": {
              "fillmode": "overlay",
              "size": 10,
              "solidity": 0.2
             }
            },
            "type": "bar"
           }
          ],
          "barpolar": [
           {
            "marker": {
             "line": {
              "color": "#E5ECF6",
              "width": 0.5
             },
             "pattern": {
              "fillmode": "overlay",
              "size": 10,
              "solidity": 0.2
             }
            },
            "type": "barpolar"
           }
          ],
          "carpet": [
           {
            "aaxis": {
             "endlinecolor": "#2a3f5f",
             "gridcolor": "white",
             "linecolor": "white",
             "minorgridcolor": "white",
             "startlinecolor": "#2a3f5f"
            },
            "baxis": {
             "endlinecolor": "#2a3f5f",
             "gridcolor": "white",
             "linecolor": "white",
             "minorgridcolor": "white",
             "startlinecolor": "#2a3f5f"
            },
            "type": "carpet"
           }
          ],
          "choropleth": [
           {
            "colorbar": {
             "outlinewidth": 0,
             "ticks": ""
            },
            "type": "choropleth"
           }
          ],
          "contour": [
           {
            "colorbar": {
             "outlinewidth": 0,
             "ticks": ""
            },
            "colorscale": [
             [
              0,
              "#0d0887"
             ],
             [
              0.1111111111111111,
              "#46039f"
             ],
             [
              0.2222222222222222,
              "#7201a8"
             ],
             [
              0.3333333333333333,
              "#9c179e"
             ],
             [
              0.4444444444444444,
              "#bd3786"
             ],
             [
              0.5555555555555556,
              "#d8576b"
             ],
             [
              0.6666666666666666,
              "#ed7953"
             ],
             [
              0.7777777777777778,
              "#fb9f3a"
             ],
             [
              0.8888888888888888,
              "#fdca26"
             ],
             [
              1,
              "#f0f921"
             ]
            ],
            "type": "contour"
           }
          ],
          "contourcarpet": [
           {
            "colorbar": {
             "outlinewidth": 0,
             "ticks": ""
            },
            "type": "contourcarpet"
           }
          ],
          "heatmap": [
           {
            "colorbar": {
             "outlinewidth": 0,
             "ticks": ""
            },
            "colorscale": [
             [
              0,
              "#0d0887"
             ],
             [
              0.1111111111111111,
              "#46039f"
             ],
             [
              0.2222222222222222,
              "#7201a8"
             ],
             [
              0.3333333333333333,
              "#9c179e"
             ],
             [
              0.4444444444444444,
              "#bd3786"
             ],
             [
              0.5555555555555556,
              "#d8576b"
             ],
             [
              0.6666666666666666,
              "#ed7953"
             ],
             [
              0.7777777777777778,
              "#fb9f3a"
             ],
             [
              0.8888888888888888,
              "#fdca26"
             ],
             [
              1,
              "#f0f921"
             ]
            ],
            "type": "heatmap"
           }
          ],
          "histogram": [
           {
            "marker": {
             "pattern": {
              "fillmode": "overlay",
              "size": 10,
              "solidity": 0.2
             }
            },
            "type": "histogram"
           }
          ],
          "histogram2d": [
           {
            "colorbar": {
             "outlinewidth": 0,
             "ticks": ""
            },
            "colorscale": [
             [
              0,
              "#0d0887"
             ],
             [
              0.1111111111111111,
              "#46039f"
             ],
             [
              0.2222222222222222,
              "#7201a8"
             ],
             [
              0.3333333333333333,
              "#9c179e"
             ],
             [
              0.4444444444444444,
              "#bd3786"
             ],
             [
              0.5555555555555556,
              "#d8576b"
             ],
             [
              0.6666666666666666,
              "#ed7953"
             ],
             [
              0.7777777777777778,
              "#fb9f3a"
             ],
             [
              0.8888888888888888,
              "#fdca26"
             ],
             [
              1,
              "#f0f921"
             ]
            ],
            "type": "histogram2d"
           }
          ],
          "histogram2dcontour": [
           {
            "colorbar": {
             "outlinewidth": 0,
             "ticks": ""
            },
            "colorscale": [
             [
              0,
              "#0d0887"
             ],
             [
              0.1111111111111111,
              "#46039f"
             ],
             [
              0.2222222222222222,
              "#7201a8"
             ],
             [
              0.3333333333333333,
              "#9c179e"
             ],
             [
              0.4444444444444444,
              "#bd3786"
             ],
             [
              0.5555555555555556,
              "#d8576b"
             ],
             [
              0.6666666666666666,
              "#ed7953"
             ],
             [
              0.7777777777777778,
              "#fb9f3a"
             ],
             [
              0.8888888888888888,
              "#fdca26"
             ],
             [
              1,
              "#f0f921"
             ]
            ],
            "type": "histogram2dcontour"
           }
          ],
          "mesh3d": [
           {
            "colorbar": {
             "outlinewidth": 0,
             "ticks": ""
            },
            "type": "mesh3d"
           }
          ],
          "parcoords": [
           {
            "line": {
             "colorbar": {
              "outlinewidth": 0,
              "ticks": ""
             }
            },
            "type": "parcoords"
           }
          ],
          "pie": [
           {
            "automargin": true,
            "type": "pie"
           }
          ],
          "scatter": [
           {
            "fillpattern": {
             "fillmode": "overlay",
             "size": 10,
             "solidity": 0.2
            },
            "type": "scatter"
           }
          ],
          "scatter3d": [
           {
            "line": {
             "colorbar": {
              "outlinewidth": 0,
              "ticks": ""
             }
            },
            "marker": {
             "colorbar": {
              "outlinewidth": 0,
              "ticks": ""
             }
            },
            "type": "scatter3d"
           }
          ],
          "scattercarpet": [
           {
            "marker": {
             "colorbar": {
              "outlinewidth": 0,
              "ticks": ""
             }
            },
            "type": "scattercarpet"
           }
          ],
          "scattergeo": [
           {
            "marker": {
             "colorbar": {
              "outlinewidth": 0,
              "ticks": ""
             }
            },
            "type": "scattergeo"
           }
          ],
          "scattergl": [
           {
            "marker": {
             "colorbar": {
              "outlinewidth": 0,
              "ticks": ""
             }
            },
            "type": "scattergl"
           }
          ],
          "scattermap": [
           {
            "marker": {
             "colorbar": {
              "outlinewidth": 0,
              "ticks": ""
             }
            },
            "type": "scattermap"
           }
          ],
          "scattermapbox": [
           {
            "marker": {
             "colorbar": {
              "outlinewidth": 0,
              "ticks": ""
             }
            },
            "type": "scattermapbox"
           }
          ],
          "scatterpolar": [
           {
            "marker": {
             "colorbar": {
              "outlinewidth": 0,
              "ticks": ""
             }
            },
            "type": "scatterpolar"
           }
          ],
          "scatterpolargl": [
           {
            "marker": {
             "colorbar": {
              "outlinewidth": 0,
              "ticks": ""
             }
            },
            "type": "scatterpolargl"
           }
          ],
          "scatterternary": [
           {
            "marker": {
             "colorbar": {
              "outlinewidth": 0,
              "ticks": ""
             }
            },
            "type": "scatterternary"
           }
          ],
          "surface": [
           {
            "colorbar": {
             "outlinewidth": 0,
             "ticks": ""
            },
            "colorscale": [
             [
              0,
              "#0d0887"
             ],
             [
              0.1111111111111111,
              "#46039f"
             ],
             [
              0.2222222222222222,
              "#7201a8"
             ],
             [
              0.3333333333333333,
              "#9c179e"
             ],
             [
              0.4444444444444444,
              "#bd3786"
             ],
             [
              0.5555555555555556,
              "#d8576b"
             ],
             [
              0.6666666666666666,
              "#ed7953"
             ],
             [
              0.7777777777777778,
              "#fb9f3a"
             ],
             [
              0.8888888888888888,
              "#fdca26"
             ],
             [
              1,
              "#f0f921"
             ]
            ],
            "type": "surface"
           }
          ],
          "table": [
           {
            "cells": {
             "fill": {
              "color": "#EBF0F8"
             },
             "line": {
              "color": "white"
             }
            },
            "header": {
             "fill": {
              "color": "#C8D4E3"
             },
             "line": {
              "color": "white"
             }
            },
            "type": "table"
           }
          ]
         },
         "layout": {
          "annotationdefaults": {
           "arrowcolor": "#2a3f5f",
           "arrowhead": 0,
           "arrowwidth": 1
          },
          "autotypenumbers": "strict",
          "coloraxis": {
           "colorbar": {
            "outlinewidth": 0,
            "ticks": ""
           }
          },
          "colorscale": {
           "diverging": [
            [
             0,
             "#8e0152"
            ],
            [
             0.1,
             "#c51b7d"
            ],
            [
             0.2,
             "#de77ae"
            ],
            [
             0.3,
             "#f1b6da"
            ],
            [
             0.4,
             "#fde0ef"
            ],
            [
             0.5,
             "#f7f7f7"
            ],
            [
             0.6,
             "#e6f5d0"
            ],
            [
             0.7,
             "#b8e186"
            ],
            [
             0.8,
             "#7fbc41"
            ],
            [
             0.9,
             "#4d9221"
            ],
            [
             1,
             "#276419"
            ]
           ],
           "sequential": [
            [
             0,
             "#0d0887"
            ],
            [
             0.1111111111111111,
             "#46039f"
            ],
            [
             0.2222222222222222,
             "#7201a8"
            ],
            [
             0.3333333333333333,
             "#9c179e"
            ],
            [
             0.4444444444444444,
             "#bd3786"
            ],
            [
             0.5555555555555556,
             "#d8576b"
            ],
            [
             0.6666666666666666,
             "#ed7953"
            ],
            [
             0.7777777777777778,
             "#fb9f3a"
            ],
            [
             0.8888888888888888,
             "#fdca26"
            ],
            [
             1,
             "#f0f921"
            ]
           ],
           "sequentialminus": [
            [
             0,
             "#0d0887"
            ],
            [
             0.1111111111111111,
             "#46039f"
            ],
            [
             0.2222222222222222,
             "#7201a8"
            ],
            [
             0.3333333333333333,
             "#9c179e"
            ],
            [
             0.4444444444444444,
             "#bd3786"
            ],
            [
             0.5555555555555556,
             "#d8576b"
            ],
            [
             0.6666666666666666,
             "#ed7953"
            ],
            [
             0.7777777777777778,
             "#fb9f3a"
            ],
            [
             0.8888888888888888,
             "#fdca26"
            ],
            [
             1,
             "#f0f921"
            ]
           ]
          },
          "colorway": [
           "#636efa",
           "#EF553B",
           "#00cc96",
           "#ab63fa",
           "#FFA15A",
           "#19d3f3",
           "#FF6692",
           "#B6E880",
           "#FF97FF",
           "#FECB52"
          ],
          "font": {
           "color": "#2a3f5f"
          },
          "geo": {
           "bgcolor": "white",
           "lakecolor": "white",
           "landcolor": "#E5ECF6",
           "showlakes": true,
           "showland": true,
           "subunitcolor": "white"
          },
          "hoverlabel": {
           "align": "left"
          },
          "hovermode": "closest",
          "mapbox": {
           "style": "light"
          },
          "paper_bgcolor": "white",
          "plot_bgcolor": "#E5ECF6",
          "polar": {
           "angularaxis": {
            "gridcolor": "white",
            "linecolor": "white",
            "ticks": ""
           },
           "bgcolor": "#E5ECF6",
           "radialaxis": {
            "gridcolor": "white",
            "linecolor": "white",
            "ticks": ""
           }
          },
          "scene": {
           "xaxis": {
            "backgroundcolor": "#E5ECF6",
            "gridcolor": "white",
            "gridwidth": 2,
            "linecolor": "white",
            "showbackground": true,
            "ticks": "",
            "zerolinecolor": "white"
           },
           "yaxis": {
            "backgroundcolor": "#E5ECF6",
            "gridcolor": "white",
            "gridwidth": 2,
            "linecolor": "white",
            "showbackground": true,
            "ticks": "",
            "zerolinecolor": "white"
           },
           "zaxis": {
            "backgroundcolor": "#E5ECF6",
            "gridcolor": "white",
            "gridwidth": 2,
            "linecolor": "white",
            "showbackground": true,
            "ticks": "",
            "zerolinecolor": "white"
           }
          },
          "shapedefaults": {
           "line": {
            "color": "#2a3f5f"
           }
          },
          "ternary": {
           "aaxis": {
            "gridcolor": "white",
            "linecolor": "white",
            "ticks": ""
           },
           "baxis": {
            "gridcolor": "white",
            "linecolor": "white",
            "ticks": ""
           },
           "bgcolor": "#E5ECF6",
           "caxis": {
            "gridcolor": "white",
            "linecolor": "white",
            "ticks": ""
           }
          },
          "title": {
           "x": 0.05
          },
          "xaxis": {
           "automargin": true,
           "gridcolor": "white",
           "linecolor": "white",
           "ticks": "",
           "title": {
            "standoff": 15
           },
           "zerolinecolor": "white",
           "zerolinewidth": 2
          },
          "yaxis": {
           "automargin": true,
           "gridcolor": "white",
           "linecolor": "white",
           "ticks": "",
           "title": {
            "standoff": 15
           },
           "zerolinecolor": "white",
           "zerolinewidth": 2
          }
         }
        },
        "title": {
         "text": "Win rate by day of the week"
        },
        "xaxis": {
         "anchor": "y",
         "domain": [
          0,
          1
         ],
         "title": {
          "text": "Win rate (%)"
         }
        },
        "yaxis": {
         "anchor": "x",
         "categoryarray": [
          "Sunday",
          "Saturday",
          "Friday",
          "Thursday",
          "Wednesday",
          "Tuesday",
          "Monday"
         ],
         "categoryorder": "array",
         "domain": [
          0,
          1
         ],
         "title": {
          "text": "Day"
         }
        }
       }
      }
     },
     "metadata": {},
     "output_type": "display_data"
    }
   ],
   "source": [
    "# Reset index to use day_of_the_week as a column for plotting\n",
    "day_of_the_week_results = day_of_the_week_results.reset_index()\n",
    "\n",
    "# Define the order of days\n",
    "days_order = ['Monday', 'Tuesday', 'Wednesday', 'Thursday', 'Friday', 'Saturday', 'Sunday']\n",
    "\n",
    "# Create a horizontal bar plot using Plotly\n",
    "fig = px.bar(day_of_the_week_results, x='Win Rate', y='day_of_the_week', orientation='h', \n",
    "             title='Win rate by day of the week', \n",
    "             labels={'day_of_the_week': 'Day', 'Win Rate': 'Win rate (%)'},\n",
    "             category_orders={'day_of_the_week': days_order})\n",
    "\n",
    "fig.show()"
   ]
  },
  {
   "cell_type": "markdown",
   "id": "f059dcae-9b96-4d55-999e-631a1ec67530",
   "metadata": {},
   "source": [
    "So, it looks like Mondays and Wednesdays are the best days for me to play. What time of day though?"
   ]
  },
  {
   "cell_type": "markdown",
   "id": "6ad81ab2-8754-4f1b-ba4b-fab8a8f55821",
   "metadata": {},
   "source": [
    "### Morning, afternoon, evening"
   ]
  },
  {
   "cell_type": "code",
   "execution_count": 59,
   "id": "08449a71-018f-4967-a92a-a7c0f6872f65",
   "metadata": {},
   "outputs": [
    {
     "data": {
      "text/html": [
       "<div>\n",
       "<style scoped>\n",
       "    .dataframe tbody tr th:only-of-type {\n",
       "        vertical-align: middle;\n",
       "    }\n",
       "\n",
       "    .dataframe tbody tr th {\n",
       "        vertical-align: top;\n",
       "    }\n",
       "\n",
       "    .dataframe thead th {\n",
       "        text-align: right;\n",
       "    }\n",
       "</style>\n",
       "<table border=\"1\" class=\"dataframe\">\n",
       "  <thead>\n",
       "    <tr style=\"text-align: right;\">\n",
       "      <th>Result</th>\n",
       "      <th>Draw</th>\n",
       "      <th>Loss</th>\n",
       "      <th>Win</th>\n",
       "      <th>Total</th>\n",
       "      <th>Win Rate</th>\n",
       "    </tr>\n",
       "    <tr>\n",
       "      <th>time_of_day</th>\n",
       "      <th></th>\n",
       "      <th></th>\n",
       "      <th></th>\n",
       "      <th></th>\n",
       "      <th></th>\n",
       "    </tr>\n",
       "  </thead>\n",
       "  <tbody>\n",
       "    <tr>\n",
       "      <th>afternoon</th>\n",
       "      <td>10</td>\n",
       "      <td>58</td>\n",
       "      <td>75</td>\n",
       "      <td>143</td>\n",
       "      <td>52.447552</td>\n",
       "    </tr>\n",
       "    <tr>\n",
       "      <th>evening</th>\n",
       "      <td>78</td>\n",
       "      <td>477</td>\n",
       "      <td>476</td>\n",
       "      <td>1031</td>\n",
       "      <td>46.168768</td>\n",
       "    </tr>\n",
       "    <tr>\n",
       "      <th>graveyard</th>\n",
       "      <td>60</td>\n",
       "      <td>492</td>\n",
       "      <td>490</td>\n",
       "      <td>1042</td>\n",
       "      <td>47.024952</td>\n",
       "    </tr>\n",
       "    <tr>\n",
       "      <th>morning</th>\n",
       "      <td>29</td>\n",
       "      <td>166</td>\n",
       "      <td>166</td>\n",
       "      <td>361</td>\n",
       "      <td>45.983380</td>\n",
       "    </tr>\n",
       "  </tbody>\n",
       "</table>\n",
       "</div>"
      ],
      "text/plain": [
       "Result       Draw  Loss  Win  Total   Win Rate\n",
       "time_of_day                                   \n",
       "afternoon      10    58   75    143  52.447552\n",
       "evening        78   477  476   1031  46.168768\n",
       "graveyard      60   492  490   1042  47.024952\n",
       "morning        29   166  166    361  45.983380"
      ]
     },
     "execution_count": 59,
     "metadata": {},
     "output_type": "execute_result"
    }
   ],
   "source": [
    "# Aggregate the results by time of day\n",
    "time_of_day_results = df.groupby(['time_of_day','Result']).size().unstack(fill_value=0)\n",
    "# Calculate win rates\n",
    "time_of_day_results['Total'] = time_of_day_results.sum(axis=1)\n",
    "time_of_day_results['Win Rate'] = (time_of_day_results['Win'] / time_of_day_results['Total']) * 100\n",
    "time_of_day_results"
   ]
  },
  {
   "cell_type": "code",
   "execution_count": 60,
   "id": "3b59acab-f76a-40c4-9637-f92c2cc2352b",
   "metadata": {},
   "outputs": [
    {
     "data": {
      "application/vnd.plotly.v1+json": {
       "config": {
        "plotlyServerURL": "https://plot.ly"
       },
       "data": [
        {
         "hovertemplate": "Win rate (%)=%{x}<br>Time of day=%{y}<extra></extra>",
         "legendgroup": "",
         "marker": {
          "color": "#636efa",
          "pattern": {
           "shape": ""
          }
         },
         "name": "",
         "orientation": "h",
         "showlegend": false,
         "textposition": "auto",
         "type": "bar",
         "x": {
          "bdata": "w70KZkk5SkCbOSgymhVHQK/1rKAxg0dAtQAnYd/9RkA=",
          "dtype": "f8"
         },
         "xaxis": "x",
         "y": [
          "afternoon",
          "evening",
          "graveyard",
          "morning"
         ],
         "yaxis": "y"
        }
       ],
       "layout": {
        "barmode": "relative",
        "legend": {
         "tracegroupgap": 0
        },
        "template": {
         "data": {
          "bar": [
           {
            "error_x": {
             "color": "#2a3f5f"
            },
            "error_y": {
             "color": "#2a3f5f"
            },
            "marker": {
             "line": {
              "color": "#E5ECF6",
              "width": 0.5
             },
             "pattern": {
              "fillmode": "overlay",
              "size": 10,
              "solidity": 0.2
             }
            },
            "type": "bar"
           }
          ],
          "barpolar": [
           {
            "marker": {
             "line": {
              "color": "#E5ECF6",
              "width": 0.5
             },
             "pattern": {
              "fillmode": "overlay",
              "size": 10,
              "solidity": 0.2
             }
            },
            "type": "barpolar"
           }
          ],
          "carpet": [
           {
            "aaxis": {
             "endlinecolor": "#2a3f5f",
             "gridcolor": "white",
             "linecolor": "white",
             "minorgridcolor": "white",
             "startlinecolor": "#2a3f5f"
            },
            "baxis": {
             "endlinecolor": "#2a3f5f",
             "gridcolor": "white",
             "linecolor": "white",
             "minorgridcolor": "white",
             "startlinecolor": "#2a3f5f"
            },
            "type": "carpet"
           }
          ],
          "choropleth": [
           {
            "colorbar": {
             "outlinewidth": 0,
             "ticks": ""
            },
            "type": "choropleth"
           }
          ],
          "contour": [
           {
            "colorbar": {
             "outlinewidth": 0,
             "ticks": ""
            },
            "colorscale": [
             [
              0,
              "#0d0887"
             ],
             [
              0.1111111111111111,
              "#46039f"
             ],
             [
              0.2222222222222222,
              "#7201a8"
             ],
             [
              0.3333333333333333,
              "#9c179e"
             ],
             [
              0.4444444444444444,
              "#bd3786"
             ],
             [
              0.5555555555555556,
              "#d8576b"
             ],
             [
              0.6666666666666666,
              "#ed7953"
             ],
             [
              0.7777777777777778,
              "#fb9f3a"
             ],
             [
              0.8888888888888888,
              "#fdca26"
             ],
             [
              1,
              "#f0f921"
             ]
            ],
            "type": "contour"
           }
          ],
          "contourcarpet": [
           {
            "colorbar": {
             "outlinewidth": 0,
             "ticks": ""
            },
            "type": "contourcarpet"
           }
          ],
          "heatmap": [
           {
            "colorbar": {
             "outlinewidth": 0,
             "ticks": ""
            },
            "colorscale": [
             [
              0,
              "#0d0887"
             ],
             [
              0.1111111111111111,
              "#46039f"
             ],
             [
              0.2222222222222222,
              "#7201a8"
             ],
             [
              0.3333333333333333,
              "#9c179e"
             ],
             [
              0.4444444444444444,
              "#bd3786"
             ],
             [
              0.5555555555555556,
              "#d8576b"
             ],
             [
              0.6666666666666666,
              "#ed7953"
             ],
             [
              0.7777777777777778,
              "#fb9f3a"
             ],
             [
              0.8888888888888888,
              "#fdca26"
             ],
             [
              1,
              "#f0f921"
             ]
            ],
            "type": "heatmap"
           }
          ],
          "histogram": [
           {
            "marker": {
             "pattern": {
              "fillmode": "overlay",
              "size": 10,
              "solidity": 0.2
             }
            },
            "type": "histogram"
           }
          ],
          "histogram2d": [
           {
            "colorbar": {
             "outlinewidth": 0,
             "ticks": ""
            },
            "colorscale": [
             [
              0,
              "#0d0887"
             ],
             [
              0.1111111111111111,
              "#46039f"
             ],
             [
              0.2222222222222222,
              "#7201a8"
             ],
             [
              0.3333333333333333,
              "#9c179e"
             ],
             [
              0.4444444444444444,
              "#bd3786"
             ],
             [
              0.5555555555555556,
              "#d8576b"
             ],
             [
              0.6666666666666666,
              "#ed7953"
             ],
             [
              0.7777777777777778,
              "#fb9f3a"
             ],
             [
              0.8888888888888888,
              "#fdca26"
             ],
             [
              1,
              "#f0f921"
             ]
            ],
            "type": "histogram2d"
           }
          ],
          "histogram2dcontour": [
           {
            "colorbar": {
             "outlinewidth": 0,
             "ticks": ""
            },
            "colorscale": [
             [
              0,
              "#0d0887"
             ],
             [
              0.1111111111111111,
              "#46039f"
             ],
             [
              0.2222222222222222,
              "#7201a8"
             ],
             [
              0.3333333333333333,
              "#9c179e"
             ],
             [
              0.4444444444444444,
              "#bd3786"
             ],
             [
              0.5555555555555556,
              "#d8576b"
             ],
             [
              0.6666666666666666,
              "#ed7953"
             ],
             [
              0.7777777777777778,
              "#fb9f3a"
             ],
             [
              0.8888888888888888,
              "#fdca26"
             ],
             [
              1,
              "#f0f921"
             ]
            ],
            "type": "histogram2dcontour"
           }
          ],
          "mesh3d": [
           {
            "colorbar": {
             "outlinewidth": 0,
             "ticks": ""
            },
            "type": "mesh3d"
           }
          ],
          "parcoords": [
           {
            "line": {
             "colorbar": {
              "outlinewidth": 0,
              "ticks": ""
             }
            },
            "type": "parcoords"
           }
          ],
          "pie": [
           {
            "automargin": true,
            "type": "pie"
           }
          ],
          "scatter": [
           {
            "fillpattern": {
             "fillmode": "overlay",
             "size": 10,
             "solidity": 0.2
            },
            "type": "scatter"
           }
          ],
          "scatter3d": [
           {
            "line": {
             "colorbar": {
              "outlinewidth": 0,
              "ticks": ""
             }
            },
            "marker": {
             "colorbar": {
              "outlinewidth": 0,
              "ticks": ""
             }
            },
            "type": "scatter3d"
           }
          ],
          "scattercarpet": [
           {
            "marker": {
             "colorbar": {
              "outlinewidth": 0,
              "ticks": ""
             }
            },
            "type": "scattercarpet"
           }
          ],
          "scattergeo": [
           {
            "marker": {
             "colorbar": {
              "outlinewidth": 0,
              "ticks": ""
             }
            },
            "type": "scattergeo"
           }
          ],
          "scattergl": [
           {
            "marker": {
             "colorbar": {
              "outlinewidth": 0,
              "ticks": ""
             }
            },
            "type": "scattergl"
           }
          ],
          "scattermap": [
           {
            "marker": {
             "colorbar": {
              "outlinewidth": 0,
              "ticks": ""
             }
            },
            "type": "scattermap"
           }
          ],
          "scattermapbox": [
           {
            "marker": {
             "colorbar": {
              "outlinewidth": 0,
              "ticks": ""
             }
            },
            "type": "scattermapbox"
           }
          ],
          "scatterpolar": [
           {
            "marker": {
             "colorbar": {
              "outlinewidth": 0,
              "ticks": ""
             }
            },
            "type": "scatterpolar"
           }
          ],
          "scatterpolargl": [
           {
            "marker": {
             "colorbar": {
              "outlinewidth": 0,
              "ticks": ""
             }
            },
            "type": "scatterpolargl"
           }
          ],
          "scatterternary": [
           {
            "marker": {
             "colorbar": {
              "outlinewidth": 0,
              "ticks": ""
             }
            },
            "type": "scatterternary"
           }
          ],
          "surface": [
           {
            "colorbar": {
             "outlinewidth": 0,
             "ticks": ""
            },
            "colorscale": [
             [
              0,
              "#0d0887"
             ],
             [
              0.1111111111111111,
              "#46039f"
             ],
             [
              0.2222222222222222,
              "#7201a8"
             ],
             [
              0.3333333333333333,
              "#9c179e"
             ],
             [
              0.4444444444444444,
              "#bd3786"
             ],
             [
              0.5555555555555556,
              "#d8576b"
             ],
             [
              0.6666666666666666,
              "#ed7953"
             ],
             [
              0.7777777777777778,
              "#fb9f3a"
             ],
             [
              0.8888888888888888,
              "#fdca26"
             ],
             [
              1,
              "#f0f921"
             ]
            ],
            "type": "surface"
           }
          ],
          "table": [
           {
            "cells": {
             "fill": {
              "color": "#EBF0F8"
             },
             "line": {
              "color": "white"
             }
            },
            "header": {
             "fill": {
              "color": "#C8D4E3"
             },
             "line": {
              "color": "white"
             }
            },
            "type": "table"
           }
          ]
         },
         "layout": {
          "annotationdefaults": {
           "arrowcolor": "#2a3f5f",
           "arrowhead": 0,
           "arrowwidth": 1
          },
          "autotypenumbers": "strict",
          "coloraxis": {
           "colorbar": {
            "outlinewidth": 0,
            "ticks": ""
           }
          },
          "colorscale": {
           "diverging": [
            [
             0,
             "#8e0152"
            ],
            [
             0.1,
             "#c51b7d"
            ],
            [
             0.2,
             "#de77ae"
            ],
            [
             0.3,
             "#f1b6da"
            ],
            [
             0.4,
             "#fde0ef"
            ],
            [
             0.5,
             "#f7f7f7"
            ],
            [
             0.6,
             "#e6f5d0"
            ],
            [
             0.7,
             "#b8e186"
            ],
            [
             0.8,
             "#7fbc41"
            ],
            [
             0.9,
             "#4d9221"
            ],
            [
             1,
             "#276419"
            ]
           ],
           "sequential": [
            [
             0,
             "#0d0887"
            ],
            [
             0.1111111111111111,
             "#46039f"
            ],
            [
             0.2222222222222222,
             "#7201a8"
            ],
            [
             0.3333333333333333,
             "#9c179e"
            ],
            [
             0.4444444444444444,
             "#bd3786"
            ],
            [
             0.5555555555555556,
             "#d8576b"
            ],
            [
             0.6666666666666666,
             "#ed7953"
            ],
            [
             0.7777777777777778,
             "#fb9f3a"
            ],
            [
             0.8888888888888888,
             "#fdca26"
            ],
            [
             1,
             "#f0f921"
            ]
           ],
           "sequentialminus": [
            [
             0,
             "#0d0887"
            ],
            [
             0.1111111111111111,
             "#46039f"
            ],
            [
             0.2222222222222222,
             "#7201a8"
            ],
            [
             0.3333333333333333,
             "#9c179e"
            ],
            [
             0.4444444444444444,
             "#bd3786"
            ],
            [
             0.5555555555555556,
             "#d8576b"
            ],
            [
             0.6666666666666666,
             "#ed7953"
            ],
            [
             0.7777777777777778,
             "#fb9f3a"
            ],
            [
             0.8888888888888888,
             "#fdca26"
            ],
            [
             1,
             "#f0f921"
            ]
           ]
          },
          "colorway": [
           "#636efa",
           "#EF553B",
           "#00cc96",
           "#ab63fa",
           "#FFA15A",
           "#19d3f3",
           "#FF6692",
           "#B6E880",
           "#FF97FF",
           "#FECB52"
          ],
          "font": {
           "color": "#2a3f5f"
          },
          "geo": {
           "bgcolor": "white",
           "lakecolor": "white",
           "landcolor": "#E5ECF6",
           "showlakes": true,
           "showland": true,
           "subunitcolor": "white"
          },
          "hoverlabel": {
           "align": "left"
          },
          "hovermode": "closest",
          "mapbox": {
           "style": "light"
          },
          "paper_bgcolor": "white",
          "plot_bgcolor": "#E5ECF6",
          "polar": {
           "angularaxis": {
            "gridcolor": "white",
            "linecolor": "white",
            "ticks": ""
           },
           "bgcolor": "#E5ECF6",
           "radialaxis": {
            "gridcolor": "white",
            "linecolor": "white",
            "ticks": ""
           }
          },
          "scene": {
           "xaxis": {
            "backgroundcolor": "#E5ECF6",
            "gridcolor": "white",
            "gridwidth": 2,
            "linecolor": "white",
            "showbackground": true,
            "ticks": "",
            "zerolinecolor": "white"
           },
           "yaxis": {
            "backgroundcolor": "#E5ECF6",
            "gridcolor": "white",
            "gridwidth": 2,
            "linecolor": "white",
            "showbackground": true,
            "ticks": "",
            "zerolinecolor": "white"
           },
           "zaxis": {
            "backgroundcolor": "#E5ECF6",
            "gridcolor": "white",
            "gridwidth": 2,
            "linecolor": "white",
            "showbackground": true,
            "ticks": "",
            "zerolinecolor": "white"
           }
          },
          "shapedefaults": {
           "line": {
            "color": "#2a3f5f"
           }
          },
          "ternary": {
           "aaxis": {
            "gridcolor": "white",
            "linecolor": "white",
            "ticks": ""
           },
           "baxis": {
            "gridcolor": "white",
            "linecolor": "white",
            "ticks": ""
           },
           "bgcolor": "#E5ECF6",
           "caxis": {
            "gridcolor": "white",
            "linecolor": "white",
            "ticks": ""
           }
          },
          "title": {
           "x": 0.05
          },
          "xaxis": {
           "automargin": true,
           "gridcolor": "white",
           "linecolor": "white",
           "ticks": "",
           "title": {
            "standoff": 15
           },
           "zerolinecolor": "white",
           "zerolinewidth": 2
          },
          "yaxis": {
           "automargin": true,
           "gridcolor": "white",
           "linecolor": "white",
           "ticks": "",
           "title": {
            "standoff": 15
           },
           "zerolinecolor": "white",
           "zerolinewidth": 2
          }
         }
        },
        "title": {
         "text": "Win rate by time of day"
        },
        "xaxis": {
         "anchor": "y",
         "domain": [
          0,
          1
         ],
         "title": {
          "text": "Win rate (%)"
         }
        },
        "yaxis": {
         "anchor": "x",
         "categoryarray": [
          "graveyard",
          "evening",
          "afternoon",
          "morning"
         ],
         "categoryorder": "array",
         "domain": [
          0,
          1
         ],
         "title": {
          "text": "Time of day"
         }
        }
       }
      }
     },
     "metadata": {},
     "output_type": "display_data"
    }
   ],
   "source": [
    "# Reset index to use day_of_the_week as a column for plotting\n",
    "time_of_day_results = time_of_day_results.reset_index()\n",
    "\n",
    "# Define the order\n",
    "time_of_day_order = ['morning', 'afternoon', 'evening', 'graveyard']\n",
    "\n",
    "# Create a horizontal bar plot using Plotly\n",
    "fig = px.bar(time_of_day_results, x='Win Rate', y='time_of_day', orientation='h', \n",
    "             title='Win rate by time of day', \n",
    "             labels={'time_of_day': 'Time of day', 'Win Rate': 'Win rate (%)'},\n",
    "             category_orders={'time_of_day': time_of_day_order})\n",
    "\n",
    "fig.show()"
   ]
  },
  {
   "cell_type": "markdown",
   "id": "c7a27b5b-124e-4266-836e-c9ff55a0574b",
   "metadata": {},
   "source": [
    "It seems like afternoons are best. So, Monday and Wednesday afternoons, might be a sensible time to play."
   ]
  },
  {
   "cell_type": "markdown",
   "id": "631bf971-3545-4ed8-9e4d-df92e951f294",
   "metadata": {},
   "source": [
    "### Number of moves"
   ]
  },
  {
   "cell_type": "code",
   "execution_count": 61,
   "id": "18f11809-23ff-4e49-817b-fce07348ac13",
   "metadata": {},
   "outputs": [
    {
     "data": {
      "text/html": [
       "<div>\n",
       "<style scoped>\n",
       "    .dataframe tbody tr th:only-of-type {\n",
       "        vertical-align: middle;\n",
       "    }\n",
       "\n",
       "    .dataframe tbody tr th {\n",
       "        vertical-align: top;\n",
       "    }\n",
       "\n",
       "    .dataframe thead th {\n",
       "        text-align: right;\n",
       "    }\n",
       "</style>\n",
       "<table border=\"1\" class=\"dataframe\">\n",
       "  <thead>\n",
       "    <tr style=\"text-align: right;\">\n",
       "      <th>Result</th>\n",
       "      <th>Draw</th>\n",
       "      <th>Loss</th>\n",
       "      <th>Win</th>\n",
       "      <th>Total</th>\n",
       "      <th>Win Rate</th>\n",
       "      <th>Loss Rate</th>\n",
       "      <th>Draw Rate</th>\n",
       "    </tr>\n",
       "    <tr>\n",
       "      <th>number_moves</th>\n",
       "      <th></th>\n",
       "      <th></th>\n",
       "      <th></th>\n",
       "      <th></th>\n",
       "      <th></th>\n",
       "      <th></th>\n",
       "      <th></th>\n",
       "    </tr>\n",
       "  </thead>\n",
       "  <tbody>\n",
       "    <tr>\n",
       "      <th>1</th>\n",
       "      <td>0</td>\n",
       "      <td>0</td>\n",
       "      <td>2</td>\n",
       "      <td>2</td>\n",
       "      <td>100.0</td>\n",
       "      <td>0.0</td>\n",
       "      <td>0.0</td>\n",
       "    </tr>\n",
       "    <tr>\n",
       "      <th>2</th>\n",
       "      <td>0</td>\n",
       "      <td>0</td>\n",
       "      <td>1</td>\n",
       "      <td>1</td>\n",
       "      <td>100.0</td>\n",
       "      <td>0.0</td>\n",
       "      <td>0.0</td>\n",
       "    </tr>\n",
       "    <tr>\n",
       "      <th>3</th>\n",
       "      <td>0</td>\n",
       "      <td>0</td>\n",
       "      <td>3</td>\n",
       "      <td>3</td>\n",
       "      <td>100.0</td>\n",
       "      <td>0.0</td>\n",
       "      <td>0.0</td>\n",
       "    </tr>\n",
       "    <tr>\n",
       "      <th>4</th>\n",
       "      <td>0</td>\n",
       "      <td>0</td>\n",
       "      <td>25</td>\n",
       "      <td>25</td>\n",
       "      <td>100.0</td>\n",
       "      <td>0.0</td>\n",
       "      <td>0.0</td>\n",
       "    </tr>\n",
       "    <tr>\n",
       "      <th>5</th>\n",
       "      <td>0</td>\n",
       "      <td>3</td>\n",
       "      <td>9</td>\n",
       "      <td>12</td>\n",
       "      <td>75.0</td>\n",
       "      <td>25.0</td>\n",
       "      <td>0.0</td>\n",
       "    </tr>\n",
       "    <tr>\n",
       "      <th>...</th>\n",
       "      <td>...</td>\n",
       "      <td>...</td>\n",
       "      <td>...</td>\n",
       "      <td>...</td>\n",
       "      <td>...</td>\n",
       "      <td>...</td>\n",
       "      <td>...</td>\n",
       "    </tr>\n",
       "    <tr>\n",
       "      <th>100</th>\n",
       "      <td>1</td>\n",
       "      <td>0</td>\n",
       "      <td>0</td>\n",
       "      <td>1</td>\n",
       "      <td>0.0</td>\n",
       "      <td>0.0</td>\n",
       "      <td>100.0</td>\n",
       "    </tr>\n",
       "    <tr>\n",
       "      <th>104</th>\n",
       "      <td>0</td>\n",
       "      <td>0</td>\n",
       "      <td>1</td>\n",
       "      <td>1</td>\n",
       "      <td>100.0</td>\n",
       "      <td>0.0</td>\n",
       "      <td>0.0</td>\n",
       "    </tr>\n",
       "    <tr>\n",
       "      <th>115</th>\n",
       "      <td>1</td>\n",
       "      <td>0</td>\n",
       "      <td>0</td>\n",
       "      <td>1</td>\n",
       "      <td>0.0</td>\n",
       "      <td>0.0</td>\n",
       "      <td>100.0</td>\n",
       "    </tr>\n",
       "    <tr>\n",
       "      <th>116</th>\n",
       "      <td>1</td>\n",
       "      <td>0</td>\n",
       "      <td>0</td>\n",
       "      <td>1</td>\n",
       "      <td>0.0</td>\n",
       "      <td>0.0</td>\n",
       "      <td>100.0</td>\n",
       "    </tr>\n",
       "    <tr>\n",
       "      <th>137</th>\n",
       "      <td>1</td>\n",
       "      <td>0</td>\n",
       "      <td>0</td>\n",
       "      <td>1</td>\n",
       "      <td>0.0</td>\n",
       "      <td>0.0</td>\n",
       "      <td>100.0</td>\n",
       "    </tr>\n",
       "  </tbody>\n",
       "</table>\n",
       "<p>98 rows × 7 columns</p>\n",
       "</div>"
      ],
      "text/plain": [
       "Result        Draw  Loss  Win  Total  Win Rate  Loss Rate  Draw Rate\n",
       "number_moves                                                        \n",
       "1                0     0    2      2     100.0        0.0        0.0\n",
       "2                0     0    1      1     100.0        0.0        0.0\n",
       "3                0     0    3      3     100.0        0.0        0.0\n",
       "4                0     0   25     25     100.0        0.0        0.0\n",
       "5                0     3    9     12      75.0       25.0        0.0\n",
       "...            ...   ...  ...    ...       ...        ...        ...\n",
       "100              1     0    0      1       0.0        0.0      100.0\n",
       "104              0     0    1      1     100.0        0.0        0.0\n",
       "115              1     0    0      1       0.0        0.0      100.0\n",
       "116              1     0    0      1       0.0        0.0      100.0\n",
       "137              1     0    0      1       0.0        0.0      100.0\n",
       "\n",
       "[98 rows x 7 columns]"
      ]
     },
     "execution_count": 61,
     "metadata": {},
     "output_type": "execute_result"
    }
   ],
   "source": [
    "# Aggregate the results by number of moves\n",
    "number_moves_results = df.groupby(['number_moves','Result']).size().unstack(fill_value=0)\n",
    "# Calculate win rates\n",
    "number_moves_results['Total'] = number_moves_results.sum(axis=1)\n",
    "number_moves_results['Win Rate'] = (number_moves_results['Win'] / number_moves_results['Total']) * 100\n",
    "number_moves_results['Loss Rate'] = (number_moves_results['Loss'] / number_moves_results['Total']) * 100\n",
    "number_moves_results['Draw Rate'] = (number_moves_results['Draw'] / number_moves_results['Total']) * 100\n",
    "number_moves_results"
   ]
  },
  {
   "cell_type": "code",
   "execution_count": 62,
   "id": "844eafe0-774f-43ed-a6bd-7780fb019009",
   "metadata": {},
   "outputs": [
    {
     "data": {
      "application/vnd.plotly.v1+json": {
       "config": {
        "plotlyServerURL": "https://plot.ly"
       },
       "data": [
        {
         "hovertemplate": "Number of moves=%{x}<br>Win rate (%)=%{y}<extra></extra>",
         "legendgroup": "",
         "line": {
          "color": "#636efa",
          "dash": "solid"
         },
         "marker": {
          "symbol": "circle"
         },
         "mode": "lines",
         "name": "",
         "orientation": "v",
         "showlegend": false,
         "type": "scatter",
         "x": {
          "bdata": "AQACAAMABAAFAAYABwAIAAkACgALAAwADQAOAA8AEAARABIAEwAUABUAFgAXABgAGQAaABsAHAAdAB4AHwAgACEAIgAjACQAJQAmACcAKAApACoAKwAsAC0ALgAvADAAMQAyADMANAA1ADYANwA4ADkAOgA7ADwAPQA+AD8AQABBAEIAQwBEAEUARgBHAEgASQBKAEsATABNAE4ATwBQAFEAUgBTAFQAVQBWAFgAWQBbAFwAXQBeAGIAZABoAHMAdACJAA==",
          "dtype": "i2"
         },
         "xaxis": "x",
         "y": {
          "bdata": "AAAAAAAAWUAAAAAAAABZQAAAAAAAAFlAAAAAAAAAWUAAAAAAAMBSQA8PDw8PD1ZAHcdxHMdxU0BZyEIWspBTQHrTm970plRAjDHGGGOMUkAAAAAAAIBRQJaWlpaWllRAW2uttdZaU0CmpaWlpaVRQAAAAAAAAFNAAAAAAADAUkAtLS0tLS1QQAAAAAAAsE1AAAAAAABwR0AAAAAAAEBQQHD5lm/5llJA0UUXXXTRT0BddNFFF11QQCQs9zTCckxAjC666KKLSECpJ+O3Sz1HQOiiiy666E5AAAAAAAAgTEC3bdu2bRtIQI2MjIyMjEZAVFwyBOtoSUDMYyuChpNIQCd2Yid2YklAmFPwcgpeQkDc0wjLPY1FQOksprOYzkZAAAAAAADAQkAMYnIFMblMQPWdjfrORkVAO7ETO7ETR0Bt27Zt27ZJQIPzMTgfg0NAuxK1K1G7RECqqqqqqqpAQBGTK4jJFUJAqDe96U1vPkAAAAAAAEBAQAAAAAAAQEBAAAAAAACAQUDsxE7sxE5BQLyG8hrKa0JALS0tLS0tQEA84o64I+5EQAAAAAAAADlAL7rooosuQkBkIQtZyEJMQNBeQnsJ7TlAT+zETuzEPkAAAAAAAAAoQNQIyz2NsDRAAAAAAAAALkAvuuiiiy5CQE/sxE7sxB5Auuiiiy66NkDXUF5DeQ01QAAAAAAAAChAJEmSJEmSPECHh4eHh4cnQAAAAAAAADRAAAAAAAAAAACqqqqqqqowQKuqqqqqqhpAL7rooosuIkAAAAAAAAApQKqqqqqqqkBAL7rooosuMkAkSZIkSZIsQAAAAAAAADRAAAAAAADAQkAAAAAAAAA5QI7jOI7jODZAAAAAAAAAAAAAAAAAAAAAAAAAAAAAAAAAAAAAAAAAAAAAAAAAAAAAAAAAAAAAAAAAqqqqqqqqQEAAAAAAAABJQAAAAAAAAAAAAAAAAAAAAAAAAAAAAAAAAAAAAAAAAAAAAAAAAAAAAAAAAAAAAABZQAAAAAAAAAAAAAAAAAAAAAAAAAAAAAAAAA==",
          "dtype": "f8"
         },
         "yaxis": "y"
        }
       ],
       "layout": {
        "legend": {
         "tracegroupgap": 0
        },
        "template": {
         "data": {
          "bar": [
           {
            "error_x": {
             "color": "#2a3f5f"
            },
            "error_y": {
             "color": "#2a3f5f"
            },
            "marker": {
             "line": {
              "color": "#E5ECF6",
              "width": 0.5
             },
             "pattern": {
              "fillmode": "overlay",
              "size": 10,
              "solidity": 0.2
             }
            },
            "type": "bar"
           }
          ],
          "barpolar": [
           {
            "marker": {
             "line": {
              "color": "#E5ECF6",
              "width": 0.5
             },
             "pattern": {
              "fillmode": "overlay",
              "size": 10,
              "solidity": 0.2
             }
            },
            "type": "barpolar"
           }
          ],
          "carpet": [
           {
            "aaxis": {
             "endlinecolor": "#2a3f5f",
             "gridcolor": "white",
             "linecolor": "white",
             "minorgridcolor": "white",
             "startlinecolor": "#2a3f5f"
            },
            "baxis": {
             "endlinecolor": "#2a3f5f",
             "gridcolor": "white",
             "linecolor": "white",
             "minorgridcolor": "white",
             "startlinecolor": "#2a3f5f"
            },
            "type": "carpet"
           }
          ],
          "choropleth": [
           {
            "colorbar": {
             "outlinewidth": 0,
             "ticks": ""
            },
            "type": "choropleth"
           }
          ],
          "contour": [
           {
            "colorbar": {
             "outlinewidth": 0,
             "ticks": ""
            },
            "colorscale": [
             [
              0,
              "#0d0887"
             ],
             [
              0.1111111111111111,
              "#46039f"
             ],
             [
              0.2222222222222222,
              "#7201a8"
             ],
             [
              0.3333333333333333,
              "#9c179e"
             ],
             [
              0.4444444444444444,
              "#bd3786"
             ],
             [
              0.5555555555555556,
              "#d8576b"
             ],
             [
              0.6666666666666666,
              "#ed7953"
             ],
             [
              0.7777777777777778,
              "#fb9f3a"
             ],
             [
              0.8888888888888888,
              "#fdca26"
             ],
             [
              1,
              "#f0f921"
             ]
            ],
            "type": "contour"
           }
          ],
          "contourcarpet": [
           {
            "colorbar": {
             "outlinewidth": 0,
             "ticks": ""
            },
            "type": "contourcarpet"
           }
          ],
          "heatmap": [
           {
            "colorbar": {
             "outlinewidth": 0,
             "ticks": ""
            },
            "colorscale": [
             [
              0,
              "#0d0887"
             ],
             [
              0.1111111111111111,
              "#46039f"
             ],
             [
              0.2222222222222222,
              "#7201a8"
             ],
             [
              0.3333333333333333,
              "#9c179e"
             ],
             [
              0.4444444444444444,
              "#bd3786"
             ],
             [
              0.5555555555555556,
              "#d8576b"
             ],
             [
              0.6666666666666666,
              "#ed7953"
             ],
             [
              0.7777777777777778,
              "#fb9f3a"
             ],
             [
              0.8888888888888888,
              "#fdca26"
             ],
             [
              1,
              "#f0f921"
             ]
            ],
            "type": "heatmap"
           }
          ],
          "histogram": [
           {
            "marker": {
             "pattern": {
              "fillmode": "overlay",
              "size": 10,
              "solidity": 0.2
             }
            },
            "type": "histogram"
           }
          ],
          "histogram2d": [
           {
            "colorbar": {
             "outlinewidth": 0,
             "ticks": ""
            },
            "colorscale": [
             [
              0,
              "#0d0887"
             ],
             [
              0.1111111111111111,
              "#46039f"
             ],
             [
              0.2222222222222222,
              "#7201a8"
             ],
             [
              0.3333333333333333,
              "#9c179e"
             ],
             [
              0.4444444444444444,
              "#bd3786"
             ],
             [
              0.5555555555555556,
              "#d8576b"
             ],
             [
              0.6666666666666666,
              "#ed7953"
             ],
             [
              0.7777777777777778,
              "#fb9f3a"
             ],
             [
              0.8888888888888888,
              "#fdca26"
             ],
             [
              1,
              "#f0f921"
             ]
            ],
            "type": "histogram2d"
           }
          ],
          "histogram2dcontour": [
           {
            "colorbar": {
             "outlinewidth": 0,
             "ticks": ""
            },
            "colorscale": [
             [
              0,
              "#0d0887"
             ],
             [
              0.1111111111111111,
              "#46039f"
             ],
             [
              0.2222222222222222,
              "#7201a8"
             ],
             [
              0.3333333333333333,
              "#9c179e"
             ],
             [
              0.4444444444444444,
              "#bd3786"
             ],
             [
              0.5555555555555556,
              "#d8576b"
             ],
             [
              0.6666666666666666,
              "#ed7953"
             ],
             [
              0.7777777777777778,
              "#fb9f3a"
             ],
             [
              0.8888888888888888,
              "#fdca26"
             ],
             [
              1,
              "#f0f921"
             ]
            ],
            "type": "histogram2dcontour"
           }
          ],
          "mesh3d": [
           {
            "colorbar": {
             "outlinewidth": 0,
             "ticks": ""
            },
            "type": "mesh3d"
           }
          ],
          "parcoords": [
           {
            "line": {
             "colorbar": {
              "outlinewidth": 0,
              "ticks": ""
             }
            },
            "type": "parcoords"
           }
          ],
          "pie": [
           {
            "automargin": true,
            "type": "pie"
           }
          ],
          "scatter": [
           {
            "fillpattern": {
             "fillmode": "overlay",
             "size": 10,
             "solidity": 0.2
            },
            "type": "scatter"
           }
          ],
          "scatter3d": [
           {
            "line": {
             "colorbar": {
              "outlinewidth": 0,
              "ticks": ""
             }
            },
            "marker": {
             "colorbar": {
              "outlinewidth": 0,
              "ticks": ""
             }
            },
            "type": "scatter3d"
           }
          ],
          "scattercarpet": [
           {
            "marker": {
             "colorbar": {
              "outlinewidth": 0,
              "ticks": ""
             }
            },
            "type": "scattercarpet"
           }
          ],
          "scattergeo": [
           {
            "marker": {
             "colorbar": {
              "outlinewidth": 0,
              "ticks": ""
             }
            },
            "type": "scattergeo"
           }
          ],
          "scattergl": [
           {
            "marker": {
             "colorbar": {
              "outlinewidth": 0,
              "ticks": ""
             }
            },
            "type": "scattergl"
           }
          ],
          "scattermap": [
           {
            "marker": {
             "colorbar": {
              "outlinewidth": 0,
              "ticks": ""
             }
            },
            "type": "scattermap"
           }
          ],
          "scattermapbox": [
           {
            "marker": {
             "colorbar": {
              "outlinewidth": 0,
              "ticks": ""
             }
            },
            "type": "scattermapbox"
           }
          ],
          "scatterpolar": [
           {
            "marker": {
             "colorbar": {
              "outlinewidth": 0,
              "ticks": ""
             }
            },
            "type": "scatterpolar"
           }
          ],
          "scatterpolargl": [
           {
            "marker": {
             "colorbar": {
              "outlinewidth": 0,
              "ticks": ""
             }
            },
            "type": "scatterpolargl"
           }
          ],
          "scatterternary": [
           {
            "marker": {
             "colorbar": {
              "outlinewidth": 0,
              "ticks": ""
             }
            },
            "type": "scatterternary"
           }
          ],
          "surface": [
           {
            "colorbar": {
             "outlinewidth": 0,
             "ticks": ""
            },
            "colorscale": [
             [
              0,
              "#0d0887"
             ],
             [
              0.1111111111111111,
              "#46039f"
             ],
             [
              0.2222222222222222,
              "#7201a8"
             ],
             [
              0.3333333333333333,
              "#9c179e"
             ],
             [
              0.4444444444444444,
              "#bd3786"
             ],
             [
              0.5555555555555556,
              "#d8576b"
             ],
             [
              0.6666666666666666,
              "#ed7953"
             ],
             [
              0.7777777777777778,
              "#fb9f3a"
             ],
             [
              0.8888888888888888,
              "#fdca26"
             ],
             [
              1,
              "#f0f921"
             ]
            ],
            "type": "surface"
           }
          ],
          "table": [
           {
            "cells": {
             "fill": {
              "color": "#EBF0F8"
             },
             "line": {
              "color": "white"
             }
            },
            "header": {
             "fill": {
              "color": "#C8D4E3"
             },
             "line": {
              "color": "white"
             }
            },
            "type": "table"
           }
          ]
         },
         "layout": {
          "annotationdefaults": {
           "arrowcolor": "#2a3f5f",
           "arrowhead": 0,
           "arrowwidth": 1
          },
          "autotypenumbers": "strict",
          "coloraxis": {
           "colorbar": {
            "outlinewidth": 0,
            "ticks": ""
           }
          },
          "colorscale": {
           "diverging": [
            [
             0,
             "#8e0152"
            ],
            [
             0.1,
             "#c51b7d"
            ],
            [
             0.2,
             "#de77ae"
            ],
            [
             0.3,
             "#f1b6da"
            ],
            [
             0.4,
             "#fde0ef"
            ],
            [
             0.5,
             "#f7f7f7"
            ],
            [
             0.6,
             "#e6f5d0"
            ],
            [
             0.7,
             "#b8e186"
            ],
            [
             0.8,
             "#7fbc41"
            ],
            [
             0.9,
             "#4d9221"
            ],
            [
             1,
             "#276419"
            ]
           ],
           "sequential": [
            [
             0,
             "#0d0887"
            ],
            [
             0.1111111111111111,
             "#46039f"
            ],
            [
             0.2222222222222222,
             "#7201a8"
            ],
            [
             0.3333333333333333,
             "#9c179e"
            ],
            [
             0.4444444444444444,
             "#bd3786"
            ],
            [
             0.5555555555555556,
             "#d8576b"
            ],
            [
             0.6666666666666666,
             "#ed7953"
            ],
            [
             0.7777777777777778,
             "#fb9f3a"
            ],
            [
             0.8888888888888888,
             "#fdca26"
            ],
            [
             1,
             "#f0f921"
            ]
           ],
           "sequentialminus": [
            [
             0,
             "#0d0887"
            ],
            [
             0.1111111111111111,
             "#46039f"
            ],
            [
             0.2222222222222222,
             "#7201a8"
            ],
            [
             0.3333333333333333,
             "#9c179e"
            ],
            [
             0.4444444444444444,
             "#bd3786"
            ],
            [
             0.5555555555555556,
             "#d8576b"
            ],
            [
             0.6666666666666666,
             "#ed7953"
            ],
            [
             0.7777777777777778,
             "#fb9f3a"
            ],
            [
             0.8888888888888888,
             "#fdca26"
            ],
            [
             1,
             "#f0f921"
            ]
           ]
          },
          "colorway": [
           "#636efa",
           "#EF553B",
           "#00cc96",
           "#ab63fa",
           "#FFA15A",
           "#19d3f3",
           "#FF6692",
           "#B6E880",
           "#FF97FF",
           "#FECB52"
          ],
          "font": {
           "color": "#2a3f5f"
          },
          "geo": {
           "bgcolor": "white",
           "lakecolor": "white",
           "landcolor": "#E5ECF6",
           "showlakes": true,
           "showland": true,
           "subunitcolor": "white"
          },
          "hoverlabel": {
           "align": "left"
          },
          "hovermode": "closest",
          "mapbox": {
           "style": "light"
          },
          "paper_bgcolor": "white",
          "plot_bgcolor": "#E5ECF6",
          "polar": {
           "angularaxis": {
            "gridcolor": "white",
            "linecolor": "white",
            "ticks": ""
           },
           "bgcolor": "#E5ECF6",
           "radialaxis": {
            "gridcolor": "white",
            "linecolor": "white",
            "ticks": ""
           }
          },
          "scene": {
           "xaxis": {
            "backgroundcolor": "#E5ECF6",
            "gridcolor": "white",
            "gridwidth": 2,
            "linecolor": "white",
            "showbackground": true,
            "ticks": "",
            "zerolinecolor": "white"
           },
           "yaxis": {
            "backgroundcolor": "#E5ECF6",
            "gridcolor": "white",
            "gridwidth": 2,
            "linecolor": "white",
            "showbackground": true,
            "ticks": "",
            "zerolinecolor": "white"
           },
           "zaxis": {
            "backgroundcolor": "#E5ECF6",
            "gridcolor": "white",
            "gridwidth": 2,
            "linecolor": "white",
            "showbackground": true,
            "ticks": "",
            "zerolinecolor": "white"
           }
          },
          "shapedefaults": {
           "line": {
            "color": "#2a3f5f"
           }
          },
          "ternary": {
           "aaxis": {
            "gridcolor": "white",
            "linecolor": "white",
            "ticks": ""
           },
           "baxis": {
            "gridcolor": "white",
            "linecolor": "white",
            "ticks": ""
           },
           "bgcolor": "#E5ECF6",
           "caxis": {
            "gridcolor": "white",
            "linecolor": "white",
            "ticks": ""
           }
          },
          "title": {
           "x": 0.05
          },
          "xaxis": {
           "automargin": true,
           "gridcolor": "white",
           "linecolor": "white",
           "ticks": "",
           "title": {
            "standoff": 15
           },
           "zerolinecolor": "white",
           "zerolinewidth": 2
          },
          "yaxis": {
           "automargin": true,
           "gridcolor": "white",
           "linecolor": "white",
           "ticks": "",
           "title": {
            "standoff": 15
           },
           "zerolinecolor": "white",
           "zerolinewidth": 2
          }
         }
        },
        "title": {
         "text": "My win rate vs number of moves on Chess.com"
        },
        "xaxis": {
         "anchor": "y",
         "domain": [
          0,
          1
         ],
         "title": {
          "text": "Number of moves"
         }
        },
        "yaxis": {
         "anchor": "x",
         "domain": [
          0,
          1
         ],
         "title": {
          "text": "Win rate (%)"
         }
        }
       }
      }
     },
     "metadata": {},
     "output_type": "display_data"
    }
   ],
   "source": [
    "# Reset index to use number_moves as a column for plotting\n",
    "number_moves_results = number_moves_results.reset_index()\n",
    "\n",
    "# Create a line plot for Win Rate vs number of moves using Plotly\n",
    "fig = px.line(number_moves_results, x='number_moves', y='Win Rate', \n",
    "              title='My win rate vs number of moves on Chess.com', \n",
    "              labels={'number_moves': 'Number of moves', 'Win Rate': 'Win rate (%)'})\n",
    "\n",
    "fig.show()"
   ]
  },
  {
   "cell_type": "markdown",
   "id": "1da3cb8f-dbf2-413a-b80e-85b4752a6b9e",
   "metadata": {},
   "source": [
    "From the above graphic I can see that my win rates generally tend to fall as the length of the game increases. That doesn't necessarily mean I tend to lose as the game length increases - the longer the game, the more likely the result will be a draw, I suspect. Let's plot draw rate against number of moves to see if this is the case."
   ]
  },
  {
   "cell_type": "code",
   "execution_count": 63,
   "id": "ae8cce51-73c0-4578-bc86-b77d75cb86a3",
   "metadata": {},
   "outputs": [
    {
     "data": {
      "application/vnd.plotly.v1+json": {
       "config": {
        "plotlyServerURL": "https://plot.ly"
       },
       "data": [
        {
         "hovertemplate": "Number of moves=%{x}<br>Draw Rate=%{y}<extra></extra>",
         "legendgroup": "",
         "line": {
          "color": "#636efa",
          "dash": "solid"
         },
         "marker": {
          "symbol": "circle"
         },
         "mode": "lines",
         "name": "",
         "orientation": "v",
         "showlegend": false,
         "type": "scatter",
         "x": {
          "bdata": "AQACAAMABAAFAAYABwAIAAkACgALAAwADQAOAA8AEAARABIAEwAUABUAFgAXABgAGQAaABsAHAAdAB4AHwAgACEAIgAjACQAJQAmACcAKAApACoAKwAsAC0ALgAvADAAMQAyADMANAA1ADYANwA4ADkAOgA7ADwAPQA+AD8AQABBAEIAQwBEAEUARgBHAEgASQBKAEsATABNAE4ATwBQAFEAUgBTAFQAVQBWAFgAWQBbAFwAXQBeAGIAZABoAHMAdACJAA==",
          "dtype": "i2"
         },
         "xaxis": "x",
         "y": {
          "bdata": "AAAAAAAAAAAAAAAAAAAAAAAAAAAAAAAAAAAAAAAAAAAAAAAAAAAAAAAAAAAAAAAAAAAAAAAAAAAAAAAAAAAAABaykIUsZBFAzjnnnHPOCUAAAAAAAAAAAAAAAAAAAAAAzjnnnHPOCUAAAAAAAAAAAAAAAAAAAAAAAAAAAAAAAAAAAAAAAAAAAAAAAAAAAAlAAAAAAAAACUAAAAAAAAAAAAAAAAAAAAAAAAAAAAAAAAAXXXTRRRcNQBphuacRlvs/AAAAAAAAAAAh0QqbA4n2PwAAAAAAAAAAAAAAAAAA+T8kSZIkSZIMQAAAAAAAAAAAAAAAAAAAAAAAAAAAAAAAANmJndiJnQhAFbycgpdTEEAaYbmnEZYLQB/BfQT3Efw/JEmSJEmS/D/E5ApicgURQMTkCmJyBQFAT+zETuzEDkC3bdu2bdsGQGRwPgbnYyhAg/MxOB+DE0AAAAAAAAAAAMTkCmJyBSFAFrKQhSxkIUAAAAAAAAAAAAAAAAAAAC5AAAAAAAAAFEBP7MRO7MQOQNdQXkN5DRVAamlpaWlpLUD6gr6gL+grQAAAAAAA4DVAL7rooosuIkAhC1nIQhYqQBLaS2gvoR1AT+zETuzEHkAAAAAAAAA0QBphuacRljtAAAAAAAAAREBFF1100UUrQDuxEzuxEzdARRdddNFFK0DXUF5DeQ01QAAAAAAAAEBAJEmSJEmSPEBqaWlpaWk9QAAAAAAAACRAQ3kN5TWUP0BWVVVVVdVEQAAAAAAAADRAuuiiiy66RkAAAAAAAMBCQAAAAAAAADlAL7rooosuMkAkSZIkSZIsQAAAAAAAADRAAAAAAAAAKUAAAAAAAAA5QI7jOI7jOEZAAAAAAAAAAAAAAAAAAAAAAKqqqqqqqkBAAAAAAAAAAAAAAAAAAMBSQAAAAAAAAAAAqqqqqqqqQEAAAAAAAAAAAAAAAAAAAFlAAAAAAAAASUAAAAAAAAAAAAAAAAAAAFlAAAAAAAAAWUAAAAAAAAAAAAAAAAAAAFlAAAAAAAAAWUAAAAAAAABZQA==",
          "dtype": "f8"
         },
         "yaxis": "y"
        }
       ],
       "layout": {
        "legend": {
         "tracegroupgap": 0
        },
        "template": {
         "data": {
          "bar": [
           {
            "error_x": {
             "color": "#2a3f5f"
            },
            "error_y": {
             "color": "#2a3f5f"
            },
            "marker": {
             "line": {
              "color": "#E5ECF6",
              "width": 0.5
             },
             "pattern": {
              "fillmode": "overlay",
              "size": 10,
              "solidity": 0.2
             }
            },
            "type": "bar"
           }
          ],
          "barpolar": [
           {
            "marker": {
             "line": {
              "color": "#E5ECF6",
              "width": 0.5
             },
             "pattern": {
              "fillmode": "overlay",
              "size": 10,
              "solidity": 0.2
             }
            },
            "type": "barpolar"
           }
          ],
          "carpet": [
           {
            "aaxis": {
             "endlinecolor": "#2a3f5f",
             "gridcolor": "white",
             "linecolor": "white",
             "minorgridcolor": "white",
             "startlinecolor": "#2a3f5f"
            },
            "baxis": {
             "endlinecolor": "#2a3f5f",
             "gridcolor": "white",
             "linecolor": "white",
             "minorgridcolor": "white",
             "startlinecolor": "#2a3f5f"
            },
            "type": "carpet"
           }
          ],
          "choropleth": [
           {
            "colorbar": {
             "outlinewidth": 0,
             "ticks": ""
            },
            "type": "choropleth"
           }
          ],
          "contour": [
           {
            "colorbar": {
             "outlinewidth": 0,
             "ticks": ""
            },
            "colorscale": [
             [
              0,
              "#0d0887"
             ],
             [
              0.1111111111111111,
              "#46039f"
             ],
             [
              0.2222222222222222,
              "#7201a8"
             ],
             [
              0.3333333333333333,
              "#9c179e"
             ],
             [
              0.4444444444444444,
              "#bd3786"
             ],
             [
              0.5555555555555556,
              "#d8576b"
             ],
             [
              0.6666666666666666,
              "#ed7953"
             ],
             [
              0.7777777777777778,
              "#fb9f3a"
             ],
             [
              0.8888888888888888,
              "#fdca26"
             ],
             [
              1,
              "#f0f921"
             ]
            ],
            "type": "contour"
           }
          ],
          "contourcarpet": [
           {
            "colorbar": {
             "outlinewidth": 0,
             "ticks": ""
            },
            "type": "contourcarpet"
           }
          ],
          "heatmap": [
           {
            "colorbar": {
             "outlinewidth": 0,
             "ticks": ""
            },
            "colorscale": [
             [
              0,
              "#0d0887"
             ],
             [
              0.1111111111111111,
              "#46039f"
             ],
             [
              0.2222222222222222,
              "#7201a8"
             ],
             [
              0.3333333333333333,
              "#9c179e"
             ],
             [
              0.4444444444444444,
              "#bd3786"
             ],
             [
              0.5555555555555556,
              "#d8576b"
             ],
             [
              0.6666666666666666,
              "#ed7953"
             ],
             [
              0.7777777777777778,
              "#fb9f3a"
             ],
             [
              0.8888888888888888,
              "#fdca26"
             ],
             [
              1,
              "#f0f921"
             ]
            ],
            "type": "heatmap"
           }
          ],
          "histogram": [
           {
            "marker": {
             "pattern": {
              "fillmode": "overlay",
              "size": 10,
              "solidity": 0.2
             }
            },
            "type": "histogram"
           }
          ],
          "histogram2d": [
           {
            "colorbar": {
             "outlinewidth": 0,
             "ticks": ""
            },
            "colorscale": [
             [
              0,
              "#0d0887"
             ],
             [
              0.1111111111111111,
              "#46039f"
             ],
             [
              0.2222222222222222,
              "#7201a8"
             ],
             [
              0.3333333333333333,
              "#9c179e"
             ],
             [
              0.4444444444444444,
              "#bd3786"
             ],
             [
              0.5555555555555556,
              "#d8576b"
             ],
             [
              0.6666666666666666,
              "#ed7953"
             ],
             [
              0.7777777777777778,
              "#fb9f3a"
             ],
             [
              0.8888888888888888,
              "#fdca26"
             ],
             [
              1,
              "#f0f921"
             ]
            ],
            "type": "histogram2d"
           }
          ],
          "histogram2dcontour": [
           {
            "colorbar": {
             "outlinewidth": 0,
             "ticks": ""
            },
            "colorscale": [
             [
              0,
              "#0d0887"
             ],
             [
              0.1111111111111111,
              "#46039f"
             ],
             [
              0.2222222222222222,
              "#7201a8"
             ],
             [
              0.3333333333333333,
              "#9c179e"
             ],
             [
              0.4444444444444444,
              "#bd3786"
             ],
             [
              0.5555555555555556,
              "#d8576b"
             ],
             [
              0.6666666666666666,
              "#ed7953"
             ],
             [
              0.7777777777777778,
              "#fb9f3a"
             ],
             [
              0.8888888888888888,
              "#fdca26"
             ],
             [
              1,
              "#f0f921"
             ]
            ],
            "type": "histogram2dcontour"
           }
          ],
          "mesh3d": [
           {
            "colorbar": {
             "outlinewidth": 0,
             "ticks": ""
            },
            "type": "mesh3d"
           }
          ],
          "parcoords": [
           {
            "line": {
             "colorbar": {
              "outlinewidth": 0,
              "ticks": ""
             }
            },
            "type": "parcoords"
           }
          ],
          "pie": [
           {
            "automargin": true,
            "type": "pie"
           }
          ],
          "scatter": [
           {
            "fillpattern": {
             "fillmode": "overlay",
             "size": 10,
             "solidity": 0.2
            },
            "type": "scatter"
           }
          ],
          "scatter3d": [
           {
            "line": {
             "colorbar": {
              "outlinewidth": 0,
              "ticks": ""
             }
            },
            "marker": {
             "colorbar": {
              "outlinewidth": 0,
              "ticks": ""
             }
            },
            "type": "scatter3d"
           }
          ],
          "scattercarpet": [
           {
            "marker": {
             "colorbar": {
              "outlinewidth": 0,
              "ticks": ""
             }
            },
            "type": "scattercarpet"
           }
          ],
          "scattergeo": [
           {
            "marker": {
             "colorbar": {
              "outlinewidth": 0,
              "ticks": ""
             }
            },
            "type": "scattergeo"
           }
          ],
          "scattergl": [
           {
            "marker": {
             "colorbar": {
              "outlinewidth": 0,
              "ticks": ""
             }
            },
            "type": "scattergl"
           }
          ],
          "scattermap": [
           {
            "marker": {
             "colorbar": {
              "outlinewidth": 0,
              "ticks": ""
             }
            },
            "type": "scattermap"
           }
          ],
          "scattermapbox": [
           {
            "marker": {
             "colorbar": {
              "outlinewidth": 0,
              "ticks": ""
             }
            },
            "type": "scattermapbox"
           }
          ],
          "scatterpolar": [
           {
            "marker": {
             "colorbar": {
              "outlinewidth": 0,
              "ticks": ""
             }
            },
            "type": "scatterpolar"
           }
          ],
          "scatterpolargl": [
           {
            "marker": {
             "colorbar": {
              "outlinewidth": 0,
              "ticks": ""
             }
            },
            "type": "scatterpolargl"
           }
          ],
          "scatterternary": [
           {
            "marker": {
             "colorbar": {
              "outlinewidth": 0,
              "ticks": ""
             }
            },
            "type": "scatterternary"
           }
          ],
          "surface": [
           {
            "colorbar": {
             "outlinewidth": 0,
             "ticks": ""
            },
            "colorscale": [
             [
              0,
              "#0d0887"
             ],
             [
              0.1111111111111111,
              "#46039f"
             ],
             [
              0.2222222222222222,
              "#7201a8"
             ],
             [
              0.3333333333333333,
              "#9c179e"
             ],
             [
              0.4444444444444444,
              "#bd3786"
             ],
             [
              0.5555555555555556,
              "#d8576b"
             ],
             [
              0.6666666666666666,
              "#ed7953"
             ],
             [
              0.7777777777777778,
              "#fb9f3a"
             ],
             [
              0.8888888888888888,
              "#fdca26"
             ],
             [
              1,
              "#f0f921"
             ]
            ],
            "type": "surface"
           }
          ],
          "table": [
           {
            "cells": {
             "fill": {
              "color": "#EBF0F8"
             },
             "line": {
              "color": "white"
             }
            },
            "header": {
             "fill": {
              "color": "#C8D4E3"
             },
             "line": {
              "color": "white"
             }
            },
            "type": "table"
           }
          ]
         },
         "layout": {
          "annotationdefaults": {
           "arrowcolor": "#2a3f5f",
           "arrowhead": 0,
           "arrowwidth": 1
          },
          "autotypenumbers": "strict",
          "coloraxis": {
           "colorbar": {
            "outlinewidth": 0,
            "ticks": ""
           }
          },
          "colorscale": {
           "diverging": [
            [
             0,
             "#8e0152"
            ],
            [
             0.1,
             "#c51b7d"
            ],
            [
             0.2,
             "#de77ae"
            ],
            [
             0.3,
             "#f1b6da"
            ],
            [
             0.4,
             "#fde0ef"
            ],
            [
             0.5,
             "#f7f7f7"
            ],
            [
             0.6,
             "#e6f5d0"
            ],
            [
             0.7,
             "#b8e186"
            ],
            [
             0.8,
             "#7fbc41"
            ],
            [
             0.9,
             "#4d9221"
            ],
            [
             1,
             "#276419"
            ]
           ],
           "sequential": [
            [
             0,
             "#0d0887"
            ],
            [
             0.1111111111111111,
             "#46039f"
            ],
            [
             0.2222222222222222,
             "#7201a8"
            ],
            [
             0.3333333333333333,
             "#9c179e"
            ],
            [
             0.4444444444444444,
             "#bd3786"
            ],
            [
             0.5555555555555556,
             "#d8576b"
            ],
            [
             0.6666666666666666,
             "#ed7953"
            ],
            [
             0.7777777777777778,
             "#fb9f3a"
            ],
            [
             0.8888888888888888,
             "#fdca26"
            ],
            [
             1,
             "#f0f921"
            ]
           ],
           "sequentialminus": [
            [
             0,
             "#0d0887"
            ],
            [
             0.1111111111111111,
             "#46039f"
            ],
            [
             0.2222222222222222,
             "#7201a8"
            ],
            [
             0.3333333333333333,
             "#9c179e"
            ],
            [
             0.4444444444444444,
             "#bd3786"
            ],
            [
             0.5555555555555556,
             "#d8576b"
            ],
            [
             0.6666666666666666,
             "#ed7953"
            ],
            [
             0.7777777777777778,
             "#fb9f3a"
            ],
            [
             0.8888888888888888,
             "#fdca26"
            ],
            [
             1,
             "#f0f921"
            ]
           ]
          },
          "colorway": [
           "#636efa",
           "#EF553B",
           "#00cc96",
           "#ab63fa",
           "#FFA15A",
           "#19d3f3",
           "#FF6692",
           "#B6E880",
           "#FF97FF",
           "#FECB52"
          ],
          "font": {
           "color": "#2a3f5f"
          },
          "geo": {
           "bgcolor": "white",
           "lakecolor": "white",
           "landcolor": "#E5ECF6",
           "showlakes": true,
           "showland": true,
           "subunitcolor": "white"
          },
          "hoverlabel": {
           "align": "left"
          },
          "hovermode": "closest",
          "mapbox": {
           "style": "light"
          },
          "paper_bgcolor": "white",
          "plot_bgcolor": "#E5ECF6",
          "polar": {
           "angularaxis": {
            "gridcolor": "white",
            "linecolor": "white",
            "ticks": ""
           },
           "bgcolor": "#E5ECF6",
           "radialaxis": {
            "gridcolor": "white",
            "linecolor": "white",
            "ticks": ""
           }
          },
          "scene": {
           "xaxis": {
            "backgroundcolor": "#E5ECF6",
            "gridcolor": "white",
            "gridwidth": 2,
            "linecolor": "white",
            "showbackground": true,
            "ticks": "",
            "zerolinecolor": "white"
           },
           "yaxis": {
            "backgroundcolor": "#E5ECF6",
            "gridcolor": "white",
            "gridwidth": 2,
            "linecolor": "white",
            "showbackground": true,
            "ticks": "",
            "zerolinecolor": "white"
           },
           "zaxis": {
            "backgroundcolor": "#E5ECF6",
            "gridcolor": "white",
            "gridwidth": 2,
            "linecolor": "white",
            "showbackground": true,
            "ticks": "",
            "zerolinecolor": "white"
           }
          },
          "shapedefaults": {
           "line": {
            "color": "#2a3f5f"
           }
          },
          "ternary": {
           "aaxis": {
            "gridcolor": "white",
            "linecolor": "white",
            "ticks": ""
           },
           "baxis": {
            "gridcolor": "white",
            "linecolor": "white",
            "ticks": ""
           },
           "bgcolor": "#E5ECF6",
           "caxis": {
            "gridcolor": "white",
            "linecolor": "white",
            "ticks": ""
           }
          },
          "title": {
           "x": 0.05
          },
          "xaxis": {
           "automargin": true,
           "gridcolor": "white",
           "linecolor": "white",
           "ticks": "",
           "title": {
            "standoff": 15
           },
           "zerolinecolor": "white",
           "zerolinewidth": 2
          },
          "yaxis": {
           "automargin": true,
           "gridcolor": "white",
           "linecolor": "white",
           "ticks": "",
           "title": {
            "standoff": 15
           },
           "zerolinecolor": "white",
           "zerolinewidth": 2
          }
         }
        },
        "title": {
         "text": "My draw rate vs number of moves on Chess.com"
        },
        "xaxis": {
         "anchor": "y",
         "domain": [
          0,
          1
         ],
         "title": {
          "text": "Number of moves"
         }
        },
        "yaxis": {
         "anchor": "x",
         "domain": [
          0,
          1
         ],
         "title": {
          "text": "Draw Rate"
         }
        }
       }
      }
     },
     "metadata": {},
     "output_type": "display_data"
    }
   ],
   "source": [
    "# Create a line plot for Draw Rate vs number of moves using Plotly\n",
    "fig = px.line(number_moves_results, x='number_moves', y='Draw Rate', \n",
    "              title='My draw rate vs number of moves on Chess.com', \n",
    "              labels={'number_moves': 'Number of moves', 'Win Rate': 'Win rate (%)'})\n",
    "\n",
    "fig.show()"
   ]
  }
 ],
 "metadata": {
  "kernelspec": {
   "display_name": "base",
   "language": "python",
   "name": "python3"
  },
  "language_info": {
   "codemirror_mode": {
    "name": "ipython",
    "version": 3
   },
   "file_extension": ".py",
   "mimetype": "text/x-python",
   "name": "python",
   "nbconvert_exporter": "python",
   "pygments_lexer": "ipython3",
   "version": "3.9.7"
  },
  "widgets": {
   "application/vnd.jupyter.widget-state+json": {
    "state": {},
    "version_major": 2,
    "version_minor": 0
   }
  }
 },
 "nbformat": 4,
 "nbformat_minor": 5
}
